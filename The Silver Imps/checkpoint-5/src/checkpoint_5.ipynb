{
  "nbformat": 4,
  "nbformat_minor": 0,
  "metadata": {
    "kernelspec": {
      "display_name": "Python 3",
      "language": "python",
      "name": "python3"
    },
    "language_info": {
      "codemirror_mode": {
        "name": "ipython",
        "version": 3
      },
      "file_extension": ".py",
      "mimetype": "text/x-python",
      "name": "python",
      "nbconvert_exporter": "python",
      "pygments_lexer": "ipython3",
      "version": "3.7.7"
    },
    "colab": {
      "name": "checkpoint-5.ipynb",
      "provenance": [],
      "collapsed_sections": []
    }
  },
  "cells": [
    {
      "cell_type": "markdown",
      "metadata": {
        "id": "j2gE6uq66FuL"
      },
      "source": [
        "# Checkpoint 5: Natural Language Processing\n",
        "## The Silver Imps"
      ]
    },
    {
      "cell_type": "markdown",
      "metadata": {
        "id": "FVDxpRkH6FuM"
      },
      "source": [
        "# Data Preparation"
      ]
    },
    {
      "cell_type": "code",
      "metadata": {
        "id": "_Z1tIHg96FuM",
        "outputId": "645f859f-5bb4-414c-db23-9710ffef0dfe"
      },
      "source": [
        "!pip install psycopg2-binary"
      ],
      "execution_count": null,
      "outputs": [
        {
          "output_type": "stream",
          "text": [
            "Collecting psycopg2-binary\n",
            "  Downloading psycopg2_binary-2.8.6-cp37-cp37m-manylinux1_x86_64.whl (3.0 MB)\n",
            "\u001b[K     |████████████████████████████████| 3.0 MB 9.1 MB/s eta 0:00:01\n",
            "\u001b[?25hInstalling collected packages: psycopg2-binary\n",
            "Successfully installed psycopg2-binary-2.8.6\n",
            "\u001b[33mWARNING: You are using pip version 20.1; however, version 20.2.4 is available.\n",
            "You should consider upgrading via the '/usr/local/bin/python -m pip install --upgrade pip' command.\u001b[0m\n"
          ],
          "name": "stdout"
        }
      ]
    },
    {
      "cell_type": "code",
      "metadata": {
        "id": "Bp1CE_AS6FuN"
      },
      "source": [
        "import pandas as pd\n",
        "import psycopg2"
      ],
      "execution_count": null,
      "outputs": []
    },
    {
      "cell_type": "code",
      "metadata": {
        "id": "9MyQgMOJ6FuN",
        "outputId": "baf8724b-8b9e-499f-f4a1-f8779bbdd271"
      },
      "source": [
        "# Connect to remote database\n",
        "\n",
        "db_host = \"cpdb.cgod7egsd6vr.us-east-2.rds.amazonaws.com\"\n",
        "db_user = \"cpdb-student\"\n",
        "db_password = \"dataSci4lyf\"\n",
        "db_name = \"cpdb\"\n",
        "\n",
        "connection = psycopg2.connect(host = db_host, user = db_user, password = db_password, dbname = db_name)"
      ],
      "execution_count": null,
      "outputs": [
        {
          "output_type": "execute_result",
          "data": {
            "text/plain": [
              "<connection object at 0x7fef24d342d0; dsn: 'user=cpdb-student password=xxx dbname=cpdb host=cpdb.cgod7egsd6vr.us-east-2.rds.amazonaws.com', closed: 0>"
            ]
          },
          "metadata": {
            "tags": []
          },
          "execution_count": 2
        }
      ]
    },
    {
      "cell_type": "code",
      "metadata": {
        "id": "lsOMxP-66FuN",
        "outputId": "52e73477-5bc3-47c4-f14b-c108327db968"
      },
      "source": [
        "# Query for all allegation data\n",
        "\n",
        "sql_allegation = \"\"\"\n",
        "    select crid, summary from data_allegation where summary > '';\n",
        "\"\"\"\n",
        "\n",
        "allegation_df = pd.read_sql(sql_allegation, con=connection)\n",
        "allegation_df"
      ],
      "execution_count": null,
      "outputs": [
        {
          "output_type": "execute_result",
          "data": {
            "text/html": [
              "<div>\n",
              "<style scoped>\n",
              "    .dataframe tbody tr th:only-of-type {\n",
              "        vertical-align: middle;\n",
              "    }\n",
              "\n",
              "    .dataframe tbody tr th {\n",
              "        vertical-align: top;\n",
              "    }\n",
              "\n",
              "    .dataframe thead th {\n",
              "        text-align: right;\n",
              "    }\n",
              "</style>\n",
              "<table border=\"1\" class=\"dataframe\">\n",
              "  <thead>\n",
              "    <tr style=\"text-align: right;\">\n",
              "      <th></th>\n",
              "      <th>crid</th>\n",
              "      <th>summary</th>\n",
              "    </tr>\n",
              "  </thead>\n",
              "  <tbody>\n",
              "    <tr>\n",
              "      <th>0</th>\n",
              "      <td>1000214</td>\n",
              "      <td>On October 4, 2006, a complaint was registered...</td>\n",
              "    </tr>\n",
              "    <tr>\n",
              "      <th>1</th>\n",
              "      <td>1008869</td>\n",
              "      <td>On 30 August 2007, a complaint was registered ...</td>\n",
              "    </tr>\n",
              "    <tr>\n",
              "      <th>2</th>\n",
              "      <td>1017305</td>\n",
              "      <td>On June 12, 2008, a complaint was registered w...</td>\n",
              "    </tr>\n",
              "    <tr>\n",
              "      <th>3</th>\n",
              "      <td>1009954</td>\n",
              "      <td>On October 8, 2007, a complaint was registered...</td>\n",
              "    </tr>\n",
              "    <tr>\n",
              "      <th>4</th>\n",
              "      <td>1018081</td>\n",
              "      <td>On 16 July 2007, a complaint was registered wi...</td>\n",
              "    </tr>\n",
              "    <tr>\n",
              "      <th>...</th>\n",
              "      <td>...</td>\n",
              "      <td>...</td>\n",
              "    </tr>\n",
              "    <tr>\n",
              "      <th>1142</th>\n",
              "      <td>1087329</td>\n",
              "      <td>Complainant Subject 1 alleged that on October ...</td>\n",
              "    </tr>\n",
              "    <tr>\n",
              "      <th>1143</th>\n",
              "      <td>1085432</td>\n",
              "      <td>The complainant, Subject 1, alleges that on an...</td>\n",
              "    </tr>\n",
              "    <tr>\n",
              "      <th>1144</th>\n",
              "      <td>1076439</td>\n",
              "      <td>On July 30, 2015, an arrest warrant was issued...</td>\n",
              "    </tr>\n",
              "    <tr>\n",
              "      <th>1145</th>\n",
              "      <td>1086830</td>\n",
              "      <td>In CPD Arrest Report for Subject 1 under CB 19...</td>\n",
              "    </tr>\n",
              "    <tr>\n",
              "      <th>1146</th>\n",
              "      <td>1087021</td>\n",
              "      <td>CPD officers were investigating allegations of...</td>\n",
              "    </tr>\n",
              "  </tbody>\n",
              "</table>\n",
              "<p>1147 rows × 2 columns</p>\n",
              "</div>"
            ],
            "text/plain": [
              "         crid                                            summary\n",
              "0     1000214  On October 4, 2006, a complaint was registered...\n",
              "1     1008869  On 30 August 2007, a complaint was registered ...\n",
              "2     1017305  On June 12, 2008, a complaint was registered w...\n",
              "3     1009954  On October 8, 2007, a complaint was registered...\n",
              "4     1018081  On 16 July 2007, a complaint was registered wi...\n",
              "...       ...                                                ...\n",
              "1142  1087329  Complainant Subject 1 alleged that on October ...\n",
              "1143  1085432  The complainant, Subject 1, alleges that on an...\n",
              "1144  1076439  On July 30, 2015, an arrest warrant was issued...\n",
              "1145  1086830  In CPD Arrest Report for Subject 1 under CB 19...\n",
              "1146  1087021  CPD officers were investigating allegations of...\n",
              "\n",
              "[1147 rows x 2 columns]"
            ]
          },
          "metadata": {
            "tags": []
          },
          "execution_count": 3
        }
      ]
    },
    {
      "cell_type": "code",
      "metadata": {
        "id": "9vkI6rvY6FuN",
        "outputId": "a80f946c-9381-44f5-f865-e344752174f3"
      },
      "source": [
        "# Query for all category data\n",
        "\n",
        "sql_category = \"\"\"\n",
        "SELECT oa.allegation_id as crid,\n",
        "       ac.category as category\n",
        "FROM data_officerallegation oa\n",
        "    INNER JOIN data_allegationcategory ac on oa.allegation_category_id = ac.id;\n",
        "\"\"\"\n",
        "\n",
        "categories_df = pd.read_sql(sql_category, con=connection)\n",
        "\n",
        "categories_df"
      ],
      "execution_count": null,
      "outputs": [
        {
          "output_type": "execute_result",
          "data": {
            "text/html": [
              "<div>\n",
              "<style scoped>\n",
              "    .dataframe tbody tr th:only-of-type {\n",
              "        vertical-align: middle;\n",
              "    }\n",
              "\n",
              "    .dataframe tbody tr th {\n",
              "        vertical-align: top;\n",
              "    }\n",
              "\n",
              "    .dataframe thead th {\n",
              "        text-align: right;\n",
              "    }\n",
              "</style>\n",
              "<table border=\"1\" class=\"dataframe\">\n",
              "  <thead>\n",
              "    <tr style=\"text-align: right;\">\n",
              "      <th></th>\n",
              "      <th>crid</th>\n",
              "      <th>category</th>\n",
              "    </tr>\n",
              "  </thead>\n",
              "  <tbody>\n",
              "    <tr>\n",
              "      <th>0</th>\n",
              "      <td>C132885</td>\n",
              "      <td>Use Of Force</td>\n",
              "    </tr>\n",
              "    <tr>\n",
              "      <th>1</th>\n",
              "      <td>C149900</td>\n",
              "      <td>Use Of Force</td>\n",
              "    </tr>\n",
              "    <tr>\n",
              "      <th>2</th>\n",
              "      <td>C151502</td>\n",
              "      <td>Drug / Alcohol Abuse</td>\n",
              "    </tr>\n",
              "    <tr>\n",
              "      <th>3</th>\n",
              "      <td>C152222</td>\n",
              "      <td>Operation/Personnel Violations</td>\n",
              "    </tr>\n",
              "    <tr>\n",
              "      <th>4</th>\n",
              "      <td>C157296</td>\n",
              "      <td>Operation/Personnel Violations</td>\n",
              "    </tr>\n",
              "    <tr>\n",
              "      <th>...</th>\n",
              "      <td>...</td>\n",
              "      <td>...</td>\n",
              "    </tr>\n",
              "    <tr>\n",
              "      <th>248316</th>\n",
              "      <td>1081167</td>\n",
              "      <td>Use Of Force</td>\n",
              "    </tr>\n",
              "    <tr>\n",
              "      <th>248317</th>\n",
              "      <td>1081169</td>\n",
              "      <td>Domestic</td>\n",
              "    </tr>\n",
              "    <tr>\n",
              "      <th>248318</th>\n",
              "      <td>1081170</td>\n",
              "      <td>Use Of Force</td>\n",
              "    </tr>\n",
              "    <tr>\n",
              "      <th>248319</th>\n",
              "      <td>1081170</td>\n",
              "      <td>Use Of Force</td>\n",
              "    </tr>\n",
              "    <tr>\n",
              "      <th>248320</th>\n",
              "      <td>1081170</td>\n",
              "      <td>Use Of Force</td>\n",
              "    </tr>\n",
              "  </tbody>\n",
              "</table>\n",
              "<p>248321 rows × 2 columns</p>\n",
              "</div>"
            ],
            "text/plain": [
              "           crid                        category\n",
              "0       C132885                    Use Of Force\n",
              "1       C149900                    Use Of Force\n",
              "2       C151502            Drug / Alcohol Abuse\n",
              "3       C152222  Operation/Personnel Violations\n",
              "4       C157296  Operation/Personnel Violations\n",
              "...         ...                             ...\n",
              "248316  1081167                    Use Of Force\n",
              "248317  1081169                        Domestic\n",
              "248318  1081170                    Use Of Force\n",
              "248319  1081170                    Use Of Force\n",
              "248320  1081170                    Use Of Force\n",
              "\n",
              "[248321 rows x 2 columns]"
            ]
          },
          "metadata": {
            "tags": []
          },
          "execution_count": 4
        }
      ]
    },
    {
      "cell_type": "code",
      "metadata": {
        "id": "0MbtH67C6FuN",
        "outputId": "dca5fbbd-73e3-4f18-ca4e-cb9480368780"
      },
      "source": [
        "# Merge the dataframes\n",
        "\n",
        "summary_df = pd.merge(allegation_df, categories_df, on='crid')\n",
        "summary_df = summary_df.drop_duplicates(subset=['crid'], keep='first')\n",
        "summary_df"
      ],
      "execution_count": null,
      "outputs": [
        {
          "output_type": "execute_result",
          "data": {
            "text/html": [
              "<div>\n",
              "<style scoped>\n",
              "    .dataframe tbody tr th:only-of-type {\n",
              "        vertical-align: middle;\n",
              "    }\n",
              "\n",
              "    .dataframe tbody tr th {\n",
              "        vertical-align: top;\n",
              "    }\n",
              "\n",
              "    .dataframe thead th {\n",
              "        text-align: right;\n",
              "    }\n",
              "</style>\n",
              "<table border=\"1\" class=\"dataframe\">\n",
              "  <thead>\n",
              "    <tr style=\"text-align: right;\">\n",
              "      <th></th>\n",
              "      <th>crid</th>\n",
              "      <th>summary</th>\n",
              "      <th>category</th>\n",
              "    </tr>\n",
              "  </thead>\n",
              "  <tbody>\n",
              "    <tr>\n",
              "      <th>0</th>\n",
              "      <td>1000214</td>\n",
              "      <td>On October 4, 2006, a complaint was registered...</td>\n",
              "      <td>Use Of Force</td>\n",
              "    </tr>\n",
              "    <tr>\n",
              "      <th>6</th>\n",
              "      <td>1008869</td>\n",
              "      <td>On 30 August 2007, a complaint was registered ...</td>\n",
              "      <td>Use Of Force</td>\n",
              "    </tr>\n",
              "    <tr>\n",
              "      <th>7</th>\n",
              "      <td>1017305</td>\n",
              "      <td>On June 12, 2008, a complaint was registered w...</td>\n",
              "      <td>Use Of Force</td>\n",
              "    </tr>\n",
              "    <tr>\n",
              "      <th>10</th>\n",
              "      <td>1009954</td>\n",
              "      <td>On October 8, 2007, a complaint was registered...</td>\n",
              "      <td>Operation/Personnel Violations</td>\n",
              "    </tr>\n",
              "    <tr>\n",
              "      <th>11</th>\n",
              "      <td>1018081</td>\n",
              "      <td>On 16 July 2007, a complaint was registered wi...</td>\n",
              "      <td>Use Of Force</td>\n",
              "    </tr>\n",
              "    <tr>\n",
              "      <th>...</th>\n",
              "      <td>...</td>\n",
              "      <td>...</td>\n",
              "      <td>...</td>\n",
              "    </tr>\n",
              "    <tr>\n",
              "      <th>1817</th>\n",
              "      <td>1088038</td>\n",
              "      <td>and his son (also named were parked on the sid...</td>\n",
              "      <td>Use Of Force</td>\n",
              "    </tr>\n",
              "    <tr>\n",
              "      <th>1818</th>\n",
              "      <td>1087329</td>\n",
              "      <td>Complainant Subject 1 alleged that on October ...</td>\n",
              "      <td>False Arrest</td>\n",
              "    </tr>\n",
              "    <tr>\n",
              "      <th>1820</th>\n",
              "      <td>1085432</td>\n",
              "      <td>The complainant, Subject 1, alleges that on an...</td>\n",
              "      <td>Use Of Force</td>\n",
              "    </tr>\n",
              "    <tr>\n",
              "      <th>1822</th>\n",
              "      <td>1076439</td>\n",
              "      <td>On July 30, 2015, an arrest warrant was issued...</td>\n",
              "      <td>Domestic</td>\n",
              "    </tr>\n",
              "    <tr>\n",
              "      <th>1823</th>\n",
              "      <td>1086830</td>\n",
              "      <td>In CPD Arrest Report for Subject 1 under CB 19...</td>\n",
              "      <td>False Arrest</td>\n",
              "    </tr>\n",
              "  </tbody>\n",
              "</table>\n",
              "<p>942 rows × 3 columns</p>\n",
              "</div>"
            ],
            "text/plain": [
              "         crid                                            summary  \\\n",
              "0     1000214  On October 4, 2006, a complaint was registered...   \n",
              "6     1008869  On 30 August 2007, a complaint was registered ...   \n",
              "7     1017305  On June 12, 2008, a complaint was registered w...   \n",
              "10    1009954  On October 8, 2007, a complaint was registered...   \n",
              "11    1018081  On 16 July 2007, a complaint was registered wi...   \n",
              "...       ...                                                ...   \n",
              "1817  1088038  and his son (also named were parked on the sid...   \n",
              "1818  1087329  Complainant Subject 1 alleged that on October ...   \n",
              "1820  1085432  The complainant, Subject 1, alleges that on an...   \n",
              "1822  1076439  On July 30, 2015, an arrest warrant was issued...   \n",
              "1823  1086830  In CPD Arrest Report for Subject 1 under CB 19...   \n",
              "\n",
              "                            category  \n",
              "0                       Use Of Force  \n",
              "6                       Use Of Force  \n",
              "7                       Use Of Force  \n",
              "10    Operation/Personnel Violations  \n",
              "11                      Use Of Force  \n",
              "...                              ...  \n",
              "1817                    Use Of Force  \n",
              "1818                    False Arrest  \n",
              "1820                    Use Of Force  \n",
              "1822                        Domestic  \n",
              "1823                    False Arrest  \n",
              "\n",
              "[942 rows x 3 columns]"
            ]
          },
          "metadata": {
            "tags": []
          },
          "execution_count": 5
        }
      ]
    },
    {
      "cell_type": "code",
      "metadata": {
        "id": "pp0Y6f_96FuN",
        "outputId": "614b9c47-d33a-4289-ed1f-135f2b4cb11a"
      },
      "source": [
        "# Label Encoding\n",
        "\n",
        "from sklearn.preprocessing import LabelEncoder\n",
        "labelencoder = LabelEncoder()\n",
        "\n",
        "summary_df['category_le'] = labelencoder.fit_transform(summary_df['category'])\n",
        "\n",
        "summary_df"
      ],
      "execution_count": null,
      "outputs": [
        {
          "output_type": "execute_result",
          "data": {
            "text/html": [
              "<div>\n",
              "<style scoped>\n",
              "    .dataframe tbody tr th:only-of-type {\n",
              "        vertical-align: middle;\n",
              "    }\n",
              "\n",
              "    .dataframe tbody tr th {\n",
              "        vertical-align: top;\n",
              "    }\n",
              "\n",
              "    .dataframe thead th {\n",
              "        text-align: right;\n",
              "    }\n",
              "</style>\n",
              "<table border=\"1\" class=\"dataframe\">\n",
              "  <thead>\n",
              "    <tr style=\"text-align: right;\">\n",
              "      <th></th>\n",
              "      <th>crid</th>\n",
              "      <th>summary</th>\n",
              "      <th>category</th>\n",
              "      <th>category_le</th>\n",
              "    </tr>\n",
              "  </thead>\n",
              "  <tbody>\n",
              "    <tr>\n",
              "      <th>0</th>\n",
              "      <td>1000214</td>\n",
              "      <td>On October 4, 2006, a complaint was registered...</td>\n",
              "      <td>Use Of Force</td>\n",
              "      <td>11</td>\n",
              "    </tr>\n",
              "    <tr>\n",
              "      <th>6</th>\n",
              "      <td>1008869</td>\n",
              "      <td>On 30 August 2007, a complaint was registered ...</td>\n",
              "      <td>Use Of Force</td>\n",
              "      <td>11</td>\n",
              "    </tr>\n",
              "    <tr>\n",
              "      <th>7</th>\n",
              "      <td>1017305</td>\n",
              "      <td>On June 12, 2008, a complaint was registered w...</td>\n",
              "      <td>Use Of Force</td>\n",
              "      <td>11</td>\n",
              "    </tr>\n",
              "    <tr>\n",
              "      <th>10</th>\n",
              "      <td>1009954</td>\n",
              "      <td>On October 8, 2007, a complaint was registered...</td>\n",
              "      <td>Operation/Personnel Violations</td>\n",
              "      <td>8</td>\n",
              "    </tr>\n",
              "    <tr>\n",
              "      <th>11</th>\n",
              "      <td>1018081</td>\n",
              "      <td>On 16 July 2007, a complaint was registered wi...</td>\n",
              "      <td>Use Of Force</td>\n",
              "      <td>11</td>\n",
              "    </tr>\n",
              "    <tr>\n",
              "      <th>...</th>\n",
              "      <td>...</td>\n",
              "      <td>...</td>\n",
              "      <td>...</td>\n",
              "      <td>...</td>\n",
              "    </tr>\n",
              "    <tr>\n",
              "      <th>1817</th>\n",
              "      <td>1088038</td>\n",
              "      <td>and his son (also named were parked on the sid...</td>\n",
              "      <td>Use Of Force</td>\n",
              "      <td>11</td>\n",
              "    </tr>\n",
              "    <tr>\n",
              "      <th>1818</th>\n",
              "      <td>1087329</td>\n",
              "      <td>Complainant Subject 1 alleged that on October ...</td>\n",
              "      <td>False Arrest</td>\n",
              "      <td>5</td>\n",
              "    </tr>\n",
              "    <tr>\n",
              "      <th>1820</th>\n",
              "      <td>1085432</td>\n",
              "      <td>The complainant, Subject 1, alleges that on an...</td>\n",
              "      <td>Use Of Force</td>\n",
              "      <td>11</td>\n",
              "    </tr>\n",
              "    <tr>\n",
              "      <th>1822</th>\n",
              "      <td>1076439</td>\n",
              "      <td>On July 30, 2015, an arrest warrant was issued...</td>\n",
              "      <td>Domestic</td>\n",
              "      <td>2</td>\n",
              "    </tr>\n",
              "    <tr>\n",
              "      <th>1823</th>\n",
              "      <td>1086830</td>\n",
              "      <td>In CPD Arrest Report for Subject 1 under CB 19...</td>\n",
              "      <td>False Arrest</td>\n",
              "      <td>5</td>\n",
              "    </tr>\n",
              "  </tbody>\n",
              "</table>\n",
              "<p>942 rows × 4 columns</p>\n",
              "</div>"
            ],
            "text/plain": [
              "         crid                                            summary  \\\n",
              "0     1000214  On October 4, 2006, a complaint was registered...   \n",
              "6     1008869  On 30 August 2007, a complaint was registered ...   \n",
              "7     1017305  On June 12, 2008, a complaint was registered w...   \n",
              "10    1009954  On October 8, 2007, a complaint was registered...   \n",
              "11    1018081  On 16 July 2007, a complaint was registered wi...   \n",
              "...       ...                                                ...   \n",
              "1817  1088038  and his son (also named were parked on the sid...   \n",
              "1818  1087329  Complainant Subject 1 alleged that on October ...   \n",
              "1820  1085432  The complainant, Subject 1, alleges that on an...   \n",
              "1822  1076439  On July 30, 2015, an arrest warrant was issued...   \n",
              "1823  1086830  In CPD Arrest Report for Subject 1 under CB 19...   \n",
              "\n",
              "                            category  category_le  \n",
              "0                       Use Of Force           11  \n",
              "6                       Use Of Force           11  \n",
              "7                       Use Of Force           11  \n",
              "10    Operation/Personnel Violations            8  \n",
              "11                      Use Of Force           11  \n",
              "...                              ...          ...  \n",
              "1817                    Use Of Force           11  \n",
              "1818                    False Arrest            5  \n",
              "1820                    Use Of Force           11  \n",
              "1822                        Domestic            2  \n",
              "1823                    False Arrest            5  \n",
              "\n",
              "[942 rows x 4 columns]"
            ]
          },
          "metadata": {
            "tags": []
          },
          "execution_count": 6
        }
      ]
    },
    {
      "cell_type": "code",
      "metadata": {
        "id": "gsTOn_Om6FuN",
        "outputId": "32878264-8ec2-4494-c7f4-36be0e76eefa"
      },
      "source": [
        "# Count for the unique officer IDs for allegations that have non-empty summary field\n",
        "\n",
        "sql_total_number_of_officer = \"\"\"\n",
        "select count (distinct officer_id) from\n",
        "  (select distinct data_officerallegation.allegation_id, data_officerallegation.officer_id from data_officerallegation, \n",
        "    (select crid from data_allegation where summary > '') as t1\n",
        "  where data_officerallegation.allegation_id = t1.crid) as oa1\n",
        "\"\"\"\n",
        "\n",
        "total_number_of_officer = pd.read_sql(sql_total_number_of_officer, con=connection)\n",
        "\n",
        "total_number_of_officer"
      ],
      "execution_count": null,
      "outputs": [
        {
          "output_type": "execute_result",
          "data": {
            "text/html": [
              "<div>\n",
              "<style scoped>\n",
              "    .dataframe tbody tr th:only-of-type {\n",
              "        vertical-align: middle;\n",
              "    }\n",
              "\n",
              "    .dataframe tbody tr th {\n",
              "        vertical-align: top;\n",
              "    }\n",
              "\n",
              "    .dataframe thead th {\n",
              "        text-align: right;\n",
              "    }\n",
              "</style>\n",
              "<table border=\"1\" class=\"dataframe\">\n",
              "  <thead>\n",
              "    <tr style=\"text-align: right;\">\n",
              "      <th></th>\n",
              "      <th>count</th>\n",
              "    </tr>\n",
              "  </thead>\n",
              "  <tbody>\n",
              "    <tr>\n",
              "      <th>0</th>\n",
              "      <td>1687</td>\n",
              "    </tr>\n",
              "  </tbody>\n",
              "</table>\n",
              "</div>"
            ],
            "text/plain": [
              "   count\n",
              "0   1687"
            ]
          },
          "metadata": {
            "tags": []
          },
          "execution_count": 7
        }
      ]
    },
    {
      "cell_type": "markdown",
      "metadata": {
        "id": "vSfE1ZVO6FuN"
      },
      "source": [
        "The Total count is 1687. \n",
        "So by our definition, there are 169 repeaters and 1518 non-repeaters."
      ]
    },
    {
      "cell_type": "code",
      "metadata": {
        "id": "cLFLPx3I6FuN",
        "outputId": "785715fe-a2e9-4f6b-fadc-91126f29191e"
      },
      "source": [
        "# Construct repeater dataframe and non-repeater dataframe\n",
        "\n",
        "sql_officerallegation = \"\"\"\n",
        "select distinct data_officerallegation.allegation_id, data_officerallegation.officer_id from data_officerallegation, \n",
        "    (select crid from data_allegation where summary > '') as t1\n",
        "  where data_officerallegation.allegation_id = t1.crid;\n",
        "\"\"\"\n",
        "\n",
        "sql_repeater_id = \"\"\"\n",
        "select officer_id from\n",
        "(select distinct officer_id, count(allegation_id) as ct from \n",
        "  (select distinct data_officerallegation.allegation_id, data_officerallegation.officer_id from data_officerallegation, \n",
        "    (select crid from data_allegation where summary > '') as t1\n",
        "  where data_officerallegation.allegation_id = t1.crid) as oa1 \n",
        "group by officer_id order by ct desc limit 169) as repeater1;\n",
        "\"\"\"\n",
        "\n",
        "sql_nonrepeater_id = \"\"\"\n",
        "select officer_id from\n",
        "(select distinct officer_id, count(allegation_id) as ct from \n",
        "  (select distinct data_officerallegation.allegation_id, data_officerallegation.officer_id from data_officerallegation, \n",
        "    (select crid from data_allegation where summary > '') as t1\n",
        "  where data_officerallegation.allegation_id = t1.crid) as oa1 \n",
        "group by officer_id order by ct asc limit 1518) as nonrepeater1;\n",
        "\"\"\"\n",
        "\n",
        "repeater_df = pd.read_sql(sql_repeater_id, con=connection)\n",
        "nonrepeater_df = pd.read_sql(sql_nonrepeater_id, con=connection)\n",
        "officerallegation_df = pd.read_sql(sql_officerallegation, con=connection)\n",
        "\n",
        "\n",
        "repeater_allegation_df = officerallegation_df.loc[officerallegation_df['officer_id'].isin(repeater_df['officer_id'])]\n",
        "repeater_summary_df = summary_df.loc[summary_df['crid'].isin(repeater_allegation_df['allegation_id'])]\n",
        "\n",
        "nonrepeater_allegation_df = officerallegation_df.loc[officerallegation_df['officer_id'].isin(nonrepeater_df['officer_id'])]\n",
        "nonrepeater_summary_df = summary_df.loc[summary_df['crid'].isin(nonrepeater_allegation_df['allegation_id'])]\n",
        "\n",
        "repeater_summary_df"
      ],
      "execution_count": null,
      "outputs": [
        {
          "output_type": "execute_result",
          "data": {
            "text/html": [
              "<div>\n",
              "<style scoped>\n",
              "    .dataframe tbody tr th:only-of-type {\n",
              "        vertical-align: middle;\n",
              "    }\n",
              "\n",
              "    .dataframe tbody tr th {\n",
              "        vertical-align: top;\n",
              "    }\n",
              "\n",
              "    .dataframe thead th {\n",
              "        text-align: right;\n",
              "    }\n",
              "</style>\n",
              "<table border=\"1\" class=\"dataframe\">\n",
              "  <thead>\n",
              "    <tr style=\"text-align: right;\">\n",
              "      <th></th>\n",
              "      <th>crid</th>\n",
              "      <th>summary</th>\n",
              "      <th>category</th>\n",
              "      <th>category_le</th>\n",
              "    </tr>\n",
              "  </thead>\n",
              "  <tbody>\n",
              "    <tr>\n",
              "      <th>10</th>\n",
              "      <td>1009954</td>\n",
              "      <td>On October 8, 2007, a complaint was registered...</td>\n",
              "      <td>Operation/Personnel Violations</td>\n",
              "      <td>8</td>\n",
              "    </tr>\n",
              "    <tr>\n",
              "      <th>14</th>\n",
              "      <td>1025858</td>\n",
              "      <td>On April 27, 2009, a complaint was registered ...</td>\n",
              "      <td>Use Of Force</td>\n",
              "      <td>11</td>\n",
              "    </tr>\n",
              "    <tr>\n",
              "      <th>19</th>\n",
              "      <td>1025868</td>\n",
              "      <td>An incident involving four on-duty Chicago Pol...</td>\n",
              "      <td>Use Of Force</td>\n",
              "      <td>11</td>\n",
              "    </tr>\n",
              "    <tr>\n",
              "      <th>24</th>\n",
              "      <td>1026980</td>\n",
              "      <td>On June 3, 2009, a complaint was registered wi...</td>\n",
              "      <td>Use Of Force</td>\n",
              "      <td>11</td>\n",
              "    </tr>\n",
              "    <tr>\n",
              "      <th>32</th>\n",
              "      <td>1033544</td>\n",
              "      <td>In an incident involving two on-duty CPD Offic...</td>\n",
              "      <td>Use Of Force</td>\n",
              "      <td>11</td>\n",
              "    </tr>\n",
              "    <tr>\n",
              "      <th>...</th>\n",
              "      <td>...</td>\n",
              "      <td>...</td>\n",
              "      <td>...</td>\n",
              "      <td>...</td>\n",
              "    </tr>\n",
              "    <tr>\n",
              "      <th>1801</th>\n",
              "      <td>1085913</td>\n",
              "      <td>On July 8, 2017, at 11:30 am, Subject 1 witnes...</td>\n",
              "      <td>Use Of Force</td>\n",
              "      <td>11</td>\n",
              "    </tr>\n",
              "    <tr>\n",
              "      <th>1803</th>\n",
              "      <td>1089285</td>\n",
              "      <td>On April 28, 2018, at approximately 6:00 pm, F...</td>\n",
              "      <td>Illegal Search</td>\n",
              "      <td>6</td>\n",
              "    </tr>\n",
              "    <tr>\n",
              "      <th>1809</th>\n",
              "      <td>1075142</td>\n",
              "      <td>On 09 May 2015, at approximately 1800 hours, S...</td>\n",
              "      <td>Use Of Force</td>\n",
              "      <td>11</td>\n",
              "    </tr>\n",
              "    <tr>\n",
              "      <th>1817</th>\n",
              "      <td>1088038</td>\n",
              "      <td>and his son (also named were parked on the sid...</td>\n",
              "      <td>Use Of Force</td>\n",
              "      <td>11</td>\n",
              "    </tr>\n",
              "    <tr>\n",
              "      <th>1818</th>\n",
              "      <td>1087329</td>\n",
              "      <td>Complainant Subject 1 alleged that on October ...</td>\n",
              "      <td>False Arrest</td>\n",
              "      <td>5</td>\n",
              "    </tr>\n",
              "  </tbody>\n",
              "</table>\n",
              "<p>287 rows × 4 columns</p>\n",
              "</div>"
            ],
            "text/plain": [
              "         crid                                            summary  \\\n",
              "10    1009954  On October 8, 2007, a complaint was registered...   \n",
              "14    1025858  On April 27, 2009, a complaint was registered ...   \n",
              "19    1025868  An incident involving four on-duty Chicago Pol...   \n",
              "24    1026980  On June 3, 2009, a complaint was registered wi...   \n",
              "32    1033544  In an incident involving two on-duty CPD Offic...   \n",
              "...       ...                                                ...   \n",
              "1801  1085913  On July 8, 2017, at 11:30 am, Subject 1 witnes...   \n",
              "1803  1089285  On April 28, 2018, at approximately 6:00 pm, F...   \n",
              "1809  1075142  On 09 May 2015, at approximately 1800 hours, S...   \n",
              "1817  1088038  and his son (also named were parked on the sid...   \n",
              "1818  1087329  Complainant Subject 1 alleged that on October ...   \n",
              "\n",
              "                            category  category_le  \n",
              "10    Operation/Personnel Violations            8  \n",
              "14                      Use Of Force           11  \n",
              "19                      Use Of Force           11  \n",
              "24                      Use Of Force           11  \n",
              "32                      Use Of Force           11  \n",
              "...                              ...          ...  \n",
              "1801                    Use Of Force           11  \n",
              "1803                  Illegal Search            6  \n",
              "1809                    Use Of Force           11  \n",
              "1817                    Use Of Force           11  \n",
              "1818                    False Arrest            5  \n",
              "\n",
              "[287 rows x 4 columns]"
            ]
          },
          "metadata": {
            "tags": []
          },
          "execution_count": 8
        }
      ]
    },
    {
      "cell_type": "code",
      "metadata": {
        "id": "CF7v0GVx6FuO",
        "outputId": "ab5c49e4-2fc2-4c05-e0a4-e7e50ca0e1ee"
      },
      "source": [
        "nonrepeater_summary_df"
      ],
      "execution_count": null,
      "outputs": [
        {
          "output_type": "execute_result",
          "data": {
            "text/html": [
              "<div>\n",
              "<style scoped>\n",
              "    .dataframe tbody tr th:only-of-type {\n",
              "        vertical-align: middle;\n",
              "    }\n",
              "\n",
              "    .dataframe tbody tr th {\n",
              "        vertical-align: top;\n",
              "    }\n",
              "\n",
              "    .dataframe thead th {\n",
              "        text-align: right;\n",
              "    }\n",
              "</style>\n",
              "<table border=\"1\" class=\"dataframe\">\n",
              "  <thead>\n",
              "    <tr style=\"text-align: right;\">\n",
              "      <th></th>\n",
              "      <th>crid</th>\n",
              "      <th>summary</th>\n",
              "      <th>category</th>\n",
              "      <th>category_le</th>\n",
              "    </tr>\n",
              "  </thead>\n",
              "  <tbody>\n",
              "    <tr>\n",
              "      <th>0</th>\n",
              "      <td>1000214</td>\n",
              "      <td>On October 4, 2006, a complaint was registered...</td>\n",
              "      <td>Use Of Force</td>\n",
              "      <td>11</td>\n",
              "    </tr>\n",
              "    <tr>\n",
              "      <th>6</th>\n",
              "      <td>1008869</td>\n",
              "      <td>On 30 August 2007, a complaint was registered ...</td>\n",
              "      <td>Use Of Force</td>\n",
              "      <td>11</td>\n",
              "    </tr>\n",
              "    <tr>\n",
              "      <th>7</th>\n",
              "      <td>1017305</td>\n",
              "      <td>On June 12, 2008, a complaint was registered w...</td>\n",
              "      <td>Use Of Force</td>\n",
              "      <td>11</td>\n",
              "    </tr>\n",
              "    <tr>\n",
              "      <th>11</th>\n",
              "      <td>1018081</td>\n",
              "      <td>On 16 July 2007, a complaint was registered wi...</td>\n",
              "      <td>Use Of Force</td>\n",
              "      <td>11</td>\n",
              "    </tr>\n",
              "    <tr>\n",
              "      <th>12</th>\n",
              "      <td>1023952</td>\n",
              "      <td>On February 9, 2009, a complaint was registere...</td>\n",
              "      <td>Domestic</td>\n",
              "      <td>2</td>\n",
              "    </tr>\n",
              "    <tr>\n",
              "      <th>...</th>\n",
              "      <td>...</td>\n",
              "      <td>...</td>\n",
              "      <td>...</td>\n",
              "      <td>...</td>\n",
              "    </tr>\n",
              "    <tr>\n",
              "      <th>1816</th>\n",
              "      <td>1078998</td>\n",
              "      <td>On October 3, 2015, at approximately 3:23 am, ...</td>\n",
              "      <td>Use Of Force</td>\n",
              "      <td>11</td>\n",
              "    </tr>\n",
              "    <tr>\n",
              "      <th>1818</th>\n",
              "      <td>1087329</td>\n",
              "      <td>Complainant Subject 1 alleged that on October ...</td>\n",
              "      <td>False Arrest</td>\n",
              "      <td>5</td>\n",
              "    </tr>\n",
              "    <tr>\n",
              "      <th>1820</th>\n",
              "      <td>1085432</td>\n",
              "      <td>The complainant, Subject 1, alleges that on an...</td>\n",
              "      <td>Use Of Force</td>\n",
              "      <td>11</td>\n",
              "    </tr>\n",
              "    <tr>\n",
              "      <th>1822</th>\n",
              "      <td>1076439</td>\n",
              "      <td>On July 30, 2015, an arrest warrant was issued...</td>\n",
              "      <td>Domestic</td>\n",
              "      <td>2</td>\n",
              "    </tr>\n",
              "    <tr>\n",
              "      <th>1823</th>\n",
              "      <td>1086830</td>\n",
              "      <td>In CPD Arrest Report for Subject 1 under CB 19...</td>\n",
              "      <td>False Arrest</td>\n",
              "      <td>5</td>\n",
              "    </tr>\n",
              "  </tbody>\n",
              "</table>\n",
              "<p>807 rows × 4 columns</p>\n",
              "</div>"
            ],
            "text/plain": [
              "         crid                                            summary  \\\n",
              "0     1000214  On October 4, 2006, a complaint was registered...   \n",
              "6     1008869  On 30 August 2007, a complaint was registered ...   \n",
              "7     1017305  On June 12, 2008, a complaint was registered w...   \n",
              "11    1018081  On 16 July 2007, a complaint was registered wi...   \n",
              "12    1023952  On February 9, 2009, a complaint was registere...   \n",
              "...       ...                                                ...   \n",
              "1816  1078998  On October 3, 2015, at approximately 3:23 am, ...   \n",
              "1818  1087329  Complainant Subject 1 alleged that on October ...   \n",
              "1820  1085432  The complainant, Subject 1, alleges that on an...   \n",
              "1822  1076439  On July 30, 2015, an arrest warrant was issued...   \n",
              "1823  1086830  In CPD Arrest Report for Subject 1 under CB 19...   \n",
              "\n",
              "          category  category_le  \n",
              "0     Use Of Force           11  \n",
              "6     Use Of Force           11  \n",
              "7     Use Of Force           11  \n",
              "11    Use Of Force           11  \n",
              "12        Domestic            2  \n",
              "...            ...          ...  \n",
              "1816  Use Of Force           11  \n",
              "1818  False Arrest            5  \n",
              "1820  Use Of Force           11  \n",
              "1822      Domestic            2  \n",
              "1823  False Arrest            5  \n",
              "\n",
              "[807 rows x 4 columns]"
            ]
          },
          "metadata": {
            "tags": []
          },
          "execution_count": 9
        }
      ]
    },
    {
      "cell_type": "code",
      "metadata": {
        "id": "t0Zs43yi6FuO",
        "outputId": "aa0ab064-8cd4-4ddb-9ad1-af04ba963d15"
      },
      "source": [
        "# Drop the unnecessary columns\n",
        "\n",
        "repeater_final_df = repeater_summary_df.drop('category', axis=1).drop('crid', axis=1)\n",
        "nonrepeater_final_df = nonrepeater_summary_df.drop('category', axis=1).drop('crid', axis=1)\n",
        "\n",
        "repeater_final_df"
      ],
      "execution_count": null,
      "outputs": [
        {
          "output_type": "execute_result",
          "data": {
            "text/html": [
              "<div>\n",
              "<style scoped>\n",
              "    .dataframe tbody tr th:only-of-type {\n",
              "        vertical-align: middle;\n",
              "    }\n",
              "\n",
              "    .dataframe tbody tr th {\n",
              "        vertical-align: top;\n",
              "    }\n",
              "\n",
              "    .dataframe thead th {\n",
              "        text-align: right;\n",
              "    }\n",
              "</style>\n",
              "<table border=\"1\" class=\"dataframe\">\n",
              "  <thead>\n",
              "    <tr style=\"text-align: right;\">\n",
              "      <th></th>\n",
              "      <th>summary</th>\n",
              "      <th>category_le</th>\n",
              "    </tr>\n",
              "  </thead>\n",
              "  <tbody>\n",
              "    <tr>\n",
              "      <th>10</th>\n",
              "      <td>On October 8, 2007, a complaint was registered...</td>\n",
              "      <td>8</td>\n",
              "    </tr>\n",
              "    <tr>\n",
              "      <th>14</th>\n",
              "      <td>On April 27, 2009, a complaint was registered ...</td>\n",
              "      <td>11</td>\n",
              "    </tr>\n",
              "    <tr>\n",
              "      <th>19</th>\n",
              "      <td>An incident involving four on-duty Chicago Pol...</td>\n",
              "      <td>11</td>\n",
              "    </tr>\n",
              "    <tr>\n",
              "      <th>24</th>\n",
              "      <td>On June 3, 2009, a complaint was registered wi...</td>\n",
              "      <td>11</td>\n",
              "    </tr>\n",
              "    <tr>\n",
              "      <th>32</th>\n",
              "      <td>In an incident involving two on-duty CPD Offic...</td>\n",
              "      <td>11</td>\n",
              "    </tr>\n",
              "    <tr>\n",
              "      <th>...</th>\n",
              "      <td>...</td>\n",
              "      <td>...</td>\n",
              "    </tr>\n",
              "    <tr>\n",
              "      <th>1801</th>\n",
              "      <td>On July 8, 2017, at 11:30 am, Subject 1 witnes...</td>\n",
              "      <td>11</td>\n",
              "    </tr>\n",
              "    <tr>\n",
              "      <th>1803</th>\n",
              "      <td>On April 28, 2018, at approximately 6:00 pm, F...</td>\n",
              "      <td>6</td>\n",
              "    </tr>\n",
              "    <tr>\n",
              "      <th>1809</th>\n",
              "      <td>On 09 May 2015, at approximately 1800 hours, S...</td>\n",
              "      <td>11</td>\n",
              "    </tr>\n",
              "    <tr>\n",
              "      <th>1817</th>\n",
              "      <td>and his son (also named were parked on the sid...</td>\n",
              "      <td>11</td>\n",
              "    </tr>\n",
              "    <tr>\n",
              "      <th>1818</th>\n",
              "      <td>Complainant Subject 1 alleged that on October ...</td>\n",
              "      <td>5</td>\n",
              "    </tr>\n",
              "  </tbody>\n",
              "</table>\n",
              "<p>287 rows × 2 columns</p>\n",
              "</div>"
            ],
            "text/plain": [
              "                                                summary  category_le\n",
              "10    On October 8, 2007, a complaint was registered...            8\n",
              "14    On April 27, 2009, a complaint was registered ...           11\n",
              "19    An incident involving four on-duty Chicago Pol...           11\n",
              "24    On June 3, 2009, a complaint was registered wi...           11\n",
              "32    In an incident involving two on-duty CPD Offic...           11\n",
              "...                                                 ...          ...\n",
              "1801  On July 8, 2017, at 11:30 am, Subject 1 witnes...           11\n",
              "1803  On April 28, 2018, at approximately 6:00 pm, F...            6\n",
              "1809  On 09 May 2015, at approximately 1800 hours, S...           11\n",
              "1817  and his son (also named were parked on the sid...           11\n",
              "1818  Complainant Subject 1 alleged that on October ...            5\n",
              "\n",
              "[287 rows x 2 columns]"
            ]
          },
          "metadata": {
            "tags": []
          },
          "execution_count": 10
        }
      ]
    },
    {
      "cell_type": "code",
      "metadata": {
        "id": "VnOZ3p2G6FuO",
        "outputId": "bf18a593-7834-43cc-a610-615bbe4e628c"
      },
      "source": [
        "nonrepeater_final_df"
      ],
      "execution_count": null,
      "outputs": [
        {
          "output_type": "execute_result",
          "data": {
            "text/html": [
              "<div>\n",
              "<style scoped>\n",
              "    .dataframe tbody tr th:only-of-type {\n",
              "        vertical-align: middle;\n",
              "    }\n",
              "\n",
              "    .dataframe tbody tr th {\n",
              "        vertical-align: top;\n",
              "    }\n",
              "\n",
              "    .dataframe thead th {\n",
              "        text-align: right;\n",
              "    }\n",
              "</style>\n",
              "<table border=\"1\" class=\"dataframe\">\n",
              "  <thead>\n",
              "    <tr style=\"text-align: right;\">\n",
              "      <th></th>\n",
              "      <th>summary</th>\n",
              "      <th>category_le</th>\n",
              "    </tr>\n",
              "  </thead>\n",
              "  <tbody>\n",
              "    <tr>\n",
              "      <th>0</th>\n",
              "      <td>On October 4, 2006, a complaint was registered...</td>\n",
              "      <td>11</td>\n",
              "    </tr>\n",
              "    <tr>\n",
              "      <th>6</th>\n",
              "      <td>On 30 August 2007, a complaint was registered ...</td>\n",
              "      <td>11</td>\n",
              "    </tr>\n",
              "    <tr>\n",
              "      <th>7</th>\n",
              "      <td>On June 12, 2008, a complaint was registered w...</td>\n",
              "      <td>11</td>\n",
              "    </tr>\n",
              "    <tr>\n",
              "      <th>11</th>\n",
              "      <td>On 16 July 2007, a complaint was registered wi...</td>\n",
              "      <td>11</td>\n",
              "    </tr>\n",
              "    <tr>\n",
              "      <th>12</th>\n",
              "      <td>On February 9, 2009, a complaint was registere...</td>\n",
              "      <td>2</td>\n",
              "    </tr>\n",
              "    <tr>\n",
              "      <th>...</th>\n",
              "      <td>...</td>\n",
              "      <td>...</td>\n",
              "    </tr>\n",
              "    <tr>\n",
              "      <th>1816</th>\n",
              "      <td>On October 3, 2015, at approximately 3:23 am, ...</td>\n",
              "      <td>11</td>\n",
              "    </tr>\n",
              "    <tr>\n",
              "      <th>1818</th>\n",
              "      <td>Complainant Subject 1 alleged that on October ...</td>\n",
              "      <td>5</td>\n",
              "    </tr>\n",
              "    <tr>\n",
              "      <th>1820</th>\n",
              "      <td>The complainant, Subject 1, alleges that on an...</td>\n",
              "      <td>11</td>\n",
              "    </tr>\n",
              "    <tr>\n",
              "      <th>1822</th>\n",
              "      <td>On July 30, 2015, an arrest warrant was issued...</td>\n",
              "      <td>2</td>\n",
              "    </tr>\n",
              "    <tr>\n",
              "      <th>1823</th>\n",
              "      <td>In CPD Arrest Report for Subject 1 under CB 19...</td>\n",
              "      <td>5</td>\n",
              "    </tr>\n",
              "  </tbody>\n",
              "</table>\n",
              "<p>807 rows × 2 columns</p>\n",
              "</div>"
            ],
            "text/plain": [
              "                                                summary  category_le\n",
              "0     On October 4, 2006, a complaint was registered...           11\n",
              "6     On 30 August 2007, a complaint was registered ...           11\n",
              "7     On June 12, 2008, a complaint was registered w...           11\n",
              "11    On 16 July 2007, a complaint was registered wi...           11\n",
              "12    On February 9, 2009, a complaint was registere...            2\n",
              "...                                                 ...          ...\n",
              "1816  On October 3, 2015, at approximately 3:23 am, ...           11\n",
              "1818  Complainant Subject 1 alleged that on October ...            5\n",
              "1820  The complainant, Subject 1, alleges that on an...           11\n",
              "1822  On July 30, 2015, an arrest warrant was issued...            2\n",
              "1823  In CPD Arrest Report for Subject 1 under CB 19...            5\n",
              "\n",
              "[807 rows x 2 columns]"
            ]
          },
          "metadata": {
            "tags": []
          },
          "execution_count": 11
        }
      ]
    },
    {
      "cell_type": "code",
      "metadata": {
        "id": "4JZJvfWu6FuO"
      },
      "source": [
        "# Train Test Split\n",
        "\n",
        "from sklearn.model_selection import train_test_split\n",
        "\n",
        "train_repeater, test_repeater = train_test_split(repeater_final_df, test_size=0.3, shuffle=True)\n",
        "train_nonrepeater, test_nonrepeater = train_test_split(nonrepeater_final_df, test_size=0.3, shuffle=True)"
      ],
      "execution_count": null,
      "outputs": []
    },
    {
      "cell_type": "code",
      "metadata": {
        "id": "z7YF4Doi6FuO",
        "outputId": "fa86e62e-462b-4c20-aed5-838c5a9c951f"
      },
      "source": [
        "test_repeater"
      ],
      "execution_count": null,
      "outputs": [
        {
          "output_type": "execute_result",
          "data": {
            "text/html": [
              "<div>\n",
              "<style scoped>\n",
              "    .dataframe tbody tr th:only-of-type {\n",
              "        vertical-align: middle;\n",
              "    }\n",
              "\n",
              "    .dataframe tbody tr th {\n",
              "        vertical-align: top;\n",
              "    }\n",
              "\n",
              "    .dataframe thead th {\n",
              "        text-align: right;\n",
              "    }\n",
              "</style>\n",
              "<table border=\"1\" class=\"dataframe\">\n",
              "  <thead>\n",
              "    <tr style=\"text-align: right;\">\n",
              "      <th></th>\n",
              "      <th>summary</th>\n",
              "      <th>category_le</th>\n",
              "    </tr>\n",
              "  </thead>\n",
              "  <tbody>\n",
              "    <tr>\n",
              "      <th>618</th>\n",
              "      <td>On April 22, 2007, a complaint was registered ...</td>\n",
              "      <td>11</td>\n",
              "    </tr>\n",
              "    <tr>\n",
              "      <th>1771</th>\n",
              "      <td>On May 30, 2017, Subject 1?s minor child tragi...</td>\n",
              "      <td>11</td>\n",
              "    </tr>\n",
              "    <tr>\n",
              "      <th>730</th>\n",
              "      <td>On 13 May 2006, a complaint was registered wit...</td>\n",
              "      <td>2</td>\n",
              "    </tr>\n",
              "    <tr>\n",
              "      <th>1197</th>\n",
              "      <td>In an incident involving an off-duty Sergeant ...</td>\n",
              "      <td>8</td>\n",
              "    </tr>\n",
              "    <tr>\n",
              "      <th>479</th>\n",
              "      <td>On June 8th, 2010, a complaint was registered ...</td>\n",
              "      <td>11</td>\n",
              "    </tr>\n",
              "    <tr>\n",
              "      <th>...</th>\n",
              "      <td>...</td>\n",
              "      <td>...</td>\n",
              "    </tr>\n",
              "    <tr>\n",
              "      <th>1588</th>\n",
              "      <td>On March 16, 2017, the complainant, was the su...</td>\n",
              "      <td>5</td>\n",
              "    </tr>\n",
              "    <tr>\n",
              "      <th>1178</th>\n",
              "      <td>On March 28, 2009, a complaint was registered ...</td>\n",
              "      <td>11</td>\n",
              "    </tr>\n",
              "    <tr>\n",
              "      <th>1725</th>\n",
              "      <td>January 27, 2017 2:04 AM N. California January...</td>\n",
              "      <td>11</td>\n",
              "    </tr>\n",
              "    <tr>\n",
              "      <th>808</th>\n",
              "      <td>On 3 July 2007, a complaint was registered wit...</td>\n",
              "      <td>2</td>\n",
              "    </tr>\n",
              "    <tr>\n",
              "      <th>878</th>\n",
              "      <td>In an incident involving an CPD Officer and th...</td>\n",
              "      <td>2</td>\n",
              "    </tr>\n",
              "  </tbody>\n",
              "</table>\n",
              "<p>87 rows × 2 columns</p>\n",
              "</div>"
            ],
            "text/plain": [
              "                                                summary  category_le\n",
              "618   On April 22, 2007, a complaint was registered ...           11\n",
              "1771  On May 30, 2017, Subject 1?s minor child tragi...           11\n",
              "730   On 13 May 2006, a complaint was registered wit...            2\n",
              "1197  In an incident involving an off-duty Sergeant ...            8\n",
              "479   On June 8th, 2010, a complaint was registered ...           11\n",
              "...                                                 ...          ...\n",
              "1588  On March 16, 2017, the complainant, was the su...            5\n",
              "1178  On March 28, 2009, a complaint was registered ...           11\n",
              "1725  January 27, 2017 2:04 AM N. California January...           11\n",
              "808   On 3 July 2007, a complaint was registered wit...            2\n",
              "878   In an incident involving an CPD Officer and th...            2\n",
              "\n",
              "[87 rows x 2 columns]"
            ]
          },
          "metadata": {
            "tags": []
          },
          "execution_count": 18
        }
      ]
    },
    {
      "cell_type": "markdown",
      "metadata": {
        "id": "1D_9UP_J6FuO"
      },
      "source": [
        "# Model Training and Evaluation"
      ]
    },
    {
      "cell_type": "code",
      "metadata": {
        "id": "_YuWHmLm6FuO",
        "outputId": "4681425c-14d7-40aa-cd5c-49f06c5cd17b"
      },
      "source": [
        "!nvcc --version"
      ],
      "execution_count": null,
      "outputs": [
        {
          "output_type": "stream",
          "text": [
            "nvcc: NVIDIA (R) Cuda compiler driver\n",
            "Copyright (c) 2005-2019 NVIDIA Corporation\n",
            "Built on Wed_Oct_23_19:24:38_PDT_2019\n",
            "Cuda compilation tools, release 10.2, V10.2.89\n"
          ],
          "name": "stdout"
        }
      ]
    },
    {
      "cell_type": "code",
      "metadata": {
        "id": "UK9ixRdW6FuO",
        "outputId": "1afbbce5-e715-4fd4-d614-134610870993"
      },
      "source": [
        "# Upgrade to PyTorch 1.7.0, since simpletransformers model requires>=1.6.0, can be skipped if already satisfied\n",
        "\n",
        "!pip install torch torchvision torchaudio --upgrade"
      ],
      "execution_count": null,
      "outputs": [
        {
          "output_type": "stream",
          "text": [
            "Collecting torch\n",
            "  Downloading torch-1.7.0-cp37-cp37m-manylinux1_x86_64.whl (776.7 MB)\n",
            "\u001b[K     |████████████████████████████████| 776.7 MB 322 bytes/s a 0:00:01�██████████                 | 363.9 MB 62.0 MB/s eta 0:00:07     |████████████████████▊           | 502.6 MB 51.5 MB/s eta 0:00:06\n",
            "\u001b[?25hCollecting torchvision\n",
            "  Downloading torchvision-0.8.1-cp37-cp37m-manylinux1_x86_64.whl (12.7 MB)\n",
            "\u001b[K     |████████████████████████████████| 12.7 MB 50.9 MB/s eta 0:00:01\n",
            "\u001b[?25hCollecting torchaudio\n",
            "  Downloading torchaudio-0.7.0-cp37-cp37m-manylinux1_x86_64.whl (7.6 MB)\n",
            "\u001b[K     |████████████████████████████████| 7.6 MB 43.7 MB/s eta 0:00:01\n",
            "\u001b[?25hRequirement already satisfied, skipping upgrade: future in /usr/local/lib/python3.7/site-packages (from torch) (0.18.2)\n",
            "Requirement already satisfied, skipping upgrade: numpy in /usr/local/lib/python3.7/site-packages (from torch) (1.18.4)\n",
            "Collecting dataclasses\n",
            "  Downloading dataclasses-0.6-py3-none-any.whl (14 kB)\n",
            "Collecting typing-extensions\n",
            "  Downloading typing_extensions-3.7.4.3-py3-none-any.whl (22 kB)\n",
            "Requirement already satisfied, skipping upgrade: pillow>=4.1.1 in /usr/local/lib/python3.7/site-packages (from torchvision) (7.1.2)\n",
            "Installing collected packages: dataclasses, typing-extensions, torch, torchvision, torchaudio\n",
            "  Attempting uninstall: torch\n",
            "    Found existing installation: torch 1.5.0\n",
            "    Uninstalling torch-1.5.0:\n",
            "      Successfully uninstalled torch-1.5.0\n",
            "  Attempting uninstall: torchvision\n",
            "    Found existing installation: torchvision 0.6.0\n",
            "    Uninstalling torchvision-0.6.0:\n",
            "      Successfully uninstalled torchvision-0.6.0\n",
            "Successfully installed dataclasses-0.6 torch-1.7.0 torchaudio-0.7.0 torchvision-0.8.1 typing-extensions-3.7.4.3\n",
            "\u001b[33mWARNING: You are using pip version 20.1; however, version 20.2.4 is available.\n",
            "You should consider upgrading via the '/usr/local/bin/python -m pip install --upgrade pip' command.\u001b[0m\n"
          ],
          "name": "stdout"
        }
      ]
    },
    {
      "cell_type": "code",
      "metadata": {
        "id": "ag95z_iv6FuO",
        "outputId": "d18f21e0-d540-4deb-c2ae-5290379570f4"
      },
      "source": [
        "# Install required dependencies, can be skipped if already satisfied\n",
        "\n",
        "!pip install tokenizers==0.9.3\n",
        "!pip install urllib3==1.25.4"
      ],
      "execution_count": null,
      "outputs": [
        {
          "output_type": "stream",
          "text": [
            "Collecting tokenizers==0.9.3\n",
            "  Downloading tokenizers-0.9.3-cp37-cp37m-manylinux1_x86_64.whl (2.9 MB)\n",
            "\u001b[K     |████████████████████████████████| 2.9 MB 11.0 MB/s eta 0:00:01\n",
            "\u001b[31mERROR: transformers 2.9.0 has requirement tokenizers==0.7.0, but you'll have tokenizers 0.9.3 which is incompatible.\u001b[0m\n",
            "\u001b[?25hInstalling collected packages: tokenizers\n",
            "  Attempting uninstall: tokenizers\n",
            "    Found existing installation: tokenizers 0.7.0\n",
            "    Uninstalling tokenizers-0.7.0:\n",
            "      Successfully uninstalled tokenizers-0.7.0\n",
            "Successfully installed tokenizers-0.9.3\n",
            "\u001b[33mWARNING: You are using pip version 20.1; however, version 20.2.4 is available.\n",
            "You should consider upgrading via the '/usr/local/bin/python -m pip install --upgrade pip' command.\u001b[0m\n",
            "Collecting urllib3==1.25.4\n",
            "  Downloading urllib3-1.25.4-py2.py3-none-any.whl (125 kB)\n",
            "\u001b[K     |████████████████████████████████| 125 kB 9.3 MB/s eta 0:00:01\n",
            "\u001b[31mERROR: kaggle 1.5.6 has requirement urllib3<1.25,>=1.21.1, but you'll have urllib3 1.25.4 which is incompatible.\u001b[0m\n",
            "\u001b[?25hInstalling collected packages: urllib3\n",
            "  Attempting uninstall: urllib3\n",
            "    Found existing installation: urllib3 1.24.3\n",
            "    Uninstalling urllib3-1.24.3:\n",
            "      Successfully uninstalled urllib3-1.24.3\n",
            "Successfully installed urllib3-1.25.4\n",
            "\u001b[33mWARNING: You are using pip version 20.1; however, version 20.2.4 is available.\n",
            "You should consider upgrading via the '/usr/local/bin/python -m pip install --upgrade pip' command.\u001b[0m\n"
          ],
          "name": "stdout"
        }
      ]
    },
    {
      "cell_type": "code",
      "metadata": {
        "id": "zuwy9A-86FuO",
        "outputId": "9fe40be6-b209-4466-928f-e43bd3ae44a2"
      },
      "source": [
        "# Install Simple Transformers package\n",
        "\n",
        "!pip install simpletransformers"
      ],
      "execution_count": null,
      "outputs": [
        {
          "output_type": "stream",
          "text": [
            "Collecting simpletransformers\n",
            "  Downloading simpletransformers-0.49.3-py3-none-any.whl (219 kB)\n",
            "\u001b[K     |████████████████████████████████| 219 kB 8.5 MB/s eta 0:00:01\n",
            "\u001b[?25hRequirement already satisfied: pandas in /usr/local/lib/python3.7/site-packages (from simpletransformers) (1.0.3)\n",
            "Requirement already satisfied: numpy in /usr/local/lib/python3.7/site-packages (from simpletransformers) (1.18.4)\n",
            "Requirement already satisfied: scikit-learn in /usr/local/lib/python3.7/site-packages (from simpletransformers) (0.22.2.post1)\n",
            "Requirement already satisfied: tensorboardx in /usr/local/lib/python3.7/site-packages (from simpletransformers) (2.0)\n",
            "Collecting tqdm>=4.47.0\n",
            "  Downloading tqdm-4.53.0-py2.py3-none-any.whl (70 kB)\n",
            "\u001b[K     |████████████████████████████████| 70 kB 7.8 MB/s  eta 0:00:01\n",
            "\u001b[?25hCollecting streamlit\n",
            "  Downloading streamlit-0.71.0-py2.py3-none-any.whl (7.4 MB)\n",
            "\u001b[K     |████████████████████████████████| 7.4 MB 8.9 MB/s eta 0:00:01\n",
            "\u001b[?25hRequirement already satisfied: regex in /usr/local/lib/python3.7/site-packages (from simpletransformers) (2020.5.7)\n",
            "Collecting transformers>=3.0.2\n",
            "  Downloading transformers-3.5.1-py3-none-any.whl (1.3 MB)\n",
            "\u001b[K     |████████████████████████████████| 1.3 MB 41.6 MB/s eta 0:00:01\n",
            "\u001b[?25hCollecting seqeval\n",
            "  Downloading seqeval-1.2.2.tar.gz (43 kB)\n",
            "\u001b[K     |████████████████████████████████| 43 kB 3.2 MB/s  eta 0:00:01\n",
            "\u001b[?25hRequirement already satisfied: tokenizers in /usr/local/lib/python3.7/site-packages (from simpletransformers) (0.9.3)\n",
            "Collecting wandb\n",
            "  Downloading wandb-0.10.11-py2.py3-none-any.whl (1.8 MB)\n",
            "\u001b[K     |████████████████████████████████| 1.8 MB 31.9 MB/s eta 0:00:01\n",
            "\u001b[?25hRequirement already satisfied: requests in /usr/local/lib/python3.7/site-packages (from simpletransformers) (2.23.0)\n",
            "Requirement already satisfied: scipy in /usr/local/lib/python3.7/site-packages (from simpletransformers) (1.4.1)\n",
            "Requirement already satisfied: python-dateutil>=2.6.1 in /usr/local/lib/python3.7/site-packages (from pandas->simpletransformers) (2.8.1)\n",
            "Requirement already satisfied: pytz>=2017.2 in /usr/local/lib/python3.7/site-packages (from pandas->simpletransformers) (2020.1)\n",
            "Requirement already satisfied: joblib>=0.11 in /usr/local/lib/python3.7/site-packages (from scikit-learn->simpletransformers) (0.14.1)\n",
            "Requirement already satisfied: protobuf>=3.8.0 in /usr/local/lib/python3.7/site-packages (from tensorboardx->simpletransformers) (3.11.3)\n",
            "Requirement already satisfied: six in /usr/local/lib/python3.7/site-packages (from tensorboardx->simpletransformers) (1.14.0)\n",
            "Collecting toml\n",
            "  Downloading toml-0.10.2-py2.py3-none-any.whl (16 kB)\n",
            "Collecting enum-compat\n",
            "  Downloading enum_compat-0.0.3-py3-none-any.whl (1.3 kB)\n",
            "Collecting tzlocal\n",
            "  Downloading tzlocal-2.1-py2.py3-none-any.whl (16 kB)\n",
            "Collecting botocore>=1.13.44\n",
            "  Downloading botocore-1.19.25-py2.py3-none-any.whl (6.9 MB)\n",
            "\u001b[K     |████████████████████████████████| 6.9 MB 41.8 MB/s eta 0:00:01\n",
            "\u001b[?25hCollecting base58\n",
            "  Downloading base58-2.0.1-py3-none-any.whl (4.3 kB)\n",
            "Collecting altair>=3.2.0\n",
            "  Downloading altair-4.1.0-py3-none-any.whl (727 kB)\n",
            "\u001b[K     |████████████████████████████████| 727 kB 33.5 MB/s eta 0:00:01\n",
            "\u001b[?25hCollecting pyarrow\n",
            "  Downloading pyarrow-2.0.0-cp37-cp37m-manylinux2014_x86_64.whl (17.7 MB)\n",
            "\u001b[K     |████████████████████████████████| 17.7 MB 45.8 MB/s eta 0:00:01\n",
            "\u001b[?25hRequirement already satisfied: pillow>=6.2.0 in /usr/local/lib/python3.7/site-packages (from streamlit->simpletransformers) (7.1.2)\n",
            "Collecting pydeck>=0.1.dev5\n",
            "  Downloading pydeck-0.5.0-py2.py3-none-any.whl (4.5 MB)\n",
            "\u001b[K     |████████████████████████████████| 4.5 MB 32.3 MB/s eta 0:00:01\n",
            "\u001b[?25hRequirement already satisfied: cachetools>=4.0 in /usr/local/lib/python3.7/site-packages (from streamlit->simpletransformers) (4.1.0)\n",
            "Collecting validators\n",
            "  Downloading validators-0.18.1-py3-none-any.whl (19 kB)\n",
            "Requirement already satisfied: tornado>=5.0 in /usr/local/lib/python3.7/site-packages (from streamlit->simpletransformers) (6.0.4)\n",
            "Requirement already satisfied: packaging in /usr/local/lib/python3.7/site-packages (from streamlit->simpletransformers) (20.3)\n",
            "Collecting blinker\n",
            "  Downloading blinker-1.4.tar.gz (111 kB)\n",
            "\u001b[K     |████████████████████████████████| 111 kB 52.9 MB/s eta 0:00:01\n",
            "\u001b[?25hCollecting watchdog\n",
            "  Downloading watchdog-0.10.4.tar.gz (98 kB)\n",
            "\u001b[K     |████████████████████████████████| 98 kB 137 kB/s  eta 0:00:01\n",
            "\u001b[?25hCollecting boto3\n",
            "  Downloading boto3-1.16.25-py2.py3-none-any.whl (129 kB)\n",
            "\u001b[K     |████████████████████████████████| 129 kB 47.8 MB/s eta 0:00:01\n",
            "\u001b[?25hCollecting click>=7.0\n",
            "  Downloading click-7.1.2-py2.py3-none-any.whl (82 kB)\n",
            "\u001b[K     |████████████████████████████████| 82 kB 17 kB/s s eta 0:00:01\n",
            "\u001b[?25hCollecting astor\n",
            "  Downloading astor-0.8.1-py2.py3-none-any.whl (27 kB)\n",
            "Collecting gitpython\n",
            "  Downloading GitPython-3.1.11-py3-none-any.whl (159 kB)\n",
            "\u001b[K     |████████████████████████████████| 159 kB 62.7 MB/s eta 0:00:01\n",
            "\u001b[?25hRequirement already satisfied: sacremoses in /usr/local/lib/python3.7/site-packages (from transformers>=3.0.2->simpletransformers) (0.0.43)\n",
            "Requirement already satisfied: filelock in /usr/local/lib/python3.7/site-packages (from transformers>=3.0.2->simpletransformers) (3.0.12)\n",
            "Collecting sentencepiece==0.1.91\n",
            "  Downloading sentencepiece-0.1.91-cp37-cp37m-manylinux1_x86_64.whl (1.1 MB)\n",
            "\u001b[K     |████████████████████████████████| 1.1 MB 38.3 MB/s eta 0:00:01\n",
            "\u001b[?25hCollecting sentry-sdk>=0.4.0\n",
            "  Downloading sentry_sdk-0.19.4-py2.py3-none-any.whl (128 kB)\n",
            "\u001b[K     |████████████████████████████████| 128 kB 50.6 MB/s eta 0:00:01\n",
            "\u001b[?25hCollecting shortuuid>=0.5.0\n",
            "  Downloading shortuuid-1.0.1-py3-none-any.whl (7.5 kB)\n",
            "Collecting docker-pycreds>=0.4.0\n",
            "  Downloading docker_pycreds-0.4.0-py2.py3-none-any.whl (9.0 kB)\n",
            "Collecting configparser>=3.8.1\n",
            "  Downloading configparser-5.0.1-py3-none-any.whl (22 kB)\n",
            "Collecting promise<3,>=2.0\n",
            "  Downloading promise-2.3.tar.gz (19 kB)\n",
            "Requirement already satisfied: PyYAML in /usr/local/lib/python3.7/site-packages (from wandb->simpletransformers) (5.3.1)\n",
            "Collecting psutil>=5.0.0\n",
            "  Downloading psutil-5.7.3.tar.gz (465 kB)\n",
            "\u001b[K     |████████████████████████████████| 465 kB 44.2 MB/s eta 0:00:01\n",
            "\u001b[?25hCollecting subprocess32>=3.5.3\n",
            "  Downloading subprocess32-3.5.4.tar.gz (97 kB)\n",
            "\u001b[K     |████████████████████████████████| 97 kB 9.9 MB/s  eta 0:00:01\n",
            "\u001b[?25hRequirement already satisfied: urllib3!=1.25.0,!=1.25.1,<1.26,>=1.21.1 in /usr/local/lib/python3.7/site-packages (from requests->simpletransformers) (1.25.4)\n",
            "Requirement already satisfied: chardet<4,>=3.0.2 in /usr/local/lib/python3.7/site-packages (from requests->simpletransformers) (3.0.4)\n",
            "Requirement already satisfied: certifi>=2017.4.17 in /usr/local/lib/python3.7/site-packages (from requests->simpletransformers) (2020.4.5.1)\n",
            "Requirement already satisfied: idna<3,>=2.5 in /usr/local/lib/python3.7/site-packages (from requests->simpletransformers) (2.9)\n",
            "Requirement already satisfied: setuptools in /usr/local/lib/python3.7/site-packages (from protobuf>=3.8.0->tensorboardx->simpletransformers) (46.2.0)\n",
            "Collecting jmespath<1.0.0,>=0.7.1\n",
            "  Downloading jmespath-0.10.0-py2.py3-none-any.whl (24 kB)\n",
            "Requirement already satisfied: entrypoints in /usr/local/lib/python3.7/site-packages (from altair>=3.2.0->streamlit->simpletransformers) (0.3)\n",
            "Requirement already satisfied: toolz in /usr/local/lib/python3.7/site-packages (from altair>=3.2.0->streamlit->simpletransformers) (0.10.0)\n",
            "Requirement already satisfied: jinja2 in /usr/local/lib/python3.7/site-packages (from altair>=3.2.0->streamlit->simpletransformers) (2.11.2)\n",
            "Requirement already satisfied: jsonschema in /usr/local/lib/python3.7/site-packages (from altair>=3.2.0->streamlit->simpletransformers) (3.2.0)\n",
            "Requirement already satisfied: ipywidgets>=7.0.0 in /usr/local/lib/python3.7/site-packages (from pydeck>=0.1.dev5->streamlit->simpletransformers) (7.5.1)\n",
            "Requirement already satisfied: ipykernel>=5.1.2; python_version >= \"3.4\" in /usr/local/lib/python3.7/site-packages (from pydeck>=0.1.dev5->streamlit->simpletransformers) (5.2.1)\n",
            "Requirement already satisfied: traitlets>=4.3.2 in /usr/local/lib/python3.7/site-packages (from pydeck>=0.1.dev5->streamlit->simpletransformers) (4.3.3)\n",
            "Requirement already satisfied: decorator>=3.4.0 in /usr/local/lib/python3.7/site-packages (from validators->streamlit->simpletransformers) (4.4.2)\n",
            "Requirement already satisfied: pyparsing>=2.0.2 in /usr/local/lib/python3.7/site-packages (from packaging->streamlit->simpletransformers) (2.4.7)\n",
            "Collecting pathtools>=0.1.1\n",
            "  Downloading pathtools-0.1.2.tar.gz (11 kB)\n",
            "Collecting s3transfer<0.4.0,>=0.3.0\n",
            "  Downloading s3transfer-0.3.3-py2.py3-none-any.whl (69 kB)\n",
            "\u001b[K     |████████████████████████████████| 69 kB 11.6 MB/s eta 0:00:01\n",
            "\u001b[?25hCollecting gitdb<5,>=4.0.1\n",
            "  Downloading gitdb-4.0.5-py3-none-any.whl (63 kB)\n",
            "\u001b[K     |████████████████████████████████| 63 kB 2.6 MB/s  eta 0:00:01\n",
            "\u001b[?25hRequirement already satisfied: MarkupSafe>=0.23 in /usr/local/lib/python3.7/site-packages (from jinja2->altair>=3.2.0->streamlit->simpletransformers) (1.1.1)\n",
            "Requirement already satisfied: attrs>=17.4.0 in /usr/local/lib/python3.7/site-packages (from jsonschema->altair>=3.2.0->streamlit->simpletransformers) (19.3.0)\n",
            "Requirement already satisfied: pyrsistent>=0.14.0 in /usr/local/lib/python3.7/site-packages (from jsonschema->altair>=3.2.0->streamlit->simpletransformers) (0.16.0)\n",
            "Requirement already satisfied: importlib-metadata; python_version < \"3.8\" in /usr/local/lib/python3.7/site-packages (from jsonschema->altair>=3.2.0->streamlit->simpletransformers) (1.6.0)\n",
            "Requirement already satisfied: ipython>=4.0.0; python_version >= \"3.3\" in /usr/local/lib/python3.7/site-packages (from ipywidgets>=7.0.0->pydeck>=0.1.dev5->streamlit->simpletransformers) (7.14.0)\n",
            "Requirement already satisfied: nbformat>=4.2.0 in /usr/local/lib/python3.7/site-packages (from ipywidgets>=7.0.0->pydeck>=0.1.dev5->streamlit->simpletransformers) (5.0.6)\n",
            "Requirement already satisfied: widgetsnbextension~=3.5.0 in /usr/local/lib/python3.7/site-packages (from ipywidgets>=7.0.0->pydeck>=0.1.dev5->streamlit->simpletransformers) (3.5.1)\n",
            "Requirement already satisfied: jupyter-client in /usr/local/lib/python3.7/site-packages (from ipykernel>=5.1.2; python_version >= \"3.4\"->pydeck>=0.1.dev5->streamlit->simpletransformers) (6.1.3)\n",
            "Requirement already satisfied: ipython-genutils in /usr/local/lib/python3.7/site-packages (from traitlets>=4.3.2->pydeck>=0.1.dev5->streamlit->simpletransformers) (0.2.0)\n",
            "Collecting smmap<4,>=3.0.1\n",
            "  Downloading smmap-3.0.4-py2.py3-none-any.whl (25 kB)\n",
            "Requirement already satisfied: zipp>=0.5 in /usr/local/lib/python3.7/site-packages (from importlib-metadata; python_version < \"3.8\"->jsonschema->altair>=3.2.0->streamlit->simpletransformers) (3.1.0)\n",
            "Requirement already satisfied: pygments in /usr/local/lib/python3.7/site-packages (from ipython>=4.0.0; python_version >= \"3.3\"->ipywidgets>=7.0.0->pydeck>=0.1.dev5->streamlit->simpletransformers) (2.6.1)\n",
            "Requirement already satisfied: backcall in /usr/local/lib/python3.7/site-packages (from ipython>=4.0.0; python_version >= \"3.3\"->ipywidgets>=7.0.0->pydeck>=0.1.dev5->streamlit->simpletransformers) (0.1.0)\n",
            "Requirement already satisfied: pickleshare in /usr/local/lib/python3.7/site-packages (from ipython>=4.0.0; python_version >= \"3.3\"->ipywidgets>=7.0.0->pydeck>=0.1.dev5->streamlit->simpletransformers) (0.7.5)\n",
            "Requirement already satisfied: pexpect; sys_platform != \"win32\" in /usr/local/lib/python3.7/site-packages (from ipython>=4.0.0; python_version >= \"3.3\"->ipywidgets>=7.0.0->pydeck>=0.1.dev5->streamlit->simpletransformers) (4.8.0)\n",
            "Requirement already satisfied: prompt-toolkit!=3.0.0,!=3.0.1,<3.1.0,>=2.0.0 in /usr/local/lib/python3.7/site-packages (from ipython>=4.0.0; python_version >= \"3.3\"->ipywidgets>=7.0.0->pydeck>=0.1.dev5->streamlit->simpletransformers) (3.0.5)\n",
            "Requirement already satisfied: jedi>=0.10 in /usr/local/lib/python3.7/site-packages (from ipython>=4.0.0; python_version >= \"3.3\"->ipywidgets>=7.0.0->pydeck>=0.1.dev5->streamlit->simpletransformers) (0.17.0)\n",
            "Requirement already satisfied: jupyter-core in /usr/local/lib/python3.7/site-packages (from nbformat>=4.2.0->ipywidgets>=7.0.0->pydeck>=0.1.dev5->streamlit->simpletransformers) (4.6.3)\n",
            "Requirement already satisfied: notebook>=4.4.1 in /usr/local/lib/python3.7/site-packages (from widgetsnbextension~=3.5.0->ipywidgets>=7.0.0->pydeck>=0.1.dev5->streamlit->simpletransformers) (6.0.3)\n",
            "Requirement already satisfied: pyzmq>=13 in /usr/local/lib/python3.7/site-packages (from jupyter-client->ipykernel>=5.1.2; python_version >= \"3.4\"->pydeck>=0.1.dev5->streamlit->simpletransformers) (19.0.1)\n",
            "Requirement already satisfied: ptyprocess>=0.5 in /usr/local/lib/python3.7/site-packages (from pexpect; sys_platform != \"win32\"->ipython>=4.0.0; python_version >= \"3.3\"->ipywidgets>=7.0.0->pydeck>=0.1.dev5->streamlit->simpletransformers) (0.6.0)\n",
            "Requirement already satisfied: wcwidth in /usr/local/lib/python3.7/site-packages (from prompt-toolkit!=3.0.0,!=3.0.1,<3.1.0,>=2.0.0->ipython>=4.0.0; python_version >= \"3.3\"->ipywidgets>=7.0.0->pydeck>=0.1.dev5->streamlit->simpletransformers) (0.1.9)\n",
            "Requirement already satisfied: parso>=0.7.0 in /usr/local/lib/python3.7/site-packages (from jedi>=0.10->ipython>=4.0.0; python_version >= \"3.3\"->ipywidgets>=7.0.0->pydeck>=0.1.dev5->streamlit->simpletransformers) (0.7.0)\n",
            "Requirement already satisfied: Send2Trash in /usr/local/lib/python3.7/site-packages (from notebook>=4.4.1->widgetsnbextension~=3.5.0->ipywidgets>=7.0.0->pydeck>=0.1.dev5->streamlit->simpletransformers) (1.5.0)\n",
            "Requirement already satisfied: terminado>=0.8.1 in /usr/local/lib/python3.7/site-packages (from notebook>=4.4.1->widgetsnbextension~=3.5.0->ipywidgets>=7.0.0->pydeck>=0.1.dev5->streamlit->simpletransformers) (0.8.3)\n",
            "Requirement already satisfied: prometheus-client in /usr/local/lib/python3.7/site-packages (from notebook>=4.4.1->widgetsnbextension~=3.5.0->ipywidgets>=7.0.0->pydeck>=0.1.dev5->streamlit->simpletransformers) (0.7.1)\n",
            "Requirement already satisfied: nbconvert in /usr/local/lib/python3.7/site-packages (from notebook>=4.4.1->widgetsnbextension~=3.5.0->ipywidgets>=7.0.0->pydeck>=0.1.dev5->streamlit->simpletransformers) (5.6.1)\n",
            "Requirement already satisfied: testpath in /usr/local/lib/python3.7/site-packages (from nbconvert->notebook>=4.4.1->widgetsnbextension~=3.5.0->ipywidgets>=7.0.0->pydeck>=0.1.dev5->streamlit->simpletransformers) (0.4.4)\n",
            "Requirement already satisfied: defusedxml in /usr/local/lib/python3.7/site-packages (from nbconvert->notebook>=4.4.1->widgetsnbextension~=3.5.0->ipywidgets>=7.0.0->pydeck>=0.1.dev5->streamlit->simpletransformers) (0.6.0)\n",
            "Requirement already satisfied: mistune<2,>=0.8.1 in /usr/local/lib/python3.7/site-packages (from nbconvert->notebook>=4.4.1->widgetsnbextension~=3.5.0->ipywidgets>=7.0.0->pydeck>=0.1.dev5->streamlit->simpletransformers) (0.8.4)\n",
            "Requirement already satisfied: bleach in /usr/local/lib/python3.7/site-packages (from nbconvert->notebook>=4.4.1->widgetsnbextension~=3.5.0->ipywidgets>=7.0.0->pydeck>=0.1.dev5->streamlit->simpletransformers) (3.1.5)\n",
            "Requirement already satisfied: pandocfilters>=1.4.1 in /usr/local/lib/python3.7/site-packages (from nbconvert->notebook>=4.4.1->widgetsnbextension~=3.5.0->ipywidgets>=7.0.0->pydeck>=0.1.dev5->streamlit->simpletransformers) (1.4.2)\n",
            "Requirement already satisfied: webencodings in /usr/local/lib/python3.7/site-packages (from bleach->nbconvert->notebook>=4.4.1->widgetsnbextension~=3.5.0->ipywidgets>=7.0.0->pydeck>=0.1.dev5->streamlit->simpletransformers) (0.5.1)\n",
            "Building wheels for collected packages: seqeval, blinker, watchdog, promise, psutil, subprocess32, pathtools\n",
            "  Building wheel for seqeval (setup.py) ... \u001b[?25ldone\n",
            "\u001b[?25h  Created wheel for seqeval: filename=seqeval-1.2.2-py3-none-any.whl size=16170 sha256=4154cbdbf546b01a0015680e7a98949a9e6f03720cbf2b8d01f58c6ad4d4166f\n",
            "  Stored in directory: /root/.cache/pip/wheels/05/96/ee/7cac4e74f3b19e3158dce26a20a1c86b3533c43ec72a549fd7\n",
            "  Building wheel for blinker (setup.py) ... \u001b[?25ldone\n",
            "\u001b[?25h  Created wheel for blinker: filename=blinker-1.4-py3-none-any.whl size=13452 sha256=46a7870f7b3729d8bdd35fd2087d41da92f9d999c8c6183e8b25b7555d68ca3e\n",
            "  Stored in directory: /root/.cache/pip/wheels/22/f5/18/df711b66eb25b21325c132757d4314db9ac5e8dabeaf196eab\n",
            "  Building wheel for watchdog (setup.py) ... \u001b[?25ldone\n",
            "\u001b[?25h  Created wheel for watchdog: filename=watchdog-0.10.4-py3-none-any.whl size=74839 sha256=51d289b492ff4a55cd21e9cb1df2b27ff06b6d773eb178d603468d9903f53624\n",
            "  Stored in directory: /root/.cache/pip/wheels/d5/e0/c5/33f9291a7c355bccc991701ffd4bf0f711fe4674aaef2b2e5c\n",
            "  Building wheel for promise (setup.py) ... \u001b[?25ldone\n",
            "\u001b[?25h  Created wheel for promise: filename=promise-2.3-py3-none-any.whl size=21495 sha256=269429992a95108b94dcded3273d9dfdaa8d488b556bd9c1a132ad36fd0dd425\n",
            "  Stored in directory: /root/.cache/pip/wheels/29/93/c6/762e359f8cb6a5b69c72235d798804cae523bbe41c2aa8333d\n",
            "  Building wheel for psutil (setup.py) ... \u001b[?25ldone\n",
            "\u001b[?25h  Created wheel for psutil: filename=psutil-5.7.3-cp37-cp37m-linux_x86_64.whl size=285278 sha256=09e6c12c757cf53c274d6d3065f2115e47b18e8fa199ecd6f602f415172395c3\n",
            "  Stored in directory: /root/.cache/pip/wheels/f0/4b/57/d037639271e326da3e80e0ddc37bd3d5da7bbf48b3173be557\n",
            "  Building wheel for subprocess32 (setup.py) ... \u001b[?25ldone\n",
            "\u001b[?25h  Created wheel for subprocess32: filename=subprocess32-3.5.4-py3-none-any.whl size=6489 sha256=01a1ea147dc3dfaecd7ca1ca929486b2798dfdd32dd0903f2115bd80ef24deec\n",
            "  Stored in directory: /root/.cache/pip/wheels/50/ca/fa/8fca8d246e64f19488d07567547ddec8eb084e8c0d7a59226a\n",
            "  Building wheel for pathtools (setup.py) ... \u001b[?25ldone\n",
            "\u001b[?25h  Created wheel for pathtools: filename=pathtools-0.1.2-py3-none-any.whl size=8784 sha256=d982b10358911de56b18f746dcd9b9e4ec2a47174557003ed6888bbce0075500\n",
            "  Stored in directory: /root/.cache/pip/wheels/3e/31/09/fa59cef12cdcfecc627b3d24273699f390e71828921b2cbba2\n",
            "Successfully built seqeval blinker watchdog promise psutil subprocess32 pathtools\n",
            "\u001b[31mERROR: kaggle 1.5.6 has requirement urllib3<1.25,>=1.21.1, but you'll have urllib3 1.25.4 which is incompatible.\u001b[0m\n",
            "\u001b[31mERROR: floyd-cli 0.11.17 has requirement click<7,>=6.7, but you'll have click 7.1.2 which is incompatible.\u001b[0m\n",
            "\u001b[31mERROR: wandb 0.10.11 has requirement protobuf>=3.12.0, but you'll have protobuf 3.11.3 which is incompatible.\u001b[0m\n",
            "Installing collected packages: tqdm, toml, enum-compat, tzlocal, jmespath, botocore, base58, altair, pyarrow, pydeck, validators, blinker, pathtools, watchdog, s3transfer, boto3, click, astor, smmap, gitdb, gitpython, streamlit, sentencepiece, transformers, seqeval, sentry-sdk, shortuuid, docker-pycreds, configparser, promise, psutil, subprocess32, wandb, simpletransformers\n",
            "  Attempting uninstall: tqdm\n",
            "    Found existing installation: tqdm 4.46.0\n",
            "    Uninstalling tqdm-4.46.0:\n",
            "      Successfully uninstalled tqdm-4.46.0\n",
            "  Attempting uninstall: click\n",
            "    Found existing installation: click 6.7\n",
            "    Uninstalling click-6.7:\n",
            "      Successfully uninstalled click-6.7\n",
            "  Attempting uninstall: sentencepiece\n",
            "    Found existing installation: sentencepiece 0.1.86\n",
            "    Uninstalling sentencepiece-0.1.86:\n",
            "      Successfully uninstalled sentencepiece-0.1.86\n",
            "  Attempting uninstall: transformers\n",
            "    Found existing installation: transformers 2.9.0\n",
            "    Uninstalling transformers-2.9.0:\n",
            "      Successfully uninstalled transformers-2.9.0\n",
            "Successfully installed altair-4.1.0 astor-0.8.1 base58-2.0.1 blinker-1.4 boto3-1.16.25 botocore-1.19.25 click-7.1.2 configparser-5.0.1 docker-pycreds-0.4.0 enum-compat-0.0.3 gitdb-4.0.5 gitpython-3.1.11 jmespath-0.10.0 pathtools-0.1.2 promise-2.3 psutil-5.7.3 pyarrow-2.0.0 pydeck-0.5.0 s3transfer-0.3.3 sentencepiece-0.1.91 sentry-sdk-0.19.4 seqeval-1.2.2 shortuuid-1.0.1 simpletransformers-0.49.3 smmap-3.0.4 streamlit-0.71.0 subprocess32-3.5.4 toml-0.10.2 tqdm-4.53.0 transformers-3.5.1 tzlocal-2.1 validators-0.18.1 wandb-0.10.11 watchdog-0.10.4\n",
            "\u001b[33mWARNING: You are using pip version 20.1; however, version 20.2.4 is available.\n",
            "You should consider upgrading via the '/usr/local/bin/python -m pip install --upgrade pip' command.\u001b[0m\n"
          ],
          "name": "stdout"
        }
      ]
    },
    {
      "cell_type": "code",
      "metadata": {
        "id": "veopt5ZC6FuO",
        "outputId": "1e18ec77-bbb7-4d9d-f559-86978268ae8b"
      },
      "source": [
        "from simpletransformers.classification import ClassificationModel\n",
        "\n",
        "# Initialized model\n",
        "model_repeater = ClassificationModel('roberta', 'roberta-base', num_labels=13, use_cuda=True, \n",
        "                             args={\"output_dir\": \"outputs/\", \"cache_dir\": \"cache_dir/\", \"overwrite_output_dir\": True, \"reprocess_input_data\": True , \"num_train_epochs\": 10})"
      ],
      "execution_count": null,
      "outputs": [
        {
          "output_type": "stream",
          "text": [
            "Some weights of the model checkpoint at roberta-base were not used when initializing RobertaForSequenceClassification: ['lm_head.bias', 'lm_head.dense.weight', 'lm_head.dense.bias', 'lm_head.layer_norm.weight', 'lm_head.layer_norm.bias', 'lm_head.decoder.weight']\n",
            "- This IS expected if you are initializing RobertaForSequenceClassification from the checkpoint of a model trained on another task or with another architecture (e.g. initializing a BertForSequenceClassification model from a BertForPreTraining model).\n",
            "- This IS NOT expected if you are initializing RobertaForSequenceClassification from the checkpoint of a model that you expect to be exactly identical (initializing a BertForSequenceClassification model from a BertForSequenceClassification model).\n",
            "Some weights of RobertaForSequenceClassification were not initialized from the model checkpoint at roberta-base and are newly initialized: ['classifier.dense.weight', 'classifier.dense.bias', 'classifier.out_proj.weight', 'classifier.out_proj.bias']\n",
            "You should probably TRAIN this model on a down-stream task to be able to use it for predictions and inference.\n"
          ],
          "name": "stderr"
        }
      ]
    },
    {
      "cell_type": "code",
      "metadata": {
        "colab": {
          "referenced_widgets": [
            "490704ae7aac481d97be63599ac0e6b8",
            "769e355febeb44dcaab18e5a76f2a76c",
            "b5da9f16ff334d5680a1dab1c1c69b04",
            "35f771667f0846a8b9547e494dd3b3b0",
            "d93c053d70394561ae889fd9ad7558aa",
            "bd2f54482edb467fafba8176f0413ed2",
            "5876be137c774179b99c33efcfa84f0c",
            "0d8b8b9678d54209bf4a391983a6e067",
            "5dd92739d80b4446b5ed909f89d20a1c",
            "aa25f263a1ef4374a5587b1a81a843b5",
            "9c829d67475b4c199d4a4b0707783c72",
            "d57a3187cbd44e05b6a6056402bfb3e1"
          ]
        },
        "id": "mzT1W4216FuO",
        "outputId": "7df7d054-e2ac-431b-cda7-09b5ed9d2289"
      },
      "source": [
        "# Train repeater model\n",
        "\n",
        "model_repeater.train_model(train_repeater)"
      ],
      "execution_count": null,
      "outputs": [
        {
          "output_type": "display_data",
          "data": {
            "application/vnd.jupyter.widget-view+json": {
              "model_id": "490704ae7aac481d97be63599ac0e6b8",
              "version_major": 2,
              "version_minor": 0
            },
            "text/plain": [
              "HBox(children=(HTML(value=''), FloatProgress(value=0.0, max=200.0), HTML(value='')))"
            ]
          },
          "metadata": {
            "tags": []
          }
        },
        {
          "output_type": "stream",
          "text": [
            "\n"
          ],
          "name": "stdout"
        },
        {
          "output_type": "display_data",
          "data": {
            "application/vnd.jupyter.widget-view+json": {
              "model_id": "769e355febeb44dcaab18e5a76f2a76c",
              "version_major": 2,
              "version_minor": 0
            },
            "text/plain": [
              "HBox(children=(HTML(value='Epoch'), FloatProgress(value=0.0, max=10.0), HTML(value='')))"
            ]
          },
          "metadata": {
            "tags": []
          }
        },
        {
          "output_type": "display_data",
          "data": {
            "application/vnd.jupyter.widget-view+json": {
              "model_id": "b5da9f16ff334d5680a1dab1c1c69b04",
              "version_major": 2,
              "version_minor": 0
            },
            "text/plain": [
              "HBox(children=(HTML(value='Running Epoch 0 of 10'), FloatProgress(value=0.0, max=25.0), HTML(value='')))"
            ]
          },
          "metadata": {
            "tags": []
          }
        },
        {
          "output_type": "stream",
          "text": [
            "\n"
          ],
          "name": "stdout"
        },
        {
          "output_type": "display_data",
          "data": {
            "application/vnd.jupyter.widget-view+json": {
              "model_id": "35f771667f0846a8b9547e494dd3b3b0",
              "version_major": 2,
              "version_minor": 0
            },
            "text/plain": [
              "HBox(children=(HTML(value='Running Epoch 1 of 10'), FloatProgress(value=0.0, max=25.0), HTML(value='')))"
            ]
          },
          "metadata": {
            "tags": []
          }
        },
        {
          "output_type": "stream",
          "text": [
            "\n"
          ],
          "name": "stdout"
        },
        {
          "output_type": "display_data",
          "data": {
            "application/vnd.jupyter.widget-view+json": {
              "model_id": "d93c053d70394561ae889fd9ad7558aa",
              "version_major": 2,
              "version_minor": 0
            },
            "text/plain": [
              "HBox(children=(HTML(value='Running Epoch 2 of 10'), FloatProgress(value=0.0, max=25.0), HTML(value='')))"
            ]
          },
          "metadata": {
            "tags": []
          }
        },
        {
          "output_type": "stream",
          "text": [
            "\n"
          ],
          "name": "stdout"
        },
        {
          "output_type": "display_data",
          "data": {
            "application/vnd.jupyter.widget-view+json": {
              "model_id": "bd2f54482edb467fafba8176f0413ed2",
              "version_major": 2,
              "version_minor": 0
            },
            "text/plain": [
              "HBox(children=(HTML(value='Running Epoch 3 of 10'), FloatProgress(value=0.0, max=25.0), HTML(value='')))"
            ]
          },
          "metadata": {
            "tags": []
          }
        },
        {
          "output_type": "stream",
          "text": [
            "\n"
          ],
          "name": "stdout"
        },
        {
          "output_type": "display_data",
          "data": {
            "application/vnd.jupyter.widget-view+json": {
              "model_id": "5876be137c774179b99c33efcfa84f0c",
              "version_major": 2,
              "version_minor": 0
            },
            "text/plain": [
              "HBox(children=(HTML(value='Running Epoch 4 of 10'), FloatProgress(value=0.0, max=25.0), HTML(value='')))"
            ]
          },
          "metadata": {
            "tags": []
          }
        },
        {
          "output_type": "stream",
          "text": [
            "\n"
          ],
          "name": "stdout"
        },
        {
          "output_type": "display_data",
          "data": {
            "application/vnd.jupyter.widget-view+json": {
              "model_id": "0d8b8b9678d54209bf4a391983a6e067",
              "version_major": 2,
              "version_minor": 0
            },
            "text/plain": [
              "HBox(children=(HTML(value='Running Epoch 5 of 10'), FloatProgress(value=0.0, max=25.0), HTML(value='')))"
            ]
          },
          "metadata": {
            "tags": []
          }
        },
        {
          "output_type": "stream",
          "text": [
            "\n"
          ],
          "name": "stdout"
        },
        {
          "output_type": "display_data",
          "data": {
            "application/vnd.jupyter.widget-view+json": {
              "model_id": "5dd92739d80b4446b5ed909f89d20a1c",
              "version_major": 2,
              "version_minor": 0
            },
            "text/plain": [
              "HBox(children=(HTML(value='Running Epoch 6 of 10'), FloatProgress(value=0.0, max=25.0), HTML(value='')))"
            ]
          },
          "metadata": {
            "tags": []
          }
        },
        {
          "output_type": "stream",
          "text": [
            "\n"
          ],
          "name": "stdout"
        },
        {
          "output_type": "display_data",
          "data": {
            "application/vnd.jupyter.widget-view+json": {
              "model_id": "aa25f263a1ef4374a5587b1a81a843b5",
              "version_major": 2,
              "version_minor": 0
            },
            "text/plain": [
              "HBox(children=(HTML(value='Running Epoch 7 of 10'), FloatProgress(value=0.0, max=25.0), HTML(value='')))"
            ]
          },
          "metadata": {
            "tags": []
          }
        },
        {
          "output_type": "stream",
          "text": [
            "\n"
          ],
          "name": "stdout"
        },
        {
          "output_type": "display_data",
          "data": {
            "application/vnd.jupyter.widget-view+json": {
              "model_id": "9c829d67475b4c199d4a4b0707783c72",
              "version_major": 2,
              "version_minor": 0
            },
            "text/plain": [
              "HBox(children=(HTML(value='Running Epoch 8 of 10'), FloatProgress(value=0.0, max=25.0), HTML(value='')))"
            ]
          },
          "metadata": {
            "tags": []
          }
        },
        {
          "output_type": "stream",
          "text": [
            "\n"
          ],
          "name": "stdout"
        },
        {
          "output_type": "display_data",
          "data": {
            "application/vnd.jupyter.widget-view+json": {
              "model_id": "d57a3187cbd44e05b6a6056402bfb3e1",
              "version_major": 2,
              "version_minor": 0
            },
            "text/plain": [
              "HBox(children=(HTML(value='Running Epoch 9 of 10'), FloatProgress(value=0.0, max=25.0), HTML(value='')))"
            ]
          },
          "metadata": {
            "tags": []
          }
        },
        {
          "output_type": "stream",
          "text": [
            "\n",
            "\n"
          ],
          "name": "stdout"
        },
        {
          "output_type": "execute_result",
          "data": {
            "text/plain": [
              "(250, 1.1944765127301216)"
            ]
          },
          "metadata": {
            "tags": []
          },
          "execution_count": 45
        }
      ]
    },
    {
      "cell_type": "code",
      "metadata": {
        "colab": {
          "referenced_widgets": [
            "190f437f26b544c9903ebff76255269e",
            "fda78737e37b4ee0ba3408a923ddb29c"
          ]
        },
        "id": "MjrjAX-36FuO",
        "outputId": "47ba4db6-26d1-47ca-b48a-074ba749772b"
      },
      "source": [
        "from sklearn.metrics import accuracy_score\n",
        "\n",
        "# Evaluation 1: Repeater model to repeater test set\n",
        "\n",
        "result1, model_outputs1, wrong_predictions1 = model_repeater.eval_model(test_repeater, acc=accuracy_score)\n",
        "result1"
      ],
      "execution_count": null,
      "outputs": [
        {
          "output_type": "display_data",
          "data": {
            "application/vnd.jupyter.widget-view+json": {
              "model_id": "190f437f26b544c9903ebff76255269e",
              "version_major": 2,
              "version_minor": 0
            },
            "text/plain": [
              "HBox(children=(HTML(value=''), FloatProgress(value=0.0, max=87.0), HTML(value='')))"
            ]
          },
          "metadata": {
            "tags": []
          }
        },
        {
          "output_type": "stream",
          "text": [
            "\n"
          ],
          "name": "stdout"
        },
        {
          "output_type": "display_data",
          "data": {
            "application/vnd.jupyter.widget-view+json": {
              "model_id": "fda78737e37b4ee0ba3408a923ddb29c",
              "version_major": 2,
              "version_minor": 0
            },
            "text/plain": [
              "HBox(children=(HTML(value='Running Evaluation'), FloatProgress(value=0.0, max=11.0), HTML(value='')))"
            ]
          },
          "metadata": {
            "tags": []
          }
        },
        {
          "output_type": "stream",
          "text": [
            "\n"
          ],
          "name": "stdout"
        },
        {
          "output_type": "execute_result",
          "data": {
            "text/plain": [
              "{'mcc': 0.33882465271622886,\n",
              " 'acc': 0.6091954022988506,\n",
              " 'eval_loss': 1.5737623518163508}"
            ]
          },
          "metadata": {
            "tags": []
          },
          "execution_count": 46
        }
      ]
    },
    {
      "cell_type": "code",
      "metadata": {
        "id": "B5eZobxw6FuO",
        "outputId": "70adcfcf-bb6f-46de-e6d1-e98cd6c6c455"
      },
      "source": [
        "model_nonrepeater = ClassificationModel('roberta', 'roberta-base', num_labels=13, use_cuda=True, \n",
        "                             args={\"output_dir\": \"outputs2/\", \"cache_dir\": \"cache_dir2/\", \"overwrite_output_dir\": True, \"reprocess_input_data\": True , \"num_train_epochs\": 10})"
      ],
      "execution_count": null,
      "outputs": [
        {
          "output_type": "stream",
          "text": [
            "Some weights of the model checkpoint at roberta-base were not used when initializing RobertaForSequenceClassification: ['lm_head.bias', 'lm_head.dense.weight', 'lm_head.dense.bias', 'lm_head.layer_norm.weight', 'lm_head.layer_norm.bias', 'lm_head.decoder.weight']\n",
            "- This IS expected if you are initializing RobertaForSequenceClassification from the checkpoint of a model trained on another task or with another architecture (e.g. initializing a BertForSequenceClassification model from a BertForPreTraining model).\n",
            "- This IS NOT expected if you are initializing RobertaForSequenceClassification from the checkpoint of a model that you expect to be exactly identical (initializing a BertForSequenceClassification model from a BertForSequenceClassification model).\n",
            "Some weights of RobertaForSequenceClassification were not initialized from the model checkpoint at roberta-base and are newly initialized: ['classifier.dense.weight', 'classifier.dense.bias', 'classifier.out_proj.weight', 'classifier.out_proj.bias']\n",
            "You should probably TRAIN this model on a down-stream task to be able to use it for predictions and inference.\n"
          ],
          "name": "stderr"
        }
      ]
    },
    {
      "cell_type": "code",
      "metadata": {
        "colab": {
          "referenced_widgets": [
            "c13d00a24a1f4fb4aa4196df6e083fd5",
            "e21946d7133d4b99a2200cb73257fb4e",
            "155552e8dda34768b0c797021450b6a3",
            "c3939c51b2d04b089c7fbb1be22ecd9d",
            "06a747aaf51147a391b5ef7610518874",
            "06610556c00d485e96f65b2500fce034",
            "084b3913f4d549aa82c24902b811bb3f",
            "244aef2baa4d4206938390a448cabcea",
            "5a5df7d4ccbd44ccb410270d13781e3a",
            "cb2c236059dc45068ba24d019ac18472",
            "98f75706d4744e18900464d3575201ed",
            "82941d26b9c24d3b81e7a2f8a79f23a5"
          ]
        },
        "id": "tfS75IVf6FuO",
        "outputId": "644e29a0-fb58-499f-c0f6-281b94e0ec67"
      },
      "source": [
        "# Train non-repeater model\n",
        "\n",
        "model_nonrepeater.train_model(train_nonrepeater)"
      ],
      "execution_count": null,
      "outputs": [
        {
          "output_type": "display_data",
          "data": {
            "application/vnd.jupyter.widget-view+json": {
              "model_id": "c13d00a24a1f4fb4aa4196df6e083fd5",
              "version_major": 2,
              "version_minor": 0
            },
            "text/plain": [
              "HBox(children=(HTML(value=''), FloatProgress(value=0.0, max=564.0), HTML(value='')))"
            ]
          },
          "metadata": {
            "tags": []
          }
        },
        {
          "output_type": "stream",
          "text": [
            "\n"
          ],
          "name": "stdout"
        },
        {
          "output_type": "display_data",
          "data": {
            "application/vnd.jupyter.widget-view+json": {
              "model_id": "e21946d7133d4b99a2200cb73257fb4e",
              "version_major": 2,
              "version_minor": 0
            },
            "text/plain": [
              "HBox(children=(HTML(value='Epoch'), FloatProgress(value=0.0, max=10.0), HTML(value='')))"
            ]
          },
          "metadata": {
            "tags": []
          }
        },
        {
          "output_type": "display_data",
          "data": {
            "application/vnd.jupyter.widget-view+json": {
              "model_id": "155552e8dda34768b0c797021450b6a3",
              "version_major": 2,
              "version_minor": 0
            },
            "text/plain": [
              "HBox(children=(HTML(value='Running Epoch 0 of 10'), FloatProgress(value=0.0, max=71.0), HTML(value='')))"
            ]
          },
          "metadata": {
            "tags": []
          }
        },
        {
          "output_type": "stream",
          "text": [
            "\n"
          ],
          "name": "stdout"
        },
        {
          "output_type": "display_data",
          "data": {
            "application/vnd.jupyter.widget-view+json": {
              "model_id": "c3939c51b2d04b089c7fbb1be22ecd9d",
              "version_major": 2,
              "version_minor": 0
            },
            "text/plain": [
              "HBox(children=(HTML(value='Running Epoch 1 of 10'), FloatProgress(value=0.0, max=71.0), HTML(value='')))"
            ]
          },
          "metadata": {
            "tags": []
          }
        },
        {
          "output_type": "stream",
          "text": [
            "\n"
          ],
          "name": "stdout"
        },
        {
          "output_type": "display_data",
          "data": {
            "application/vnd.jupyter.widget-view+json": {
              "model_id": "06a747aaf51147a391b5ef7610518874",
              "version_major": 2,
              "version_minor": 0
            },
            "text/plain": [
              "HBox(children=(HTML(value='Running Epoch 2 of 10'), FloatProgress(value=0.0, max=71.0), HTML(value='')))"
            ]
          },
          "metadata": {
            "tags": []
          }
        },
        {
          "output_type": "stream",
          "text": [
            "\n"
          ],
          "name": "stdout"
        },
        {
          "output_type": "display_data",
          "data": {
            "application/vnd.jupyter.widget-view+json": {
              "model_id": "06610556c00d485e96f65b2500fce034",
              "version_major": 2,
              "version_minor": 0
            },
            "text/plain": [
              "HBox(children=(HTML(value='Running Epoch 3 of 10'), FloatProgress(value=0.0, max=71.0), HTML(value='')))"
            ]
          },
          "metadata": {
            "tags": []
          }
        },
        {
          "output_type": "stream",
          "text": [
            "\n"
          ],
          "name": "stdout"
        },
        {
          "output_type": "display_data",
          "data": {
            "application/vnd.jupyter.widget-view+json": {
              "model_id": "084b3913f4d549aa82c24902b811bb3f",
              "version_major": 2,
              "version_minor": 0
            },
            "text/plain": [
              "HBox(children=(HTML(value='Running Epoch 4 of 10'), FloatProgress(value=0.0, max=71.0), HTML(value='')))"
            ]
          },
          "metadata": {
            "tags": []
          }
        },
        {
          "output_type": "stream",
          "text": [
            "\n"
          ],
          "name": "stdout"
        },
        {
          "output_type": "display_data",
          "data": {
            "application/vnd.jupyter.widget-view+json": {
              "model_id": "244aef2baa4d4206938390a448cabcea",
              "version_major": 2,
              "version_minor": 0
            },
            "text/plain": [
              "HBox(children=(HTML(value='Running Epoch 5 of 10'), FloatProgress(value=0.0, max=71.0), HTML(value='')))"
            ]
          },
          "metadata": {
            "tags": []
          }
        },
        {
          "output_type": "stream",
          "text": [
            "\n"
          ],
          "name": "stdout"
        },
        {
          "output_type": "display_data",
          "data": {
            "application/vnd.jupyter.widget-view+json": {
              "model_id": "5a5df7d4ccbd44ccb410270d13781e3a",
              "version_major": 2,
              "version_minor": 0
            },
            "text/plain": [
              "HBox(children=(HTML(value='Running Epoch 6 of 10'), FloatProgress(value=0.0, max=71.0), HTML(value='')))"
            ]
          },
          "metadata": {
            "tags": []
          }
        },
        {
          "output_type": "stream",
          "text": [
            "\n"
          ],
          "name": "stdout"
        },
        {
          "output_type": "display_data",
          "data": {
            "application/vnd.jupyter.widget-view+json": {
              "model_id": "cb2c236059dc45068ba24d019ac18472",
              "version_major": 2,
              "version_minor": 0
            },
            "text/plain": [
              "HBox(children=(HTML(value='Running Epoch 7 of 10'), FloatProgress(value=0.0, max=71.0), HTML(value='')))"
            ]
          },
          "metadata": {
            "tags": []
          }
        },
        {
          "output_type": "stream",
          "text": [
            "\n"
          ],
          "name": "stdout"
        },
        {
          "output_type": "display_data",
          "data": {
            "application/vnd.jupyter.widget-view+json": {
              "model_id": "98f75706d4744e18900464d3575201ed",
              "version_major": 2,
              "version_minor": 0
            },
            "text/plain": [
              "HBox(children=(HTML(value='Running Epoch 8 of 10'), FloatProgress(value=0.0, max=71.0), HTML(value='')))"
            ]
          },
          "metadata": {
            "tags": []
          }
        },
        {
          "output_type": "stream",
          "text": [
            "\n"
          ],
          "name": "stdout"
        },
        {
          "output_type": "display_data",
          "data": {
            "application/vnd.jupyter.widget-view+json": {
              "model_id": "82941d26b9c24d3b81e7a2f8a79f23a5",
              "version_major": 2,
              "version_minor": 0
            },
            "text/plain": [
              "HBox(children=(HTML(value='Running Epoch 9 of 10'), FloatProgress(value=0.0, max=71.0), HTML(value='')))"
            ]
          },
          "metadata": {
            "tags": []
          }
        },
        {
          "output_type": "stream",
          "text": [
            "\n",
            "\n"
          ],
          "name": "stdout"
        },
        {
          "output_type": "execute_result",
          "data": {
            "text/plain": [
              "(710, 0.8297318015090177)"
            ]
          },
          "metadata": {
            "tags": []
          },
          "execution_count": 48
        }
      ]
    },
    {
      "cell_type": "code",
      "metadata": {
        "colab": {
          "referenced_widgets": [
            "c7ac494a8ee94da6bbc1f2c555aafd70",
            "dd7dea2dc6ce43b199cc32dcf6df4f53"
          ]
        },
        "id": "rjCm1_h16FuP",
        "outputId": "079b6d8f-b689-4654-f129-cc796a6861e6"
      },
      "source": [
        "# Evaluation 2: Non-repeater model to non-repeater test set\n",
        "\n",
        "result2, model_outputs2, wrong_predictions2 = model_nonrepeater.eval_model(test_nonrepeater, acc=accuracy_score)\n",
        "result2"
      ],
      "execution_count": null,
      "outputs": [
        {
          "output_type": "display_data",
          "data": {
            "application/vnd.jupyter.widget-view+json": {
              "model_id": "c7ac494a8ee94da6bbc1f2c555aafd70",
              "version_major": 2,
              "version_minor": 0
            },
            "text/plain": [
              "HBox(children=(HTML(value=''), FloatProgress(value=0.0, max=243.0), HTML(value='')))"
            ]
          },
          "metadata": {
            "tags": []
          }
        },
        {
          "output_type": "stream",
          "text": [
            "\n"
          ],
          "name": "stdout"
        },
        {
          "output_type": "display_data",
          "data": {
            "application/vnd.jupyter.widget-view+json": {
              "model_id": "dd7dea2dc6ce43b199cc32dcf6df4f53",
              "version_major": 2,
              "version_minor": 0
            },
            "text/plain": [
              "HBox(children=(HTML(value='Running Evaluation'), FloatProgress(value=0.0, max=31.0), HTML(value='')))"
            ]
          },
          "metadata": {
            "tags": []
          }
        },
        {
          "output_type": "stream",
          "text": [
            "\n"
          ],
          "name": "stdout"
        },
        {
          "output_type": "execute_result",
          "data": {
            "text/plain": [
              "{'mcc': 0.3731377002100674,\n",
              " 'acc': 0.6090534979423868,\n",
              " 'eval_loss': 2.0335912887127168}"
            ]
          },
          "metadata": {
            "tags": []
          },
          "execution_count": 49
        }
      ]
    },
    {
      "cell_type": "code",
      "metadata": {
        "colab": {
          "referenced_widgets": [
            "ea5c898d66c747cfa07c769147708731",
            "29e6268c1bcb4f4c90365785e97f545a"
          ]
        },
        "id": "QJmRXpNZ6FuP",
        "outputId": "3310eb46-2507-422a-98eb-67be1f376a2a"
      },
      "source": [
        "# Evaluation 3: repeater model to non-repeater test set\n",
        "\n",
        "result3, model_outputs3, wrong_predictions3 = model_repeater.eval_model(test_nonrepeater, acc=accuracy_score)\n",
        "result3"
      ],
      "execution_count": null,
      "outputs": [
        {
          "output_type": "display_data",
          "data": {
            "application/vnd.jupyter.widget-view+json": {
              "model_id": "ea5c898d66c747cfa07c769147708731",
              "version_major": 2,
              "version_minor": 0
            },
            "text/plain": [
              "HBox(children=(HTML(value=''), FloatProgress(value=0.0, max=243.0), HTML(value='')))"
            ]
          },
          "metadata": {
            "tags": []
          }
        },
        {
          "output_type": "stream",
          "text": [
            "\n"
          ],
          "name": "stdout"
        },
        {
          "output_type": "display_data",
          "data": {
            "application/vnd.jupyter.widget-view+json": {
              "model_id": "29e6268c1bcb4f4c90365785e97f545a",
              "version_major": 2,
              "version_minor": 0
            },
            "text/plain": [
              "HBox(children=(HTML(value='Running Evaluation'), FloatProgress(value=0.0, max=31.0), HTML(value='')))"
            ]
          },
          "metadata": {
            "tags": []
          }
        },
        {
          "output_type": "stream",
          "text": [
            "\n"
          ],
          "name": "stdout"
        },
        {
          "output_type": "execute_result",
          "data": {
            "text/plain": [
              "{'mcc': 0.3457694042133656,\n",
              " 'acc': 0.6213991769547325,\n",
              " 'eval_loss': 1.3691805226187552}"
            ]
          },
          "metadata": {
            "tags": []
          },
          "execution_count": 51
        }
      ]
    },
    {
      "cell_type": "code",
      "metadata": {
        "colab": {
          "referenced_widgets": [
            "5bc1dc52b6b048bc9aa886979e3d6b3a",
            "f6b7dc3624a1418f93933e0ffb8c1738"
          ]
        },
        "id": "XlNqTbcY6FuP",
        "outputId": "5d8ace87-7664-48b5-a1d5-d25675c6698e"
      },
      "source": [
        "# Evaluation 4: Non-repeater model to repeater test set\n",
        "\n",
        "result4, model_outputs4, wrong_predictions4 = model_nonrepeater.eval_model(test_repeater, acc=accuracy_score)\n",
        "result4"
      ],
      "execution_count": null,
      "outputs": [
        {
          "output_type": "display_data",
          "data": {
            "application/vnd.jupyter.widget-view+json": {
              "model_id": "5bc1dc52b6b048bc9aa886979e3d6b3a",
              "version_major": 2,
              "version_minor": 0
            },
            "text/plain": [
              "HBox(children=(HTML(value=''), FloatProgress(value=0.0, max=87.0), HTML(value='')))"
            ]
          },
          "metadata": {
            "tags": []
          }
        },
        {
          "output_type": "stream",
          "text": [
            "\n"
          ],
          "name": "stdout"
        },
        {
          "output_type": "display_data",
          "data": {
            "application/vnd.jupyter.widget-view+json": {
              "model_id": "f6b7dc3624a1418f93933e0ffb8c1738",
              "version_major": 2,
              "version_minor": 0
            },
            "text/plain": [
              "HBox(children=(HTML(value='Running Evaluation'), FloatProgress(value=0.0, max=11.0), HTML(value='')))"
            ]
          },
          "metadata": {
            "tags": []
          }
        },
        {
          "output_type": "stream",
          "text": [
            "\n"
          ],
          "name": "stdout"
        },
        {
          "output_type": "execute_result",
          "data": {
            "text/plain": [
              "{'mcc': 0.5619203575826386,\n",
              " 'acc': 0.7126436781609196,\n",
              " 'eval_loss': 1.329009796069427}"
            ]
          },
          "metadata": {
            "tags": []
          },
          "execution_count": 52
        }
      ]
    },
    {
      "cell_type": "code",
      "metadata": {
        "id": "1eLbWJWy6FuP"
      },
      "source": [
        ""
      ],
      "execution_count": null,
      "outputs": []
    }
  ]
}