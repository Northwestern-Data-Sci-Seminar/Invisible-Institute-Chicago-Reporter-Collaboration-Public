{
  "nbformat": 4,
  "nbformat_minor": 0,
  "metadata": {
    "colab": {
      "name": "NLP CP 5 SCP",
      "provenance": [],
      "collapsed_sections": []
    },
    "kernelspec": {
      "name": "python3",
      "display_name": "Python 3"
    }
  },
  "cells": [
    {
      "cell_type": "markdown",
      "metadata": {
        "id": "yysAh7wmO4WP"
      },
      "source": [
        "**Import dependencies**"
      ]
    },
    {
      "cell_type": "code",
      "metadata": {
        "id": "G9l0ItCk8Lny"
      },
      "source": [
        "import numpy as np\n",
        "import pandas as pd\n",
        "import re\n",
        "\n",
        "import fasttext\n",
        "import fasttext.util\n",
        "\n",
        "from sklearn.model_selection import train_test_split\n",
        "from sklearn.preprocessing import LabelEncoder\n",
        "from sklearn.metrics import classification_report"
      ],
      "execution_count": 104,
      "outputs": []
    },
    {
      "cell_type": "markdown",
      "metadata": {
        "id": "RHGmnDRVOog2"
      },
      "source": [
        "**The next 3 cells install fasttext, download english pre-trained vectors, and unzip them. we use these pretrained vectors later**"
      ]
    },
    {
      "cell_type": "code",
      "metadata": {
        "colab": {
          "base_uri": "https://localhost:8080/"
        },
        "id": "zQNFefDgGBFw",
        "outputId": "a83fdf5a-e888-4517-ff33-320dd6f25232"
      },
      "source": [
        "!pip install fasttext"
      ],
      "execution_count": 105,
      "outputs": [
        {
          "output_type": "stream",
          "text": [
            "Requirement already satisfied: fasttext in /usr/local/lib/python3.6/dist-packages (0.9.2)\n",
            "Requirement already satisfied: numpy in /usr/local/lib/python3.6/dist-packages (from fasttext) (1.18.5)\n",
            "Requirement already satisfied: setuptools>=0.7.0 in /usr/local/lib/python3.6/dist-packages (from fasttext) (50.3.2)\n",
            "Requirement already satisfied: pybind11>=2.2 in /usr/local/lib/python3.6/dist-packages (from fasttext) (2.6.1)\n"
          ],
          "name": "stdout"
        }
      ]
    },
    {
      "cell_type": "code",
      "metadata": {
        "id": "bZrKod8DMFuk"
      },
      "source": [
        "# we cant use pretrained fasttext word vectors without crashing the collab notebook\n",
        "\n",
        "# !wget https://dl.fbaipublicfiles.com/fasttext/vectors-crawl/cc.en.2.vec.gz\n",
        "# !wget https://dl.fbaipublicfiles.com/fasttext/vectors-crawl/cc.en.300.bin.gz\n",
        "\n",
        "# !gzip -d 'cc.en.300.vec.gz'\n",
        "# !gzip -d 'cc.en.300.bin.gz'"
      ],
      "execution_count": 106,
      "outputs": []
    },
    {
      "cell_type": "markdown",
      "metadata": {
        "id": "R-sdsShWO9VC"
      },
      "source": [
        "**Load data from the narratives csv and crid csv**\n",
        "\n",
        "crid_map is a dataframe that we use to map the cr_id in a narrative to its corresponding category"
      ]
    },
    {
      "cell_type": "code",
      "metadata": {
        "id": "McU5M3v68Z48"
      },
      "source": [
        "pd.set_option('display.max_columns', None)\n",
        "pd.set_option('display.expand_frame_repr', False)\n",
        "pd.set_option('max_colwidth', 999)\n",
        "narratives_url = 'https://raw.githubusercontent.com/invinst/documentAnalysis/master/data/input/narratives.csv'\n",
        "crid_map_url = 'https://gist.githubusercontent.com/simon-benigeri/42b708386d460a52d99c82a5cf891770/raw/d226a962b9978cacb3e9bde3aa16bdc12bb9a685/crid_categories.csv'\n",
        "narratives = pd.read_csv(narratives_url)\n",
        "crid_map = pd.read_csv(crid_map_url)"
      ],
      "execution_count": 107,
      "outputs": []
    },
    {
      "cell_type": "markdown",
      "metadata": {
        "id": "3Dq8cxaJQK0K"
      },
      "source": [
        "Here we create the dataframe narratives, where we have the cr_id, the column name, text, and category for each narrative"
      ]
    },
    {
      "cell_type": "code",
      "metadata": {
        "id": "wFKiw2qNaA6I",
        "colab": {
          "base_uri": "https://localhost:8080/",
          "height": 665
        },
        "outputId": "e7235f64-3b8d-4a09-ae8c-13a9a1f85dae"
      },
      "source": [
        "crid_dict = pd.Series(crid_map['category'].values, index=crid_map['crid']).to_dict()\n",
        "narratives['category'] = narratives['cr_id'].apply(lambda id: crid_dict[str(id)] if str(id) in crid_dict else None)\n",
        "narratives = narratives[narratives['category'].notnull()]\n",
        "narratives = narratives[['cr_id', 'column_name', 'text', 'category']]\n",
        "narratives.head(10)"
      ],
      "execution_count": 108,
      "outputs": [
        {
          "output_type": "execute_result",
          "data": {
            "text/html": [
              "<div>\n",
              "<style scoped>\n",
              "    .dataframe tbody tr th:only-of-type {\n",
              "        vertical-align: middle;\n",
              "    }\n",
              "\n",
              "    .dataframe tbody tr th {\n",
              "        vertical-align: top;\n",
              "    }\n",
              "\n",
              "    .dataframe thead th {\n",
              "        text-align: right;\n",
              "    }\n",
              "</style>\n",
              "<table border=\"1\" class=\"dataframe\">\n",
              "  <thead>\n",
              "    <tr style=\"text-align: right;\">\n",
              "      <th></th>\n",
              "      <th>cr_id</th>\n",
              "      <th>column_name</th>\n",
              "      <th>text</th>\n",
              "      <th>category</th>\n",
              "    </tr>\n",
              "  </thead>\n",
              "  <tbody>\n",
              "    <tr>\n",
              "      <th>0</th>\n",
              "      <td>1050727</td>\n",
              "      <td>Initial / Intake Allegation</td>\n",
              "      <td>It is alleged that the accused officer failed to\\nsecure his weapon, police |.D., FOID card\\nand vest, which were placed inside his\\npersonal vehicle that was then stolen at the\\nabove location.</td>\n",
              "      <td>Conduct Unbecoming (Off-Duty)</td>\n",
              "    </tr>\n",
              "    <tr>\n",
              "      <th>1</th>\n",
              "      <td>1050727</td>\n",
              "      <td>Finding</td>\n",
              "      <td>(None Entered)</td>\n",
              "      <td>Conduct Unbecoming (Off-Duty)</td>\n",
              "    </tr>\n",
              "    <tr>\n",
              "      <th>2</th>\n",
              "      <td>1050727</td>\n",
              "      <td>Allegation</td>\n",
              "      <td>It is alleged by the complainant Sergeant Victoria STANEK #2012\\nAssigned to the 008th District , that the ACCUSED, (Off-Duty) Police\\nOfficer Ramsey WILLIAMS #9050, Assigned to Unit 012, on 16 December\\n2011, in the vicinity of Hayes Park located at 2936 W 85th St, between\\n1345-135Shours, failed to properly secure his weapon, namely a Sturm\\nand Ruger Model MP15X, serial IMM, blue steel finish, 4.5\\ninch barrel, resulting in said weapon being reported stolen under RD\\n#HT634801</td>\n",
              "      <td>Conduct Unbecoming (Off-Duty)</td>\n",
              "    </tr>\n",
              "    <tr>\n",
              "      <th>3</th>\n",
              "      <td>1050727</td>\n",
              "      <td>Initial / Intake Allegation</td>\n",
              "      <td>It is alleged that the accused officer failed to\\nsecure his weapon, police |.D., FOID card\\nand vest, which were placed inside his\\npersonal vehicle that was then stolen at the\\nabove location.</td>\n",
              "      <td>Conduct Unbecoming (Off-Duty)</td>\n",
              "    </tr>\n",
              "    <tr>\n",
              "      <th>10</th>\n",
              "      <td>1050956</td>\n",
              "      <td>Initial / Intake Allegation</td>\n",
              "      <td>The reporting party alleges that the accused\\nofficer, her child's father, filed a false case\\nreport against her regarding child visitation.\\nRD# HT:</td>\n",
              "      <td>Conduct Unbecoming (Off-Duty)</td>\n",
              "    </tr>\n",
              "    <tr>\n",
              "      <th>11</th>\n",
              "      <td>1050956</td>\n",
              "      <td>Finding</td>\n",
              "      <td>(None Entered)</td>\n",
              "      <td>Conduct Unbecoming (Off-Duty)</td>\n",
              "    </tr>\n",
              "    <tr>\n",
              "      <th>12</th>\n",
              "      <td>1050956</td>\n",
              "      <td>Allegation</td>\n",
              "      <td>\\nP.O. Christine TAYLOR alleges that on 29 DEC 11 between 0845 hours\\nand 1120 hours at ., the accused Department member\\nfiled a false case report against her regarding child visitation.</td>\n",
              "      <td>Conduct Unbecoming (Off-Duty)</td>\n",
              "    </tr>\n",
              "    <tr>\n",
              "      <th>13</th>\n",
              "      <td>1050956</td>\n",
              "      <td>Initial / Intake Allegation</td>\n",
              "      <td>The reporting party alleges that the accused\\nofficer, her child's father, filed a false case\\nreport against her regarding child visitation.\\nRD#</td>\n",
              "      <td>Conduct Unbecoming (Off-Duty)</td>\n",
              "    </tr>\n",
              "    <tr>\n",
              "      <th>20</th>\n",
              "      <td>1051290</td>\n",
              "      <td>Initial / Intake Allegation</td>\n",
              "      <td>The plaintiff alleges that the accused, during\\na traffic stop, violently without provocation\\npushed him to the ground while he was.\\nhandcuffed. The plaintiff sustained a\\nlaceration to his right eye and lost\\nconsciousness.</td>\n",
              "      <td>Use Of Force</td>\n",
              "    </tr>\n",
              "    <tr>\n",
              "      <th>21</th>\n",
              "      <td>1051290</td>\n",
              "      <td>Finding</td>\n",
              "      <td>NO AFFIDAVIT</td>\n",
              "      <td>Use Of Force</td>\n",
              "    </tr>\n",
              "  </tbody>\n",
              "</table>\n",
              "</div>"
            ],
            "text/plain": [
              "      cr_id                  column_name                                                                                                                                                                                                                                                                                                                                                                                                                                                                                                  text                       category\n",
              "0   1050727  Initial / Intake Allegation                                                                                                                                                                                                                                                                                                    It is alleged that the accused officer failed to\\nsecure his weapon, police |.D., FOID card\\nand vest, which were placed inside his\\npersonal vehicle that was then stolen at the\\nabove location.  Conduct Unbecoming (Off-Duty)\n",
              "1   1050727                      Finding                                                                                                                                                                                                                                                                                                                                                                                                                                                                                        (None Entered)  Conduct Unbecoming (Off-Duty)\n",
              "2   1050727                   Allegation  It is alleged by the complainant Sergeant Victoria STANEK #2012\\nAssigned to the 008th District , that the ACCUSED, (Off-Duty) Police\\nOfficer Ramsey WILLIAMS #9050, Assigned to Unit 012, on 16 December\\n2011, in the vicinity of Hayes Park located at 2936 W 85th St, between\\n1345-135Shours, failed to properly secure his weapon, namely a Sturm\\nand Ruger Model MP15X, serial IMM, blue steel finish, 4.5\\ninch barrel, resulting in said weapon being reported stolen under RD\\n#HT634801  Conduct Unbecoming (Off-Duty)\n",
              "3   1050727  Initial / Intake Allegation                                                                                                                                                                                                                                                                                                    It is alleged that the accused officer failed to\\nsecure his weapon, police |.D., FOID card\\nand vest, which were placed inside his\\npersonal vehicle that was then stolen at the\\nabove location.  Conduct Unbecoming (Off-Duty)\n",
              "10  1050956  Initial / Intake Allegation                                                                                                                                                                                                                                                                                                                                                The reporting party alleges that the accused\\nofficer, her child's father, filed a false case\\nreport against her regarding child visitation.\\nRD# HT:  Conduct Unbecoming (Off-Duty)\n",
              "11  1050956                      Finding                                                                                                                                                                                                                                                                                                                                                                                                                                                                                        (None Entered)  Conduct Unbecoming (Off-Duty)\n",
              "12  1050956                   Allegation                                                                                                                                                                                                                                                                                                           \\nP.O. Christine TAYLOR alleges that on 29 DEC 11 between 0845 hours\\nand 1120 hours at ., the accused Department member\\nfiled a false case report against her regarding child visitation.  Conduct Unbecoming (Off-Duty)\n",
              "13  1050956  Initial / Intake Allegation                                                                                                                                                                                                                                                                                                                                                    The reporting party alleges that the accused\\nofficer, her child's father, filed a false case\\nreport against her regarding child visitation.\\nRD#  Conduct Unbecoming (Off-Duty)\n",
              "20  1051290  Initial / Intake Allegation                                                                                                                                                                                                                                                                    The plaintiff alleges that the accused, during\\na traffic stop, violently without provocation\\npushed him to the ground while he was.\\nhandcuffed. The plaintiff sustained a\\nlaceration to his right eye and lost\\nconsciousness.                   Use Of Force\n",
              "21  1051290                      Finding                                                                                                                                                                                                                                                                                                                                                                                                                                                                                          NO AFFIDAVIT                   Use Of Force"
            ]
          },
          "metadata": {
            "tags": []
          },
          "execution_count": 108
        }
      ]
    },
    {
      "cell_type": "markdown",
      "metadata": {
        "id": "Fg89POopXtoG"
      },
      "source": [
        "**Not all rows seem to be useful.** \n",
        "Let's look into column_name and the corresponding text values"
      ]
    },
    {
      "cell_type": "code",
      "metadata": {
        "colab": {
          "base_uri": "https://localhost:8080/"
        },
        "id": "k8svP8eSUykW",
        "outputId": "c20cd5fe-3c82-463b-d20c-1d367250ee3e"
      },
      "source": [
        "# create new df from the narratives\n",
        "print(f\"column name values are : {narratives['column_name'].unique()}\")\n",
        "print(f\"text values for column name == Finding are : {narratives[narratives['column_name'] == 'Finding']['text'].unique()}\")"
      ],
      "execution_count": 109,
      "outputs": [
        {
          "output_type": "stream",
          "text": [
            "column name values are : ['Initial / Intake Allegation' 'Finding' 'Allegation']\n",
            "text values for column name == Finding are : ['(None Entered)' 'NO AFFIDAVIT' 'SUSTAINED' 'UNFOUNDED' 'NOT SUSTAINED'\n",
            " 'EXONERATED' '(None\\nEntered)' 'SuU\\nSTAINED' 'NON-CPD']\n"
          ],
          "name": "stdout"
        }
      ]
    },
    {
      "cell_type": "markdown",
      "metadata": {
        "id": "aExFgOkVYCFE"
      },
      "source": [
        "**We can remove column_name == 'Finding' from the df. The information there is irrelevant to the text classification problem**"
      ]
    },
    {
      "cell_type": "code",
      "metadata": {
        "id": "E6OrNrnWWmK8"
      },
      "source": [
        "narratives = narratives[narratives['column_name'] != 'Finding']"
      ],
      "execution_count": 110,
      "outputs": []
    },
    {
      "cell_type": "markdown",
      "metadata": {
        "id": "M7z6PLITnmhn"
      },
      "source": [
        "**CREATE 2 DATASETS: allegations and intakes**\n",
        "\n",
        "Given a crid, rows are not duplicates, but very similar. We selected the first instance of each group when grouping by crid to avoid having text samples that are almost the same"
      ]
    },
    {
      "cell_type": "code",
      "metadata": {
        "id": "b90r14lb2QUR"
      },
      "source": [
        "intakes = narratives[narratives['column_name'] == 'Initial / Intake Allegation'].drop(columns=['column_name'])\n",
        "allegations = narratives[narratives['column_name'] == 'Allegation'].drop(columns=['column_name'])"
      ],
      "execution_count": 111,
      "outputs": []
    },
    {
      "cell_type": "code",
      "metadata": {
        "id": "wfW2Q6hq2Wu9"
      },
      "source": [
        "intakes = intakes.groupby(['cr_id'], as_index=False).agg('first').drop_duplicates()\n",
        "allegations = allegations.groupby(['cr_id'], as_index=False).agg('first').drop_duplicates()"
      ],
      "execution_count": 112,
      "outputs": []
    },
    {
      "cell_type": "markdown",
      "metadata": {
        "id": "eSML83PLWVD9"
      },
      "source": [
        "Here we clean the text"
      ]
    },
    {
      "cell_type": "code",
      "metadata": {
        "id": "e9ZOc_jyvq6M"
      },
      "source": [
        "def clean(s):\n",
        "  # re.sub(r'[^\\w\\s]', '', re.sub(r'\\n', ' ', s).lower())\n",
        "  return re.sub(r'\\s+', ' ', s, flags=re.UNICODE).lower()"
      ],
      "execution_count": 113,
      "outputs": []
    },
    {
      "cell_type": "code",
      "metadata": {
        "id": "e2dPOhyr3E-t"
      },
      "source": [
        "intakes['text'] = intakes['text'].apply(clean)\n",
        "allegations['text'] = allegations['text'].apply(clean)"
      ],
      "execution_count": 114,
      "outputs": []
    },
    {
      "cell_type": "code",
      "metadata": {
        "colab": {
          "base_uri": "https://localhost:8080/",
          "height": 272
        },
        "id": "W_DDwzAlw-jS",
        "outputId": "7ff1cfed-903a-4509-8481-08a97f849cb0"
      },
      "source": [
        "intakes.head()"
      ],
      "execution_count": 115,
      "outputs": [
        {
          "output_type": "execute_result",
          "data": {
            "text/html": [
              "<div>\n",
              "<style scoped>\n",
              "    .dataframe tbody tr th:only-of-type {\n",
              "        vertical-align: middle;\n",
              "    }\n",
              "\n",
              "    .dataframe tbody tr th {\n",
              "        vertical-align: top;\n",
              "    }\n",
              "\n",
              "    .dataframe thead th {\n",
              "        text-align: right;\n",
              "    }\n",
              "</style>\n",
              "<table border=\"1\" class=\"dataframe\">\n",
              "  <thead>\n",
              "    <tr style=\"text-align: right;\">\n",
              "      <th></th>\n",
              "      <th>cr_id</th>\n",
              "      <th>text</th>\n",
              "      <th>category</th>\n",
              "    </tr>\n",
              "  </thead>\n",
              "  <tbody>\n",
              "    <tr>\n",
              "      <th>0</th>\n",
              "      <td>1048962</td>\n",
              "      <td>the victim alleges that an unknown male black off-duty officer threw her against the wall after she did not adhere to his command to get up. the victim alleges that the officer pushed her face against the wall and handcuffed her too tightly.</td>\n",
              "      <td>Use Of Force</td>\n",
              "    </tr>\n",
              "    <tr>\n",
              "      <th>1</th>\n",
              "      <td>1048964</td>\n",
              "      <td>the reporting party alleges that he was a victim of a battery and when the police arrived they failed to file a report on his behalf instead, the officers gave him a ride to his friend's house.</td>\n",
              "      <td>Operation/Personnel Violations</td>\n",
              "    </tr>\n",
              "    <tr>\n",
              "      <th>2</th>\n",
              "      <td>1048966</td>\n",
              "      <td>the reporting party victim stated that she telephoned 311\" regarding recovery of her stolen vehicle. the victim alleged that the responding officer never took her vehicle off the hot spot sheet which caused her boyfriend to be stoppped, handcuffed and questioned regarding the vehicle being stolen. the victim further alleged that the same officer refused to provide his name and badge number upon request.</td>\n",
              "      <td>Operation/Personnel Violations</td>\n",
              "    </tr>\n",
              "    <tr>\n",
              "      <th>3</th>\n",
              "      <td>1048967</td>\n",
              "      <td>it is alleged that the accused was inattentive to duty in that she failed to properly secure her weapon. it is reported that the accused went into a fitting room at carson pirie scott and left her duty weapon in the fitting room the weapon was recovered by the hammond police department.</td>\n",
              "      <td>Operation/Personnel Violations</td>\n",
              "    </tr>\n",
              "    <tr>\n",
              "      <th>4</th>\n",
              "      <td>1048976</td>\n",
              "      <td>the complainant alleges that the accused failed to arrest the intoxicated driver that struck her vehicle with a dui.</td>\n",
              "      <td>Traffic</td>\n",
              "    </tr>\n",
              "  </tbody>\n",
              "</table>\n",
              "</div>"
            ],
            "text/plain": [
              "     cr_id                                                                                                                                                                                                                                                                                                                                                                                                                    text                        category\n",
              "0  1048962                                                                                                                                                                       the victim alleges that an unknown male black off-duty officer threw her against the wall after she did not adhere to his command to get up. the victim alleges that the officer pushed her face against the wall and handcuffed her too tightly.                    Use Of Force\n",
              "1  1048964                                                                                                                                                                                                                       the reporting party alleges that he was a victim of a battery and when the police arrived they failed to file a report on his behalf instead, the officers gave him a ride to his friend's house.  Operation/Personnel Violations\n",
              "2  1048966  the reporting party victim stated that she telephoned 311\" regarding recovery of her stolen vehicle. the victim alleged that the responding officer never took her vehicle off the hot spot sheet which caused her boyfriend to be stoppped, handcuffed and questioned regarding the vehicle being stolen. the victim further alleged that the same officer refused to provide his name and badge number upon request.  Operation/Personnel Violations\n",
              "3  1048967                                                                                                                         it is alleged that the accused was inattentive to duty in that she failed to properly secure her weapon. it is reported that the accused went into a fitting room at carson pirie scott and left her duty weapon in the fitting room the weapon was recovered by the hammond police department.  Operation/Personnel Violations\n",
              "4  1048976                                                                                                                                                                                                                                                                                                    the complainant alleges that the accused failed to arrest the intoxicated driver that struck her vehicle with a dui.                         Traffic"
            ]
          },
          "metadata": {
            "tags": []
          },
          "execution_count": 115
        }
      ]
    },
    {
      "cell_type": "code",
      "metadata": {
        "colab": {
          "base_uri": "https://localhost:8080/",
          "height": 272
        },
        "id": "PTwiXVwSxDqA",
        "outputId": "f915c8ff-4777-4078-870e-798a0ec3be4f"
      },
      "source": [
        "allegations.head()"
      ],
      "execution_count": 116,
      "outputs": [
        {
          "output_type": "execute_result",
          "data": {
            "text/html": [
              "<div>\n",
              "<style scoped>\n",
              "    .dataframe tbody tr th:only-of-type {\n",
              "        vertical-align: middle;\n",
              "    }\n",
              "\n",
              "    .dataframe tbody tr th {\n",
              "        vertical-align: top;\n",
              "    }\n",
              "\n",
              "    .dataframe thead th {\n",
              "        text-align: right;\n",
              "    }\n",
              "</style>\n",
              "<table border=\"1\" class=\"dataframe\">\n",
              "  <thead>\n",
              "    <tr style=\"text-align: right;\">\n",
              "      <th></th>\n",
              "      <th>cr_id</th>\n",
              "      <th>text</th>\n",
              "      <th>category</th>\n",
              "    </tr>\n",
              "  </thead>\n",
              "  <tbody>\n",
              "    <tr>\n",
              "      <th>0</th>\n",
              "      <td>1048962</td>\n",
              "      <td>itis alleged that the accused threw bushing her face againsta wall it is alleged that the accused threw n the floor. itis alleged that .~ ras handcuffed too tight. itis alleged that the accused dragged (- the stairs. itis alleged that the acoused grabbed [ lom behind her neck</td>\n",
              "      <td>Use Of Force</td>\n",
              "    </tr>\n",
              "    <tr>\n",
              "      <th>1</th>\n",
              "      <td>1048977</td>\n",
              "      <td>the reporting party / victim off duty p.o. 7027, alleged that on at 1210 hours,at he accused, after conducting a street stop on the victim, stated, \"go fuck yourself! dumb ass! your momma's a bitch!\"</td>\n",
              "      <td>Traffic</td>\n",
              "    </tr>\n",
              "    <tr>\n",
              "      <th>2</th>\n",
              "      <td>1048978</td>\n",
              "      <td>itis alleged that the accused pushed itis alleged that the accused said, “\"shut the fuck up!\"</td>\n",
              "      <td>Use Of Force</td>\n",
              "    </tr>\n",
              "    <tr>\n",
              "      <th>3</th>\n",
              "      <td>1048986</td>\n",
              "      <td>itis alleaed by the complainant that the accused, nicholas goggin irently on duty disability pension, was placed under arrest or lnving while intoxicated, failing to maintain right half of roadway and no proof of insurance on 02 oct 2011 at approximately 1752hrs in wappapello missouri by deputy david richman #3218 itis alleged by the complainant sgt. joseph stehlik #1945 of unit 121, that the accused failed to cooperate in the investigation of log#1048986 in violation of general order 08-01-02 a2</td>\n",
              "      <td>Drug / Alcohol Abuse</td>\n",
              "    </tr>\n",
              "    <tr>\n",
              "      <th>4</th>\n",
              "      <td>1048997</td>\n",
              "      <td>the complainant alleged that the accused grabbed her wrist and twisted her arms backwards.</td>\n",
              "      <td>Domestic</td>\n",
              "    </tr>\n",
              "  </tbody>\n",
              "</table>\n",
              "</div>"
            ],
            "text/plain": [
              "     cr_id                                                                                                                                                                                                                                                                                                                                                                                                                                                                                                                   text              category\n",
              "0  1048962                                                                                                                                                                                                                                   itis alleged that the accused threw bushing her face againsta wall it is alleged that the accused threw n the floor. itis alleged that .~ ras handcuffed too tight. itis alleged that the accused dragged (- the stairs. itis alleged that the acoused grabbed [ lom behind her neck          Use Of Force\n",
              "1  1048977                                                                                                                                                                                                                                                                                                                the reporting party / victim off duty p.o. 7027, alleged that on at 1210 hours,at he accused, after conducting a street stop on the victim, stated, \"go fuck yourself! dumb ass! your momma's a bitch!\"               Traffic\n",
              "2  1048978                                                                                                                                                                                                                                                                                                                                                                                                                          itis alleged that the accused pushed itis alleged that the accused said, “\"shut the fuck up!\"          Use Of Force\n",
              "3  1048986  itis alleaed by the complainant that the accused, nicholas goggin irently on duty disability pension, was placed under arrest or lnving while intoxicated, failing to maintain right half of roadway and no proof of insurance on 02 oct 2011 at approximately 1752hrs in wappapello missouri by deputy david richman #3218 itis alleged by the complainant sgt. joseph stehlik #1945 of unit 121, that the accused failed to cooperate in the investigation of log#1048986 in violation of general order 08-01-02 a2  Drug / Alcohol Abuse\n",
              "4  1048997                                                                                                                                                                                                                                                                                                                                                                                                                             the complainant alleged that the accused grabbed her wrist and twisted her arms backwards.              Domestic"
            ]
          },
          "metadata": {
            "tags": []
          },
          "execution_count": 116
        }
      ]
    },
    {
      "cell_type": "markdown",
      "metadata": {
        "id": "QJ66y3fSNk2l"
      },
      "source": [
        "Instantiate label encoder, to encode the categories"
      ]
    },
    {
      "cell_type": "code",
      "metadata": {
        "colab": {
          "base_uri": "https://localhost:8080/"
        },
        "id": "YVNtLcnu8wHG",
        "outputId": "645a63fa-9d2f-41b3-9449-8c8462b385c1"
      },
      "source": [
        "encoder = LabelEncoder()\n",
        "encoder.fit(allegations['category'].unique())"
      ],
      "execution_count": 117,
      "outputs": [
        {
          "output_type": "execute_result",
          "data": {
            "text/plain": [
              "LabelEncoder()"
            ]
          },
          "metadata": {
            "tags": []
          },
          "execution_count": 117
        }
      ]
    },
    {
      "cell_type": "code",
      "metadata": {
        "id": "ZT_Q5_5l-eeW"
      },
      "source": [
        "def format_labels(s):\n",
        "  \"\"\"\n",
        "  fastext label y must be '__label__y'\n",
        "  \"\"\"\n",
        "  return '__label__' + str(s)"
      ],
      "execution_count": 118,
      "outputs": []
    },
    {
      "cell_type": "markdown",
      "metadata": {
        "id": "G6kIQhj-NsVR"
      },
      "source": [
        "Here we convert the categories to '\\__label__n' where n is an integer corresponding to the category's encoding, as defined by the LabelEncoder"
      ]
    },
    {
      "cell_type": "code",
      "metadata": {
        "id": "lT9JWyfH-DZ4"
      },
      "source": [
        "intakes['category'] = encoder.transform(intakes['category'].values)\n",
        "intakes['category'] = intakes['category'].apply(format_labels)\n",
        "\n",
        "allegations['category'] = encoder.transform(allegations['category'].values)\n",
        "allegations['category'] = allegations['category'].apply(format_labels)"
      ],
      "execution_count": 119,
      "outputs": []
    },
    {
      "cell_type": "code",
      "metadata": {
        "colab": {
          "base_uri": "https://localhost:8080/",
          "height": 255
        },
        "id": "dzCiPrzOxnfD",
        "outputId": "cd4f0bd3-b777-4706-976f-4b4ed2bf8e0f"
      },
      "source": [
        "intakes.head()"
      ],
      "execution_count": 120,
      "outputs": [
        {
          "output_type": "execute_result",
          "data": {
            "text/html": [
              "<div>\n",
              "<style scoped>\n",
              "    .dataframe tbody tr th:only-of-type {\n",
              "        vertical-align: middle;\n",
              "    }\n",
              "\n",
              "    .dataframe tbody tr th {\n",
              "        vertical-align: top;\n",
              "    }\n",
              "\n",
              "    .dataframe thead th {\n",
              "        text-align: right;\n",
              "    }\n",
              "</style>\n",
              "<table border=\"1\" class=\"dataframe\">\n",
              "  <thead>\n",
              "    <tr style=\"text-align: right;\">\n",
              "      <th></th>\n",
              "      <th>cr_id</th>\n",
              "      <th>text</th>\n",
              "      <th>category</th>\n",
              "    </tr>\n",
              "  </thead>\n",
              "  <tbody>\n",
              "    <tr>\n",
              "      <th>0</th>\n",
              "      <td>1048962</td>\n",
              "      <td>the victim alleges that an unknown male black off-duty officer threw her against the wall after she did not adhere to his command to get up. the victim alleges that the officer pushed her face against the wall and handcuffed her too tightly.</td>\n",
              "      <td>__label__12</td>\n",
              "    </tr>\n",
              "    <tr>\n",
              "      <th>1</th>\n",
              "      <td>1048964</td>\n",
              "      <td>the reporting party alleges that he was a victim of a battery and when the police arrived they failed to file a report on his behalf instead, the officers gave him a ride to his friend's house.</td>\n",
              "      <td>__label__9</td>\n",
              "    </tr>\n",
              "    <tr>\n",
              "      <th>2</th>\n",
              "      <td>1048966</td>\n",
              "      <td>the reporting party victim stated that she telephoned 311\" regarding recovery of her stolen vehicle. the victim alleged that the responding officer never took her vehicle off the hot spot sheet which caused her boyfriend to be stoppped, handcuffed and questioned regarding the vehicle being stolen. the victim further alleged that the same officer refused to provide his name and badge number upon request.</td>\n",
              "      <td>__label__9</td>\n",
              "    </tr>\n",
              "    <tr>\n",
              "      <th>3</th>\n",
              "      <td>1048967</td>\n",
              "      <td>it is alleged that the accused was inattentive to duty in that she failed to properly secure her weapon. it is reported that the accused went into a fitting room at carson pirie scott and left her duty weapon in the fitting room the weapon was recovered by the hammond police department.</td>\n",
              "      <td>__label__9</td>\n",
              "    </tr>\n",
              "    <tr>\n",
              "      <th>4</th>\n",
              "      <td>1048976</td>\n",
              "      <td>the complainant alleges that the accused failed to arrest the intoxicated driver that struck her vehicle with a dui.</td>\n",
              "      <td>__label__11</td>\n",
              "    </tr>\n",
              "  </tbody>\n",
              "</table>\n",
              "</div>"
            ],
            "text/plain": [
              "     cr_id                                                                                                                                                                                                                                                                                                                                                                                                                    text     category\n",
              "0  1048962                                                                                                                                                                       the victim alleges that an unknown male black off-duty officer threw her against the wall after she did not adhere to his command to get up. the victim alleges that the officer pushed her face against the wall and handcuffed her too tightly.  __label__12\n",
              "1  1048964                                                                                                                                                                                                                       the reporting party alleges that he was a victim of a battery and when the police arrived they failed to file a report on his behalf instead, the officers gave him a ride to his friend's house.   __label__9\n",
              "2  1048966  the reporting party victim stated that she telephoned 311\" regarding recovery of her stolen vehicle. the victim alleged that the responding officer never took her vehicle off the hot spot sheet which caused her boyfriend to be stoppped, handcuffed and questioned regarding the vehicle being stolen. the victim further alleged that the same officer refused to provide his name and badge number upon request.   __label__9\n",
              "3  1048967                                                                                                                         it is alleged that the accused was inattentive to duty in that she failed to properly secure her weapon. it is reported that the accused went into a fitting room at carson pirie scott and left her duty weapon in the fitting room the weapon was recovered by the hammond police department.   __label__9\n",
              "4  1048976                                                                                                                                                                                                                                                                                                    the complainant alleges that the accused failed to arrest the intoxicated driver that struck her vehicle with a dui.  __label__11"
            ]
          },
          "metadata": {
            "tags": []
          },
          "execution_count": 120
        }
      ]
    },
    {
      "cell_type": "code",
      "metadata": {
        "colab": {
          "base_uri": "https://localhost:8080/",
          "height": 255
        },
        "id": "8qGD6qLYxrfZ",
        "outputId": "c7c6be08-e9aa-479d-9b41-9c81bf456e7b"
      },
      "source": [
        "allegations.head()"
      ],
      "execution_count": 121,
      "outputs": [
        {
          "output_type": "execute_result",
          "data": {
            "text/html": [
              "<div>\n",
              "<style scoped>\n",
              "    .dataframe tbody tr th:only-of-type {\n",
              "        vertical-align: middle;\n",
              "    }\n",
              "\n",
              "    .dataframe tbody tr th {\n",
              "        vertical-align: top;\n",
              "    }\n",
              "\n",
              "    .dataframe thead th {\n",
              "        text-align: right;\n",
              "    }\n",
              "</style>\n",
              "<table border=\"1\" class=\"dataframe\">\n",
              "  <thead>\n",
              "    <tr style=\"text-align: right;\">\n",
              "      <th></th>\n",
              "      <th>cr_id</th>\n",
              "      <th>text</th>\n",
              "      <th>category</th>\n",
              "    </tr>\n",
              "  </thead>\n",
              "  <tbody>\n",
              "    <tr>\n",
              "      <th>0</th>\n",
              "      <td>1048962</td>\n",
              "      <td>itis alleged that the accused threw bushing her face againsta wall it is alleged that the accused threw n the floor. itis alleged that .~ ras handcuffed too tight. itis alleged that the accused dragged (- the stairs. itis alleged that the acoused grabbed [ lom behind her neck</td>\n",
              "      <td>__label__12</td>\n",
              "    </tr>\n",
              "    <tr>\n",
              "      <th>1</th>\n",
              "      <td>1048977</td>\n",
              "      <td>the reporting party / victim off duty p.o. 7027, alleged that on at 1210 hours,at he accused, after conducting a street stop on the victim, stated, \"go fuck yourself! dumb ass! your momma's a bitch!\"</td>\n",
              "      <td>__label__11</td>\n",
              "    </tr>\n",
              "    <tr>\n",
              "      <th>2</th>\n",
              "      <td>1048978</td>\n",
              "      <td>itis alleged that the accused pushed itis alleged that the accused said, “\"shut the fuck up!\"</td>\n",
              "      <td>__label__12</td>\n",
              "    </tr>\n",
              "    <tr>\n",
              "      <th>3</th>\n",
              "      <td>1048986</td>\n",
              "      <td>itis alleaed by the complainant that the accused, nicholas goggin irently on duty disability pension, was placed under arrest or lnving while intoxicated, failing to maintain right half of roadway and no proof of insurance on 02 oct 2011 at approximately 1752hrs in wappapello missouri by deputy david richman #3218 itis alleged by the complainant sgt. joseph stehlik #1945 of unit 121, that the accused failed to cooperate in the investigation of log#1048986 in violation of general order 08-01-02 a2</td>\n",
              "      <td>__label__4</td>\n",
              "    </tr>\n",
              "    <tr>\n",
              "      <th>4</th>\n",
              "      <td>1048997</td>\n",
              "      <td>the complainant alleged that the accused grabbed her wrist and twisted her arms backwards.</td>\n",
              "      <td>__label__3</td>\n",
              "    </tr>\n",
              "  </tbody>\n",
              "</table>\n",
              "</div>"
            ],
            "text/plain": [
              "     cr_id                                                                                                                                                                                                                                                                                                                                                                                                                                                                                                                   text     category\n",
              "0  1048962                                                                                                                                                                                                                                   itis alleged that the accused threw bushing her face againsta wall it is alleged that the accused threw n the floor. itis alleged that .~ ras handcuffed too tight. itis alleged that the accused dragged (- the stairs. itis alleged that the acoused grabbed [ lom behind her neck  __label__12\n",
              "1  1048977                                                                                                                                                                                                                                                                                                                the reporting party / victim off duty p.o. 7027, alleged that on at 1210 hours,at he accused, after conducting a street stop on the victim, stated, \"go fuck yourself! dumb ass! your momma's a bitch!\"  __label__11\n",
              "2  1048978                                                                                                                                                                                                                                                                                                                                                                                                                          itis alleged that the accused pushed itis alleged that the accused said, “\"shut the fuck up!\"  __label__12\n",
              "3  1048986  itis alleaed by the complainant that the accused, nicholas goggin irently on duty disability pension, was placed under arrest or lnving while intoxicated, failing to maintain right half of roadway and no proof of insurance on 02 oct 2011 at approximately 1752hrs in wappapello missouri by deputy david richman #3218 itis alleged by the complainant sgt. joseph stehlik #1945 of unit 121, that the accused failed to cooperate in the investigation of log#1048986 in violation of general order 08-01-02 a2   __label__4\n",
              "4  1048997                                                                                                                                                                                                                                                                                                                                                                                                                             the complainant alleged that the accused grabbed her wrist and twisted her arms backwards.   __label__3"
            ]
          },
          "metadata": {
            "tags": []
          },
          "execution_count": 121
        }
      ]
    },
    {
      "cell_type": "markdown",
      "metadata": {
        "id": "Lgxr_iAwaUes"
      },
      "source": [
        "Train Test Split"
      ]
    },
    {
      "cell_type": "code",
      "metadata": {
        "id": "2Ma4Floi_W9N"
      },
      "source": [
        "TRAIN_intakes, test_intakes = train_test_split(intakes, test_size=0.2)\n",
        "train_intakes, val_intakes = train_test_split(TRAIN_intakes, test_size=0.2)\n",
        "\n",
        "TRAIN_allegations, test_allegations = train_test_split(allegations, test_size=0.2)\n",
        "train_allegations, val_allegations = train_test_split(TRAIN_allegations, test_size=0.2)"
      ],
      "execution_count": 122,
      "outputs": []
    },
    {
      "cell_type": "code",
      "metadata": {
        "id": "HYnaiCD0As9j"
      },
      "source": [
        "# train_intakes['category'].value_counts().to_frame(name='train').join(test_intakes['category'].value_counts().to_frame(name='test')).apply(lambda row: row['test']/row['train'], axis=1)"
      ],
      "execution_count": 123,
      "outputs": []
    },
    {
      "cell_type": "markdown",
      "metadata": {
        "id": "HxvdKR8paXlR"
      },
      "source": [
        "Generate train, validation, and test CSVs for Fasttext"
      ]
    },
    {
      "cell_type": "code",
      "metadata": {
        "id": "iDOVXtyq_W66"
      },
      "source": [
        "TRAIN_intakes[['category', 'text']].to_csv('intakes.TRAIN', sep='\\t', header=False, index=False, encoding='utf-8')\n",
        "train_intakes[['category', 'text']].to_csv('intakes.train', sep='\\t', header=False, index=False, encoding='utf-8')\n",
        "val_intakes[['category', 'text']].to_csv('intakes.valid', sep='\\t', header=False, index=False, encoding='utf-8')\n",
        "test_intakes[['category', 'text']].to_csv('intakes.test', sep='\\t', header=False, index=False, encoding='utf-8')"
      ],
      "execution_count": 124,
      "outputs": []
    },
    {
      "cell_type": "code",
      "metadata": {
        "id": "twyZUFYt_W4E"
      },
      "source": [
        "TRAIN_allegations[['category', 'text']].to_csv('allegations.TRAIN', sep='\\t', header=False, index=False, encoding='utf-8')\n",
        "train_allegations[['category', 'text']].to_csv('allegations.train', sep='\\t', header=False, index=False, encoding='utf-8')\n",
        "val_allegations[['category', 'text']].to_csv('allegations.valid', sep='\\t', header=False, index=False, encoding='utf-8')\n",
        "test_allegations[['category', 'text']].to_csv('allegations.test', sep='\\t', header=False, index=False, encoding='utf-8')"
      ],
      "execution_count": 125,
      "outputs": []
    },
    {
      "cell_type": "markdown",
      "metadata": {
        "id": "Oq2SSMJMaiB7"
      },
      "source": [
        "Train the models and finetune them on their respective validation sets\n",
        "**these cells both run for 5 minutes.** please relax and have a coffee. and thank you for your patience"
      ]
    },
    {
      "cell_type": "code",
      "metadata": {
        "id": "IlSDiZ9tRgyT"
      },
      "source": [
        "intakes_model = fasttext.train_supervised(input=\"intakes.train\", autotuneValidationFile='intakes.valid')"
      ],
      "execution_count": 126,
      "outputs": []
    },
    {
      "cell_type": "code",
      "metadata": {
        "id": "OXNc8Sc2Z1xF"
      },
      "source": [
        "allegations_model = fasttext.train_supervised(input=\"allegations.train\", autotuneValidationFile='allegations.valid')"
      ],
      "execution_count": 127,
      "outputs": []
    },
    {
      "cell_type": "markdown",
      "metadata": {
        "id": "rfVjE7uyaotA"
      },
      "source": [
        "Get the optimized hyperparameters from the autotuned models. We will use most important hyperparameters to train the full models"
      ]
    },
    {
      "cell_type": "code",
      "metadata": {
        "id": "5txKff6GZBmM"
      },
      "source": [
        "def filter_params_dict(params_dict, remove):\n",
        "  # output_dict = deepcopy(params_dict)\n",
        "  for param in remove:\n",
        "    del params_dict[param]\n",
        "  return params_dict"
      ],
      "execution_count": 129,
      "outputs": []
    },
    {
      "cell_type": "code",
      "metadata": {
        "id": "5qg4l8K2b5o4"
      },
      "source": [
        "grid_intakes = intakes_model.__dict__.copy()\n",
        "grid_allegations = allegations_model.__dict__.copy()"
      ],
      "execution_count": 130,
      "outputs": []
    },
    {
      "cell_type": "code",
      "metadata": {
        "id": "UneCU8_JXDoY"
      },
      "source": [
        "remove_params = ['_labels', '_words', 'bucket', 'f', 'label', 'loss', 'pretrainedVectors']\n",
        "intakes_params_dict = filter_params_dict(grid_intakes, remove_params)\n",
        "allegations_params_dict = filter_params_dict(grid_allegations, remove_params)"
      ],
      "execution_count": 131,
      "outputs": []
    },
    {
      "cell_type": "markdown",
      "metadata": {
        "id": "Y_7Y1CfZa2zH"
      },
      "source": [
        "Train full intakes and allegations models"
      ]
    },
    {
      "cell_type": "code",
      "metadata": {
        "id": "yyZIYtEGVGrO"
      },
      "source": [
        "intakes_model_full = fasttext.train_supervised(input=\"intakes.TRAIN\", **intakes_params_dict)"
      ],
      "execution_count": 132,
      "outputs": []
    },
    {
      "cell_type": "code",
      "metadata": {
        "id": "W3ino9fLa-Lf"
      },
      "source": [
        "allegations_model_full = fasttext.train_supervised(input=\"allegations.TRAIN\", **allegations_params_dict)"
      ],
      "execution_count": 133,
      "outputs": []
    },
    {
      "cell_type": "markdown",
      "metadata": {
        "id": "_Zx1sU-Qa_C2"
      },
      "source": [
        "Test full intakes and allegations models"
      ]
    },
    {
      "cell_type": "code",
      "metadata": {
        "colab": {
          "base_uri": "https://localhost:8080/"
        },
        "id": "RDreVUq_YJpE",
        "outputId": "7f0ba56a-e698-43af-9c56-1c464b9c5451"
      },
      "source": [
        "intakes_model_full.test('intakes.test')"
      ],
      "execution_count": 134,
      "outputs": [
        {
          "output_type": "execute_result",
          "data": {
            "text/plain": [
              "(1070, 0.6682242990654206, 0.6682242990654206)"
            ]
          },
          "metadata": {
            "tags": []
          },
          "execution_count": 134
        }
      ]
    },
    {
      "cell_type": "code",
      "metadata": {
        "colab": {
          "base_uri": "https://localhost:8080/"
        },
        "id": "rLvSPOslaJ7B",
        "outputId": "99591655-aa42-4cc2-b129-9d405f13edf4"
      },
      "source": [
        "allegations_model_full.test('allegations.test')"
      ],
      "execution_count": 135,
      "outputs": [
        {
          "output_type": "execute_result",
          "data": {
            "text/plain": [
              "(297, 0.6127946127946128, 0.6127946127946128)"
            ]
          },
          "metadata": {
            "tags": []
          },
          "execution_count": 135
        }
      ]
    },
    {
      "cell_type": "markdown",
      "metadata": {
        "id": "81gQhm7qdZ9N"
      },
      "source": [
        "Let's get the predictions"
      ]
    },
    {
      "cell_type": "code",
      "metadata": {
        "id": "OBaU16uhfvRQ"
      },
      "source": [
        "def predict(model, encoder, texts):\n",
        "  predictions = encoder.inverse_transform([int(model.predict(text)[0][0].replace('__label__', '')) for text in texts])\n",
        "  return np.array(predictions)"
      ],
      "execution_count": 137,
      "outputs": []
    },
    {
      "cell_type": "code",
      "metadata": {
        "id": "37SRTqgBi695"
      },
      "source": [
        "def inverse_label_transforms(encoder, labels):\n",
        "    original_labels = encoder.inverse_transform([int(label.replace('__label__', '')) for label in labels])\n",
        "    return np.array(original_labels)"
      ],
      "execution_count": 138,
      "outputs": []
    },
    {
      "cell_type": "code",
      "metadata": {
        "id": "IO6avoNRgBa3"
      },
      "source": [
        "y_pred_intakes_TRAIN = predict(intakes_model_full, encoder, texts=TRAIN_intakes['text'].values)\n",
        "y_pred_intakes_test = predict(intakes_model_full, encoder, texts=test_intakes['text'].values)"
      ],
      "execution_count": 139,
      "outputs": []
    },
    {
      "cell_type": "code",
      "metadata": {
        "id": "WZoiZ216dkdl"
      },
      "source": [
        "y_true_intakes_TRAIN = inverse_label_transforms(encoder, TRAIN_intakes['category'].values)\n",
        "y_true_intakes_test = inverse_label_transforms(encoder, test_intakes['category'].values)"
      ],
      "execution_count": 140,
      "outputs": []
    },
    {
      "cell_type": "code",
      "metadata": {
        "id": "fZ7iC8EshY7N"
      },
      "source": [
        "y_pred_allegations_TRAIN = predict(allegations_model_full, encoder, texts=TRAIN_allegations['text'].values)\n",
        "y_pred_allegations_test = predict(allegations_model_full, encoder, texts=test_allegations['text'].values)"
      ],
      "execution_count": 141,
      "outputs": []
    },
    {
      "cell_type": "code",
      "metadata": {
        "id": "4dR7pKD6hz9T"
      },
      "source": [
        "y_true_allegations_TRAIN = inverse_label_transforms(encoder, TRAIN_allegations['category'].values)\n",
        "y_true_allegations_test = inverse_label_transforms(encoder, test_allegations['category'].values)"
      ],
      "execution_count": 142,
      "outputs": []
    },
    {
      "cell_type": "markdown",
      "metadata": {
        "id": "P_V7MD99iKri"
      },
      "source": [
        "Make a classification report for intakes_TRAIN"
      ]
    },
    {
      "cell_type": "code",
      "metadata": {
        "colab": {
          "base_uri": "https://localhost:8080/"
        },
        "id": "LVEXbYx6ihnl",
        "outputId": "1ff7b823-73e6-4fb9-f2db-6b9d82874c48"
      },
      "source": [
        "report_intakes_TRAIN = classification_report(y_true=y_true_intakes_TRAIN, y_pred=y_pred_intakes_TRAIN, output_dict=True)\n",
        "report_intakes_TRAIN = pd.DataFrame.from_dict(report_intakes_TRAIN).T\n",
        "report_intakes_TRAIN['support'] = report_intakes_TRAIN['support'].astype(int)\n",
        "report_intakes_TRAIN = report_intakes_TRAIN.rename(columns={col:f\"train_{col}\" for col in report_intakes_TRAIN.columns})"
      ],
      "execution_count": 143,
      "outputs": [
        {
          "output_type": "stream",
          "text": [
            "/usr/local/lib/python3.6/dist-packages/sklearn/metrics/_classification.py:1272: UndefinedMetricWarning: Precision and F-score are ill-defined and being set to 0.0 in labels with no predicted samples. Use `zero_division` parameter to control this behavior.\n",
            "  _warn_prf(average, modifier, msg_start, len(result))\n"
          ],
          "name": "stderr"
        }
      ]
    },
    {
      "cell_type": "markdown",
      "metadata": {
        "id": "GMRQaTOGlEjs"
      },
      "source": [
        "Make a classification report for intakes test"
      ]
    },
    {
      "cell_type": "code",
      "metadata": {
        "colab": {
          "base_uri": "https://localhost:8080/"
        },
        "id": "NO4Ts31Lijua",
        "outputId": "28527427-f1b8-4148-8418-d30da766fa52"
      },
      "source": [
        "report_intakes_test = classification_report(y_true=y_true_intakes_test, y_pred=y_pred_intakes_test, output_dict=True)\n",
        "report_intakes_test = pd.DataFrame.from_dict(report_intakes_test).T\n",
        "report_intakes_test['support'] = report_intakes_test['support'].astype(int)\n",
        "report_intakes_test = report_intakes_test.rename(columns={col:f\"test_{col}\" for col in report_intakes_test.columns})"
      ],
      "execution_count": 144,
      "outputs": [
        {
          "output_type": "stream",
          "text": [
            "/usr/local/lib/python3.6/dist-packages/sklearn/metrics/_classification.py:1272: UndefinedMetricWarning: Precision and F-score are ill-defined and being set to 0.0 in labels with no predicted samples. Use `zero_division` parameter to control this behavior.\n",
            "  _warn_prf(average, modifier, msg_start, len(result))\n"
          ],
          "name": "stderr"
        }
      ]
    },
    {
      "cell_type": "markdown",
      "metadata": {
        "id": "PmCnhAYbn0bu"
      },
      "source": [
        "**Join the two reports for a full classification report for intakes**"
      ]
    },
    {
      "cell_type": "code",
      "metadata": {
        "colab": {
          "base_uri": "https://localhost:8080/",
          "height": 576
        },
        "id": "atEYRf6xld5J",
        "outputId": "7a4bff3f-05cc-408b-cb6c-bcdee6a5f6ba"
      },
      "source": [
        "report_intakes = report_intakes_TRAIN.join(report_intakes_test)\n",
        "report_intakes"
      ],
      "execution_count": 145,
      "outputs": [
        {
          "output_type": "execute_result",
          "data": {
            "text/html": [
              "<div>\n",
              "<style scoped>\n",
              "    .dataframe tbody tr th:only-of-type {\n",
              "        vertical-align: middle;\n",
              "    }\n",
              "\n",
              "    .dataframe tbody tr th {\n",
              "        vertical-align: top;\n",
              "    }\n",
              "\n",
              "    .dataframe thead th {\n",
              "        text-align: right;\n",
              "    }\n",
              "</style>\n",
              "<table border=\"1\" class=\"dataframe\">\n",
              "  <thead>\n",
              "    <tr style=\"text-align: right;\">\n",
              "      <th></th>\n",
              "      <th>train_precision</th>\n",
              "      <th>train_recall</th>\n",
              "      <th>train_f1-score</th>\n",
              "      <th>train_support</th>\n",
              "      <th>test_precision</th>\n",
              "      <th>test_recall</th>\n",
              "      <th>test_f1-score</th>\n",
              "      <th>test_support</th>\n",
              "    </tr>\n",
              "  </thead>\n",
              "  <tbody>\n",
              "    <tr>\n",
              "      <th>Bribery / Official Corruption</th>\n",
              "      <td>0.000000</td>\n",
              "      <td>0.000000</td>\n",
              "      <td>0.000000</td>\n",
              "      <td>25</td>\n",
              "      <td>0.000000</td>\n",
              "      <td>0.000000</td>\n",
              "      <td>0.000000</td>\n",
              "      <td>2</td>\n",
              "    </tr>\n",
              "    <tr>\n",
              "      <th>Conduct Unbecoming (Off-Duty)</th>\n",
              "      <td>0.693878</td>\n",
              "      <td>0.490385</td>\n",
              "      <td>0.574648</td>\n",
              "      <td>208</td>\n",
              "      <td>0.533333</td>\n",
              "      <td>0.266667</td>\n",
              "      <td>0.355556</td>\n",
              "      <td>60</td>\n",
              "    </tr>\n",
              "    <tr>\n",
              "      <th>Criminal Misconduct</th>\n",
              "      <td>1.000000</td>\n",
              "      <td>0.129032</td>\n",
              "      <td>0.228571</td>\n",
              "      <td>31</td>\n",
              "      <td>0.000000</td>\n",
              "      <td>0.000000</td>\n",
              "      <td>0.000000</td>\n",
              "      <td>9</td>\n",
              "    </tr>\n",
              "    <tr>\n",
              "      <th>Domestic</th>\n",
              "      <td>0.000000</td>\n",
              "      <td>0.000000</td>\n",
              "      <td>0.000000</td>\n",
              "      <td>65</td>\n",
              "      <td>0.000000</td>\n",
              "      <td>0.000000</td>\n",
              "      <td>0.000000</td>\n",
              "      <td>17</td>\n",
              "    </tr>\n",
              "    <tr>\n",
              "      <th>Drug / Alcohol Abuse</th>\n",
              "      <td>1.000000</td>\n",
              "      <td>0.066667</td>\n",
              "      <td>0.125000</td>\n",
              "      <td>30</td>\n",
              "      <td>0.000000</td>\n",
              "      <td>0.000000</td>\n",
              "      <td>0.000000</td>\n",
              "      <td>7</td>\n",
              "    </tr>\n",
              "    <tr>\n",
              "      <th>False Arrest</th>\n",
              "      <td>0.799472</td>\n",
              "      <td>0.767089</td>\n",
              "      <td>0.782946</td>\n",
              "      <td>395</td>\n",
              "      <td>0.774194</td>\n",
              "      <td>0.642857</td>\n",
              "      <td>0.702439</td>\n",
              "      <td>112</td>\n",
              "    </tr>\n",
              "    <tr>\n",
              "      <th>First Amendment</th>\n",
              "      <td>0.000000</td>\n",
              "      <td>0.000000</td>\n",
              "      <td>0.000000</td>\n",
              "      <td>1</td>\n",
              "      <td>0.000000</td>\n",
              "      <td>0.000000</td>\n",
              "      <td>0.000000</td>\n",
              "      <td>1</td>\n",
              "    </tr>\n",
              "    <tr>\n",
              "      <th>Illegal Search</th>\n",
              "      <td>0.802071</td>\n",
              "      <td>0.864764</td>\n",
              "      <td>0.832239</td>\n",
              "      <td>806</td>\n",
              "      <td>0.689956</td>\n",
              "      <td>0.763285</td>\n",
              "      <td>0.724771</td>\n",
              "      <td>207</td>\n",
              "    </tr>\n",
              "    <tr>\n",
              "      <th>Lockup Procedures</th>\n",
              "      <td>0.821530</td>\n",
              "      <td>0.810056</td>\n",
              "      <td>0.815752</td>\n",
              "      <td>358</td>\n",
              "      <td>0.534884</td>\n",
              "      <td>0.494624</td>\n",
              "      <td>0.513966</td>\n",
              "      <td>93</td>\n",
              "    </tr>\n",
              "    <tr>\n",
              "      <th>Operation/Personnel Violations</th>\n",
              "      <td>0.805247</td>\n",
              "      <td>0.964324</td>\n",
              "      <td>0.877635</td>\n",
              "      <td>1878</td>\n",
              "      <td>0.686515</td>\n",
              "      <td>0.871111</td>\n",
              "      <td>0.767875</td>\n",
              "      <td>450</td>\n",
              "    </tr>\n",
              "    <tr>\n",
              "      <th>Supervisory Responsibilities</th>\n",
              "      <td>0.000000</td>\n",
              "      <td>0.000000</td>\n",
              "      <td>0.000000</td>\n",
              "      <td>20</td>\n",
              "      <td>0.000000</td>\n",
              "      <td>0.000000</td>\n",
              "      <td>0.000000</td>\n",
              "      <td>4</td>\n",
              "    </tr>\n",
              "    <tr>\n",
              "      <th>Traffic</th>\n",
              "      <td>0.769231</td>\n",
              "      <td>0.058140</td>\n",
              "      <td>0.108108</td>\n",
              "      <td>172</td>\n",
              "      <td>0.500000</td>\n",
              "      <td>0.027027</td>\n",
              "      <td>0.051282</td>\n",
              "      <td>37</td>\n",
              "    </tr>\n",
              "    <tr>\n",
              "      <th>Use Of Force</th>\n",
              "      <td>0.620690</td>\n",
              "      <td>0.666667</td>\n",
              "      <td>0.642857</td>\n",
              "      <td>243</td>\n",
              "      <td>0.559322</td>\n",
              "      <td>0.550000</td>\n",
              "      <td>0.554622</td>\n",
              "      <td>60</td>\n",
              "    </tr>\n",
              "    <tr>\n",
              "      <th>Verbal Abuse</th>\n",
              "      <td>0.000000</td>\n",
              "      <td>0.000000</td>\n",
              "      <td>0.000000</td>\n",
              "      <td>45</td>\n",
              "      <td>0.000000</td>\n",
              "      <td>0.000000</td>\n",
              "      <td>0.000000</td>\n",
              "      <td>11</td>\n",
              "    </tr>\n",
              "    <tr>\n",
              "      <th>accuracy</th>\n",
              "      <td>0.790507</td>\n",
              "      <td>0.790507</td>\n",
              "      <td>0.790507</td>\n",
              "      <td>0</td>\n",
              "      <td>0.671028</td>\n",
              "      <td>0.671028</td>\n",
              "      <td>0.671028</td>\n",
              "      <td>0</td>\n",
              "    </tr>\n",
              "    <tr>\n",
              "      <th>macro avg</th>\n",
              "      <td>0.522294</td>\n",
              "      <td>0.344080</td>\n",
              "      <td>0.356268</td>\n",
              "      <td>4277</td>\n",
              "      <td>0.305586</td>\n",
              "      <td>0.258255</td>\n",
              "      <td>0.262179</td>\n",
              "      <td>1070</td>\n",
              "    </tr>\n",
              "    <tr>\n",
              "      <th>weighted avg</th>\n",
              "      <td>0.761535</td>\n",
              "      <td>0.790507</td>\n",
              "      <td>0.754140</td>\n",
              "      <td>4277</td>\n",
              "      <td>0.628286</td>\n",
              "      <td>0.671028</td>\n",
              "      <td>0.634160</td>\n",
              "      <td>1070</td>\n",
              "    </tr>\n",
              "  </tbody>\n",
              "</table>\n",
              "</div>"
            ],
            "text/plain": [
              "                                train_precision  train_recall  train_f1-score  train_support  test_precision  test_recall  test_f1-score  test_support\n",
              "Bribery / Official Corruption          0.000000      0.000000        0.000000             25        0.000000     0.000000       0.000000             2\n",
              "Conduct Unbecoming (Off-Duty)          0.693878      0.490385        0.574648            208        0.533333     0.266667       0.355556            60\n",
              "Criminal Misconduct                    1.000000      0.129032        0.228571             31        0.000000     0.000000       0.000000             9\n",
              "Domestic                               0.000000      0.000000        0.000000             65        0.000000     0.000000       0.000000            17\n",
              "Drug / Alcohol Abuse                   1.000000      0.066667        0.125000             30        0.000000     0.000000       0.000000             7\n",
              "False Arrest                           0.799472      0.767089        0.782946            395        0.774194     0.642857       0.702439           112\n",
              "First Amendment                        0.000000      0.000000        0.000000              1        0.000000     0.000000       0.000000             1\n",
              "Illegal Search                         0.802071      0.864764        0.832239            806        0.689956     0.763285       0.724771           207\n",
              "Lockup Procedures                      0.821530      0.810056        0.815752            358        0.534884     0.494624       0.513966            93\n",
              "Operation/Personnel Violations         0.805247      0.964324        0.877635           1878        0.686515     0.871111       0.767875           450\n",
              "Supervisory Responsibilities           0.000000      0.000000        0.000000             20        0.000000     0.000000       0.000000             4\n",
              "Traffic                                0.769231      0.058140        0.108108            172        0.500000     0.027027       0.051282            37\n",
              "Use Of Force                           0.620690      0.666667        0.642857            243        0.559322     0.550000       0.554622            60\n",
              "Verbal Abuse                           0.000000      0.000000        0.000000             45        0.000000     0.000000       0.000000            11\n",
              "accuracy                               0.790507      0.790507        0.790507              0        0.671028     0.671028       0.671028             0\n",
              "macro avg                              0.522294      0.344080        0.356268           4277        0.305586     0.258255       0.262179          1070\n",
              "weighted avg                           0.761535      0.790507        0.754140           4277        0.628286     0.671028       0.634160          1070"
            ]
          },
          "metadata": {
            "tags": []
          },
          "execution_count": 145
        }
      ]
    },
    {
      "cell_type": "markdown",
      "metadata": {
        "id": "sowC-cFknYNY"
      },
      "source": [
        "Make a classification report for allegations Train"
      ]
    },
    {
      "cell_type": "code",
      "metadata": {
        "colab": {
          "base_uri": "https://localhost:8080/"
        },
        "id": "dRzQGHrWmrhV",
        "outputId": "214b841f-127b-493e-b53d-5668143da42a"
      },
      "source": [
        "report_allegations_TRAIN = classification_report(y_true=y_true_allegations_TRAIN, y_pred=y_pred_allegations_TRAIN, output_dict=True)\n",
        "report_allegations_TRAIN = pd.DataFrame.from_dict(report_allegations_TRAIN).T\n",
        "report_allegations_TRAIN['support'] = report_allegations_TRAIN['support'].astype(int)\n",
        "report_allegations_TRAIN = report_allegations_TRAIN.rename(columns={col:f\"train_{col}\" for col in report_allegations_TRAIN.columns})"
      ],
      "execution_count": 146,
      "outputs": [
        {
          "output_type": "stream",
          "text": [
            "/usr/local/lib/python3.6/dist-packages/sklearn/metrics/_classification.py:1272: UndefinedMetricWarning: Precision and F-score are ill-defined and being set to 0.0 in labels with no predicted samples. Use `zero_division` parameter to control this behavior.\n",
            "  _warn_prf(average, modifier, msg_start, len(result))\n"
          ],
          "name": "stderr"
        }
      ]
    },
    {
      "cell_type": "markdown",
      "metadata": {
        "id": "wgVQTqa5nnLK"
      },
      "source": [
        "Make a classification report for allegations Test"
      ]
    },
    {
      "cell_type": "code",
      "metadata": {
        "colab": {
          "base_uri": "https://localhost:8080/"
        },
        "id": "H6cB-0P4ndTx",
        "outputId": "7e6cdcd5-71f9-4fd6-e97a-a6e22ca3ff1d"
      },
      "source": [
        "report_allegations_test = classification_report(y_true=y_true_allegations_test, y_pred=y_pred_allegations_test, output_dict=True)\n",
        "report_allegations_test = pd.DataFrame.from_dict(report_allegations_test).T\n",
        "report_allegations_test['support'] = report_allegations_test['support'].astype(int)\n",
        "report_allegations_test = report_allegations_test.rename(columns={col:f\"test_{col}\" for col in report_allegations_test.columns})"
      ],
      "execution_count": 147,
      "outputs": [
        {
          "output_type": "stream",
          "text": [
            "/usr/local/lib/python3.6/dist-packages/sklearn/metrics/_classification.py:1272: UndefinedMetricWarning: Precision and F-score are ill-defined and being set to 0.0 in labels with no predicted samples. Use `zero_division` parameter to control this behavior.\n",
            "  _warn_prf(average, modifier, msg_start, len(result))\n"
          ],
          "name": "stderr"
        }
      ]
    },
    {
      "cell_type": "markdown",
      "metadata": {
        "id": "B6OXaCFAn8-x"
      },
      "source": [
        "**Join the two reports for a full classification report for allegations**"
      ]
    },
    {
      "cell_type": "code",
      "metadata": {
        "colab": {
          "base_uri": "https://localhost:8080/",
          "height": 576
        },
        "id": "A82kXoP4nw1L",
        "outputId": "a3ea30e4-124a-4ffd-ccfc-ae75e3019355"
      },
      "source": [
        "report_allegations = report_allegations_TRAIN.join(report_allegations_test)\n",
        "report_allegations"
      ],
      "execution_count": 148,
      "outputs": [
        {
          "output_type": "execute_result",
          "data": {
            "text/html": [
              "<div>\n",
              "<style scoped>\n",
              "    .dataframe tbody tr th:only-of-type {\n",
              "        vertical-align: middle;\n",
              "    }\n",
              "\n",
              "    .dataframe tbody tr th {\n",
              "        vertical-align: top;\n",
              "    }\n",
              "\n",
              "    .dataframe thead th {\n",
              "        text-align: right;\n",
              "    }\n",
              "</style>\n",
              "<table border=\"1\" class=\"dataframe\">\n",
              "  <thead>\n",
              "    <tr style=\"text-align: right;\">\n",
              "      <th></th>\n",
              "      <th>train_precision</th>\n",
              "      <th>train_recall</th>\n",
              "      <th>train_f1-score</th>\n",
              "      <th>train_support</th>\n",
              "      <th>test_precision</th>\n",
              "      <th>test_recall</th>\n",
              "      <th>test_f1-score</th>\n",
              "      <th>test_support</th>\n",
              "    </tr>\n",
              "  </thead>\n",
              "  <tbody>\n",
              "    <tr>\n",
              "      <th>Bribery / Official Corruption</th>\n",
              "      <td>0.000000</td>\n",
              "      <td>0.000000</td>\n",
              "      <td>0.000000</td>\n",
              "      <td>15</td>\n",
              "      <td>0.000000</td>\n",
              "      <td>0.000000</td>\n",
              "      <td>0.000000</td>\n",
              "      <td>5.0</td>\n",
              "    </tr>\n",
              "    <tr>\n",
              "      <th>Conduct Unbecoming (Off-Duty)</th>\n",
              "      <td>0.238095</td>\n",
              "      <td>0.170940</td>\n",
              "      <td>0.199005</td>\n",
              "      <td>117</td>\n",
              "      <td>0.560000</td>\n",
              "      <td>0.500000</td>\n",
              "      <td>0.528302</td>\n",
              "      <td>28.0</td>\n",
              "    </tr>\n",
              "    <tr>\n",
              "      <th>Criminal Misconduct</th>\n",
              "      <td>0.000000</td>\n",
              "      <td>0.000000</td>\n",
              "      <td>0.000000</td>\n",
              "      <td>31</td>\n",
              "      <td>0.000000</td>\n",
              "      <td>0.000000</td>\n",
              "      <td>0.000000</td>\n",
              "      <td>5.0</td>\n",
              "    </tr>\n",
              "    <tr>\n",
              "      <th>Domestic</th>\n",
              "      <td>0.702703</td>\n",
              "      <td>0.419355</td>\n",
              "      <td>0.525253</td>\n",
              "      <td>62</td>\n",
              "      <td>0.166667</td>\n",
              "      <td>0.083333</td>\n",
              "      <td>0.111111</td>\n",
              "      <td>12.0</td>\n",
              "    </tr>\n",
              "    <tr>\n",
              "      <th>Drug / Alcohol Abuse</th>\n",
              "      <td>1.000000</td>\n",
              "      <td>0.120000</td>\n",
              "      <td>0.214286</td>\n",
              "      <td>25</td>\n",
              "      <td>1.000000</td>\n",
              "      <td>0.100000</td>\n",
              "      <td>0.181818</td>\n",
              "      <td>10.0</td>\n",
              "    </tr>\n",
              "    <tr>\n",
              "      <th>False Arrest</th>\n",
              "      <td>0.823171</td>\n",
              "      <td>0.912162</td>\n",
              "      <td>0.865385</td>\n",
              "      <td>148</td>\n",
              "      <td>0.673913</td>\n",
              "      <td>0.861111</td>\n",
              "      <td>0.756098</td>\n",
              "      <td>36.0</td>\n",
              "    </tr>\n",
              "    <tr>\n",
              "      <th>First Amendment</th>\n",
              "      <td>0.000000</td>\n",
              "      <td>0.000000</td>\n",
              "      <td>0.000000</td>\n",
              "      <td>1</td>\n",
              "      <td>NaN</td>\n",
              "      <td>NaN</td>\n",
              "      <td>NaN</td>\n",
              "      <td>NaN</td>\n",
              "    </tr>\n",
              "    <tr>\n",
              "      <th>Illegal Search</th>\n",
              "      <td>0.720497</td>\n",
              "      <td>0.852941</td>\n",
              "      <td>0.781145</td>\n",
              "      <td>136</td>\n",
              "      <td>0.472222</td>\n",
              "      <td>0.531250</td>\n",
              "      <td>0.500000</td>\n",
              "      <td>32.0</td>\n",
              "    </tr>\n",
              "    <tr>\n",
              "      <th>Lockup Procedures</th>\n",
              "      <td>0.000000</td>\n",
              "      <td>0.000000</td>\n",
              "      <td>0.000000</td>\n",
              "      <td>46</td>\n",
              "      <td>0.000000</td>\n",
              "      <td>0.000000</td>\n",
              "      <td>0.000000</td>\n",
              "      <td>10.0</td>\n",
              "    </tr>\n",
              "    <tr>\n",
              "      <th>Operation/Personnel Violations</th>\n",
              "      <td>0.664384</td>\n",
              "      <td>0.944805</td>\n",
              "      <td>0.780161</td>\n",
              "      <td>308</td>\n",
              "      <td>0.608000</td>\n",
              "      <td>0.853933</td>\n",
              "      <td>0.710280</td>\n",
              "      <td>89.0</td>\n",
              "    </tr>\n",
              "    <tr>\n",
              "      <th>Supervisory Responsibilities</th>\n",
              "      <td>0.000000</td>\n",
              "      <td>0.000000</td>\n",
              "      <td>0.000000</td>\n",
              "      <td>4</td>\n",
              "      <td>0.000000</td>\n",
              "      <td>0.000000</td>\n",
              "      <td>0.000000</td>\n",
              "      <td>4.0</td>\n",
              "    </tr>\n",
              "    <tr>\n",
              "      <th>Traffic</th>\n",
              "      <td>0.000000</td>\n",
              "      <td>0.000000</td>\n",
              "      <td>0.000000</td>\n",
              "      <td>23</td>\n",
              "      <td>0.000000</td>\n",
              "      <td>0.000000</td>\n",
              "      <td>0.000000</td>\n",
              "      <td>4.0</td>\n",
              "    </tr>\n",
              "    <tr>\n",
              "      <th>Use Of Force</th>\n",
              "      <td>0.832061</td>\n",
              "      <td>0.956140</td>\n",
              "      <td>0.889796</td>\n",
              "      <td>228</td>\n",
              "      <td>0.727273</td>\n",
              "      <td>0.769231</td>\n",
              "      <td>0.747664</td>\n",
              "      <td>52.0</td>\n",
              "    </tr>\n",
              "    <tr>\n",
              "      <th>Verbal Abuse</th>\n",
              "      <td>0.714286</td>\n",
              "      <td>0.609756</td>\n",
              "      <td>0.657895</td>\n",
              "      <td>41</td>\n",
              "      <td>0.666667</td>\n",
              "      <td>0.200000</td>\n",
              "      <td>0.307692</td>\n",
              "      <td>10.0</td>\n",
              "    </tr>\n",
              "    <tr>\n",
              "      <th>accuracy</th>\n",
              "      <td>0.703797</td>\n",
              "      <td>0.703797</td>\n",
              "      <td>0.703797</td>\n",
              "      <td>0</td>\n",
              "      <td>0.612795</td>\n",
              "      <td>0.612795</td>\n",
              "      <td>0.612795</td>\n",
              "      <td>0.0</td>\n",
              "    </tr>\n",
              "    <tr>\n",
              "      <th>macro avg</th>\n",
              "      <td>0.406800</td>\n",
              "      <td>0.356150</td>\n",
              "      <td>0.350923</td>\n",
              "      <td>1185</td>\n",
              "      <td>0.374980</td>\n",
              "      <td>0.299912</td>\n",
              "      <td>0.295613</td>\n",
              "      <td>297.0</td>\n",
              "    </tr>\n",
              "    <tr>\n",
              "      <th>weighted avg</th>\n",
              "      <td>0.624361</td>\n",
              "      <td>0.703797</td>\n",
              "      <td>0.646123</td>\n",
              "      <td>1185</td>\n",
              "      <td>0.557740</td>\n",
              "      <td>0.612795</td>\n",
              "      <td>0.560047</td>\n",
              "      <td>297.0</td>\n",
              "    </tr>\n",
              "  </tbody>\n",
              "</table>\n",
              "</div>"
            ],
            "text/plain": [
              "                                train_precision  train_recall  train_f1-score  train_support  test_precision  test_recall  test_f1-score  test_support\n",
              "Bribery / Official Corruption          0.000000      0.000000        0.000000             15        0.000000     0.000000       0.000000           5.0\n",
              "Conduct Unbecoming (Off-Duty)          0.238095      0.170940        0.199005            117        0.560000     0.500000       0.528302          28.0\n",
              "Criminal Misconduct                    0.000000      0.000000        0.000000             31        0.000000     0.000000       0.000000           5.0\n",
              "Domestic                               0.702703      0.419355        0.525253             62        0.166667     0.083333       0.111111          12.0\n",
              "Drug / Alcohol Abuse                   1.000000      0.120000        0.214286             25        1.000000     0.100000       0.181818          10.0\n",
              "False Arrest                           0.823171      0.912162        0.865385            148        0.673913     0.861111       0.756098          36.0\n",
              "First Amendment                        0.000000      0.000000        0.000000              1             NaN          NaN            NaN           NaN\n",
              "Illegal Search                         0.720497      0.852941        0.781145            136        0.472222     0.531250       0.500000          32.0\n",
              "Lockup Procedures                      0.000000      0.000000        0.000000             46        0.000000     0.000000       0.000000          10.0\n",
              "Operation/Personnel Violations         0.664384      0.944805        0.780161            308        0.608000     0.853933       0.710280          89.0\n",
              "Supervisory Responsibilities           0.000000      0.000000        0.000000              4        0.000000     0.000000       0.000000           4.0\n",
              "Traffic                                0.000000      0.000000        0.000000             23        0.000000     0.000000       0.000000           4.0\n",
              "Use Of Force                           0.832061      0.956140        0.889796            228        0.727273     0.769231       0.747664          52.0\n",
              "Verbal Abuse                           0.714286      0.609756        0.657895             41        0.666667     0.200000       0.307692          10.0\n",
              "accuracy                               0.703797      0.703797        0.703797              0        0.612795     0.612795       0.612795           0.0\n",
              "macro avg                              0.406800      0.356150        0.350923           1185        0.374980     0.299912       0.295613         297.0\n",
              "weighted avg                           0.624361      0.703797        0.646123           1185        0.557740     0.612795       0.560047         297.0"
            ]
          },
          "metadata": {
            "tags": []
          },
          "execution_count": 148
        }
      ]
    },
    {
      "cell_type": "code",
      "metadata": {
        "id": "wRvcjZrG1tBx"
      },
      "source": [
        ""
      ],
      "execution_count": null,
      "outputs": []
    }
  ]
}