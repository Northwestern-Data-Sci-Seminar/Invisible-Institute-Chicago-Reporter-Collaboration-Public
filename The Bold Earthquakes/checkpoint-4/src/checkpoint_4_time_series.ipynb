{
  "nbformat": 4,
  "nbformat_minor": 0,
  "metadata": {
    "kernelspec": {
      "display_name": "Python 3",
      "language": "python",
      "name": "python3"
    },
    "language_info": {
      "codemirror_mode": {
        "name": "ipython",
        "version": 3
      },
      "file_extension": ".py",
      "mimetype": "text/x-python",
      "name": "python",
      "nbconvert_exporter": "python",
      "pygments_lexer": "ipython3",
      "version": "3.8.5"
    },
    "colab": {
      "name": "checkpoint_4_time_series.ipynb",
      "provenance": [],
      "collapsed_sections": []
    }
  },
  "cells": [
    {
      "cell_type": "markdown",
      "metadata": {
        "id": "-OrmwtDWLTCx"
      },
      "source": [
        "## Install CatBoost"
      ]
    },
    {
      "cell_type": "code",
      "metadata": {
        "id": "_vF-YZ1PLdhb",
        "colab": {
          "base_uri": "https://localhost:8080/"
        },
        "outputId": "2f6ff983-d740-4534-dfb8-37ab582116f4"
      },
      "source": [
        "pip install catboost"
      ],
      "execution_count": 1,
      "outputs": [
        {
          "output_type": "stream",
          "text": [
            "Requirement already satisfied: catboost in /usr/local/lib/python3.6/dist-packages (0.24.3)\n",
            "Requirement already satisfied: graphviz in /usr/local/lib/python3.6/dist-packages (from catboost) (0.10.1)\n",
            "Requirement already satisfied: scipy in /usr/local/lib/python3.6/dist-packages (from catboost) (1.4.1)\n",
            "Requirement already satisfied: numpy>=1.16.0 in /usr/local/lib/python3.6/dist-packages (from catboost) (1.18.5)\n",
            "Requirement already satisfied: plotly in /usr/local/lib/python3.6/dist-packages (from catboost) (4.4.1)\n",
            "Requirement already satisfied: pandas>=0.24.0 in /usr/local/lib/python3.6/dist-packages (from catboost) (1.1.4)\n",
            "Requirement already satisfied: matplotlib in /usr/local/lib/python3.6/dist-packages (from catboost) (3.2.2)\n",
            "Requirement already satisfied: six in /usr/local/lib/python3.6/dist-packages (from catboost) (1.15.0)\n",
            "Requirement already satisfied: retrying>=1.3.3 in /usr/local/lib/python3.6/dist-packages (from plotly->catboost) (1.3.3)\n",
            "Requirement already satisfied: python-dateutil>=2.7.3 in /usr/local/lib/python3.6/dist-packages (from pandas>=0.24.0->catboost) (2.8.1)\n",
            "Requirement already satisfied: pytz>=2017.2 in /usr/local/lib/python3.6/dist-packages (from pandas>=0.24.0->catboost) (2018.9)\n",
            "Requirement already satisfied: cycler>=0.10 in /usr/local/lib/python3.6/dist-packages (from matplotlib->catboost) (0.10.0)\n",
            "Requirement already satisfied: kiwisolver>=1.0.1 in /usr/local/lib/python3.6/dist-packages (from matplotlib->catboost) (1.3.1)\n",
            "Requirement already satisfied: pyparsing!=2.0.4,!=2.1.2,!=2.1.6,>=2.0.1 in /usr/local/lib/python3.6/dist-packages (from matplotlib->catboost) (2.4.7)\n"
          ],
          "name": "stdout"
        }
      ]
    },
    {
      "cell_type": "markdown",
      "metadata": {
        "id": "w2guTvuBLFFj"
      },
      "source": [
        "## Import Dependencies"
      ]
    },
    {
      "cell_type": "code",
      "metadata": {
        "id": "Dmh4lsa_LFFt"
      },
      "source": [
        "from catboost import CatBoostRegressor\n",
        "import numpy as np\n",
        "import pandas as pd\n",
        "\n",
        "from sklearn.model_selection import TimeSeriesSplit\n",
        "\n",
        "from sklearn.metrics import (mean_squared_error,\n",
        "                             explained_variance_score,\n",
        "                             max_error,\n",
        "                             mean_absolute_error,\n",
        "                             median_absolute_error,\n",
        "                             r2_score)"
      ],
      "execution_count": 2,
      "outputs": []
    },
    {
      "cell_type": "markdown",
      "metadata": {
        "id": "2KeUBYstLFGD"
      },
      "source": [
        "## Format Pandas and Read CSV Data"
      ]
    },
    {
      "cell_type": "code",
      "metadata": {
        "id": "ID7zNRE5LFGE"
      },
      "source": [
        "pd.set_option('display.max_columns', None)\n",
        "pd.set_option('display.expand_frame_repr', False)\n",
        "pd.set_option('max_colwidth', 999)\n",
        "url = 'https://gist.githubusercontent.com/simon-benigeri/d609a89f0d962e47f728b937471c12cc/raw/c1465fc30bc0f3d1cf9bc975deb987ea884df685/checkpoint_4_data'\n",
        "df = pd.read_csv(url)"
      ],
      "execution_count": 3,
      "outputs": []
    },
    {
      "cell_type": "markdown",
      "metadata": {
        "id": "T2_-7UnOLFGK"
      },
      "source": [
        "## Format Data"
      ]
    },
    {
      "cell_type": "code",
      "metadata": {
        "id": "jGVdGnq1LqTy",
        "colab": {
          "base_uri": "https://localhost:8080/",
          "height": 204
        },
        "outputId": "e8fac6f8-9a42-484b-bac7-c149a3d6d04f"
      },
      "source": [
        "df.head()"
      ],
      "execution_count": 4,
      "outputs": [
        {
          "output_type": "execute_result",
          "data": {
            "text/html": [
              "<div>\n",
              "<style scoped>\n",
              "    .dataframe tbody tr th:only-of-type {\n",
              "        vertical-align: middle;\n",
              "    }\n",
              "\n",
              "    .dataframe tbody tr th {\n",
              "        vertical-align: top;\n",
              "    }\n",
              "\n",
              "    .dataframe thead th {\n",
              "        text-align: right;\n",
              "    }\n",
              "</style>\n",
              "<table border=\"1\" class=\"dataframe\">\n",
              "  <thead>\n",
              "    <tr style=\"text-align: right;\">\n",
              "      <th></th>\n",
              "      <th>officer_id</th>\n",
              "      <th>year</th>\n",
              "      <th>salary</th>\n",
              "      <th>race</th>\n",
              "      <th>gender</th>\n",
              "      <th>birth_year</th>\n",
              "      <th>appointed_year</th>\n",
              "      <th>trr_count</th>\n",
              "      <th>hm_count</th>\n",
              "      <th>allegations_count</th>\n",
              "      <th>sustained_count</th>\n",
              "    </tr>\n",
              "  </thead>\n",
              "  <tbody>\n",
              "    <tr>\n",
              "      <th>0</th>\n",
              "      <td>1</td>\n",
              "      <td>2007</td>\n",
              "      <td>58896</td>\n",
              "      <td>White</td>\n",
              "      <td>M</td>\n",
              "      <td>1971.0</td>\n",
              "      <td>2005.0</td>\n",
              "      <td>0</td>\n",
              "      <td>4</td>\n",
              "      <td>1</td>\n",
              "      <td>0</td>\n",
              "    </tr>\n",
              "    <tr>\n",
              "      <th>1</th>\n",
              "      <td>1</td>\n",
              "      <td>2008</td>\n",
              "      <td>61932</td>\n",
              "      <td>White</td>\n",
              "      <td>M</td>\n",
              "      <td>1971.0</td>\n",
              "      <td>2005.0</td>\n",
              "      <td>0</td>\n",
              "      <td>8</td>\n",
              "      <td>0</td>\n",
              "      <td>0</td>\n",
              "    </tr>\n",
              "    <tr>\n",
              "      <th>2</th>\n",
              "      <td>1</td>\n",
              "      <td>2009</td>\n",
              "      <td>64992</td>\n",
              "      <td>White</td>\n",
              "      <td>M</td>\n",
              "      <td>1971.0</td>\n",
              "      <td>2005.0</td>\n",
              "      <td>1</td>\n",
              "      <td>11</td>\n",
              "      <td>0</td>\n",
              "      <td>0</td>\n",
              "    </tr>\n",
              "    <tr>\n",
              "      <th>3</th>\n",
              "      <td>1</td>\n",
              "      <td>2010</td>\n",
              "      <td>73164</td>\n",
              "      <td>White</td>\n",
              "      <td>M</td>\n",
              "      <td>1971.0</td>\n",
              "      <td>2005.0</td>\n",
              "      <td>1</td>\n",
              "      <td>11</td>\n",
              "      <td>1</td>\n",
              "      <td>0</td>\n",
              "    </tr>\n",
              "    <tr>\n",
              "      <th>4</th>\n",
              "      <td>1</td>\n",
              "      <td>2011</td>\n",
              "      <td>74628</td>\n",
              "      <td>White</td>\n",
              "      <td>M</td>\n",
              "      <td>1971.0</td>\n",
              "      <td>2005.0</td>\n",
              "      <td>1</td>\n",
              "      <td>13</td>\n",
              "      <td>0</td>\n",
              "      <td>0</td>\n",
              "    </tr>\n",
              "  </tbody>\n",
              "</table>\n",
              "</div>"
            ],
            "text/plain": [
              "   officer_id  year  salary   race gender  birth_year  appointed_year  trr_count  hm_count  allegations_count  sustained_count\n",
              "0           1  2007   58896  White      M      1971.0          2005.0          0         4                  1                0\n",
              "1           1  2008   61932  White      M      1971.0          2005.0          0         8                  0                0\n",
              "2           1  2009   64992  White      M      1971.0          2005.0          1        11                  0                0\n",
              "3           1  2010   73164  White      M      1971.0          2005.0          1        11                  1                0\n",
              "4           1  2011   74628  White      M      1971.0          2005.0          1        13                  0                0"
            ]
          },
          "metadata": {
            "tags": []
          },
          "execution_count": 4
        }
      ]
    },
    {
      "cell_type": "markdown",
      "metadata": {
        "id": "UQ9xNYimLxlt"
      },
      "source": [
        "**Compute Experience and Age**\n",
        "\n",
        "\n",
        "*   experience = year - appointed year\n",
        "*   age = year - birth year\n",
        "*   remove rows where exp < 0 and age <= 0\n",
        "\n",
        "\n",
        "\n"
      ]
    },
    {
      "cell_type": "code",
      "metadata": {
        "id": "3K-m3p3BLFGO"
      },
      "source": [
        "df['experience'] = pd.to_numeric(df.apply(lambda row: row['year'] - row['appointed_year'], axis=1), errors='coerce', downcast='integer')\n",
        "df['age'] = pd.to_numeric(df.apply(lambda row: row['year'] - row['birth_year'], axis=1), errors='coerce', downcast='integer')\n",
        "df['year'] = pd.to_datetime(df['year'], format='%Y')\n",
        "\n",
        "df = df[df['experience']>=0]\n",
        "df = df[df['age']>0]"
      ],
      "execution_count": 5,
      "outputs": []
    },
    {
      "cell_type": "markdown",
      "metadata": {
        "id": "cWc03pu7Mr5l"
      },
      "source": [
        "**Compute Next Year's Salary and % Raise**\n",
        "\n",
        "*   Next Year's Salary = Salary for year + 1\n",
        "*   remove rows where there is no next year's salary, so for example, year=2015\n",
        "\n",
        "*   % Raise = 100 * 1 - salary/next year's salary\n",
        "*   remove rows where raise  < 0 and"
      ]
    },
    {
      "cell_type": "code",
      "metadata": {
        "id": "gSM1nxHtL8l4"
      },
      "source": [
        "df['next_salary'] = df.sort_values(by=['year'], ascending=True).groupby(['officer_id'])['salary'].shift(-1)\n",
        "df = df[df['next_salary'].notnull()]\n",
        "\n",
        "df['raise'] = df.apply(lambda row: 100*(1. - row['salary']/row['next_salary']), axis=1)\n",
        "df = df[df['raise']>=0]"
      ],
      "execution_count": 6,
      "outputs": []
    },
    {
      "cell_type": "markdown",
      "metadata": {
        "id": "1BDWJtxnNrxq"
      },
      "source": [
        "**Clean up the dataframe**\n",
        "\n",
        "*   drop 'birth_year', 'appointed_year', 'next_salary'"
      ]
    },
    {
      "cell_type": "code",
      "metadata": {
        "id": "VT3Dc22VNoDT"
      },
      "source": [
        "drop_columns = ['birth_year', 'appointed_year', 'next_salary']\n",
        "df.drop(columns=drop_columns, inplace=True)\n",
        "df.sort_values(by=['year'], ascending=True, inplace=True)"
      ],
      "execution_count": 7,
      "outputs": []
    },
    {
      "cell_type": "code",
      "metadata": {
        "colab": {
          "base_uri": "https://localhost:8080/",
          "height": 289
        },
        "id": "0E5xafZ0aX-b",
        "outputId": "0bda6f3b-c1e1-4fcb-c2f5-0bcb5dd22d73"
      },
      "source": [
        "df.head()"
      ],
      "execution_count": 8,
      "outputs": [
        {
          "output_type": "execute_result",
          "data": {
            "text/html": [
              "<div>\n",
              "<style scoped>\n",
              "    .dataframe tbody tr th:only-of-type {\n",
              "        vertical-align: middle;\n",
              "    }\n",
              "\n",
              "    .dataframe tbody tr th {\n",
              "        vertical-align: top;\n",
              "    }\n",
              "\n",
              "    .dataframe thead th {\n",
              "        text-align: right;\n",
              "    }\n",
              "</style>\n",
              "<table border=\"1\" class=\"dataframe\">\n",
              "  <thead>\n",
              "    <tr style=\"text-align: right;\">\n",
              "      <th></th>\n",
              "      <th>officer_id</th>\n",
              "      <th>year</th>\n",
              "      <th>salary</th>\n",
              "      <th>race</th>\n",
              "      <th>gender</th>\n",
              "      <th>trr_count</th>\n",
              "      <th>hm_count</th>\n",
              "      <th>allegations_count</th>\n",
              "      <th>sustained_count</th>\n",
              "      <th>experience</th>\n",
              "      <th>age</th>\n",
              "      <th>raise</th>\n",
              "    </tr>\n",
              "  </thead>\n",
              "  <tbody>\n",
              "    <tr>\n",
              "      <th>0</th>\n",
              "      <td>1</td>\n",
              "      <td>2007-01-01</td>\n",
              "      <td>58896</td>\n",
              "      <td>White</td>\n",
              "      <td>M</td>\n",
              "      <td>0</td>\n",
              "      <td>4</td>\n",
              "      <td>1</td>\n",
              "      <td>0</td>\n",
              "      <td>2.0</td>\n",
              "      <td>36.0</td>\n",
              "      <td>4.902151</td>\n",
              "    </tr>\n",
              "    <tr>\n",
              "      <th>38199</th>\n",
              "      <td>13768</td>\n",
              "      <td>2007-01-01</td>\n",
              "      <td>73116</td>\n",
              "      <td>Black</td>\n",
              "      <td>M</td>\n",
              "      <td>0</td>\n",
              "      <td>1</td>\n",
              "      <td>0</td>\n",
              "      <td>0</td>\n",
              "      <td>16.0</td>\n",
              "      <td>54.0</td>\n",
              "      <td>0.000000</td>\n",
              "    </tr>\n",
              "    <tr>\n",
              "      <th>75160</th>\n",
              "      <td>27205</td>\n",
              "      <td>2007-01-01</td>\n",
              "      <td>43104</td>\n",
              "      <td>White</td>\n",
              "      <td>M</td>\n",
              "      <td>0</td>\n",
              "      <td>2</td>\n",
              "      <td>0</td>\n",
              "      <td>0</td>\n",
              "      <td>0.0</td>\n",
              "      <td>24.0</td>\n",
              "      <td>26.813366</td>\n",
              "    </tr>\n",
              "    <tr>\n",
              "      <th>38190</th>\n",
              "      <td>13767</td>\n",
              "      <td>2007-01-01</td>\n",
              "      <td>68262</td>\n",
              "      <td>Black</td>\n",
              "      <td>M</td>\n",
              "      <td>0</td>\n",
              "      <td>2</td>\n",
              "      <td>0</td>\n",
              "      <td>0</td>\n",
              "      <td>8.0</td>\n",
              "      <td>38.0</td>\n",
              "      <td>0.000000</td>\n",
              "    </tr>\n",
              "    <tr>\n",
              "      <th>87482</th>\n",
              "      <td>31590</td>\n",
              "      <td>2007-01-01</td>\n",
              "      <td>73116</td>\n",
              "      <td>White</td>\n",
              "      <td>M</td>\n",
              "      <td>1</td>\n",
              "      <td>3</td>\n",
              "      <td>1</td>\n",
              "      <td>0</td>\n",
              "      <td>16.0</td>\n",
              "      <td>39.0</td>\n",
              "      <td>0.000000</td>\n",
              "    </tr>\n",
              "  </tbody>\n",
              "</table>\n",
              "</div>"
            ],
            "text/plain": [
              "       officer_id       year  salary   race gender  trr_count  hm_count  allegations_count  sustained_count  experience   age      raise\n",
              "0               1 2007-01-01   58896  White      M          0         4                  1                0         2.0  36.0   4.902151\n",
              "38199       13768 2007-01-01   73116  Black      M          0         1                  0                0        16.0  54.0   0.000000\n",
              "75160       27205 2007-01-01   43104  White      M          0         2                  0                0         0.0  24.0  26.813366\n",
              "38190       13767 2007-01-01   68262  Black      M          0         2                  0                0         8.0  38.0   0.000000\n",
              "87482       31590 2007-01-01   73116  White      M          1         3                  1                0        16.0  39.0   0.000000"
            ]
          },
          "metadata": {
            "tags": []
          },
          "execution_count": 8
        }
      ]
    },
    {
      "cell_type": "markdown",
      "metadata": {
        "id": "LGYScGfhPHc0"
      },
      "source": [
        "## DATA EXPLORATION ##\n",
        "\n",
        "**We use the next few cells to show you some elements we thought were significant**"
      ]
    },
    {
      "cell_type": "markdown",
      "metadata": {
        "id": "u7fb4SlVSL07"
      },
      "source": [
        "**1. Correlation Analysis**\n",
        "\n",
        "*   As expected, strong positive correlations between experience, age, and salary\n",
        "*   Positive correlation between raise and year\n",
        "*   Strong negative correlation between salary and year\n",
        "*   Negative correlation between raise and experience and age\n",
        "*   TRRs, allegations, honorable mentions, sustained allegations seem to have little to no correlation with raise"
      ]
    },
    {
      "cell_type": "code",
      "metadata": {
        "id": "86l8hyfzSTxh",
        "colab": {
          "base_uri": "https://localhost:8080/",
          "height": 328
        },
        "outputId": "81bf289a-10b3-4841-8de7-a2c43ae48bab"
      },
      "source": [
        "df.corr()"
      ],
      "execution_count": 9,
      "outputs": [
        {
          "output_type": "execute_result",
          "data": {
            "text/html": [
              "<div>\n",
              "<style scoped>\n",
              "    .dataframe tbody tr th:only-of-type {\n",
              "        vertical-align: middle;\n",
              "    }\n",
              "\n",
              "    .dataframe tbody tr th {\n",
              "        vertical-align: top;\n",
              "    }\n",
              "\n",
              "    .dataframe thead th {\n",
              "        text-align: right;\n",
              "    }\n",
              "</style>\n",
              "<table border=\"1\" class=\"dataframe\">\n",
              "  <thead>\n",
              "    <tr style=\"text-align: right;\">\n",
              "      <th></th>\n",
              "      <th>officer_id</th>\n",
              "      <th>salary</th>\n",
              "      <th>trr_count</th>\n",
              "      <th>hm_count</th>\n",
              "      <th>allegations_count</th>\n",
              "      <th>sustained_count</th>\n",
              "      <th>experience</th>\n",
              "      <th>age</th>\n",
              "      <th>raise</th>\n",
              "    </tr>\n",
              "  </thead>\n",
              "  <tbody>\n",
              "    <tr>\n",
              "      <th>officer_id</th>\n",
              "      <td>1.000000</td>\n",
              "      <td>-0.002583</td>\n",
              "      <td>0.028239</td>\n",
              "      <td>0.030924</td>\n",
              "      <td>0.038289</td>\n",
              "      <td>-0.000480</td>\n",
              "      <td>-0.025091</td>\n",
              "      <td>-0.038374</td>\n",
              "      <td>-0.010735</td>\n",
              "    </tr>\n",
              "    <tr>\n",
              "      <th>salary</th>\n",
              "      <td>-0.002583</td>\n",
              "      <td>1.000000</td>\n",
              "      <td>-0.103111</td>\n",
              "      <td>-0.116256</td>\n",
              "      <td>-0.105376</td>\n",
              "      <td>-0.006115</td>\n",
              "      <td>0.734985</td>\n",
              "      <td>0.594448</td>\n",
              "      <td>-0.627751</td>\n",
              "    </tr>\n",
              "    <tr>\n",
              "      <th>trr_count</th>\n",
              "      <td>0.028239</td>\n",
              "      <td>-0.103111</td>\n",
              "      <td>1.000000</td>\n",
              "      <td>0.353181</td>\n",
              "      <td>0.352012</td>\n",
              "      <td>0.042530</td>\n",
              "      <td>-0.261296</td>\n",
              "      <td>-0.279220</td>\n",
              "      <td>-0.010721</td>\n",
              "    </tr>\n",
              "    <tr>\n",
              "      <th>hm_count</th>\n",
              "      <td>0.030924</td>\n",
              "      <td>-0.116256</td>\n",
              "      <td>0.353181</td>\n",
              "      <td>1.000000</td>\n",
              "      <td>0.355241</td>\n",
              "      <td>0.006597</td>\n",
              "      <td>-0.267680</td>\n",
              "      <td>-0.305088</td>\n",
              "      <td>-0.010970</td>\n",
              "    </tr>\n",
              "    <tr>\n",
              "      <th>allegations_count</th>\n",
              "      <td>0.038289</td>\n",
              "      <td>-0.105376</td>\n",
              "      <td>0.352012</td>\n",
              "      <td>0.355241</td>\n",
              "      <td>1.000000</td>\n",
              "      <td>0.230412</td>\n",
              "      <td>-0.187117</td>\n",
              "      <td>-0.195534</td>\n",
              "      <td>-0.045327</td>\n",
              "    </tr>\n",
              "    <tr>\n",
              "      <th>sustained_count</th>\n",
              "      <td>-0.000480</td>\n",
              "      <td>-0.006115</td>\n",
              "      <td>0.042530</td>\n",
              "      <td>0.006597</td>\n",
              "      <td>0.230412</td>\n",
              "      <td>1.000000</td>\n",
              "      <td>-0.011898</td>\n",
              "      <td>0.000077</td>\n",
              "      <td>-0.014986</td>\n",
              "    </tr>\n",
              "    <tr>\n",
              "      <th>experience</th>\n",
              "      <td>-0.025091</td>\n",
              "      <td>0.734985</td>\n",
              "      <td>-0.261296</td>\n",
              "      <td>-0.267680</td>\n",
              "      <td>-0.187117</td>\n",
              "      <td>-0.011898</td>\n",
              "      <td>1.000000</td>\n",
              "      <td>0.814890</td>\n",
              "      <td>-0.344328</td>\n",
              "    </tr>\n",
              "    <tr>\n",
              "      <th>age</th>\n",
              "      <td>-0.038374</td>\n",
              "      <td>0.594448</td>\n",
              "      <td>-0.279220</td>\n",
              "      <td>-0.305088</td>\n",
              "      <td>-0.195534</td>\n",
              "      <td>0.000077</td>\n",
              "      <td>0.814890</td>\n",
              "      <td>1.000000</td>\n",
              "      <td>-0.284793</td>\n",
              "    </tr>\n",
              "    <tr>\n",
              "      <th>raise</th>\n",
              "      <td>-0.010735</td>\n",
              "      <td>-0.627751</td>\n",
              "      <td>-0.010721</td>\n",
              "      <td>-0.010970</td>\n",
              "      <td>-0.045327</td>\n",
              "      <td>-0.014986</td>\n",
              "      <td>-0.344328</td>\n",
              "      <td>-0.284793</td>\n",
              "      <td>1.000000</td>\n",
              "    </tr>\n",
              "  </tbody>\n",
              "</table>\n",
              "</div>"
            ],
            "text/plain": [
              "                   officer_id    salary  trr_count  hm_count  allegations_count  sustained_count  experience       age     raise\n",
              "officer_id           1.000000 -0.002583   0.028239  0.030924           0.038289        -0.000480   -0.025091 -0.038374 -0.010735\n",
              "salary              -0.002583  1.000000  -0.103111 -0.116256          -0.105376        -0.006115    0.734985  0.594448 -0.627751\n",
              "trr_count            0.028239 -0.103111   1.000000  0.353181           0.352012         0.042530   -0.261296 -0.279220 -0.010721\n",
              "hm_count             0.030924 -0.116256   0.353181  1.000000           0.355241         0.006597   -0.267680 -0.305088 -0.010970\n",
              "allegations_count    0.038289 -0.105376   0.352012  0.355241           1.000000         0.230412   -0.187117 -0.195534 -0.045327\n",
              "sustained_count     -0.000480 -0.006115   0.042530  0.006597           0.230412         1.000000   -0.011898  0.000077 -0.014986\n",
              "experience          -0.025091  0.734985  -0.261296 -0.267680          -0.187117        -0.011898    1.000000  0.814890 -0.344328\n",
              "age                 -0.038374  0.594448  -0.279220 -0.305088          -0.195534         0.000077    0.814890  1.000000 -0.284793\n",
              "raise               -0.010735 -0.627751  -0.010721 -0.010970          -0.045327        -0.014986   -0.344328 -0.284793  1.000000"
            ]
          },
          "metadata": {
            "tags": []
          },
          "execution_count": 9
        }
      ]
    },
    {
      "cell_type": "markdown",
      "metadata": {
        "id": "xpfC4-lXPzhg"
      },
      "source": [
        "**2. As suspected, the raises vary with the years.**\n",
        "\n",
        "- Note that 2013 and 2009 have high mean raises"
      ]
    },
    {
      "cell_type": "code",
      "metadata": {
        "id": "se3K4p5cLFGb",
        "colab": {
          "base_uri": "https://localhost:8080/",
          "height": 297
        },
        "outputId": "9d0bb472-c883-47e9-b97a-132aa931adf2"
      },
      "source": [
        "raises = pd.DataFrame(zip(list(df['year'].unique()), \n",
        "                          list(df.groupby(['year'])['raise'].mean()), \n",
        "                          list(df.groupby(['year'])['raise'].median()),\n",
        "                          list(df.groupby(['year'])['raise'].std()),\n",
        "                          list(df.groupby(['year'])['raise'].var()),\n",
        "                          list(df.groupby(['year'])['raise'].skew())),\n",
        "                      columns=['year', 'mean raise', 'median raise', 'std raise', 'var raise', 'skew raise'])\n",
        "raises"
      ],
      "execution_count": 10,
      "outputs": [
        {
          "output_type": "execute_result",
          "data": {
            "text/html": [
              "<div>\n",
              "<style scoped>\n",
              "    .dataframe tbody tr th:only-of-type {\n",
              "        vertical-align: middle;\n",
              "    }\n",
              "\n",
              "    .dataframe tbody tr th {\n",
              "        vertical-align: top;\n",
              "    }\n",
              "\n",
              "    .dataframe thead th {\n",
              "        text-align: right;\n",
              "    }\n",
              "</style>\n",
              "<table border=\"1\" class=\"dataframe\">\n",
              "  <thead>\n",
              "    <tr style=\"text-align: right;\">\n",
              "      <th></th>\n",
              "      <th>year</th>\n",
              "      <th>mean raise</th>\n",
              "      <th>median raise</th>\n",
              "      <th>std raise</th>\n",
              "      <th>var raise</th>\n",
              "      <th>skew raise</th>\n",
              "    </tr>\n",
              "  </thead>\n",
              "  <tbody>\n",
              "    <tr>\n",
              "      <th>0</th>\n",
              "      <td>2007-01-01</td>\n",
              "      <td>2.264243</td>\n",
              "      <td>0.000000</td>\n",
              "      <td>5.183327</td>\n",
              "      <td>26.866884</td>\n",
              "      <td>3.570471</td>\n",
              "    </tr>\n",
              "    <tr>\n",
              "      <th>1</th>\n",
              "      <td>2008-01-01</td>\n",
              "      <td>1.610521</td>\n",
              "      <td>0.000000</td>\n",
              "      <td>3.340903</td>\n",
              "      <td>11.161635</td>\n",
              "      <td>4.741325</td>\n",
              "    </tr>\n",
              "    <tr>\n",
              "      <th>2</th>\n",
              "      <td>2009-01-01</td>\n",
              "      <td>8.115766</td>\n",
              "      <td>6.700016</td>\n",
              "      <td>3.028777</td>\n",
              "      <td>9.173489</td>\n",
              "      <td>4.751789</td>\n",
              "    </tr>\n",
              "    <tr>\n",
              "      <th>3</th>\n",
              "      <td>2010-01-01</td>\n",
              "      <td>3.517023</td>\n",
              "      <td>1.961730</td>\n",
              "      <td>3.987775</td>\n",
              "      <td>15.902352</td>\n",
              "      <td>5.413427</td>\n",
              "    </tr>\n",
              "    <tr>\n",
              "      <th>4</th>\n",
              "      <td>2011-01-01</td>\n",
              "      <td>1.908440</td>\n",
              "      <td>0.989202</td>\n",
              "      <td>2.529715</td>\n",
              "      <td>6.399456</td>\n",
              "      <td>7.040216</td>\n",
              "    </tr>\n",
              "    <tr>\n",
              "      <th>5</th>\n",
              "      <td>2012-01-01</td>\n",
              "      <td>1.978371</td>\n",
              "      <td>0.000000</td>\n",
              "      <td>6.218376</td>\n",
              "      <td>38.668205</td>\n",
              "      <td>4.046976</td>\n",
              "    </tr>\n",
              "    <tr>\n",
              "      <th>6</th>\n",
              "      <td>2013-01-01</td>\n",
              "      <td>8.261752</td>\n",
              "      <td>5.768952</td>\n",
              "      <td>7.192851</td>\n",
              "      <td>51.737108</td>\n",
              "      <td>3.347655</td>\n",
              "    </tr>\n",
              "    <tr>\n",
              "      <th>7</th>\n",
              "      <td>2014-01-01</td>\n",
              "      <td>3.123902</td>\n",
              "      <td>0.991678</td>\n",
              "      <td>5.527625</td>\n",
              "      <td>30.554638</td>\n",
              "      <td>4.475517</td>\n",
              "    </tr>\n",
              "  </tbody>\n",
              "</table>\n",
              "</div>"
            ],
            "text/plain": [
              "        year  mean raise  median raise  std raise  var raise  skew raise\n",
              "0 2007-01-01    2.264243      0.000000   5.183327  26.866884    3.570471\n",
              "1 2008-01-01    1.610521      0.000000   3.340903  11.161635    4.741325\n",
              "2 2009-01-01    8.115766      6.700016   3.028777   9.173489    4.751789\n",
              "3 2010-01-01    3.517023      1.961730   3.987775  15.902352    5.413427\n",
              "4 2011-01-01    1.908440      0.989202   2.529715   6.399456    7.040216\n",
              "5 2012-01-01    1.978371      0.000000   6.218376  38.668205    4.046976\n",
              "6 2013-01-01    8.261752      5.768952   7.192851  51.737108    3.347655\n",
              "7 2014-01-01    3.123902      0.991678   5.527625  30.554638    4.475517"
            ]
          },
          "metadata": {
            "tags": []
          },
          "execution_count": 10
        }
      ]
    },
    {
      "cell_type": "markdown",
      "metadata": {
        "id": "BRRK28aRTjss"
      },
      "source": [
        "**3. We look at experience and raises here**\n",
        "\n",
        "*   New recruits are quite significant. Academy graduates get the highest raises.\n",
        "*   Note that 2013 and 2009 have abnormally high mean raises. 2013 has a surge of new recruits. 2009 does not."
      ]
    },
    {
      "cell_type": "code",
      "metadata": {
        "id": "OvrtJsKZUKra",
        "colab": {
          "base_uri": "https://localhost:8080/",
          "height": 317
        },
        "outputId": "517c8d65-4b8f-4c00-ac5d-1c491a3015a6"
      },
      "source": [
        "exp = df.pivot(index='officer_id', columns='experience', values='raise')\n",
        "exp.describe()"
      ],
      "execution_count": 11,
      "outputs": [
        {
          "output_type": "execute_result",
          "data": {
            "text/html": [
              "<div>\n",
              "<style scoped>\n",
              "    .dataframe tbody tr th:only-of-type {\n",
              "        vertical-align: middle;\n",
              "    }\n",
              "\n",
              "    .dataframe tbody tr th {\n",
              "        vertical-align: top;\n",
              "    }\n",
              "\n",
              "    .dataframe thead th {\n",
              "        text-align: right;\n",
              "    }\n",
              "</style>\n",
              "<table border=\"1\" class=\"dataframe\">\n",
              "  <thead>\n",
              "    <tr style=\"text-align: right;\">\n",
              "      <th>experience</th>\n",
              "      <th>0.0</th>\n",
              "      <th>1.0</th>\n",
              "      <th>2.0</th>\n",
              "      <th>3.0</th>\n",
              "      <th>4.0</th>\n",
              "      <th>5.0</th>\n",
              "      <th>6.0</th>\n",
              "      <th>7.0</th>\n",
              "      <th>8.0</th>\n",
              "      <th>9.0</th>\n",
              "      <th>10.0</th>\n",
              "      <th>11.0</th>\n",
              "      <th>12.0</th>\n",
              "      <th>13.0</th>\n",
              "      <th>14.0</th>\n",
              "      <th>15.0</th>\n",
              "      <th>16.0</th>\n",
              "      <th>17.0</th>\n",
              "      <th>18.0</th>\n",
              "      <th>19.0</th>\n",
              "      <th>20.0</th>\n",
              "      <th>21.0</th>\n",
              "      <th>22.0</th>\n",
              "      <th>23.0</th>\n",
              "      <th>24.0</th>\n",
              "      <th>25.0</th>\n",
              "      <th>26.0</th>\n",
              "      <th>27.0</th>\n",
              "      <th>28.0</th>\n",
              "      <th>29.0</th>\n",
              "      <th>30.0</th>\n",
              "      <th>31.0</th>\n",
              "      <th>32.0</th>\n",
              "      <th>33.0</th>\n",
              "      <th>34.0</th>\n",
              "      <th>35.0</th>\n",
              "      <th>36.0</th>\n",
              "      <th>37.0</th>\n",
              "      <th>38.0</th>\n",
              "      <th>39.0</th>\n",
              "      <th>40.0</th>\n",
              "      <th>41.0</th>\n",
              "      <th>42.0</th>\n",
              "    </tr>\n",
              "  </thead>\n",
              "  <tbody>\n",
              "    <tr>\n",
              "      <th>count</th>\n",
              "      <td>2158.000000</td>\n",
              "      <td>2467.000000</td>\n",
              "      <td>2374.000000</td>\n",
              "      <td>2404.000000</td>\n",
              "      <td>2751.000000</td>\n",
              "      <td>3044.000000</td>\n",
              "      <td>3401.000000</td>\n",
              "      <td>3854.000000</td>\n",
              "      <td>4198.000000</td>\n",
              "      <td>4150.000000</td>\n",
              "      <td>4042.000000</td>\n",
              "      <td>3971.000000</td>\n",
              "      <td>4115.000000</td>\n",
              "      <td>4196.000000</td>\n",
              "      <td>3892.000000</td>\n",
              "      <td>3578.000000</td>\n",
              "      <td>3433.000000</td>\n",
              "      <td>3141.000000</td>\n",
              "      <td>2830.000000</td>\n",
              "      <td>2564.000000</td>\n",
              "      <td>2123.000000</td>\n",
              "      <td>1970.000000</td>\n",
              "      <td>1840.000000</td>\n",
              "      <td>1538.000000</td>\n",
              "      <td>1091.000000</td>\n",
              "      <td>950.000000</td>\n",
              "      <td>828.000000</td>\n",
              "      <td>744.000000</td>\n",
              "      <td>542.000000</td>\n",
              "      <td>279.000000</td>\n",
              "      <td>202.000000</td>\n",
              "      <td>191.000000</td>\n",
              "      <td>140.000000</td>\n",
              "      <td>94.000000</td>\n",
              "      <td>101.000000</td>\n",
              "      <td>89.000000</td>\n",
              "      <td>88.000000</td>\n",
              "      <td>83.000000</td>\n",
              "      <td>59.000000</td>\n",
              "      <td>43.000000</td>\n",
              "      <td>25.000000</td>\n",
              "      <td>10.000000</td>\n",
              "      <td>4.000000</td>\n",
              "    </tr>\n",
              "    <tr>\n",
              "      <th>mean</th>\n",
              "      <td>29.945839</td>\n",
              "      <td>7.557644</td>\n",
              "      <td>6.174837</td>\n",
              "      <td>7.194512</td>\n",
              "      <td>5.145563</td>\n",
              "      <td>1.785657</td>\n",
              "      <td>1.819387</td>\n",
              "      <td>2.198197</td>\n",
              "      <td>1.915049</td>\n",
              "      <td>5.099972</td>\n",
              "      <td>2.427892</td>\n",
              "      <td>2.300677</td>\n",
              "      <td>1.862023</td>\n",
              "      <td>1.791803</td>\n",
              "      <td>5.490019</td>\n",
              "      <td>2.681124</td>\n",
              "      <td>1.739173</td>\n",
              "      <td>1.655250</td>\n",
              "      <td>2.745771</td>\n",
              "      <td>5.670569</td>\n",
              "      <td>1.777306</td>\n",
              "      <td>1.409182</td>\n",
              "      <td>2.241755</td>\n",
              "      <td>3.041569</td>\n",
              "      <td>4.531525</td>\n",
              "      <td>1.535846</td>\n",
              "      <td>1.241971</td>\n",
              "      <td>2.888888</td>\n",
              "      <td>2.169318</td>\n",
              "      <td>2.478409</td>\n",
              "      <td>0.621375</td>\n",
              "      <td>1.702142</td>\n",
              "      <td>2.886024</td>\n",
              "      <td>3.458993</td>\n",
              "      <td>0.935200</td>\n",
              "      <td>0.155371</td>\n",
              "      <td>3.067677</td>\n",
              "      <td>1.613502</td>\n",
              "      <td>1.908349</td>\n",
              "      <td>2.658793</td>\n",
              "      <td>1.550149</td>\n",
              "      <td>3.546425</td>\n",
              "      <td>0.978926</td>\n",
              "    </tr>\n",
              "    <tr>\n",
              "      <th>std</th>\n",
              "      <td>6.254785</td>\n",
              "      <td>4.444405</td>\n",
              "      <td>2.307352</td>\n",
              "      <td>2.823751</td>\n",
              "      <td>3.431052</td>\n",
              "      <td>2.416512</td>\n",
              "      <td>2.569398</td>\n",
              "      <td>2.678729</td>\n",
              "      <td>2.519403</td>\n",
              "      <td>2.471780</td>\n",
              "      <td>2.760766</td>\n",
              "      <td>2.623814</td>\n",
              "      <td>2.371794</td>\n",
              "      <td>2.475391</td>\n",
              "      <td>2.808367</td>\n",
              "      <td>2.734471</td>\n",
              "      <td>2.223415</td>\n",
              "      <td>2.336102</td>\n",
              "      <td>2.993731</td>\n",
              "      <td>2.766277</td>\n",
              "      <td>2.468623</td>\n",
              "      <td>2.297755</td>\n",
              "      <td>2.700611</td>\n",
              "      <td>2.746097</td>\n",
              "      <td>2.231547</td>\n",
              "      <td>1.786891</td>\n",
              "      <td>2.206925</td>\n",
              "      <td>2.930710</td>\n",
              "      <td>2.287522</td>\n",
              "      <td>2.694119</td>\n",
              "      <td>1.158039</td>\n",
              "      <td>2.697156</td>\n",
              "      <td>3.150586</td>\n",
              "      <td>2.710516</td>\n",
              "      <td>1.524172</td>\n",
              "      <td>0.390606</td>\n",
              "      <td>3.290003</td>\n",
              "      <td>2.432848</td>\n",
              "      <td>2.659767</td>\n",
              "      <td>2.931722</td>\n",
              "      <td>2.104305</td>\n",
              "      <td>3.340102</td>\n",
              "      <td>1.130366</td>\n",
              "    </tr>\n",
              "    <tr>\n",
              "      <th>min</th>\n",
              "      <td>0.000000</td>\n",
              "      <td>0.000000</td>\n",
              "      <td>0.000000</td>\n",
              "      <td>0.000000</td>\n",
              "      <td>0.000000</td>\n",
              "      <td>0.000000</td>\n",
              "      <td>0.000000</td>\n",
              "      <td>0.000000</td>\n",
              "      <td>0.000000</td>\n",
              "      <td>0.000000</td>\n",
              "      <td>0.000000</td>\n",
              "      <td>0.000000</td>\n",
              "      <td>0.000000</td>\n",
              "      <td>0.000000</td>\n",
              "      <td>0.000000</td>\n",
              "      <td>0.000000</td>\n",
              "      <td>0.000000</td>\n",
              "      <td>0.000000</td>\n",
              "      <td>0.000000</td>\n",
              "      <td>0.000000</td>\n",
              "      <td>0.000000</td>\n",
              "      <td>0.000000</td>\n",
              "      <td>0.000000</td>\n",
              "      <td>0.000000</td>\n",
              "      <td>0.000000</td>\n",
              "      <td>0.000000</td>\n",
              "      <td>0.000000</td>\n",
              "      <td>0.000000</td>\n",
              "      <td>0.000000</td>\n",
              "      <td>0.000000</td>\n",
              "      <td>0.000000</td>\n",
              "      <td>0.000000</td>\n",
              "      <td>0.000000</td>\n",
              "      <td>0.000000</td>\n",
              "      <td>0.000000</td>\n",
              "      <td>0.000000</td>\n",
              "      <td>0.000000</td>\n",
              "      <td>0.000000</td>\n",
              "      <td>0.000000</td>\n",
              "      <td>0.000000</td>\n",
              "      <td>0.000000</td>\n",
              "      <td>0.000000</td>\n",
              "      <td>0.000000</td>\n",
              "    </tr>\n",
              "    <tr>\n",
              "      <th>25%</th>\n",
              "      <td>27.828009</td>\n",
              "      <td>5.378973</td>\n",
              "      <td>4.902151</td>\n",
              "      <td>4.708272</td>\n",
              "      <td>1.961730</td>\n",
              "      <td>0.000000</td>\n",
              "      <td>0.000000</td>\n",
              "      <td>0.000000</td>\n",
              "      <td>0.000000</td>\n",
              "      <td>3.388247</td>\n",
              "      <td>0.000000</td>\n",
              "      <td>0.000000</td>\n",
              "      <td>0.000000</td>\n",
              "      <td>0.000000</td>\n",
              "      <td>3.364517</td>\n",
              "      <td>0.988554</td>\n",
              "      <td>0.000000</td>\n",
              "      <td>0.000000</td>\n",
              "      <td>0.000000</td>\n",
              "      <td>4.515805</td>\n",
              "      <td>0.000000</td>\n",
              "      <td>0.000000</td>\n",
              "      <td>0.000000</td>\n",
              "      <td>0.989176</td>\n",
              "      <td>3.775688</td>\n",
              "      <td>0.000000</td>\n",
              "      <td>0.000000</td>\n",
              "      <td>0.000000</td>\n",
              "      <td>0.987911</td>\n",
              "      <td>0.987911</td>\n",
              "      <td>0.000000</td>\n",
              "      <td>0.000000</td>\n",
              "      <td>0.000000</td>\n",
              "      <td>0.989408</td>\n",
              "      <td>0.000000</td>\n",
              "      <td>0.000000</td>\n",
              "      <td>0.000000</td>\n",
              "      <td>0.000000</td>\n",
              "      <td>0.000000</td>\n",
              "      <td>0.000000</td>\n",
              "      <td>0.000000</td>\n",
              "      <td>0.247358</td>\n",
              "      <td>0.000000</td>\n",
              "    </tr>\n",
              "    <tr>\n",
              "      <th>50%</th>\n",
              "      <td>29.946368</td>\n",
              "      <td>5.869352</td>\n",
              "      <td>4.902151</td>\n",
              "      <td>5.747492</td>\n",
              "      <td>4.790367</td>\n",
              "      <td>0.987104</td>\n",
              "      <td>0.987104</td>\n",
              "      <td>0.987104</td>\n",
              "      <td>0.987104</td>\n",
              "      <td>4.337794</td>\n",
              "      <td>0.992155</td>\n",
              "      <td>0.992155</td>\n",
              "      <td>0.992155</td>\n",
              "      <td>0.990241</td>\n",
              "      <td>4.318418</td>\n",
              "      <td>0.991678</td>\n",
              "      <td>0.990688</td>\n",
              "      <td>0.988554</td>\n",
              "      <td>0.991678</td>\n",
              "      <td>4.552400</td>\n",
              "      <td>0.989558</td>\n",
              "      <td>0.000000</td>\n",
              "      <td>0.989176</td>\n",
              "      <td>1.957541</td>\n",
              "      <td>3.776160</td>\n",
              "      <td>0.989202</td>\n",
              "      <td>0.000000</td>\n",
              "      <td>0.987911</td>\n",
              "      <td>0.989202</td>\n",
              "      <td>0.989202</td>\n",
              "      <td>0.000000</td>\n",
              "      <td>0.000000</td>\n",
              "      <td>0.987911</td>\n",
              "      <td>1.962992</td>\n",
              "      <td>0.000000</td>\n",
              "      <td>0.000000</td>\n",
              "      <td>0.000000</td>\n",
              "      <td>0.000000</td>\n",
              "      <td>0.989433</td>\n",
              "      <td>1.957852</td>\n",
              "      <td>0.989433</td>\n",
              "      <td>3.841211</td>\n",
              "      <td>0.978926</td>\n",
              "    </tr>\n",
              "    <tr>\n",
              "      <th>75%</th>\n",
              "      <td>33.982724</td>\n",
              "      <td>10.818332</td>\n",
              "      <td>5.869352</td>\n",
              "      <td>11.078567</td>\n",
              "      <td>6.673099</td>\n",
              "      <td>1.961730</td>\n",
              "      <td>1.961730</td>\n",
              "      <td>5.761440</td>\n",
              "      <td>1.961730</td>\n",
              "      <td>5.274606</td>\n",
              "      <td>5.768952</td>\n",
              "      <td>5.768952</td>\n",
              "      <td>1.957586</td>\n",
              "      <td>1.957586</td>\n",
              "      <td>8.930448</td>\n",
              "      <td>5.764516</td>\n",
              "      <td>1.959312</td>\n",
              "      <td>1.959312</td>\n",
              "      <td>5.764516</td>\n",
              "      <td>9.125296</td>\n",
              "      <td>1.961920</td>\n",
              "      <td>0.989768</td>\n",
              "      <td>5.768322</td>\n",
              "      <td>6.690297</td>\n",
              "      <td>4.721030</td>\n",
              "      <td>1.962992</td>\n",
              "      <td>0.989202</td>\n",
              "      <td>5.769988</td>\n",
              "      <td>1.962992</td>\n",
              "      <td>6.690333</td>\n",
              "      <td>0.989202</td>\n",
              "      <td>0.989951</td>\n",
              "      <td>6.691713</td>\n",
              "      <td>6.695852</td>\n",
              "      <td>0.989433</td>\n",
              "      <td>0.000000</td>\n",
              "      <td>6.698100</td>\n",
              "      <td>1.957852</td>\n",
              "      <td>1.959516</td>\n",
              "      <td>6.688654</td>\n",
              "      <td>1.959516</td>\n",
              "      <td>6.698100</td>\n",
              "      <td>1.957852</td>\n",
              "    </tr>\n",
              "    <tr>\n",
              "      <th>max</th>\n",
              "      <td>37.525002</td>\n",
              "      <td>37.525002</td>\n",
              "      <td>11.271807</td>\n",
              "      <td>15.345762</td>\n",
              "      <td>29.946368</td>\n",
              "      <td>21.495869</td>\n",
              "      <td>29.946368</td>\n",
              "      <td>29.946368</td>\n",
              "      <td>26.521240</td>\n",
              "      <td>21.140788</td>\n",
              "      <td>22.321900</td>\n",
              "      <td>18.379357</td>\n",
              "      <td>17.575874</td>\n",
              "      <td>26.813366</td>\n",
              "      <td>24.686621</td>\n",
              "      <td>35.523810</td>\n",
              "      <td>18.504648</td>\n",
              "      <td>11.128938</td>\n",
              "      <td>49.740163</td>\n",
              "      <td>29.946368</td>\n",
              "      <td>15.109718</td>\n",
              "      <td>11.860805</td>\n",
              "      <td>6.704444</td>\n",
              "      <td>8.520959</td>\n",
              "      <td>10.013292</td>\n",
              "      <td>8.464202</td>\n",
              "      <td>12.080278</td>\n",
              "      <td>12.080278</td>\n",
              "      <td>6.698100</td>\n",
              "      <td>9.315344</td>\n",
              "      <td>5.769988</td>\n",
              "      <td>6.698100</td>\n",
              "      <td>10.958154</td>\n",
              "      <td>9.315344</td>\n",
              "      <td>6.698100</td>\n",
              "      <td>1.957852</td>\n",
              "      <td>6.698100</td>\n",
              "      <td>6.698100</td>\n",
              "      <td>6.698100</td>\n",
              "      <td>6.698100</td>\n",
              "      <td>6.698100</td>\n",
              "      <td>6.698100</td>\n",
              "      <td>1.957852</td>\n",
              "    </tr>\n",
              "  </tbody>\n",
              "</table>\n",
              "</div>"
            ],
            "text/plain": [
              "experience         0.0          1.0          2.0          3.0          4.0          5.0          6.0          7.0          8.0          9.0          10.0         11.0         12.0         13.0         14.0         15.0         16.0         17.0         18.0         19.0         20.0         21.0         22.0         23.0         24.0        25.0        26.0        27.0        28.0        29.0        30.0        31.0        32.0       33.0        34.0       35.0       36.0       37.0       38.0       39.0       40.0       41.0      42.0\n",
              "count       2158.000000  2467.000000  2374.000000  2404.000000  2751.000000  3044.000000  3401.000000  3854.000000  4198.000000  4150.000000  4042.000000  3971.000000  4115.000000  4196.000000  3892.000000  3578.000000  3433.000000  3141.000000  2830.000000  2564.000000  2123.000000  1970.000000  1840.000000  1538.000000  1091.000000  950.000000  828.000000  744.000000  542.000000  279.000000  202.000000  191.000000  140.000000  94.000000  101.000000  89.000000  88.000000  83.000000  59.000000  43.000000  25.000000  10.000000  4.000000\n",
              "mean          29.945839     7.557644     6.174837     7.194512     5.145563     1.785657     1.819387     2.198197     1.915049     5.099972     2.427892     2.300677     1.862023     1.791803     5.490019     2.681124     1.739173     1.655250     2.745771     5.670569     1.777306     1.409182     2.241755     3.041569     4.531525    1.535846    1.241971    2.888888    2.169318    2.478409    0.621375    1.702142    2.886024   3.458993    0.935200   0.155371   3.067677   1.613502   1.908349   2.658793   1.550149   3.546425  0.978926\n",
              "std            6.254785     4.444405     2.307352     2.823751     3.431052     2.416512     2.569398     2.678729     2.519403     2.471780     2.760766     2.623814     2.371794     2.475391     2.808367     2.734471     2.223415     2.336102     2.993731     2.766277     2.468623     2.297755     2.700611     2.746097     2.231547    1.786891    2.206925    2.930710    2.287522    2.694119    1.158039    2.697156    3.150586   2.710516    1.524172   0.390606   3.290003   2.432848   2.659767   2.931722   2.104305   3.340102  1.130366\n",
              "min            0.000000     0.000000     0.000000     0.000000     0.000000     0.000000     0.000000     0.000000     0.000000     0.000000     0.000000     0.000000     0.000000     0.000000     0.000000     0.000000     0.000000     0.000000     0.000000     0.000000     0.000000     0.000000     0.000000     0.000000     0.000000    0.000000    0.000000    0.000000    0.000000    0.000000    0.000000    0.000000    0.000000   0.000000    0.000000   0.000000   0.000000   0.000000   0.000000   0.000000   0.000000   0.000000  0.000000\n",
              "25%           27.828009     5.378973     4.902151     4.708272     1.961730     0.000000     0.000000     0.000000     0.000000     3.388247     0.000000     0.000000     0.000000     0.000000     3.364517     0.988554     0.000000     0.000000     0.000000     4.515805     0.000000     0.000000     0.000000     0.989176     3.775688    0.000000    0.000000    0.000000    0.987911    0.987911    0.000000    0.000000    0.000000   0.989408    0.000000   0.000000   0.000000   0.000000   0.000000   0.000000   0.000000   0.247358  0.000000\n",
              "50%           29.946368     5.869352     4.902151     5.747492     4.790367     0.987104     0.987104     0.987104     0.987104     4.337794     0.992155     0.992155     0.992155     0.990241     4.318418     0.991678     0.990688     0.988554     0.991678     4.552400     0.989558     0.000000     0.989176     1.957541     3.776160    0.989202    0.000000    0.987911    0.989202    0.989202    0.000000    0.000000    0.987911   1.962992    0.000000   0.000000   0.000000   0.000000   0.989433   1.957852   0.989433   3.841211  0.978926\n",
              "75%           33.982724    10.818332     5.869352    11.078567     6.673099     1.961730     1.961730     5.761440     1.961730     5.274606     5.768952     5.768952     1.957586     1.957586     8.930448     5.764516     1.959312     1.959312     5.764516     9.125296     1.961920     0.989768     5.768322     6.690297     4.721030    1.962992    0.989202    5.769988    1.962992    6.690333    0.989202    0.989951    6.691713   6.695852    0.989433   0.000000   6.698100   1.957852   1.959516   6.688654   1.959516   6.698100  1.957852\n",
              "max           37.525002    37.525002    11.271807    15.345762    29.946368    21.495869    29.946368    29.946368    26.521240    21.140788    22.321900    18.379357    17.575874    26.813366    24.686621    35.523810    18.504648    11.128938    49.740163    29.946368    15.109718    11.860805     6.704444     8.520959    10.013292    8.464202   12.080278   12.080278    6.698100    9.315344    5.769988    6.698100   10.958154   9.315344    6.698100   1.957852   6.698100   6.698100   6.698100   6.698100   6.698100   6.698100  1.957852"
            ]
          },
          "metadata": {
            "tags": []
          },
          "execution_count": 11
        }
      ]
    },
    {
      "cell_type": "code",
      "metadata": {
        "id": "K9_uDOcRLFGe",
        "colab": {
          "base_uri": "https://localhost:8080/"
        },
        "outputId": "db05ac8e-738b-435f-c2e4-245b223acd02"
      },
      "source": [
        "rookies = df[df['experience']<1]\n",
        "rookies.count()"
      ],
      "execution_count": 12,
      "outputs": [
        {
          "output_type": "execute_result",
          "data": {
            "text/plain": [
              "officer_id           2158\n",
              "year                 2158\n",
              "salary               2158\n",
              "race                 2158\n",
              "gender               2158\n",
              "trr_count            2158\n",
              "hm_count             2158\n",
              "allegations_count    2158\n",
              "sustained_count      2158\n",
              "experience           2158\n",
              "age                  2158\n",
              "raise                2158\n",
              "dtype: int64"
            ]
          },
          "metadata": {
            "tags": []
          },
          "execution_count": 12
        }
      ]
    },
    {
      "cell_type": "code",
      "metadata": {
        "id": "hJx9PuKqLFGq",
        "colab": {
          "base_uri": "https://localhost:8080/"
        },
        "outputId": "973e0063-5a33-4acf-acc7-616f4d3662be"
      },
      "source": [
        "rookies = df[df['experience']==0].groupby('year').count()\n",
        "rookies['officer_id']"
      ],
      "execution_count": 13,
      "outputs": [
        {
          "output_type": "execute_result",
          "data": {
            "text/plain": [
              "year\n",
              "2007-01-01    373\n",
              "2008-01-01    119\n",
              "2009-01-01    133\n",
              "2010-01-01    171\n",
              "2011-01-01     49\n",
              "2012-01-01    436\n",
              "2013-01-01    573\n",
              "2014-01-01    304\n",
              "Name: officer_id, dtype: int64"
            ]
          },
          "metadata": {
            "tags": []
          },
          "execution_count": 13
        }
      ]
    },
    {
      "cell_type": "markdown",
      "metadata": {
        "id": "vTQ8ASp4bOvw"
      },
      "source": [
        "### CREATE TIME SERIES DATASET\n",
        "\n",
        "#### we index these rows by year"
      ]
    },
    {
      "cell_type": "code",
      "metadata": {
        "colab": {
          "base_uri": "https://localhost:8080/",
          "height": 235
        },
        "id": "W1RoucdQbIAE",
        "outputId": "109f8311-0e9b-4d69-e32d-0ee7bfcc026a"
      },
      "source": [
        "df = df.set_index('year')\n",
        "df.head()"
      ],
      "execution_count": 14,
      "outputs": [
        {
          "output_type": "execute_result",
          "data": {
            "text/html": [
              "<div>\n",
              "<style scoped>\n",
              "    .dataframe tbody tr th:only-of-type {\n",
              "        vertical-align: middle;\n",
              "    }\n",
              "\n",
              "    .dataframe tbody tr th {\n",
              "        vertical-align: top;\n",
              "    }\n",
              "\n",
              "    .dataframe thead th {\n",
              "        text-align: right;\n",
              "    }\n",
              "</style>\n",
              "<table border=\"1\" class=\"dataframe\">\n",
              "  <thead>\n",
              "    <tr style=\"text-align: right;\">\n",
              "      <th></th>\n",
              "      <th>officer_id</th>\n",
              "      <th>salary</th>\n",
              "      <th>race</th>\n",
              "      <th>gender</th>\n",
              "      <th>trr_count</th>\n",
              "      <th>hm_count</th>\n",
              "      <th>allegations_count</th>\n",
              "      <th>sustained_count</th>\n",
              "      <th>experience</th>\n",
              "      <th>age</th>\n",
              "      <th>raise</th>\n",
              "    </tr>\n",
              "    <tr>\n",
              "      <th>year</th>\n",
              "      <th></th>\n",
              "      <th></th>\n",
              "      <th></th>\n",
              "      <th></th>\n",
              "      <th></th>\n",
              "      <th></th>\n",
              "      <th></th>\n",
              "      <th></th>\n",
              "      <th></th>\n",
              "      <th></th>\n",
              "      <th></th>\n",
              "    </tr>\n",
              "  </thead>\n",
              "  <tbody>\n",
              "    <tr>\n",
              "      <th>2007-01-01</th>\n",
              "      <td>1</td>\n",
              "      <td>58896</td>\n",
              "      <td>White</td>\n",
              "      <td>M</td>\n",
              "      <td>0</td>\n",
              "      <td>4</td>\n",
              "      <td>1</td>\n",
              "      <td>0</td>\n",
              "      <td>2.0</td>\n",
              "      <td>36.0</td>\n",
              "      <td>4.902151</td>\n",
              "    </tr>\n",
              "    <tr>\n",
              "      <th>2007-01-01</th>\n",
              "      <td>13768</td>\n",
              "      <td>73116</td>\n",
              "      <td>Black</td>\n",
              "      <td>M</td>\n",
              "      <td>0</td>\n",
              "      <td>1</td>\n",
              "      <td>0</td>\n",
              "      <td>0</td>\n",
              "      <td>16.0</td>\n",
              "      <td>54.0</td>\n",
              "      <td>0.000000</td>\n",
              "    </tr>\n",
              "    <tr>\n",
              "      <th>2007-01-01</th>\n",
              "      <td>27205</td>\n",
              "      <td>43104</td>\n",
              "      <td>White</td>\n",
              "      <td>M</td>\n",
              "      <td>0</td>\n",
              "      <td>2</td>\n",
              "      <td>0</td>\n",
              "      <td>0</td>\n",
              "      <td>0.0</td>\n",
              "      <td>24.0</td>\n",
              "      <td>26.813366</td>\n",
              "    </tr>\n",
              "    <tr>\n",
              "      <th>2007-01-01</th>\n",
              "      <td>13767</td>\n",
              "      <td>68262</td>\n",
              "      <td>Black</td>\n",
              "      <td>M</td>\n",
              "      <td>0</td>\n",
              "      <td>2</td>\n",
              "      <td>0</td>\n",
              "      <td>0</td>\n",
              "      <td>8.0</td>\n",
              "      <td>38.0</td>\n",
              "      <td>0.000000</td>\n",
              "    </tr>\n",
              "    <tr>\n",
              "      <th>2007-01-01</th>\n",
              "      <td>31590</td>\n",
              "      <td>73116</td>\n",
              "      <td>White</td>\n",
              "      <td>M</td>\n",
              "      <td>1</td>\n",
              "      <td>3</td>\n",
              "      <td>1</td>\n",
              "      <td>0</td>\n",
              "      <td>16.0</td>\n",
              "      <td>39.0</td>\n",
              "      <td>0.000000</td>\n",
              "    </tr>\n",
              "  </tbody>\n",
              "</table>\n",
              "</div>"
            ],
            "text/plain": [
              "            officer_id  salary   race gender  trr_count  hm_count  allegations_count  sustained_count  experience   age      raise\n",
              "year                                                                                                                              \n",
              "2007-01-01           1   58896  White      M          0         4                  1                0         2.0  36.0   4.902151\n",
              "2007-01-01       13768   73116  Black      M          0         1                  0                0        16.0  54.0   0.000000\n",
              "2007-01-01       27205   43104  White      M          0         2                  0                0         0.0  24.0  26.813366\n",
              "2007-01-01       13767   68262  Black      M          0         2                  0                0         8.0  38.0   0.000000\n",
              "2007-01-01       31590   73116  White      M          1         3                  1                0        16.0  39.0   0.000000"
            ]
          },
          "metadata": {
            "tags": []
          },
          "execution_count": 14
        }
      ]
    },
    {
      "cell_type": "markdown",
      "metadata": {
        "id": "KvhxccZrLFHS"
      },
      "source": [
        "## Model Training\n",
        "\n",
        "### Train / Val/ Test Set Split\n",
        "### Year < 2013, Year = 2013, Year = 2014\n",
        "\n",
        "- **Train:** X_train, y_train\n",
        "- **Val:** X_val, y_val\n",
        "- **Test:** X_test, y_test\n",
        "- **TRAIN:** X_train+X_val, y_train+y_val denoted X_TRAIN, y_TRAIN\n",
        "\n",
        "### **The intuition is to create a model that uses raises in years up to 2012 to predict raises in 2013. And then raises up to 2013 to predict raises in 2014.**"
      ]
    },
    {
      "cell_type": "code",
      "metadata": {
        "id": "7a8qCR5UmqVD"
      },
      "source": [
        "features = df.drop(columns=['officer_id', 'raise'])\n",
        "targets = df['raise']\n",
        "\n",
        "X_train, y_train = features[:'2012'], targets[:'2012']\n",
        "X_val, y_val = features['2013'], targets['2013']\n",
        "\n",
        "X_test, y_test = features['2014'], targets['2014']\n",
        "X_TRAIN, y_TRAIN = features[:'2013'], targets[:'2013']"
      ],
      "execution_count": 15,
      "outputs": []
    },
    {
      "cell_type": "markdown",
      "metadata": {
        "id": "3SpvMiw7LFHY"
      },
      "source": [
        "### Model Creation\n",
        "#### Instantiate the model\n",
        "\n",
        "**Note:**\n",
        "\n",
        "*   We use hyperparameters that were determined using gridsearch and 3-fold cross validation, optimizing Root Mean Squared Error\n",
        "*   We pass 'race' and 'gender' as categorical features. No need for one-hot encoding with catboost\n",
        "\n"
      ]
    },
    {
      "cell_type": "code",
      "metadata": {
        "id": "wnRpH1XjLFHY"
      },
      "source": [
        "# regressor = CatBoostRegressor(cat_features=('race', 'gender'), loss_function='RMSE', verbose=0)# , depth=6, learning_rate=0.1, l2_leaf_reg=1)\n",
        "regressor = CatBoostRegressor(cat_features=('race', 'gender'), loss_function='RMSE', verbose=0)"
      ],
      "execution_count": 16,
      "outputs": []
    },
    {
      "cell_type": "markdown",
      "metadata": {
        "id": "boS0C4qtXTA6"
      },
      "source": [
        "#### Used hyperparameters"
      ]
    },
    {
      "cell_type": "code",
      "metadata": {
        "id": "CvB0cPvpXXAy",
        "colab": {
          "base_uri": "https://localhost:8080/"
        },
        "outputId": "fd38308a-c728-4a48-e93e-8b4084d7956c"
      },
      "source": [
        "regressor.get_params()"
      ],
      "execution_count": 17,
      "outputs": [
        {
          "output_type": "execute_result",
          "data": {
            "text/plain": [
              "{'cat_features': ('race', 'gender'), 'loss_function': 'RMSE', 'verbose': 0}"
            ]
          },
          "metadata": {
            "tags": []
          },
          "execution_count": 17
        }
      ]
    },
    {
      "cell_type": "markdown",
      "metadata": {
        "id": "iIHipOJTLFHn"
      },
      "source": [
        "#### Fitting the model\n",
        "\n",
        "**We fit on the training set**"
      ]
    },
    {
      "cell_type": "code",
      "metadata": {
        "id": "NhD51U2ULFHn",
        "colab": {
          "base_uri": "https://localhost:8080/"
        },
        "outputId": "0d6dc414-3ff4-4d56-a099-212ec113388b"
      },
      "source": [
        "regressor.fit(X_train, y_train)"
      ],
      "execution_count": 18,
      "outputs": [
        {
          "output_type": "execute_result",
          "data": {
            "text/plain": [
              "<catboost.core.CatBoostRegressor at 0x7f748cae93c8>"
            ]
          },
          "metadata": {
            "tags": []
          },
          "execution_count": 18
        }
      ]
    },
    {
      "cell_type": "markdown",
      "metadata": {
        "id": "4AdVoAFxLFHu"
      },
      "source": [
        "## Evaluation"
      ]
    },
    {
      "cell_type": "markdown",
      "metadata": {
        "id": "MYjNbyhPLFHv"
      },
      "source": [
        "#### Predict"
      ]
    },
    {
      "cell_type": "code",
      "metadata": {
        "id": "oYEktgk1LFHv"
      },
      "source": [
        "yhat_train = regressor.predict(X_train)"
      ],
      "execution_count": 19,
      "outputs": []
    },
    {
      "cell_type": "code",
      "metadata": {
        "id": "DYMNCYD8LFHx"
      },
      "source": [
        "yhat_val = regressor.predict(X_val)"
      ],
      "execution_count": 20,
      "outputs": []
    },
    {
      "cell_type": "markdown",
      "metadata": {
        "id": "MxHkM_PmLFII"
      },
      "source": [
        "#### Metrics\n",
        "\n",
        "*   RMSE (Root Mean Squared Error)\n",
        "*   Explained Variance\n",
        "*   Max Error\n",
        "*   Mean Absolute Error\n",
        "*   Median Absolute Error\n",
        "\n",
        "*   R^2 (coefficient of determination) regression score function. Best possible score is 1.0 and it can be negative (because the model can be arbitrarily worse. A constant model that always predicts the expected value of y, disregarding the input features, would get a R^2 score of 0.0.\n"
      ]
    },
    {
      "cell_type": "code",
      "metadata": {
        "id": "_NQKmbiBYESQ"
      },
      "source": [
        "def compute_metrics(y_hat, y):\n",
        "  \"\"\"\n",
        "  y_hat: predicted values\n",
        "  y: expected values\n",
        "  \"\"\"\n",
        "  rmse = mean_squared_error(y, y_hat, squared=False)\n",
        "  explained_variance = explained_variance_score(y, y_hat)\n",
        "  max_error_ = max_error(y, y_hat)\n",
        "  mae = mean_absolute_error(y, y_hat)\n",
        "  median_abs_error_ = median_absolute_error(y, y_hat)\n",
        "  r2 = r2_score(y, y_hat)\n",
        "  regression_metrics = [rmse, explained_variance, max_error_, mae, median_abs_error_, r2]\n",
        "  regression_metrics = [round(metric, 4) for metric in regression_metrics]\n",
        "  df_metrics = pd.DataFrame(data=np.asarray(regression_metrics, dtype=float).reshape(1, -1),\n",
        "                            columns=('Root Mean Squared Error', 'Explained Variance', 'Max Error', \n",
        "                                     'Mean Absolute Error', 'Median Absolute Error', 'R2 Score'))\n",
        "  return df_metrics"
      ],
      "execution_count": 21,
      "outputs": []
    },
    {
      "cell_type": "code",
      "metadata": {
        "id": "we98ce0lYmoH"
      },
      "source": [
        "evaluation_train = compute_metrics(yhat_train, y_train)\n",
        "evaluation_val = compute_metrics(yhat_val, y_val)"
      ],
      "execution_count": 22,
      "outputs": []
    },
    {
      "cell_type": "code",
      "metadata": {
        "id": "NbvL5Y6dYm6g",
        "colab": {
          "base_uri": "https://localhost:8080/",
          "height": 111
        },
        "outputId": "e5ccf179-453e-4346-8b08-8a07586864e3"
      },
      "source": [
        "evaluation_report = pd.concat([evaluation_train, evaluation_val], keys=['train', 'validation'], axis=0)\n",
        "evaluation_report"
      ],
      "execution_count": 23,
      "outputs": [
        {
          "output_type": "execute_result",
          "data": {
            "text/html": [
              "<div>\n",
              "<style scoped>\n",
              "    .dataframe tbody tr th:only-of-type {\n",
              "        vertical-align: middle;\n",
              "    }\n",
              "\n",
              "    .dataframe tbody tr th {\n",
              "        vertical-align: top;\n",
              "    }\n",
              "\n",
              "    .dataframe thead th {\n",
              "        text-align: right;\n",
              "    }\n",
              "</style>\n",
              "<table border=\"1\" class=\"dataframe\">\n",
              "  <thead>\n",
              "    <tr style=\"text-align: right;\">\n",
              "      <th></th>\n",
              "      <th></th>\n",
              "      <th>Root Mean Squared Error</th>\n",
              "      <th>Explained Variance</th>\n",
              "      <th>Max Error</th>\n",
              "      <th>Mean Absolute Error</th>\n",
              "      <th>Median Absolute Error</th>\n",
              "      <th>R2 Score</th>\n",
              "    </tr>\n",
              "  </thead>\n",
              "  <tbody>\n",
              "    <tr>\n",
              "      <th>train</th>\n",
              "      <th>0</th>\n",
              "      <td>2.2509</td>\n",
              "      <td>0.7811</td>\n",
              "      <td>46.2116</td>\n",
              "      <td>1.4750</td>\n",
              "      <td>0.8457</td>\n",
              "      <td>0.7811</td>\n",
              "    </tr>\n",
              "    <tr>\n",
              "      <th>validation</th>\n",
              "      <th>0</th>\n",
              "      <td>5.8459</td>\n",
              "      <td>0.9399</td>\n",
              "      <td>28.5736</td>\n",
              "      <td>5.6555</td>\n",
              "      <td>5.6799</td>\n",
              "      <td>0.3394</td>\n",
              "    </tr>\n",
              "  </tbody>\n",
              "</table>\n",
              "</div>"
            ],
            "text/plain": [
              "              Root Mean Squared Error  Explained Variance  Max Error  Mean Absolute Error  Median Absolute Error  R2 Score\n",
              "train      0                   2.2509              0.7811    46.2116               1.4750                 0.8457    0.7811\n",
              "validation 0                   5.8459              0.9399    28.5736               5.6555                 5.6799    0.3394"
            ]
          },
          "metadata": {
            "tags": []
          },
          "execution_count": 23
        }
      ]
    },
    {
      "cell_type": "markdown",
      "metadata": {
        "id": "ChhjvB1QazEC"
      },
      "source": [
        "#### Fitting the model on the full Training set\n",
        "\n",
        "**We fit on the full training set**"
      ]
    },
    {
      "cell_type": "code",
      "metadata": {
        "id": "y-VNu1IILFHd"
      },
      "source": [
        "# final_regressor = CatBoostRegressor(cat_features=('race', 'gender'), loss_function='RMSE', verbose=0) #depth=6, learning_rate=0.1, l2_leaf_reg=1)\n",
        "# 'depth': 8, 'l2_leaf_reg': 0.5, 'learning_rate': 0.1\n",
        "final_regressor = CatBoostRegressor(cat_features=('race', 'gender'), loss_function='RMSE', verbose=0)\n",
        "#depth=6, learning_rate=0.1, l2_leaf_reg=1)"
      ],
      "execution_count": 24,
      "outputs": []
    },
    {
      "cell_type": "code",
      "metadata": {
        "id": "bnlqmVEvV1fr",
        "colab": {
          "base_uri": "https://localhost:8080/"
        },
        "outputId": "02097418-78e0-4c19-c3e5-cbaf25127d3b"
      },
      "source": [
        "final_regressor.fit(X_TRAIN, y_TRAIN)"
      ],
      "execution_count": 25,
      "outputs": [
        {
          "output_type": "execute_result",
          "data": {
            "text/plain": [
              "<catboost.core.CatBoostRegressor at 0x7f748b595ba8>"
            ]
          },
          "metadata": {
            "tags": []
          },
          "execution_count": 25
        }
      ]
    },
    {
      "cell_type": "code",
      "metadata": {
        "id": "VrVTtKlkV1pf"
      },
      "source": [
        "yhat_test = final_regressor.predict(X_test)"
      ],
      "execution_count": 26,
      "outputs": []
    },
    {
      "cell_type": "code",
      "metadata": {
        "id": "RcFb2o_aV1sD"
      },
      "source": [
        "evaluation_test = compute_metrics(yhat_test, y_test)"
      ],
      "execution_count": 27,
      "outputs": []
    },
    {
      "cell_type": "code",
      "metadata": {
        "id": "5CCBBzFkWdSf",
        "colab": {
          "base_uri": "https://localhost:8080/",
          "height": 142
        },
        "outputId": "2ff5ebc5-6eac-4060-b450-324321b779ee"
      },
      "source": [
        "evaluation_report = pd.concat([evaluation_train, evaluation_val, evaluation_test], keys=['train', 'validation', 'test'], axis=0)\n",
        "evaluation_report"
      ],
      "execution_count": 28,
      "outputs": [
        {
          "output_type": "execute_result",
          "data": {
            "text/html": [
              "<div>\n",
              "<style scoped>\n",
              "    .dataframe tbody tr th:only-of-type {\n",
              "        vertical-align: middle;\n",
              "    }\n",
              "\n",
              "    .dataframe tbody tr th {\n",
              "        vertical-align: top;\n",
              "    }\n",
              "\n",
              "    .dataframe thead th {\n",
              "        text-align: right;\n",
              "    }\n",
              "</style>\n",
              "<table border=\"1\" class=\"dataframe\">\n",
              "  <thead>\n",
              "    <tr style=\"text-align: right;\">\n",
              "      <th></th>\n",
              "      <th></th>\n",
              "      <th>Root Mean Squared Error</th>\n",
              "      <th>Explained Variance</th>\n",
              "      <th>Max Error</th>\n",
              "      <th>Mean Absolute Error</th>\n",
              "      <th>Median Absolute Error</th>\n",
              "      <th>R2 Score</th>\n",
              "    </tr>\n",
              "  </thead>\n",
              "  <tbody>\n",
              "    <tr>\n",
              "      <th>train</th>\n",
              "      <th>0</th>\n",
              "      <td>2.2509</td>\n",
              "      <td>0.7811</td>\n",
              "      <td>46.2116</td>\n",
              "      <td>1.4750</td>\n",
              "      <td>0.8457</td>\n",
              "      <td>0.7811</td>\n",
              "    </tr>\n",
              "    <tr>\n",
              "      <th>validation</th>\n",
              "      <th>0</th>\n",
              "      <td>5.8459</td>\n",
              "      <td>0.9399</td>\n",
              "      <td>28.5736</td>\n",
              "      <td>5.6555</td>\n",
              "      <td>5.6799</td>\n",
              "      <td>0.3394</td>\n",
              "    </tr>\n",
              "    <tr>\n",
              "      <th>test</th>\n",
              "      <th>0</th>\n",
              "      <td>1.6877</td>\n",
              "      <td>0.9118</td>\n",
              "      <td>28.4466</td>\n",
              "      <td>1.0556</td>\n",
              "      <td>0.6584</td>\n",
              "      <td>0.9068</td>\n",
              "    </tr>\n",
              "  </tbody>\n",
              "</table>\n",
              "</div>"
            ],
            "text/plain": [
              "              Root Mean Squared Error  Explained Variance  Max Error  Mean Absolute Error  Median Absolute Error  R2 Score\n",
              "train      0                   2.2509              0.7811    46.2116               1.4750                 0.8457    0.7811\n",
              "validation 0                   5.8459              0.9399    28.5736               5.6555                 5.6799    0.3394\n",
              "test       0                   1.6877              0.9118    28.4466               1.0556                 0.6584    0.9068"
            ]
          },
          "metadata": {
            "tags": []
          },
          "execution_count": 28
        }
      ]
    },
    {
      "cell_type": "markdown",
      "metadata": {
        "id": "E9bzgALPLFIb"
      },
      "source": [
        "### Feature Importance"
      ]
    },
    {
      "cell_type": "code",
      "metadata": {
        "id": "ICkdOTjnLFIe",
        "colab": {
          "base_uri": "https://localhost:8080/",
          "height": 80
        },
        "outputId": "4000223a-bf07-4e79-aecf-3065be434b72"
      },
      "source": [
        "pd.DataFrame(data=final_regressor.get_feature_importance().reshape(1, -1), columns=final_regressor.feature_names_)"
      ],
      "execution_count": 29,
      "outputs": [
        {
          "output_type": "execute_result",
          "data": {
            "text/html": [
              "<div>\n",
              "<style scoped>\n",
              "    .dataframe tbody tr th:only-of-type {\n",
              "        vertical-align: middle;\n",
              "    }\n",
              "\n",
              "    .dataframe tbody tr th {\n",
              "        vertical-align: top;\n",
              "    }\n",
              "\n",
              "    .dataframe thead th {\n",
              "        text-align: right;\n",
              "    }\n",
              "</style>\n",
              "<table border=\"1\" class=\"dataframe\">\n",
              "  <thead>\n",
              "    <tr style=\"text-align: right;\">\n",
              "      <th></th>\n",
              "      <th>salary</th>\n",
              "      <th>race</th>\n",
              "      <th>gender</th>\n",
              "      <th>trr_count</th>\n",
              "      <th>hm_count</th>\n",
              "      <th>allegations_count</th>\n",
              "      <th>sustained_count</th>\n",
              "      <th>experience</th>\n",
              "      <th>age</th>\n",
              "    </tr>\n",
              "  </thead>\n",
              "  <tbody>\n",
              "    <tr>\n",
              "      <th>0</th>\n",
              "      <td>70.81794</td>\n",
              "      <td>0.329721</td>\n",
              "      <td>0.200052</td>\n",
              "      <td>0.230815</td>\n",
              "      <td>1.421175</td>\n",
              "      <td>0.383933</td>\n",
              "      <td>0.084362</td>\n",
              "      <td>24.709683</td>\n",
              "      <td>1.82232</td>\n",
              "    </tr>\n",
              "  </tbody>\n",
              "</table>\n",
              "</div>"
            ],
            "text/plain": [
              "     salary      race    gender  trr_count  hm_count  allegations_count  sustained_count  experience      age\n",
              "0  70.81794  0.329721  0.200052   0.230815  1.421175           0.383933         0.084362   24.709683  1.82232"
            ]
          },
          "metadata": {
            "tags": []
          },
          "execution_count": 29
        }
      ]
    }
  ]
}