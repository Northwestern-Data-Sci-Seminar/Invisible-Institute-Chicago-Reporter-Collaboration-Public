{
  "nbformat": 4,
  "nbformat_minor": 0,
  "metadata": {
    "colab": {
      "name": "msai_ss_ds_nlp_cp5.ipynb",
      "provenance": [],
      "collapsed_sections": []
    },
    "kernelspec": {
      "name": "python3",
      "display_name": "Python 3"
    }
  },
  "cells": [
    {
      "cell_type": "markdown",
      "metadata": {
        "id": "LzV3ZAy6Q0go"
      },
      "source": [
        "# The Spectacular Sailors - Checkpoint 5 Natural Language Processing"
      ]
    },
    {
      "cell_type": "markdown",
      "metadata": {
        "id": "ll_oS8z15b4S"
      },
      "source": [
        "**Instructions**\n",
        "\n",
        "To run this analysis from Google Colab: From the Runtime menu option, select Run All. All the dependicies will install and all anlaysis will run. The later stages of text analysis may take up to several minutes to complete."
      ]
    },
    {
      "cell_type": "code",
      "metadata": {
        "id": "-56nXZ735vdf"
      },
      "source": [
        "# Install and suppress output\n",
        "%%capture\n",
        "pip install texthero"
      ],
      "execution_count": 1,
      "outputs": []
    },
    {
      "cell_type": "code",
      "metadata": {
        "id": "ioMZocj1SWU9"
      },
      "source": [
        "# Install and suppress output\n",
        "%%capture\n",
        "pip install vaderSentiment"
      ],
      "execution_count": 2,
      "outputs": []
    },
    {
      "cell_type": "code",
      "metadata": {
        "id": "jRt8h3SUjs3w"
      },
      "source": [
        "# Install and suppress output\n",
        "%%capture\n",
        "pip install pyldavis"
      ],
      "execution_count": 3,
      "outputs": []
    },
    {
      "cell_type": "code",
      "metadata": {
        "id": "JWtckAs-m2KH"
      },
      "source": [
        "# Install and suppress output\n",
        "%%capture\n",
        "pip install sidetable"
      ],
      "execution_count": 4,
      "outputs": []
    },
    {
      "cell_type": "code",
      "metadata": {
        "id": "TfhTZYtOXzpN"
      },
      "source": [
        "# Install and suppress output\n",
        "%%capture\n",
        "import nltk\n",
        "nltk.download('punkt')"
      ],
      "execution_count": 5,
      "outputs": []
    },
    {
      "cell_type": "code",
      "metadata": {
        "id": "HJ8kUow5RJWL"
      },
      "source": [
        "%%capture\n",
        "# import environmentals\n",
        "import os\n",
        "from pprint import pprint\n",
        "\n",
        "import pyLDAvis\n",
        "import pyLDAvis.gensim\n",
        "\n",
        "# import text processing libraries\n",
        "import texthero as hero\n",
        "from texthero import preprocessing as pp\n",
        "\n",
        "from nltk import word_tokenize\n",
        "from nltk.corpus import stopwords\n",
        "\n",
        "import spacy\n",
        "\n",
        "from gensim.corpora import Dictionary\n",
        "from gensim.models.ldamodel import LdaModel\n",
        "from gensim.models.coherencemodel import CoherenceModel\n",
        "\n",
        "# import sentiment analysis libraries\n",
        "from vaderSentiment.vaderSentiment import SentimentIntensityAnalyzer\n",
        "\n",
        "# import ML libraries\n",
        "import sklearn\n",
        "from sklearn.cluster import MiniBatchKMeans as mb\n",
        "from sklearn.model_selection import train_test_split\n",
        "from sklearn import linear_model, metrics\n",
        "from sklearn_pandas import DataFrameMapper\n",
        "\n",
        "# import data structure libraries\n",
        "import pandas as pd\n",
        "import sidetable\n",
        "import numpy as np\n",
        "\n",
        "# import visualization libraries\n",
        "import matplotlib.pyplot as plt\n",
        "import plotly.express as px"
      ],
      "execution_count": 45,
      "outputs": []
    },
    {
      "cell_type": "code",
      "metadata": {
        "id": "vUVAPUg7Sj2U"
      },
      "source": [
        "# Set function objects\n",
        "analyzer = SentimentIntensityAnalyzer()"
      ],
      "execution_count": 7,
      "outputs": []
    },
    {
      "cell_type": "code",
      "metadata": {
        "id": "qpvOXJDJR8sL"
      },
      "source": [
        "# Configure environment\n",
        "pd.set_option('display.max_columns', None)"
      ],
      "execution_count": 8,
      "outputs": []
    },
    {
      "cell_type": "code",
      "metadata": {
        "id": "yJDqpaWx5hkD",
        "colab": {
          "base_uri": "https://localhost:8080/"
        },
        "outputId": "0ae6c2fb-2b20-4785-a631-f67002a54e94"
      },
      "source": [
        "# read the officer and cohort data into pandas dataframe\n",
        "url = 'https://raw.githubusercontent.com/Northwestern-Data-Sci-Seminar/Invisible-Institute-Chicago-Reporter-Collaboration-Public/master/The%20Spectacular%20Sailors/Checkpoint_5/src/data_narrative_nlp.csv'\n",
        "dtype = {'allegation_narrative_type':'category',\n",
        "         'cohort_num':'category'}\n",
        "date_cols = ['start_date']\n",
        "df = pd.read_csv(url, header = 0, dtype=dtype, parse_dates=date_cols)\n",
        "print('======================================== DataFrame Head')\n",
        "print(df.head(2))\n",
        "print('======================================== DataFrame Information')\n",
        "print(df.info())"
      ],
      "execution_count": 9,
      "outputs": [
        {
          "output_type": "stream",
          "text": [
            "======================================== DataFrame Head\n",
            "   allegation_id    allegation_narrative_type  \\\n",
            "0          58067  Initial / Intake Allegation   \n",
            "1          83721  Initial / Intake Allegation   \n",
            "\n",
            "                                        text_content  officer_id cohort_num  \\\n",
            "0  It is alleged that three unknown white male\\no...       21441          3   \n",
            "1  The reporting party alleged that the accused\\n...       28429          3   \n",
            "\n",
            "  start_date  cohort_id  is_crew  is_community  is_unaffiliated  \n",
            "0 1995-07-03          0        0             0                1  \n",
            "1 1997-08-20          0        0             0                1  \n",
            "======================================== DataFrame Information\n",
            "<class 'pandas.core.frame.DataFrame'>\n",
            "RangeIndex: 31555 entries, 0 to 31554\n",
            "Data columns (total 10 columns):\n",
            " #   Column                     Non-Null Count  Dtype         \n",
            "---  ------                     --------------  -----         \n",
            " 0   allegation_id              31555 non-null  int64         \n",
            " 1   allegation_narrative_type  31555 non-null  category      \n",
            " 2   text_content               31555 non-null  object        \n",
            " 3   officer_id                 31555 non-null  int64         \n",
            " 4   cohort_num                 31555 non-null  category      \n",
            " 5   start_date                 31555 non-null  datetime64[ns]\n",
            " 6   cohort_id                  31555 non-null  int64         \n",
            " 7   is_crew                    31555 non-null  int64         \n",
            " 8   is_community               31555 non-null  int64         \n",
            " 9   is_unaffiliated            31555 non-null  int64         \n",
            "dtypes: category(2), datetime64[ns](1), int64(6), object(1)\n",
            "memory usage: 2.0+ MB\n",
            "None\n"
          ],
          "name": "stdout"
        }
      ]
    },
    {
      "cell_type": "markdown",
      "metadata": {
        "id": "zepn-7TbUV71"
      },
      "source": [
        "# Apply Pre-Processing to Clean Text With Text Hero"
      ]
    },
    {
      "cell_type": "code",
      "metadata": {
        "id": "1NodAEyg39OO"
      },
      "source": [
        "def cleaner(df):\n",
        "    print('======================================== Start Cleaning')\n",
        "    pipeline = [pp.fillna\n",
        "                , pp.remove_digits\n",
        "                , pp.lowercase\n",
        "                , pp.remove_punctuation\n",
        "                , pp.remove_diacritics\n",
        "                , pp.remove_stopwords\n",
        "                , pp.remove_whitespace\n",
        "                , pp.stem\n",
        "                ]\n",
        "    print('======================================== Done Cleaning')\n",
        "    df['text_content'] = hero.clean(df['text_content'], pipeline=pipeline)\n",
        "    print('======================================== DataFrame Head')\n",
        "    print(df.head(2))\n",
        "    return df"
      ],
      "execution_count": 10,
      "outputs": []
    },
    {
      "cell_type": "code",
      "metadata": {
        "id": "5jqXXcXa4Xb1",
        "colab": {
          "base_uri": "https://localhost:8080/"
        },
        "outputId": "36bb3dcd-ef18-4720-ad6c-111616f5f66a"
      },
      "source": [
        "df_clean = cleaner(df)"
      ],
      "execution_count": 11,
      "outputs": [
        {
          "output_type": "stream",
          "text": [
            "======================================== Start Cleaning\n",
            "======================================== Done Cleaning\n",
            "======================================== DataFrame Head\n",
            "   allegation_id    allegation_narrative_type  \\\n",
            "0          58067  Initial / Intake Allegation   \n",
            "1          83721  Initial / Intake Allegation   \n",
            "\n",
            "                                        text_content  officer_id cohort_num  \\\n",
            "0  alleg three unknown white male offic state com...       21441          3   \n",
            "1  report parti alleg accus stop demand see ident...       28429          3   \n",
            "\n",
            "  start_date  cohort_id  is_crew  is_community  is_unaffiliated  \n",
            "0 1995-07-03          0        0             0                1  \n",
            "1 1997-08-20          0        0             0                1  \n"
          ],
          "name": "stdout"
        }
      ]
    },
    {
      "cell_type": "code",
      "metadata": {
        "id": "9y2NT3_a3AaZ",
        "colab": {
          "base_uri": "https://localhost:8080/",
          "height": 265
        },
        "outputId": "d3477b57-d96b-4a57-eaa4-86ddd64d74fc"
      },
      "source": [
        "df_clean.allegation_narrative_type.value_counts().plot(kind='pie', autopct='%1.0f%%')"
      ],
      "execution_count": 12,
      "outputs": [
        {
          "output_type": "execute_result",
          "data": {
            "text/plain": [
              "<matplotlib.axes._subplots.AxesSubplot at 0x7ff267e046d8>"
            ]
          },
          "metadata": {
            "tags": []
          },
          "execution_count": 12
        },
        {
          "output_type": "display_data",
          "data": {
            "image/png": "[encoded data removed]",
            "text/plain": [
              "<Figure size 432x288 with 1 Axes>"
            ]
          },
          "metadata": {
            "tags": []
          }
        }
      ]
    },
    {
      "cell_type": "markdown",
      "metadata": {
        "id": "GtJdy5YQUKbU"
      },
      "source": [
        "# Apply Sentiment Analysis to Cleaned Text with Vader"
      ]
    },
    {
      "cell_type": "markdown",
      "metadata": {
        "id": "rIoHqxxB-UQ2"
      },
      "source": [
        "Reference: https://medium.com/swlh/simple-sentiment-analysis-for-nlp-beginners-and-everyone-else-using-vader-and-textblob-728da3dbe33d\n"
      ]
    },
    {
      "cell_type": "code",
      "metadata": {
        "id": "rtdUtjye8B5I",
        "colab": {
          "base_uri": "https://localhost:8080/"
        },
        "outputId": "c36cdbaf-bee3-4f7b-c95d-0ba3ab992563"
      },
      "source": [
        "df = df_clean\n",
        "df['compound'] = [analyzer.polarity_scores(v)['compound'] for v in df['text_content']]\n",
        "df['neg'] = [analyzer.polarity_scores(v)['neg'] for v in df['text_content']]\n",
        "df['neu'] = [analyzer.polarity_scores(v)['neu'] for v in df['text_content']]\n",
        "df['pos'] = [analyzer.polarity_scores(v)['pos'] for v in df['text_content']]\n",
        "print('======================================== DataFrame Head')\n",
        "print(df.head(2))\n",
        "print('======================================== DataFrame Information')\n",
        "print(df.info())"
      ],
      "execution_count": 13,
      "outputs": [
        {
          "output_type": "stream",
          "text": [
            "======================================== DataFrame Head\n",
            "   allegation_id    allegation_narrative_type  \\\n",
            "0          58067  Initial / Intake Allegation   \n",
            "1          83721  Initial / Intake Allegation   \n",
            "\n",
            "                                        text_content  officer_id cohort_num  \\\n",
            "0  alleg three unknown white male offic state com...       21441          3   \n",
            "1  report parti alleg accus stop demand see ident...       28429          3   \n",
            "\n",
            "  start_date  cohort_id  is_crew  is_community  is_unaffiliated  compound  \\\n",
            "0 1995-07-03          0        0             0                1   -0.5719   \n",
            "1 1997-08-20          0        0             0                1   -0.9081   \n",
            "\n",
            "     neg    neu  pos  \n",
            "0  0.343  0.657  0.0  \n",
            "1  0.407  0.593  0.0  \n",
            "======================================== DataFrame Information\n",
            "<class 'pandas.core.frame.DataFrame'>\n",
            "RangeIndex: 31555 entries, 0 to 31554\n",
            "Data columns (total 14 columns):\n",
            " #   Column                     Non-Null Count  Dtype         \n",
            "---  ------                     --------------  -----         \n",
            " 0   allegation_id              31555 non-null  int64         \n",
            " 1   allegation_narrative_type  31555 non-null  category      \n",
            " 2   text_content               31555 non-null  object        \n",
            " 3   officer_id                 31555 non-null  int64         \n",
            " 4   cohort_num                 31555 non-null  category      \n",
            " 5   start_date                 31555 non-null  datetime64[ns]\n",
            " 6   cohort_id                  31555 non-null  int64         \n",
            " 7   is_crew                    31555 non-null  int64         \n",
            " 8   is_community               31555 non-null  int64         \n",
            " 9   is_unaffiliated            31555 non-null  int64         \n",
            " 10  compound                   31555 non-null  float64       \n",
            " 11  neg                        31555 non-null  float64       \n",
            " 12  neu                        31555 non-null  float64       \n",
            " 13  pos                        31555 non-null  float64       \n",
            "dtypes: category(2), datetime64[ns](1), float64(4), int64(6), object(1)\n",
            "memory usage: 2.9+ MB\n",
            "None\n"
          ],
          "name": "stdout"
        }
      ]
    },
    {
      "cell_type": "markdown",
      "metadata": {
        "id": "TClGZuAA25dx"
      },
      "source": [
        "# Time Series Sentiment Analysis by Complaint Start Date"
      ]
    },
    {
      "cell_type": "code",
      "metadata": {
        "colab": {
          "base_uri": "https://localhost:8080/",
          "height": 311
        },
        "id": "RHJIwkqywlyG",
        "outputId": "a9bfb3fb-d3c0-42a7-b203-f9fef36bb276"
      },
      "source": [
        "df_timeseries = df[['start_date', 'cohort_num', 'compound', 'neg', 'neu', 'pos']].copy()\n",
        "df_timeseries = df_timeseries.sample(n=1000, random_state=42)\n",
        "df_timeseries.set_index('start_date', inplace=True)\n",
        "\n",
        "df_timeseries['SMA_100_neg'] = df_timeseries.neg.rolling(100, min_periods=1).mean()\n",
        "df_timeseries['SMA_100_pos'] = df_timeseries.pos.rolling(100, min_periods=1).mean()\n",
        "df_timeseries['SMA_100_neu'] = df_timeseries.neu.rolling(100, min_periods=1).mean()\n",
        "df_timeseries['SMA_100_compound'] = df_timeseries.compound.rolling(100, min_periods=1).mean()\n",
        "\n",
        "plt.figure()\n",
        "df_timeseries[['SMA_100_neg','SMA_100_pos', 'SMA_100_neu', 'SMA_100_compound']].plot(title='VADER Sentiment Scores Time Series - CPDB', \n",
        "                                                                                     legend=False)\n",
        "plt.legend(loc='upper right', \n",
        "           bbox_to_anchor=(1.5,1))\n",
        "plt.show()"
      ],
      "execution_count": 14,
      "outputs": [
        {
          "output_type": "display_data",
          "data": {
            "text/plain": [
              "<Figure size 432x288 with 0 Axes>"
            ]
          },
          "metadata": {
            "tags": []
          }
        },
        {
          "output_type": "display_data",
          "data": {
            "image/png": "[encoded data removed]",
            "text/plain": [
              "<Figure size 432x288 with 1 Axes>"
            ]
          },
          "metadata": {
            "tags": [],
            "needs_background": "light"
          }
        }
      ]
    },
    {
      "cell_type": "code",
      "metadata": {
        "colab": {
          "base_uri": "https://localhost:8080/",
          "height": 112
        },
        "id": "OV8kfjbbEQR5",
        "outputId": "10e52637-f415-4b35-bde5-7d2a2862cf48"
      },
      "source": [
        "df_sentiment = df.groupby('officer_id').mean()\n",
        "df_sentiment.reset_index(drop=False, inplace=True)\n",
        "df_sentiment.head(2)"
      ],
      "execution_count": 15,
      "outputs": [
        {
          "output_type": "execute_result",
          "data": {
            "text/html": [
              "<div>\n",
              "<style scoped>\n",
              "    .dataframe tbody tr th:only-of-type {\n",
              "        vertical-align: middle;\n",
              "    }\n",
              "\n",
              "    .dataframe tbody tr th {\n",
              "        vertical-align: top;\n",
              "    }\n",
              "\n",
              "    .dataframe thead th {\n",
              "        text-align: right;\n",
              "    }\n",
              "</style>\n",
              "<table border=\"1\" class=\"dataframe\">\n",
              "  <thead>\n",
              "    <tr style=\"text-align: right;\">\n",
              "      <th></th>\n",
              "      <th>officer_id</th>\n",
              "      <th>allegation_id</th>\n",
              "      <th>cohort_id</th>\n",
              "      <th>is_crew</th>\n",
              "      <th>is_community</th>\n",
              "      <th>is_unaffiliated</th>\n",
              "      <th>compound</th>\n",
              "      <th>neg</th>\n",
              "      <th>neu</th>\n",
              "      <th>pos</th>\n",
              "    </tr>\n",
              "  </thead>\n",
              "  <tbody>\n",
              "    <tr>\n",
              "      <th>0</th>\n",
              "      <td>4</td>\n",
              "      <td>53006.5</td>\n",
              "      <td>2283.0</td>\n",
              "      <td>0.0</td>\n",
              "      <td>1.0</td>\n",
              "      <td>0.0</td>\n",
              "      <td>-0.81015</td>\n",
              "      <td>0.255</td>\n",
              "      <td>0.720</td>\n",
              "      <td>0.025</td>\n",
              "    </tr>\n",
              "    <tr>\n",
              "      <th>1</th>\n",
              "      <td>11</td>\n",
              "      <td>70839.0</td>\n",
              "      <td>0.0</td>\n",
              "      <td>0.0</td>\n",
              "      <td>0.0</td>\n",
              "      <td>1.0</td>\n",
              "      <td>0.52670</td>\n",
              "      <td>0.000</td>\n",
              "      <td>0.833</td>\n",
              "      <td>0.167</td>\n",
              "    </tr>\n",
              "  </tbody>\n",
              "</table>\n",
              "</div>"
            ],
            "text/plain": [
              "   officer_id  allegation_id  cohort_id  is_crew  is_community  \\\n",
              "0           4        53006.5     2283.0      0.0           1.0   \n",
              "1          11        70839.0        0.0      0.0           0.0   \n",
              "\n",
              "   is_unaffiliated  compound    neg    neu    pos  \n",
              "0              0.0  -0.81015  0.255  0.720  0.025  \n",
              "1              1.0   0.52670  0.000  0.833  0.167  "
            ]
          },
          "metadata": {
            "tags": []
          },
          "execution_count": 15
        }
      ]
    },
    {
      "cell_type": "markdown",
      "metadata": {
        "id": "gwBwHje-UhTa"
      },
      "source": [
        "# Join Sentiment Scores with officers_crews_ml Table"
      ]
    },
    {
      "cell_type": "code",
      "metadata": {
        "id": "yq4AopQT-sOA"
      },
      "source": [
        "# read the officer and cohort data into pandas dataframe\n",
        "url_off = 'https://raw.githubusercontent.com/Northwestern-Data-Sci-Seminar/Invisible-Institute-Chicago-Reporter-Collaboration-Public/master/The%20Spectacular%20Sailors/Checkpoint_4/src/officers_crews_ml_2.csv'\n",
        "dtype = {'gender':'category',\n",
        "         'cohort_id':'category'}\n",
        "df_off = pd.read_csv(url_off, header = 0)\n",
        "df_off = df_off._get_numeric_data()\n",
        "original_headers = list(df_off.columns.values)"
      ],
      "execution_count": 16,
      "outputs": []
    },
    {
      "cell_type": "code",
      "metadata": {
        "id": "mcGRFThZDptY"
      },
      "source": [
        "joined = df_off.join(df_sentiment[['officer_id', 'compound', 'neg', 'neu', 'pos']].set_index('officer_id'), on='officer_id', how='left')"
      ],
      "execution_count": 17,
      "outputs": []
    },
    {
      "cell_type": "code",
      "metadata": {
        "colab": {
          "base_uri": "https://localhost:8080/"
        },
        "id": "AUSwGUW3WSQm",
        "outputId": "63b5efc0-96b2-4bbd-d6aa-4dfb211eaec9"
      },
      "source": [
        "joined_na_drop = joined.dropna(axis=0, how='any')\n",
        "joined_na_only = joined[~joined.index.isin(joined_na_drop.index)]\n",
        "print(joined_na_only.info())\n",
        "print()\n",
        "print(joined_na_drop.info())"
      ],
      "execution_count": 18,
      "outputs": [
        {
          "output_type": "stream",
          "text": [
            "<class 'pandas.core.frame.DataFrame'>\n",
            "Int64Index: 12722 entries, 0 to 22473\n",
            "Data columns (total 14 columns):\n",
            " #   Column                          Non-Null Count  Dtype  \n",
            "---  ------                          --------------  -----  \n",
            " 0   officer_id                      12722 non-null  int64  \n",
            " 1   avg_coaccusals                  12722 non-null  float64\n",
            " 2   avg_years_on_force_at_incident  12722 non-null  float64\n",
            " 3   avg_age_at_incident             12722 non-null  float64\n",
            " 4   gender                          12722 non-null  int64  \n",
            " 5   avg_complaint_percentile        12722 non-null  float64\n",
            " 6   avg_disciplined_count           12722 non-null  float64\n",
            " 7   cohort_id                       12722 non-null  int64  \n",
            " 8   avg_allegation_severity         12722 non-null  float64\n",
            " 9   max_allegation_severity         12722 non-null  float64\n",
            " 10  compound                        0 non-null      float64\n",
            " 11  neg                             0 non-null      float64\n",
            " 12  neu                             0 non-null      float64\n",
            " 13  pos                             0 non-null      float64\n",
            "dtypes: float64(11), int64(3)\n",
            "memory usage: 1.5 MB\n",
            "None\n",
            "\n",
            "<class 'pandas.core.frame.DataFrame'>\n",
            "Int64Index: 9752 entries, 2 to 22472\n",
            "Data columns (total 14 columns):\n",
            " #   Column                          Non-Null Count  Dtype  \n",
            "---  ------                          --------------  -----  \n",
            " 0   officer_id                      9752 non-null   int64  \n",
            " 1   avg_coaccusals                  9752 non-null   float64\n",
            " 2   avg_years_on_force_at_incident  9752 non-null   float64\n",
            " 3   avg_age_at_incident             9752 non-null   float64\n",
            " 4   gender                          9752 non-null   int64  \n",
            " 5   avg_complaint_percentile        9752 non-null   float64\n",
            " 6   avg_disciplined_count           9752 non-null   float64\n",
            " 7   cohort_id                       9752 non-null   int64  \n",
            " 8   avg_allegation_severity         9752 non-null   float64\n",
            " 9   max_allegation_severity         9752 non-null   float64\n",
            " 10  compound                        9752 non-null   float64\n",
            " 11  neg                             9752 non-null   float64\n",
            " 12  neu                             9752 non-null   float64\n",
            " 13  pos                             9752 non-null   float64\n",
            "dtypes: float64(11), int64(3)\n",
            "memory usage: 1.1 MB\n",
            "None\n"
          ],
          "name": "stdout"
        }
      ]
    },
    {
      "cell_type": "markdown",
      "metadata": {
        "id": "QPp8qRXnXMcE"
      },
      "source": [
        "# Export csv data to Google Drive"
      ]
    },
    {
      "cell_type": "code",
      "metadata": {
        "colab": {
          "base_uri": "https://localhost:8080/"
        },
        "id": "-DxUGBMfFtJ1",
        "outputId": "4c539eca-c1bc-4494-e334-21b5a85d2ceb"
      },
      "source": [
        "# run if needed\n",
        "from google.colab import drive\n",
        "drive.mount('/content/gdrive')\n",
        "os.chdir('/content/gdrive/My Drive/GDATA/MSAI')"
      ],
      "execution_count": 19,
      "outputs": [
        {
          "output_type": "stream",
          "text": [
            "Drive already mounted at /content/gdrive; to attempt to forcibly remount, call drive.mount(\"/content/gdrive\", force_remount=True).\n"
          ],
          "name": "stdout"
        }
      ]
    },
    {
      "cell_type": "code",
      "metadata": {
        "id": "0pDtCFZLDp1T"
      },
      "source": [
        "# run if needed\n",
        "joined.to_csv('officers_crews_nlp_all.csv')\n",
        "joined_na_only.to_csv('officers_crews_nlp_only_na.csv')\n",
        "joined_na_drop.to_csv('officers_crews_nlp_dropna.csv')"
      ],
      "execution_count": 20,
      "outputs": []
    },
    {
      "cell_type": "markdown",
      "metadata": {
        "id": "uV9v3xDzYAqP"
      },
      "source": [
        "# Assess ML Checkpoint 4 with Sentiment Scores"
      ]
    },
    {
      "cell_type": "code",
      "metadata": {
        "id": "Cv63ElAsKK63",
        "colab": {
          "base_uri": "https://localhost:8080/"
        },
        "outputId": "5a7a6a02-22ec-4c34-8e62-2b8b50b92863"
      },
      "source": [
        "# Make table copies for ML pipeline\n",
        "df_ml_1 = joined_na_drop.copy()  # tables with no NA values in sentiment scores\n",
        "df_ml_2 = joined_na_only.copy()  # tables with only NA values in sentiment scores\n",
        "\n",
        "print(df_ml_1['cohort_id'].value_counts())\n",
        "print(df_ml_1.dtypes)\n",
        "print()\n",
        "print(df_ml_2['cohort_id'].value_counts())\n",
        "print(df_ml_2.dtypes)"
      ],
      "execution_count": 21,
      "outputs": [
        {
          "output_type": "stream",
          "text": [
            "2    5146\n",
            "3    3943\n",
            "1     663\n",
            "Name: cohort_id, dtype: int64\n",
            "officer_id                          int64\n",
            "avg_coaccusals                    float64\n",
            "avg_years_on_force_at_incident    float64\n",
            "avg_age_at_incident               float64\n",
            "gender                              int64\n",
            "avg_complaint_percentile          float64\n",
            "avg_disciplined_count             float64\n",
            "cohort_id                           int64\n",
            "avg_allegation_severity           float64\n",
            "max_allegation_severity           float64\n",
            "compound                          float64\n",
            "neg                               float64\n",
            "neu                               float64\n",
            "pos                               float64\n",
            "dtype: object\n",
            "\n",
            "3    7329\n",
            "2    4900\n",
            "1     493\n",
            "Name: cohort_id, dtype: int64\n",
            "officer_id                          int64\n",
            "avg_coaccusals                    float64\n",
            "avg_years_on_force_at_incident    float64\n",
            "avg_age_at_incident               float64\n",
            "gender                              int64\n",
            "avg_complaint_percentile          float64\n",
            "avg_disciplined_count             float64\n",
            "cohort_id                           int64\n",
            "avg_allegation_severity           float64\n",
            "max_allegation_severity           float64\n",
            "compound                          float64\n",
            "neg                               float64\n",
            "neu                               float64\n",
            "pos                               float64\n",
            "dtype: object\n"
          ],
          "name": "stdout"
        }
      ]
    },
    {
      "cell_type": "code",
      "metadata": {
        "id": "nWQg1pH2DpzK"
      },
      "source": [
        "# all minmaxscaler on avg_allegation_severity to scale the data\n",
        "mapper_features  = DataFrameMapper([\n",
        "                          (['avg_coaccusals'], sklearn.preprocessing.MinMaxScaler()),\n",
        "                          (['avg_years_on_force_at_incident'], sklearn.preprocessing.MinMaxScaler()),\n",
        "                          (['avg_age_at_incident'], sklearn.preprocessing.MinMaxScaler()), \n",
        "                          ('gender', sklearn.preprocessing.LabelBinarizer()),\n",
        "                          (['avg_complaint_percentile'], sklearn.preprocessing.MinMaxScaler()),\n",
        "                          (['avg_disciplined_count'], sklearn.preprocessing.MinMaxScaler()),\n",
        "                          (['avg_allegation_severity'], sklearn.preprocessing.MinMaxScaler()),\n",
        "                          (['compound'], sklearn.preprocessing.MinMaxScaler()),\n",
        "                          (['neg'], sklearn.preprocessing.MinMaxScaler()),\n",
        "                          (['neu'], sklearn.preprocessing.MinMaxScaler()),\n",
        "                          (['pos'], sklearn.preprocessing.MinMaxScaler())])\n",
        "\n",
        "# all minmaxscaler on avg_allegation_severity to scale the data\n",
        "mapper_features  = DataFrameMapper([\n",
        "                          (['avg_coaccusals'], sklearn.preprocessing.MinMaxScaler()),\n",
        "                          ('gender', sklearn.preprocessing.LabelBinarizer()),\n",
        "                          (['avg_complaint_percentile'], sklearn.preprocessing.MinMaxScaler()),\n",
        "                          (['avg_disciplined_count'], sklearn.preprocessing.MinMaxScaler()),\n",
        "                          (['avg_allegation_severity'], sklearn.preprocessing.MinMaxScaler()),\n",
        "                          (['compound'], sklearn.preprocessing.MinMaxScaler())])"
      ],
      "execution_count": 22,
      "outputs": []
    },
    {
      "cell_type": "code",
      "metadata": {
        "id": "4dLQ9op8K4XV",
        "colab": {
          "base_uri": "https://localhost:8080/"
        },
        "outputId": "e4ee98fa-34f3-4f0e-ac65-04b9228c2f56"
      },
      "source": [
        "# use the mapper to scale the data for df_ml_1\n",
        "features = np.round(mapper_features.fit_transform(df_ml_1.copy()), 3)\n",
        "features"
      ],
      "execution_count": 23,
      "outputs": [
        {
          "output_type": "execute_result",
          "data": {
            "text/plain": [
              "array([[0.005, 1.   , 0.49 , 0.   , 0.213, 0.095],\n",
              "       [0.011, 0.   , 0.469, 0.143, 0.18 , 0.771],\n",
              "       [0.044, 1.   , 0.523, 0.143, 0.317, 0.057],\n",
              "       ...,\n",
              "       [0.011, 0.   , 0.409, 0.   , 0.184, 0.358],\n",
              "       [0.013, 0.   , 0.452, 0.1  , 0.256, 0.26 ],\n",
              "       [0.   , 0.   , 0.348, 0.857, 0.142, 0.158]])"
            ]
          },
          "metadata": {
            "tags": []
          },
          "execution_count": 23
        }
      ]
    },
    {
      "cell_type": "code",
      "metadata": {
        "id": "LOdvyXDDJmBg"
      },
      "source": [
        "# train test validation split for df_ml_1\n",
        "X_train, X_test, y_train, y_test = train_test_split(features, df_ml_1['cohort_id'], test_size=0.3, shuffle=True)"
      ],
      "execution_count": 24,
      "outputs": []
    },
    {
      "cell_type": "code",
      "metadata": {
        "id": "mdNSSnaCZJZn",
        "colab": {
          "base_uri": "https://localhost:8080/"
        },
        "outputId": "1a5b6a29-a3cf-479e-9288-9365c2251159"
      },
      "source": [
        "# train the linear regression model using train data\n",
        "linreg = linear_model.LinearRegression()\n",
        "linreg.fit(X_train, y_train)"
      ],
      "execution_count": 25,
      "outputs": [
        {
          "output_type": "execute_result",
          "data": {
            "text/plain": [
              "LinearRegression(copy_X=True, fit_intercept=True, n_jobs=None, normalize=False)"
            ]
          },
          "metadata": {
            "tags": []
          },
          "execution_count": 25
        }
      ]
    },
    {
      "cell_type": "code",
      "metadata": {
        "colab": {
          "base_uri": "https://localhost:8080/"
        },
        "id": "F_aoEQeicBMS",
        "outputId": "d5bf1316-d45e-44a6-de7c-47262b2eaa01"
      },
      "source": [
        "# make predictions of cohorts\n",
        "prediction = linreg.predict(X_test)\n",
        "predictionnp = np.around(prediction)\n",
        "predictionnp"
      ],
      "execution_count": 26,
      "outputs": [
        {
          "output_type": "execute_result",
          "data": {
            "text/plain": [
              "array([2., 2., 2., ..., 2., 2., 2.])"
            ]
          },
          "metadata": {
            "tags": []
          },
          "execution_count": 26
        }
      ]
    },
    {
      "cell_type": "code",
      "metadata": {
        "colab": {
          "base_uri": "https://localhost:8080/"
        },
        "id": "DRAYCgwfcE1A",
        "outputId": "c30d32a6-e393-4eea-e818-9170d448a14d"
      },
      "source": [
        "#show accuracy of model \n",
        "metrics.accuracy_score(y_test, predictionnp)"
      ],
      "execution_count": 27,
      "outputs": [
        {
          "output_type": "execute_result",
          "data": {
            "text/plain": [
              "0.6838687628161313"
            ]
          },
          "metadata": {
            "tags": []
          },
          "execution_count": 27
        }
      ]
    },
    {
      "cell_type": "code",
      "metadata": {
        "colab": {
          "base_uri": "https://localhost:8080/"
        },
        "id": "BvGBE7HfcHFv",
        "outputId": "4d2e5acb-2578-4557-b9ba-e937aea3fb22"
      },
      "source": [
        "# coefficient of the linear model\n",
        "linreg.coef_"
      ],
      "execution_count": 28,
      "outputs": [
        {
          "output_type": "execute_result",
          "data": {
            "text/plain": [
              "array([-1.13971845, -0.06341572, -1.38821367,  0.70341151, -1.33348016,\n",
              "       -0.0089674 ])"
            ]
          },
          "metadata": {
            "tags": []
          },
          "execution_count": 28
        }
      ]
    },
    {
      "cell_type": "code",
      "metadata": {
        "colab": {
          "base_uri": "https://localhost:8080/"
        },
        "id": "thvXOaIRcJSq",
        "outputId": "5cf2104b-e866-4e2f-ffa3-a69909594940"
      },
      "source": [
        "# train a logistic regression on the data to check difference\n",
        "logreg = linear_model.LogisticRegression(multi_class='ovr')\n",
        "logreg.fit(X_train, y_train)"
      ],
      "execution_count": 29,
      "outputs": [
        {
          "output_type": "execute_result",
          "data": {
            "text/plain": [
              "LogisticRegression(C=1.0, class_weight=None, dual=False, fit_intercept=True,\n",
              "                   intercept_scaling=1, l1_ratio=None, max_iter=100,\n",
              "                   multi_class='ovr', n_jobs=None, penalty='l2',\n",
              "                   random_state=None, solver='lbfgs', tol=0.0001, verbose=0,\n",
              "                   warm_start=False)"
            ]
          },
          "metadata": {
            "tags": []
          },
          "execution_count": 29
        }
      ]
    },
    {
      "cell_type": "code",
      "metadata": {
        "colab": {
          "base_uri": "https://localhost:8080/"
        },
        "id": "Bouu0PtIcMJu",
        "outputId": "861f797b-2942-4c43-c79f-74a681f58e14"
      },
      "source": [
        "# higher accuracy on logistic regression but generally the same as linear\n",
        "predictionlog = logreg.predict(X_test)\n",
        "metrics.accuracy_score(y_test, predictionlog)"
      ],
      "execution_count": 30,
      "outputs": [
        {
          "output_type": "execute_result",
          "data": {
            "text/plain": [
              "0.7012987012987013"
            ]
          },
          "metadata": {
            "tags": []
          },
          "execution_count": 30
        }
      ]
    },
    {
      "cell_type": "markdown",
      "metadata": {
        "id": "uG16KVQicWM2"
      },
      "source": [
        "# Evaluate Text for NLP Checkpoint 5"
      ]
    },
    {
      "cell_type": "code",
      "metadata": {
        "colab": {
          "base_uri": "https://localhost:8080/",
          "height": 236
        },
        "id": "jL8_U29pcrH-",
        "outputId": "2979b220-9866-4d0a-c988-5678dae99f40"
      },
      "source": [
        "# Continue with cleaned data table from initial text hero processing\n",
        "df_clean.head(2)"
      ],
      "execution_count": 31,
      "outputs": [
        {
          "output_type": "execute_result",
          "data": {
            "text/html": [
              "<div>\n",
              "<style scoped>\n",
              "    .dataframe tbody tr th:only-of-type {\n",
              "        vertical-align: middle;\n",
              "    }\n",
              "\n",
              "    .dataframe tbody tr th {\n",
              "        vertical-align: top;\n",
              "    }\n",
              "\n",
              "    .dataframe thead th {\n",
              "        text-align: right;\n",
              "    }\n",
              "</style>\n",
              "<table border=\"1\" class=\"dataframe\">\n",
              "  <thead>\n",
              "    <tr style=\"text-align: right;\">\n",
              "      <th></th>\n",
              "      <th>allegation_id</th>\n",
              "      <th>allegation_narrative_type</th>\n",
              "      <th>text_content</th>\n",
              "      <th>officer_id</th>\n",
              "      <th>cohort_num</th>\n",
              "      <th>start_date</th>\n",
              "      <th>cohort_id</th>\n",
              "      <th>is_crew</th>\n",
              "      <th>is_community</th>\n",
              "      <th>is_unaffiliated</th>\n",
              "      <th>compound</th>\n",
              "      <th>neg</th>\n",
              "      <th>neu</th>\n",
              "      <th>pos</th>\n",
              "    </tr>\n",
              "  </thead>\n",
              "  <tbody>\n",
              "    <tr>\n",
              "      <th>0</th>\n",
              "      <td>58067</td>\n",
              "      <td>Initial / Intake Allegation</td>\n",
              "      <td>alleg three unknown white male offic state com...</td>\n",
              "      <td>21441</td>\n",
              "      <td>3</td>\n",
              "      <td>1995-07-03</td>\n",
              "      <td>0</td>\n",
              "      <td>0</td>\n",
              "      <td>0</td>\n",
              "      <td>1</td>\n",
              "      <td>-0.5719</td>\n",
              "      <td>0.343</td>\n",
              "      <td>0.657</td>\n",
              "      <td>0.0</td>\n",
              "    </tr>\n",
              "    <tr>\n",
              "      <th>1</th>\n",
              "      <td>83721</td>\n",
              "      <td>Initial / Intake Allegation</td>\n",
              "      <td>report parti alleg accus stop demand see ident...</td>\n",
              "      <td>28429</td>\n",
              "      <td>3</td>\n",
              "      <td>1997-08-20</td>\n",
              "      <td>0</td>\n",
              "      <td>0</td>\n",
              "      <td>0</td>\n",
              "      <td>1</td>\n",
              "      <td>-0.9081</td>\n",
              "      <td>0.407</td>\n",
              "      <td>0.593</td>\n",
              "      <td>0.0</td>\n",
              "    </tr>\n",
              "  </tbody>\n",
              "</table>\n",
              "</div>"
            ],
            "text/plain": [
              "   allegation_id    allegation_narrative_type  \\\n",
              "0          58067  Initial / Intake Allegation   \n",
              "1          83721  Initial / Intake Allegation   \n",
              "\n",
              "                                        text_content  officer_id cohort_num  \\\n",
              "0  alleg three unknown white male offic state com...       21441          3   \n",
              "1  report parti alleg accus stop demand see ident...       28429          3   \n",
              "\n",
              "  start_date  cohort_id  is_crew  is_community  is_unaffiliated  compound  \\\n",
              "0 1995-07-03          0        0             0                1   -0.5719   \n",
              "1 1997-08-20          0        0             0                1   -0.9081   \n",
              "\n",
              "     neg    neu  pos  \n",
              "0  0.343  0.657  0.0  \n",
              "1  0.407  0.593  0.0  "
            ]
          },
          "metadata": {
            "tags": []
          },
          "execution_count": 31
        }
      ]
    },
    {
      "cell_type": "code",
      "metadata": {
        "colab": {
          "base_uri": "https://localhost:8080/"
        },
        "id": "43XuPPRKc9lN",
        "outputId": "019b2d24-ec52-4b14-986a-6663a0e34a2b"
      },
      "source": [
        "# create an object to hold narrative content\n",
        "narrative_content = ''\n",
        "for i in range(df_clean.shape[0]):\n",
        "    if i == 0:\n",
        "        narrative_content = df_clean['text_content'][i]\n",
        "    else:\n",
        "        narrative_content += df_clean['text_content'][i]\n",
        "\n",
        "# tokenize narrative content\n",
        "tokens = word_tokenize(narrative_content)\n",
        "print(len(tokens))"
      ],
      "execution_count": 32,
      "outputs": [
        {
          "output_type": "stream",
          "text": [
            "804837\n"
          ],
          "name": "stdout"
        }
      ]
    },
    {
      "cell_type": "code",
      "metadata": {
        "colab": {
          "base_uri": "https://localhost:8080/"
        },
        "id": "ZzFJEs_5dDwS",
        "outputId": "8a021024-18b0-42aa-b3ed-b6fa5b43478f"
      },
      "source": [
        "# filter tokens\n",
        "spacy.load('en_core_web_sm')\n",
        "quotes = spacy.lang.punctuation.LIST_QUOTES\n",
        "punct = spacy.lang.punctuation.LIST_PUNCT\n",
        "stop_words = stopwords.words(\"english\")\n",
        "num=['0','1','2','3','4','5','6','7','8','9','&','-','',\"'\",\"--\"]\n",
        "trunc_elements = num + stop_words + punct + quotes\n",
        "trunc = num + punct + quotes\n",
        "\n",
        "filtered_tokens = []\n",
        "for i in tokens:\n",
        "    if i not in trunc:\n",
        "        filtered_tokens.append(i)\n",
        "\n",
        "print(filtered_tokens[:50])"
      ],
      "execution_count": 33,
      "outputs": [
        {
          "output_type": "stream",
          "text": [
            "['alleg', 'three', 'unknown', 'white', 'male', 'offic', 'state', 'complain', 'traffic', 'stop', 'weedreport', 'parti', 'alleg', 'accus', 'stop', 'demand', 'see', 'identif', 'appar', 'reason', 'alleg', 'accus', 'offic', 'order', 'exit', 'vehicl', 'fail', 'explain', 'stop', 'alleg', 'accus', 'offic', 'threaten', 'arrest', 'call', 'place', 'employpolic', 'report', 'regard', 'unknown', 'subject', 'subject', 'break', 'person', 'vehicl', 'steal', 'person', 'item', 'report', 'parti']\n"
          ],
          "name": "stdout"
        }
      ]
    },
    {
      "cell_type": "code",
      "metadata": {
        "colab": {
          "base_uri": "https://localhost:8080/"
        },
        "id": "Hpfk2vmne7xm",
        "outputId": "74193ceb-7705-4ecf-cb4e-85bf367078a3"
      },
      "source": [
        "# filter unique words\n",
        "unique_words = []\n",
        "for word in filtered_tokens:\n",
        "    if word not in unique_words:\n",
        "        unique_words.append(word)\n",
        "print(len(unique_words))"
      ],
      "execution_count": 34,
      "outputs": [
        {
          "output_type": "stream",
          "text": [
            "21640\n"
          ],
          "name": "stdout"
        }
      ]
    },
    {
      "cell_type": "code",
      "metadata": {
        "colab": {
          "base_uri": "https://localhost:8080/"
        },
        "id": "pj4H2Y8Ce-y_",
        "outputId": "bc643f0a-6731-4d8e-d580-c433868a0dd0"
      },
      "source": [
        "# evaluate corpus with gensim\n",
        "id2word = Dictionary([filtered_tokens])\n",
        "corpus = [id2word.doc2bow([text]) for text in filtered_tokens]\n",
        "\n",
        "for c in corpus:\n",
        "    print(c[0])\n",
        "    if c[0][1] > 1:\n",
        "        print(c)\n",
        "    break\n",
        "print(corpus[:1])"
      ],
      "execution_count": 35,
      "outputs": [
        {
          "output_type": "stream",
          "text": [
            "(1180, 1)\n",
            "[[(1180, 1)]]\n"
          ],
          "name": "stdout"
        }
      ]
    },
    {
      "cell_type": "code",
      "metadata": {
        "colab": {
          "base_uri": "https://localhost:8080/",
          "height": 332
        },
        "id": "uFfL6FcjfTcE",
        "outputId": "e0905d1f-a0a7-4db4-decc-babb7c63b192"
      },
      "source": [
        "word_freq = nltk.FreqDist(filtered_tokens)\n",
        "word_freq.plot(15)"
      ],
      "execution_count": 36,
      "outputs": [
        {
          "output_type": "display_data",
          "data": {
            "image/png": "[encoded data removed]",
            "text/plain": [
              "<Figure size 432x288 with 1 Axes>"
            ]
          },
          "metadata": {
            "tags": [],
            "needs_background": "light"
          }
        },
        {
          "output_type": "execute_result",
          "data": {
            "text/plain": [
              "<matplotlib.axes._subplots.AxesSubplot at 0x7ff264552668>"
            ]
          },
          "metadata": {
            "tags": []
          },
          "execution_count": 36
        }
      ]
    },
    {
      "cell_type": "code",
      "metadata": {
        "colab": {
          "base_uri": "https://localhost:8080/"
        },
        "id": "GLNqS9oLfYXt",
        "outputId": "f3598ea6-7285-430d-e19a-12a02680ad4c"
      },
      "source": [
        "word_freq.most_common(10)"
      ],
      "execution_count": 37,
      "outputs": [
        {
          "output_type": "execute_result",
          "data": {
            "text/plain": [
              "[('alleg', 47899),\n",
              " ('accus', 42297),\n",
              " ('offic', 40942),\n",
              " ('parti', 32994),\n",
              " ('report', 23197),\n",
              " ('state', 11017),\n",
              " ('victim', 10832),\n",
              " ('complain', 10705),\n",
              " ('without', 9699),\n",
              " ('polic', 9124)]"
            ]
          },
          "metadata": {
            "tags": []
          },
          "execution_count": 37
        }
      ]
    },
    {
      "cell_type": "code",
      "metadata": {
        "id": "GKpiyaXhfcsV"
      },
      "source": [
        "%%capture\n",
        "# evaluate with LDA model\n",
        "lda_model = LdaModel(corpus=corpus,\n",
        "                   id2word=id2word,\n",
        "                   num_topics=10, \n",
        "                   random_state=0,\n",
        "                   chunksize=100,\n",
        "                   alpha='auto',\n",
        "                   per_word_topics=True)\n",
        "\n",
        "# uncomment to display progress\n",
        "# pprint(lda_model.print_topics())\n",
        "doc_lda = lda_model[corpus]"
      ],
      "execution_count": 46,
      "outputs": []
    },
    {
      "cell_type": "code",
      "metadata": {
        "colab": {
          "base_uri": "https://localhost:8080/"
        },
        "id": "HBnbLxKhfpXO",
        "outputId": "f8068d3f-66df-4d9c-8351-9d9bfeb8717c"
      },
      "source": [
        "# evaluate coherence score\n",
        "coherence_model_lda = CoherenceModel(model=lda_model, texts=filtered_tokens, dictionary=id2word, coherence='c_v')\n",
        "coherence_lda = coherence_model_lda.get_coherence()\n",
        "print('\\\\nCoherence Score: ', coherence_lda)"
      ],
      "execution_count": 39,
      "outputs": [
        {
          "output_type": "stream",
          "text": [
            "\\nCoherence Score:  nan\n"
          ],
          "name": "stdout"
        },
        {
          "output_type": "stream",
          "text": [
            "/usr/local/lib/python3.6/dist-packages/gensim/topic_coherence/direct_confirmation_measure.py:193: RuntimeWarning:\n",
            "\n",
            "invalid value encountered in true_divide\n",
            "\n",
            "/usr/local/lib/python3.6/dist-packages/gensim/topic_coherence/direct_confirmation_measure.py:194: RuntimeWarning:\n",
            "\n",
            "invalid value encountered in true_divide\n",
            "\n",
            "/usr/local/lib/python3.6/dist-packages/gensim/topic_coherence/direct_confirmation_measure.py:189: RuntimeWarning:\n",
            "\n",
            "invalid value encountered in true_divide\n",
            "\n"
          ],
          "name": "stderr"
        }
      ]
    },
    {
      "cell_type": "code",
      "metadata": {
        "colab": {
          "base_uri": "https://localhost:8080/",
          "height": 882
        },
        "id": "amSIQhFAk59R",
        "outputId": "496b8196-b6ba-4860-cd52-c8594135351d"
      },
      "source": [
        "# display lda model on 2d principle components\n",
        "pyLDAvis.enable_notebook()\n",
        "p = pyLDAvis.gensim.prepare(lda_model, corpus, id2word)\n",
        "p"
      ],
      "execution_count": 40,
      "outputs": [
        {
          "output_type": "execute_result",
          "data": {
            "text/html": [
              "\n",
              "<link rel=\"stylesheet\" type=\"text/css\" href=\"https://cdn.rawgit.com/bmabey/pyLDAvis/files/ldavis.v1.0.0.css\">\n",
              "\n",
              "\n",
              "<div id=\"ldavis_el27281406790421434808396550704\"></div>\n",
              "<script type=\"text/javascript\">\n",
              "\n",
              "var ldavis_el27281406790421434808396550704_data = {\"mdsDat\": {\"x\": [0.4514226257634986, -0.020365526637555285, -0.017365119600814313, -0.04632215614579599, -0.06510834196400517, -0.05919948974373658, -0.05122289896673041, -0.05972477629259924, -0.07244226136825466, -0.05967205504400705], \"y\": [-0.015376781543585278, 0.39869718396701365, -0.22551487302824547, 0.0713827567656061, -0.02012584105126384, -0.023998563339359607, -0.021462088761535863, -0.07891566999095719, -0.06692035207926393, -0.01776577093840862], \"topics\": [1, 2, 3, 4, 5, 6, 7, 8, 9, 10], \"cluster\": [1, 1, 1, 1, 1, 1, 1, 1, 1, 1], \"Freq\": [11.967125779509594, 10.726606100652575, 10.464329725954373, 9.896323543505543, 9.757936086943223, 9.652548046864528, 9.628892396377417, 9.446005628761416, 9.375648648091293, 9.084584043340037]}, \"tinfo\": {\"Term\": [\"offic\", \"alleg\", \"accus\", \"parti\", \"report\", \"state\", \"fail\", \"polic\", \"complain\", \"victim\", \"without\", \"vehicl\", \"arrest\", \"call\", \"search\", \"refus\", \"unknown\", \"provid\", \"resid\", \"justif\", \"citat\", \"stop\", \"male\", \"fals\", \"issu\", \"traffic\", \"told\", \"inform\", \"regard\", \"rude\", \"alleg\", \"parti\", \"uniform\", \"unprofession\", \"investig\", \"exit\", \"appar\", \"appear\", \"onto\", \"reportreport\", \"stolen\", \"march\", \"burglari\", \"serial\", \"respons\", \"chokereport\", \"accident\", \"evalu\", \"good\", \"age\", \"encount\", \"hood\", \"van\", \"content\", \"bank\", \"b\", \"chair\", \"batterireport\", \"type\", \"016th\", \"without\", \"search\", \"provid\", \"resid\", \"told\", \"inform\", \"also\", \"wit\", \"name\", \"enter\", \"door\", \"sever\", \"car\", \"harass\", \"number\", \"fuck\", \"ask\", \"daughter\", \"conduct\", \"apart\", \"leav\", \"make\", \"handcuf\", \"boyfriend\", \"relat\", \"said\", \"complaint\", \"secur\", \"cell\", \"would\", \"accus\", \"call\", \"stop\", \"rude\", \"order\", \"file\", \"subject\", \"front\", \"person\", \"hispan\", \"mental\", \"threw\", \"bitch\", \"sit\", \"obtain\", \"build\", \"anoth\", \"someth\", \"howev\", \"instead\", \"unmark\", \"parol\", \"regist\", \"write\", \"say\", \"aid\", \"head\", \"sister\", \"display\", \"claim\", \"report\", \"victim\", \"white\", \"accid\", \"case\", \"place\", \"caus\", \"took\", \"proper\", \"driver\", \"struck\", \"request\", \"street\", \"drove\", \"wife\", \"tri\", \"impound\", \"execut\", \"identifi\", \"side\", \"assault\", \"manner\", \"plant\", \"identif\", \"charg\", \"need\", \"forc\", \"issuanc\", \"later\", \"handicap\", \"fail\", \"complain\", \"issu\", \"district\", \"femal\", \"two\", \"incid\", \"made\", \"properti\", \"phone\", \"star\", \"allow\", \"licens\", \"drive\", \"involv\", \"arriv\", \"supervisor\", \"refer\", \"approxim\", \"neighbor\", \"walk\", \"kick\", \"gave\", \"alterc\", \"ass\", \"observ\", \"came\", \"hous\", \"area\", \"speak\", \"offic\", \"regard\", \"park\", \"warrant\", \"threaten\", \"left\", \"famili\", \"contain\", \"thorough\", \"patient\", \"ms\", \"iti\", \"face\", \"children\", \"belong\", \"sexual\", \"wait\", \"insur\", \"taser\", \"substanc\", \"direct\", \"hung\", \"seat\", \"numer\", \"unabl\", \"disrespect\", \"next\", \"profan\", \"arrestcomplain\", \"foot\", \"state\", \"unknown\", \"male\", \"fals\", \"offend\", \"hour\", \"locat\", \"servic\", \"son\", \"chicago\", \"use\", \"plaincloth\", \"card\", \"verbal\", \"could\", \"ticket\", \"telephon\", \"husband\", \"citi\", \"abus\", \"violat\", \"check\", \"detect\", \"domest\", \"sign\", \"question\", \"employe\", \"right\", \"live\", \"prison\", \"refus\", \"justif\", \"citat\", \"respond\", \"black\", \"back\", \"home\", \"sergeant\", \"get\", \"pull\", \"scene\", \"drug\", \"ground\", \"push\", \"attempt\", \"yell\", \"away\", \"detain\", \"upon\", \"receiv\", \"follow\", \"lock\", \"approach\", \"insid\", \"window\", \"three\", \"move\", \"effect\", \"way\", \"valid\", \"arrest\", \"traffic\", \"one\", \"return\", \"inventori\", \"assist\", \"justifreport\", \"member\", \"take\", \"remov\", \"permiss\", \"depart\", \"possibl\", \"gun\", \"plate\", \"see\", \"arm\", \"went\", \"duti\", \"give\", \"come\", \"hospit\", \"batteri\", \"spoke\", \"put\", \"complet\", \"year\", \"mark\", \"comment\", \"situat\", \"polic\", \"vehicl\", \"time\", \"station\", \"damag\", \"go\", \"reason\", \"friend\", \"weapon\", \"illeg\", \"want\", \"unit\", \"miss\", \"probabl\", \"date\", \"octob\", \"indebted\", \"assign\", \"wallet\", \"rd\", \"listen\", \"partner\", \"due\", \"explain\", \"tenant\", \"lot\", \"usc\", \"tone\", \"shit\", \"l\"], \"Freq\": [41612.0, 45284.0, 41741.0, 33053.0, 23796.0, 11191.0, 10133.0, 9695.0, 9219.0, 9176.0, 9394.0, 7657.0, 7527.0, 6610.0, 5605.0, 5191.0, 4613.0, 4563.0, 4368.0, 4063.0, 3993.0, 4078.0, 3861.0, 3300.0, 3261.0, 3195.0, 3288.0, 3198.0, 3001.0, 2989.0, 45283.224260609924, 33052.92119446651, 2334.2224276728357, 2133.1642877560835, 1277.1066312085727, 640.2198136231704, 633.1748375537821, 433.5967086208322, 426.10112282526234, 395.9534618913452, 393.4915011369625, 340.64375295044726, 264.61021252181644, 204.8601342531848, 198.15559345070017, 191.79911244517302, 177.9854934581269, 171.83496446440682, 156.17388820768434, 155.3435880973661, 145.2975745737007, 139.2396724075905, 118.19863804452974, 111.74141232939422, 110.43875015715263, 99.27814246505875, 99.03123102930073, 95.35871915325322, 93.23317396867957, 91.93032678945873, 9393.377628830573, 5604.823155787443, 4562.732718061833, 4368.064780631793, 3287.484316949251, 3197.707489192921, 2395.070649071528, 2373.287828649661, 2330.9172825289897, 2307.2390663185442, 2121.0951838097567, 2051.2971173124806, 1969.977450047264, 1900.4997049558458, 1581.2082481963432, 1576.5354471256444, 1517.9759664995663, 1262.3758866244539, 1094.5854397674357, 1069.7704202544226, 1058.9971205217037, 1048.8344736698814, 1024.9779259137044, 966.8309073388442, 955.6523817312444, 877.5414762598012, 858.260684409446, 836.5860850247998, 763.8323621016319, 712.5490175864838, 41740.425475041164, 6609.276963175907, 4077.6031650358987, 2988.152470909368, 1851.433232465793, 1790.794635933, 1692.9113085325992, 1370.0591142895044, 1306.0369434305842, 921.0650447220095, 812.6865032115019, 643.7969414035726, 600.6603689840025, 595.9942475858351, 535.6255495011901, 500.2483417667342, 483.44616330989027, 465.86986025729055, 415.6370215195467, 348.4818402963153, 332.1196880801309, 238.51098814319263, 238.22263761427556, 231.14517633909614, 223.53172231604734, 222.5360158789612, 221.14040324080503, 215.1649292505003, 203.07973797026713, 187.4104898200341, 23795.53984547511, 9175.635304767116, 2357.509343889175, 1790.447763660781, 1701.2963051845359, 1391.0067995717577, 1169.918748760068, 1166.2693137605968, 1067.7329368473609, 1055.4913292916126, 1050.372491920002, 1016.859228427969, 978.5607083845341, 946.8668215385444, 840.8065169860478, 692.9029232873128, 669.0261917840047, 659.4043471429342, 650.8657314806285, 627.7795946808524, 528.7422531091156, 525.6763805540699, 489.7506831205598, 481.66544659392565, 475.58603443216805, 471.16339959292736, 436.4268580697494, 429.94721568441264, 418.3409842717589, 388.8027994973905, 10132.536833759972, 9219.042641021812, 3260.530192241846, 2643.189819494078, 2312.812778432461, 2248.9495121389314, 1946.469707035183, 1708.2121453892191, 1514.5587398027878, 1513.14652890478, 1497.5680317228623, 1487.1530129206708, 1419.0301475864233, 1288.2581604017228, 1142.5505143188518, 1106.3356575135913, 1039.459630752906, 990.1591493593054, 969.4722491449888, 931.1297870563149, 873.3114972646778, 684.3016090431636, 669.9071952581718, 664.7560046053393, 647.5467505256598, 631.9700087332983, 629.5328697581317, 584.8341420862557, 576.1239722493461, 536.0507326288197, 41611.65021375318, 3001.0336381227285, 2478.4032356712505, 1974.1083862182122, 1868.7815506046231, 981.1782555451214, 716.9121346567051, 564.0130967225982, 525.5818647488207, 509.033026825893, 486.3347634675314, 478.9618777394513, 474.0001710600248, 464.0261841503404, 462.7786308785425, 424.925413350534, 416.3427055477356, 409.565126223434, 405.6288543593639, 398.0739327888061, 385.40985261236324, 372.40832602522244, 347.2518914561686, 319.3687538682524, 297.75127406113575, 294.0698957873077, 287.1743476867104, 278.27586268419265, 264.91883803981244, 257.26441535941063, 11191.032320879202, 4612.504004860622, 3860.186726281404, 3299.4246660459858, 2419.146536171385, 2056.2274910957267, 1800.575719176355, 1353.9150859138342, 1343.216304361832, 1320.1200545514412, 1137.703721609696, 1060.9946935003147, 968.5051863410571, 956.3117539136912, 924.5873217576002, 906.3952214633658, 873.8226729116788, 862.7865501944127, 815.9871396068563, 796.3326502046681, 748.0803053000541, 747.3911160002883, 735.9036172351916, 709.0745293701477, 687.3433781476475, 639.2313394529764, 569.891599107542, 560.7203797640999, 502.47590870951603, 475.9184115173193, 5191.005050051538, 4062.303357181253, 3992.318704552031, 2583.806413236357, 2378.6240203500947, 1881.7801415717868, 1791.9455463024317, 1650.382037613734, 1485.683887158224, 1314.0692614723123, 1219.114891374319, 1093.675876671924, 960.6240378877977, 890.4531022054135, 884.3978055290255, 880.666126199149, 878.9092879634554, 866.8285735344476, 848.0994445513102, 764.0144888163817, 721.6223142558093, 718.0842107021947, 703.9426293676805, 546.844204413577, 541.8558402070098, 501.9614587097025, 495.43953395962984, 490.2243519040302, 489.2155134080289, 481.91854211997133, 7526.126983254827, 3194.603617967556, 2268.0902337598095, 1989.9248149211735, 1730.344526656113, 1495.3274477567775, 1445.094185621661, 1394.2499459277199, 1351.4389296923944, 1246.9694974683273, 1109.1808461083824, 1106.6806449799847, 896.2384412244695, 883.8866310457174, 877.4158488184501, 872.7467265492662, 828.7460820512564, 821.4300228424456, 775.8596284328349, 742.2439860920895, 729.2223072578607, 726.0421880386389, 705.0515178010933, 674.2681998856175, 668.271287186663, 667.8329069230391, 651.6122749627832, 647.0437875986186, 611.5073678668234, 602.0268148908414, 9694.88405847784, 7656.997165999635, 2574.9484295215016, 2274.7247702894856, 2122.5488048756665, 1781.943314344353, 1192.7541260463754, 1110.1987039634737, 958.8551205637228, 946.6751327646143, 890.6603310458416, 809.6094476246569, 736.6456893277152, 692.7307967718809, 579.2021021988887, 566.7560708355653, 560.9584048144791, 555.5730824849984, 517.1030605301846, 452.8588851574416, 439.1156956480953, 416.5496244976538, 382.7581423858172, 381.98234655087987, 381.6314577650085, 369.3123197167387, 362.65353598051, 344.9474072978394, 328.1667111873373, 327.8886490182891], \"Total\": [41612.0, 45284.0, 41741.0, 33053.0, 23796.0, 11191.0, 10133.0, 9695.0, 9219.0, 9176.0, 9394.0, 7657.0, 7527.0, 6610.0, 5605.0, 5191.0, 4613.0, 4563.0, 4368.0, 4063.0, 3993.0, 4078.0, 3861.0, 3300.0, 3261.0, 3195.0, 3288.0, 3198.0, 3001.0, 2989.0, 45284.105140035754, 33053.80207389234, 2335.103307098665, 2134.045167181913, 1277.987510634402, 641.1006930489996, 634.0557169796114, 434.47758805647607, 426.9820022609062, 396.83434133656385, 394.37238056279165, 341.5246323860911, 265.4910919574603, 205.74101390883732, 199.03647289591876, 192.6801114881281, 178.86637288395613, 172.71584700128474, 157.05476766195792, 156.22446762400293, 146.17845399952992, 140.12055188048907, 119.07951747035895, 112.62229199462146, 111.31962958298183, 100.15902195617501, 99.91211074811318, 96.23959865294806, 94.11406053619271, 92.81120687557282, 9394.256970943909, 5605.70249790078, 4563.61206017517, 4368.94412274513, 3288.363659062588, 3198.586831306258, 2395.9499911848648, 2374.167170762998, 2331.7966246423266, 2308.118408431881, 2121.9745259230936, 2052.1764594258175, 1970.8567921606013, 1901.3790470691831, 1582.0875903096805, 1577.4147892389817, 1518.8553086129036, 1263.2552287377912, 1095.464781880773, 1070.6497623677599, 1059.876462635041, 1049.7138157832187, 1025.8572680270418, 967.7102494521814, 956.5317238445816, 878.4208183731384, 859.1400265227832, 837.465427138137, 764.7117042149691, 713.428359699821, 41741.305129543085, 6610.156617677824, 4078.4828195378154, 2989.0321254112846, 1852.31288696771, 1791.674290434917, 1693.7909630345162, 1370.9387687914214, 1306.9165979325012, 921.9446992239262, 813.5661577520483, 644.6765959054894, 601.5400234859193, 596.8739020975665, 536.5052040031069, 501.127996268651, 484.32581781180704, 466.749514769022, 416.51667602146347, 349.36149479823206, 332.9993425918624, 239.39064266587386, 239.10229211619236, 232.02483086177736, 224.41137681796414, 223.41567040164242, 222.02005773177206, 216.0445837524171, 203.95939249294835, 188.29014433176556, 23796.417857717923, 9176.513317009927, 2358.3873561319865, 1791.3257759035928, 1702.1743174273477, 1391.8848118145695, 1170.7967610028797, 1167.1473260034086, 1068.6109490901727, 1056.3693415344244, 1051.2505041628137, 1017.7372406707807, 979.4387206273458, 947.7448337813561, 841.6845292288594, 693.7809355604636, 669.9042040268164, 660.2823593857458, 651.7437437234402, 628.657606923664, 529.6202653519273, 526.5543927968815, 490.62869536337155, 482.5434588367374, 476.4640466749798, 472.0414118357391, 437.3048703429003, 430.8252279370391, 419.2189965145706, 389.68081177054137, 10133.413875360111, 9219.91968262195, 3261.407233841985, 2644.066861094217, 2313.6898200326, 2249.8265537390703, 1947.346748635322, 1709.089186989358, 1515.4357814029268, 1514.023570504919, 1498.4450733230012, 1488.0300545208097, 1419.9071891865622, 1289.1352020018617, 1143.4275559189907, 1107.2126991137302, 1040.3366723530448, 991.0361909594443, 970.3492907451277, 932.0068286564538, 874.1885388648167, 685.1786506433025, 670.7842368583107, 665.6330462054782, 648.4237921257987, 632.8470503334372, 630.4099113582706, 585.7111836962092, 577.001013849485, 536.9277742289586, 41612.52899485703, 3001.9124192265817, 2479.282016775104, 1974.9871673220655, 1869.6603317084764, 982.0570366489745, 717.7909157605583, 564.8918778264514, 526.4606458526739, 509.9118191905677, 487.2135446780994, 479.8406588433045, 474.87895216387795, 464.90496525419354, 463.6574119823957, 425.8041944642018, 417.22148665158875, 410.44390732728715, 406.50763546321707, 398.95271389265923, 386.2886337162164, 373.28710715941475, 348.13067256002176, 320.24753497210554, 298.6300551649889, 294.94867689116086, 288.05312879056356, 279.1546437880458, 265.7976191436656, 258.1431964730785, 11191.910989543412, 4613.382673524835, 3861.0653949456164, 3300.303334710198, 2420.0252048355974, 2057.106159759939, 1801.4543878405673, 1354.7937545780464, 1344.0949730260443, 1320.9987232156534, 1138.5823902739082, 1061.873362164527, 969.3838550052692, 957.1904225779033, 925.4659904218123, 907.2738901275779, 874.7013415758909, 863.665218888964, 816.8658082710684, 797.2113188688802, 748.9589739642662, 748.2697846645004, 736.7822859092184, 709.9531980343598, 688.2220468118596, 640.1100081171885, 570.7702677717541, 561.599048428312, 503.35457737372815, 476.79708018153144, 5191.883752044339, 4063.1820591740548, 3993.1974065448326, 2584.685115229159, 2379.5027223428965, 1882.6588435645883, 1792.8242482952332, 1651.2607396065355, 1486.5625891510256, 1314.9479634651138, 1219.9935933671206, 1094.5545786647256, 961.502739890414, 891.3318041982151, 885.276507521827, 881.5448281919505, 879.787989956257, 867.7072755272492, 848.9781465441117, 764.8931908091832, 722.5010162486109, 718.9629126949962, 704.8213313604821, 547.7229063954288, 542.7345421998114, 502.840160702504, 496.31823595243134, 491.1030539066464, 490.0942154008304, 482.79724411277283, 7527.000979622637, 3195.477614335367, 2268.9642301276203, 1990.7988112889839, 1731.2185230239234, 1496.2014441245879, 1445.9681819894713, 1395.1239422955302, 1352.3129260602047, 1247.8434938361377, 1110.0548424761928, 1107.554641347795, 897.11243759228, 884.7606274135279, 878.2898451862605, 873.6207229170767, 829.6200784190669, 822.3040192102561, 776.7336248006454, 743.1179824599, 730.0963036256712, 726.9161844064494, 705.9255141689038, 675.142196253428, 669.1452835544735, 668.7069032908496, 652.4862713305937, 647.917783966429, 612.3813642346339, 602.9008112586519, 9695.758509885041, 7657.871617406837, 2575.822880928703, 2275.599221696687, 2123.423256282868, 1782.8177657515541, 1193.6285774535766, 1111.0731553706748, 959.7295719709241, 947.5495841718156, 891.5347824530429, 810.4838990318582, 737.5201407349165, 693.6052481790822, 580.07655360609, 567.6305222821607, 561.8328562216803, 556.4475338921997, 517.9775119373859, 453.73333656464285, 439.9901470552966, 417.42407590485504, 383.6325937930185, 382.85679795808113, 382.50590920254893, 370.18677112394, 363.5279873877113, 345.82185871485535, 329.04116259453855, 328.76310042549034], \"Category\": [\"Default\", \"Default\", \"Default\", \"Default\", \"Default\", \"Default\", \"Default\", \"Default\", \"Default\", \"Default\", \"Default\", \"Default\", \"Default\", \"Default\", \"Default\", \"Default\", \"Default\", \"Default\", \"Default\", \"Default\", \"Default\", \"Default\", \"Default\", \"Default\", \"Default\", \"Default\", \"Default\", \"Default\", \"Default\", \"Default\", \"Topic1\", \"Topic1\", \"Topic1\", \"Topic1\", \"Topic1\", \"Topic1\", \"Topic1\", \"Topic1\", \"Topic1\", \"Topic1\", \"Topic1\", \"Topic1\", \"Topic1\", \"Topic1\", \"Topic1\", \"Topic1\", \"Topic1\", \"Topic1\", \"Topic1\", \"Topic1\", \"Topic1\", \"Topic1\", \"Topic1\", \"Topic1\", \"Topic1\", \"Topic1\", \"Topic1\", \"Topic1\", \"Topic1\", \"Topic1\", \"Topic2\", \"Topic2\", \"Topic2\", \"Topic2\", \"Topic2\", \"Topic2\", \"Topic2\", \"Topic2\", \"Topic2\", \"Topic2\", \"Topic2\", \"Topic2\", \"Topic2\", \"Topic2\", \"Topic2\", \"Topic2\", \"Topic2\", \"Topic2\", \"Topic2\", \"Topic2\", \"Topic2\", \"Topic2\", \"Topic2\", \"Topic2\", \"Topic2\", \"Topic2\", \"Topic2\", \"Topic2\", \"Topic2\", \"Topic2\", \"Topic3\", \"Topic3\", \"Topic3\", \"Topic3\", \"Topic3\", \"Topic3\", \"Topic3\", \"Topic3\", \"Topic3\", \"Topic3\", \"Topic3\", \"Topic3\", \"Topic3\", \"Topic3\", \"Topic3\", \"Topic3\", \"Topic3\", \"Topic3\", \"Topic3\", \"Topic3\", \"Topic3\", \"Topic3\", \"Topic3\", \"Topic3\", \"Topic3\", \"Topic3\", \"Topic3\", \"Topic3\", \"Topic3\", \"Topic3\", \"Topic4\", \"Topic4\", \"Topic4\", \"Topic4\", \"Topic4\", \"Topic4\", \"Topic4\", \"Topic4\", \"Topic4\", \"Topic4\", \"Topic4\", \"Topic4\", \"Topic4\", \"Topic4\", \"Topic4\", \"Topic4\", \"Topic4\", \"Topic4\", \"Topic4\", \"Topic4\", \"Topic4\", \"Topic4\", \"Topic4\", \"Topic4\", \"Topic4\", \"Topic4\", \"Topic4\", \"Topic4\", \"Topic4\", \"Topic4\", \"Topic5\", \"Topic5\", \"Topic5\", \"Topic5\", \"Topic5\", \"Topic5\", \"Topic5\", \"Topic5\", \"Topic5\", \"Topic5\", \"Topic5\", \"Topic5\", \"Topic5\", \"Topic5\", \"Topic5\", \"Topic5\", \"Topic5\", \"Topic5\", \"Topic5\", \"Topic5\", \"Topic5\", \"Topic5\", \"Topic5\", \"Topic5\", \"Topic5\", \"Topic5\", \"Topic5\", \"Topic5\", \"Topic5\", \"Topic5\", \"Topic6\", \"Topic6\", \"Topic6\", \"Topic6\", \"Topic6\", \"Topic6\", \"Topic6\", \"Topic6\", \"Topic6\", \"Topic6\", \"Topic6\", \"Topic6\", \"Topic6\", \"Topic6\", \"Topic6\", \"Topic6\", \"Topic6\", \"Topic6\", \"Topic6\", \"Topic6\", \"Topic6\", \"Topic6\", \"Topic6\", \"Topic6\", \"Topic6\", \"Topic6\", \"Topic6\", \"Topic6\", \"Topic6\", \"Topic6\", \"Topic7\", \"Topic7\", \"Topic7\", \"Topic7\", \"Topic7\", \"Topic7\", \"Topic7\", \"Topic7\", \"Topic7\", \"Topic7\", \"Topic7\", \"Topic7\", \"Topic7\", \"Topic7\", \"Topic7\", \"Topic7\", \"Topic7\", \"Topic7\", \"Topic7\", \"Topic7\", \"Topic7\", \"Topic7\", \"Topic7\", \"Topic7\", \"Topic7\", \"Topic7\", \"Topic7\", \"Topic7\", \"Topic7\", \"Topic7\", \"Topic8\", \"Topic8\", \"Topic8\", \"Topic8\", \"Topic8\", \"Topic8\", \"Topic8\", \"Topic8\", \"Topic8\", \"Topic8\", \"Topic8\", \"Topic8\", \"Topic8\", \"Topic8\", \"Topic8\", \"Topic8\", \"Topic8\", \"Topic8\", \"Topic8\", \"Topic8\", \"Topic8\", \"Topic8\", \"Topic8\", \"Topic8\", \"Topic8\", \"Topic8\", \"Topic8\", \"Topic8\", \"Topic8\", \"Topic8\", \"Topic9\", \"Topic9\", \"Topic9\", \"Topic9\", \"Topic9\", \"Topic9\", \"Topic9\", \"Topic9\", \"Topic9\", \"Topic9\", \"Topic9\", \"Topic9\", \"Topic9\", \"Topic9\", \"Topic9\", \"Topic9\", \"Topic9\", \"Topic9\", \"Topic9\", \"Topic9\", \"Topic9\", \"Topic9\", \"Topic9\", \"Topic9\", \"Topic9\", \"Topic9\", \"Topic9\", \"Topic9\", \"Topic9\", \"Topic9\", \"Topic10\", \"Topic10\", \"Topic10\", \"Topic10\", \"Topic10\", \"Topic10\", \"Topic10\", \"Topic10\", \"Topic10\", \"Topic10\", \"Topic10\", \"Topic10\", \"Topic10\", \"Topic10\", \"Topic10\", \"Topic10\", \"Topic10\", \"Topic10\", \"Topic10\", \"Topic10\", \"Topic10\", \"Topic10\", \"Topic10\", \"Topic10\", \"Topic10\", \"Topic10\", \"Topic10\", \"Topic10\", \"Topic10\", \"Topic10\"], \"logprob\": [30.0, 29.0, 28.0, 27.0, 26.0, 25.0, 24.0, 23.0, 22.0, 21.0, 20.0, 19.0, 18.0, 17.0, 16.0, 15.0, 14.0, 13.0, 12.0, 11.0, 10.0, 9.0, 8.0, 7.0, 6.0, 5.0, 4.0, 3.0, 2.0, 1.0, -0.7547000050544739, -1.0694999694824219, -3.719899892807007, -3.809999942779541, -4.322999954223633, -5.013599872589111, -5.024600028991699, -5.403299808502197, -5.4207000732421875, -5.494100093841553, -5.50029993057251, -5.644499778747559, -5.89709997177124, -6.15310001373291, -6.186299800872803, -6.218900203704834, -6.293700218200684, -6.328800201416016, -6.4243998527526855, -6.429699897766113, -6.496600151062012, -6.5391998291015625, -6.703000068664551, -6.759200096130371, -6.770899772644043, -6.877500057220459, -6.879899978637695, -6.917699813842773, -6.940299987792969, -6.9542999267578125, -2.2181999683380127, -2.734600067138672, -2.9402999877929688, -2.9839000701904297, -3.2681000232696533, -3.295799970626831, -3.5848000049591064, -3.593899965286255, -3.6119000911712646, -3.6221001148223877, -3.7063000202178955, -3.7397000789642334, -3.7802000045776367, -3.8160998821258545, -4.0, -4.002999782562256, -4.040800094604492, -4.225200176239014, -4.367800235748291, -4.390699863433838, -4.400899887084961, -4.4105000495910645, -4.433499813079834, -4.4918999671936035, -4.503499984741211, -4.588799953460693, -4.611000061035156, -4.636600017547607, -4.72760009765625, -4.797100067138672, -0.7020000219345093, -2.5450000762939453, -3.027899980545044, -3.3387999534606934, -3.817500114440918, -3.850800037384033, -3.9070000648498535, -4.118599891662598, -4.166399955749512, -4.515699863433838, -4.6407999992370605, -4.873799800872803, -4.94320011138916, -4.951000213623047, -5.057799816131592, -5.126100063323975, -5.160200119018555, -5.197299957275391, -5.311399936676025, -5.487599849700928, -5.535699844360352, -5.866799831390381, -5.868000030517578, -5.898099899291992, -5.931600093841553, -5.936100006103516, -5.942399978637695, -5.969799995422363, -6.027599811553955, -6.107900142669678, -1.2080999612808228, -2.161099910736084, -3.5199999809265137, -3.7952001094818115, -3.8461999893188477, -4.047599792480469, -4.220699787139893, -4.223800182342529, -4.312099933624268, -4.323599815368652, -4.328499794006348, -4.360899925231934, -4.3993000984191895, -4.432199954986572, -4.551000118255615, -4.744500160217285, -4.779600143432617, -4.794000148773193, -4.80709981918335, -4.843200206756592, -5.014900207519531, -5.020699977874756, -5.0914998054504395, -5.108099937438965, -5.120800018310547, -5.130199909210205, -5.2067999839782715, -5.221700191497803, -5.249100208282471, -5.322299957275391, -2.047800064086914, -2.1422998905181885, -3.1816999912261963, -3.3915998935699463, -3.525099992752075, -3.553100109100342, -3.697499990463257, -3.8280999660491943, -3.9484000205993652, -3.949399948120117, -3.959700107574463, -3.9667000770568848, -4.013599872589111, -4.110300064086914, -4.230299949645996, -4.262499809265137, -4.32480001449585, -4.3734002113342285, -4.394499778747559, -4.434899806976318, -4.499000072479248, -4.7428998947143555, -4.764200210571289, -4.771900177001953, -4.798099994659424, -4.822500228881836, -4.826300144195557, -4.900000095367432, -4.914999961853027, -4.987100124359131, -0.6243000030517578, -3.253700017929077, -3.4451000690460205, -3.672600030899048, -3.727400064468384, -4.371699810028076, -4.685500144958496, -4.9253997802734375, -4.9959001541137695, -5.027900218963623, -5.073500156402588, -5.088799953460693, -5.0991997718811035, -5.120500087738037, -5.123199939727783, -5.208499908447266, -5.228899955749512, -5.245299816131592, -5.255000114440918, -5.273799896240234, -5.306099891662598, -5.340400218963623, -5.410399913787842, -5.494100093841553, -5.564199924468994, -5.576600074768066, -5.600299835205078, -5.631800174713135, -5.681000232696533, -5.710299968719482, -1.9350999593734741, -2.821500062942505, -2.999500036239624, -3.1565001010894775, -3.4667999744415283, -3.6294000148773193, -3.7620999813079834, -4.0472002029418945, -4.055200099945068, -4.072500228881836, -4.221199989318848, -4.290999889373779, -4.382199764251709, -4.394899845123291, -4.428599834442139, -4.448500156402588, -4.485099792480469, -4.497799873352051, -4.553599834442139, -4.578000068664551, -4.640500068664551, -4.64139986038208, -4.656899929046631, -4.693999767303467, -4.725200176239014, -4.797699928283691, -4.912499904632568, -4.928800106048584, -5.038400173187256, -5.092700004577637, -2.6840999126434326, -2.92930006980896, -2.946700096130371, -3.3817999362945557, -3.4644999504089355, -3.6988000869750977, -3.74780011177063, -3.8299999237060547, -3.9351999759674072, -4.0578999519348145, -4.132900238037109, -4.241499900817871, -4.371200084686279, -4.4471001625061035, -4.45389986038208, -4.458099842071533, -4.460100173950195, -4.473999977111816, -4.495800018310547, -4.600200176239014, -4.657299995422363, -4.662199974060059, -4.68209981918335, -4.934599876403809, -4.94379997253418, -5.020299911499023, -5.033400058746338, -5.043900012969971, -5.046000003814697, -5.060999870300293, -2.3052000999450684, -3.162100076675415, -3.5046000480651855, -3.635499954223633, -3.7753000259399414, -3.9212000370025635, -3.955399990081787, -3.9911999702453613, -4.02239990234375, -4.10290002822876, -4.21999979019165, -4.2221999168396, -4.43310022354126, -4.447000026702881, -4.454400062561035, -4.459700107574463, -4.51140022277832, -4.520299911499023, -4.577400207519531, -4.621699810028076, -4.639400005340576, -4.643700122833252, -4.673099994659424, -4.717700004577637, -4.726600170135498, -4.72730016708374, -4.7519001960754395, -4.758900165557861, -4.815400123596191, -4.830999851226807, -2.020400047302246, -2.2564001083374023, -3.3461999893188477, -3.4702000617980957, -3.539400100708008, -3.7142999172210693, -4.115799903869629, -4.1875, -4.334099769592285, -4.346799850463867, -4.407800197601318, -4.503200054168701, -4.597700119018555, -4.659200191497803, -4.838099956512451, -4.859899997711182, -4.870100021362305, -4.879799842834473, -4.951600074768066, -5.084199905395508, -5.114999771118164, -5.167799949645996, -5.252399921417236, -5.25439977645874, -5.255300045013428, -5.2881999015808105, -5.306300163269043, -5.356400012969971, -5.406300067901611, -5.407100200653076], \"loglift\": [30.0, 29.0, 28.0, 27.0, 26.0, 25.0, 24.0, 23.0, 22.0, 21.0, 20.0, 19.0, 18.0, 17.0, 16.0, 15.0, 14.0, 13.0, 12.0, 11.0, 10.0, 9.0, 8.0, 7.0, 6.0, 5.0, 4.0, 3.0, 2.0, 1.0, 2.123, 2.123, 2.1226, 2.1226, 2.1223, 2.1216, 2.1216, 2.121, 2.1209, 2.1208, 2.1208, 2.1204, 2.1197, 2.1187, 2.1186, 2.1184, 2.1181, 2.1179, 2.1174, 2.1174, 2.117, 2.1167, 2.1156, 2.1152, 2.1151, 2.1142, 2.1142, 2.1138, 2.1136, 2.1135, 2.2323, 2.2323, 2.2323, 2.2322, 2.2322, 2.2322, 2.2321, 2.2321, 2.2321, 2.2321, 2.232, 2.232, 2.232, 2.232, 2.2319, 2.2319, 2.2319, 2.2317, 2.2316, 2.2316, 2.2316, 2.2316, 2.2316, 2.2315, 2.2315, 2.2314, 2.2314, 2.2314, 2.2313, 2.2312, 2.2572, 2.2571, 2.257, 2.2569, 2.2567, 2.2567, 2.2567, 2.2566, 2.2565, 2.2562, 2.2561, 2.2558, 2.2557, 2.2557, 2.2556, 2.2554, 2.2554, 2.2553, 2.2551, 2.2547, 2.2546, 2.2535, 2.2535, 2.2534, 2.2533, 2.2533, 2.2532, 2.2531, 2.2529, 2.2525, 2.313, 2.3129, 2.3126, 2.3125, 2.3125, 2.3124, 2.3123, 2.3123, 2.3122, 2.3122, 2.3122, 2.3121, 2.3121, 2.3121, 2.312, 2.3117, 2.3117, 2.3117, 2.3117, 2.3116, 2.3113, 2.3113, 2.3112, 2.3112, 2.3112, 2.3111, 2.311, 2.311, 2.3109, 2.3108, 2.327, 2.327, 2.3268, 2.3268, 2.3267, 2.3267, 2.3266, 2.3266, 2.3265, 2.3265, 2.3265, 2.3265, 2.3265, 2.3264, 2.3263, 2.3263, 2.3262, 2.3262, 2.3262, 2.3261, 2.3261, 2.3258, 2.3258, 2.3258, 2.3257, 2.3257, 2.3257, 2.3256, 2.3256, 2.3255, 2.3379, 2.3377, 2.3376, 2.3375, 2.3375, 2.3371, 2.3367, 2.3364, 2.3363, 2.3362, 2.3361, 2.3361, 2.3361, 2.3361, 2.3361, 2.3359, 2.3358, 2.3358, 2.3358, 2.3357, 2.3357, 2.3356, 2.3354, 2.3352, 2.335, 2.335, 2.3349, 2.3348, 2.3346, 2.3345, 2.3403, 2.3402, 2.3402, 2.3401, 2.34, 2.34, 2.3399, 2.3398, 2.3397, 2.3397, 2.3396, 2.3396, 2.3395, 2.3395, 2.3395, 2.3394, 2.3394, 2.3394, 2.3393, 2.3393, 2.3392, 2.3392, 2.3392, 2.3392, 2.3391, 2.339, 2.3389, 2.3388, 2.3387, 2.3386, 2.3594, 2.3594, 2.3594, 2.3592, 2.3592, 2.3591, 2.3591, 2.359, 2.359, 2.3589, 2.3589, 2.3588, 2.3587, 2.3586, 2.3586, 2.3586, 2.3586, 2.3586, 2.3585, 2.3584, 2.3584, 2.3584, 2.3583, 2.358, 2.358, 2.3578, 2.3578, 2.3578, 2.3578, 2.3578, 2.3669, 2.3668, 2.3667, 2.3666, 2.3665, 2.3665, 2.3664, 2.3664, 2.3664, 2.3664, 2.3663, 2.3663, 2.3661, 2.3661, 2.3661, 2.3661, 2.366, 2.366, 2.3659, 2.3659, 2.3659, 2.3659, 2.3658, 2.3658, 2.3657, 2.3657, 2.3657, 2.3657, 2.3656, 2.3656, 2.3985, 2.3985, 2.3983, 2.3982, 2.3982, 2.3981, 2.3979, 2.3978, 2.3977, 2.3977, 2.3976, 2.3975, 2.3974, 2.3973, 2.3971, 2.397, 2.397, 2.397, 2.3969, 2.3967, 2.3966, 2.3965, 2.3963, 2.3963, 2.3963, 2.3962, 2.3962, 2.3961, 2.3959, 2.3959]}, \"token.table\": {\"Topic\": [1, 7, 4, 1, 3, 1, 3, 1, 5, 2, 5, 3, 2, 1, 1, 8, 5, 5, 9, 9, 6, 5, 2, 5, 4, 10, 9, 8, 8, 1, 8, 1, 9, 1, 6, 3, 8, 2, 3, 1, 3, 5, 2, 7, 4, 4, 2, 1, 4, 7, 7, 6, 1, 8, 7, 3, 9, 9, 5, 2, 9, 2, 6, 1, 7, 10, 10, 2, 9, 8, 7, 6, 3, 6, 5, 7, 2, 5, 4, 4, 8, 10, 9, 8, 7, 1, 2, 1, 4, 1, 10, 6, 5, 7, 6, 5, 3, 8, 6, 4, 10, 3, 2, 5, 8, 9, 10, 1, 8, 9, 2, 4, 2, 3, 3, 8, 1, 9, 7, 5, 3, 6, 7, 4, 4, 10, 4, 5, 10, 2, 8, 3, 6, 9, 1, 5, 5, 4, 6, 8, 9, 5, 10, 4, 2, 6, 5, 10, 7, 7, 8, 10, 5, 2, 7, 4, 1, 9, 9, 3, 10, 8, 6, 2, 4, 5, 6, 2, 6, 5, 3, 10, 7, 6, 9, 1, 3, 6, 3, 1, 10, 6, 9, 3, 5, 4, 7, 4, 9, 10, 9, 7, 10, 6, 4, 5, 2, 8, 8, 9, 7, 10, 10, 8, 5, 8, 6, 3, 2, 9, 4, 1, 4, 2, 8, 1, 9, 7, 3, 2, 3, 8, 2, 6, 2, 9, 8, 1, 7, 2, 6, 10, 4, 7, 3, 3, 9, 3, 7, 5, 9, 5, 7, 10, 1, 3, 4, 4, 3, 6, 5, 9, 6, 7, 10, 6, 6, 8, 3, 7, 10, 2, 10, 4, 9, 4, 5, 1, 6, 1, 10, 7, 3, 1, 8, 10, 7, 8, 1, 10, 7, 4, 7, 6, 5, 10, 10, 6, 8, 10, 9, 4, 4, 8, 2, 2, 2, 3, 9, 8], \"Freq\": [0.9912596021226148, 0.9984805548538889, 0.9992598912373022, 0.9951563121117337, 0.999968732900444, 0.992162126441359, 0.9981394751724659, 0.9999755954096402, 0.9993077730401477, 0.9996035012465369, 0.9990489561642305, 0.9972625497897323, 0.9993931139849852, 0.9983349775873951, 0.9989007763125081, 0.9988346956541501, 0.9986094793307968, 0.9982651436904647, 0.9992525754436313, 0.9998670148143535, 0.9969991486521387, 0.9989047279581413, 0.9994368728817989, 0.9993464272425764, 0.9988288489083492, 0.9991957302981123, 0.9991970037662337, 0.9985580691332243, 0.9991043410852924, 0.9884281821693293, 0.9996500462275253, 0.9881455805420362, 0.9986889350925453, 0.9871196610304017, 0.9985821169566019, 0.9991022650782406, 0.9997887279816173, 0.9992660515349677, 0.9977490855089919, 0.9981502507152331, 0.9998250241643699, 0.9993497701243507, 0.9995652691945912, 0.9996040216645994, 0.9993101074224158, 0.9993194711247773, 0.9990693169582127, 0.9908708689939232, 0.9990260615082751, 0.9983030389700023, 0.9992439635269122, 0.9980534403333405, 0.9964702558926535, 0.9997001384046604, 0.9989400850637867, 0.9931481048233075, 0.9984984123050248, 0.9993772438926019, 0.9999002504735823, 0.998673060865995, 0.9989428802254459, 0.9995757217498357, 0.9984211530357224, 0.9944745220186854, 0.9994964802308943, 0.9998006726724804, 0.9981441180489067, 0.9990063538157326, 0.9994992198785605, 0.9991848915559461, 0.99893824006877, 0.9966640651478161, 0.9952961592931714, 0.996783586550853, 0.9995965075203221, 0.9986573790540011, 0.9995407457011438, 0.9991194081116559, 0.99870372843987, 0.9992140988219537, 0.999493329363802, 0.99835104262971, 0.9990555001390165, 0.9977539257842691, 0.9986504767062216, 0.9919382510398304, 0.9995154458160399, 0.9958553484598351, 0.9980578621138102, 0.9982831198578732, 0.9977620928695775, 0.9981491027137066, 0.9999591573614577, 0.9996050863881236, 0.9988981251459275, 0.9997018528470726, 0.999623653451681, 0.9993065528804205, 0.9955714638669638, 0.9970161083687974, 0.9990341271720161, 0.9993152365278509, 0.9997370449156358, 0.9988308657013413, 0.9996215503100029, 0.9984955518688982, 0.999541307155861, 0.9932840774103198, 0.9994771310891207, 0.9991403014669047, 0.999164339861148, 0.9982528989111678, 0.9992747121772964, 0.9954055604606481, 0.9989753189917774, 0.9995402514797438, 0.9920029441402372, 0.9987396285485135, 0.99946227385753, 0.9987857775026231, 0.9987595310075008, 0.996551964601164, 0.9992297722839647, 0.9988737618824064, 0.9988588402564617, 0.9994199942873745, 0.9986502487648514, 0.999308418679793, 0.9985176085512668, 0.9998165341955034, 0.9986801603749125, 0.9961029053902509, 0.9989184701749436, 0.9992961471889782, 0.9992272924217297, 0.9996260752010239, 0.9998751355434061, 0.9980845412860556, 0.9982480458297741, 0.9997090804308446, 0.9993304264910317, 0.9982797907637725, 0.9976788744706973, 0.9970922202364266, 0.9991730520811247, 0.998923650450506, 0.9993610926168478, 0.997749615390428, 0.9973089002571592, 0.9997477661140719, 0.9986606921191709, 0.9967941287573924, 0.9993627090981269, 0.9993199901035064, 0.9997240671067081, 0.9989471310002054, 0.9984638519850655, 0.998583486996127, 0.9991943781756903, 0.9993041036101936, 0.9992947436874088, 0.9973439703461597, 0.9975092139958851, 0.999658364441432, 0.9977938125562138, 0.9989197196570918, 0.9963439772552193, 0.9993125599895087, 0.9961044665895268, 0.9986615244031067, 0.9990583427721906, 0.9988892029984123, 0.9995763660504242, 0.9999872876061656, 0.9995750351130189, 0.9977001319594119, 0.9992912174951937, 0.999482908049012, 0.9983681790502602, 0.9999757342925166, 0.9989840645776462, 0.9982118100497942, 0.9990497384130682, 0.9992986561392279, 0.9993239401784362, 0.9993643067249107, 0.9991775270049653, 0.99871859235036, 0.9985314128435733, 0.9999217688967533, 0.9987599797465013, 0.9983282611939907, 0.9991273881207342, 0.9958637844157717, 0.9994282773438801, 0.9997124382251795, 0.9998658825143112, 0.9992790867080278, 0.9985058266832372, 0.9982884381275322, 0.9982659103855391, 0.9983837719084183, 0.9994733894065124, 0.998832267276117, 0.9989544368117969, 0.9998297820046546, 0.9996960540151878, 0.9953898722323553, 0.9994441126924213, 0.9993240387594244, 0.9999824403101164, 0.9978975072223998, 0.9992756080436884, 0.9997839013915938, 0.999734932806661, 0.9947925479142672, 0.9995987483594755, 0.9989333165182731, 0.9996546957784395, 0.9995209376140267, 0.9981668629113316, 0.9991855749304565, 0.9998746815584588, 0.9967521604697821, 0.9994442431615028, 0.9992894823797173, 0.9992364987695185, 0.9963983170163356, 0.9994141140853623, 0.9994267259911233, 0.9981113514740884, 0.9968357679436554, 0.9989539505822859, 0.9982243422489577, 0.9951649620912775, 0.9985358681381521, 0.9985058715433286, 0.9983941820070388, 0.9991853454941662, 0.9982720688452169, 0.9983082137958991, 0.9997029765515434, 0.999918602860203, 0.9997366752058211, 0.9965200895639974, 0.9998816178566445, 0.9995520693453238, 0.9988104603442644, 0.9995330220483057, 0.9976119628730848, 0.9987151540567906, 0.9990291255559985, 0.9987512277287519, 0.9991981930945398, 0.9986773819949509, 0.999125013699879, 0.9996468172869277, 0.9983291694495319, 0.9989504878728549, 0.998595914484656, 0.9996805366802215, 0.999585307708036, 0.9976234622128586, 0.9990169827083122, 0.9998505342884505, 0.9988743773135929, 0.999632614461903, 0.9881626557196065, 0.9978901816676128, 0.9995275125107694, 0.9994029504689282, 0.9999170514236699, 0.9969989652709699, 0.9995102413022996, 0.9988478542727002, 0.9985476018187613, 0.999488495273699, 0.9983486978799188, 0.9909344823249921, 0.999886180201186, 0.9987563367227419, 0.9999440618683596, 0.9987195907952203, 0.9970723304271988, 0.9986404090056362, 0.9981128293895816, 0.9994001552563418, 0.999500165196818, 0.9977673366335583, 0.9992398150559998, 0.9984141884512391, 0.9998357538124603, 0.9991867152061277, 0.9986465902891787, 0.9995083872873943, 0.9998661979390391, 0.9993995757331524, 0.9955830983349024, 0.9992547409011349, 0.9993819620119967], \"Term\": [\"016th\", \"abus\", \"accid\", \"accident\", \"accus\", \"age\", \"aid\", \"alleg\", \"allow\", \"also\", \"alterc\", \"anoth\", \"apart\", \"appar\", \"appear\", \"approach\", \"approxim\", \"area\", \"arm\", \"arrest\", \"arrestcomplain\", \"arriv\", \"ask\", \"ass\", \"assault\", \"assign\", \"assist\", \"attempt\", \"away\", \"b\", \"back\", \"bank\", \"batteri\", \"batterireport\", \"belong\", \"bitch\", \"black\", \"boyfriend\", \"build\", \"burglari\", \"call\", \"came\", \"car\", \"card\", \"case\", \"caus\", \"cell\", \"chair\", \"charg\", \"check\", \"chicago\", \"children\", \"chokereport\", \"citat\", \"citi\", \"claim\", \"come\", \"comment\", \"complain\", \"complaint\", \"complet\", \"conduct\", \"contain\", \"content\", \"could\", \"damag\", \"date\", \"daughter\", \"depart\", \"detain\", \"detect\", \"direct\", \"display\", \"disrespect\", \"district\", \"domest\", \"door\", \"drive\", \"driver\", \"drove\", \"drug\", \"due\", \"duti\", \"effect\", \"employe\", \"encount\", \"enter\", \"evalu\", \"execut\", \"exit\", \"explain\", \"face\", \"fail\", \"fals\", \"famili\", \"femal\", \"file\", \"follow\", \"foot\", \"forc\", \"friend\", \"front\", \"fuck\", \"gave\", \"get\", \"give\", \"go\", \"good\", \"ground\", \"gun\", \"handcuf\", \"handicap\", \"harass\", \"head\", \"hispan\", \"home\", \"hood\", \"hospit\", \"hour\", \"hous\", \"howev\", \"hung\", \"husband\", \"identif\", \"identifi\", \"illeg\", \"impound\", \"incid\", \"indebted\", \"inform\", \"insid\", \"instead\", \"insur\", \"inventori\", \"investig\", \"involv\", \"issu\", \"issuanc\", \"iti\", \"justif\", \"justifreport\", \"kick\", \"l\", \"later\", \"leav\", \"left\", \"licens\", \"listen\", \"live\", \"locat\", \"lock\", \"lot\", \"made\", \"make\", \"male\", \"manner\", \"march\", \"mark\", \"member\", \"mental\", \"miss\", \"move\", \"ms\", \"name\", \"need\", \"neighbor\", \"next\", \"number\", \"numer\", \"observ\", \"obtain\", \"octob\", \"offend\", \"offic\", \"one\", \"onto\", \"order\", \"park\", \"parol\", \"parti\", \"partner\", \"patient\", \"permiss\", \"person\", \"phone\", \"place\", \"plaincloth\", \"plant\", \"plate\", \"polic\", \"possibl\", \"prison\", \"probabl\", \"profan\", \"proper\", \"properti\", \"provid\", \"pull\", \"push\", \"put\", \"question\", \"rd\", \"reason\", \"receiv\", \"refer\", \"refus\", \"regard\", \"regist\", \"relat\", \"remov\", \"report\", \"reportreport\", \"request\", \"resid\", \"respond\", \"respons\", \"return\", \"right\", \"rude\", \"said\", \"say\", \"scene\", \"search\", \"seat\", \"secur\", \"see\", \"sergeant\", \"serial\", \"servic\", \"sever\", \"sexual\", \"shit\", \"side\", \"sign\", \"sister\", \"sit\", \"situat\", \"someth\", \"son\", \"speak\", \"spoke\", \"star\", \"state\", \"station\", \"stolen\", \"stop\", \"street\", \"struck\", \"subject\", \"substanc\", \"supervisor\", \"take\", \"taser\", \"telephon\", \"tenant\", \"thorough\", \"threaten\", \"three\", \"threw\", \"ticket\", \"time\", \"told\", \"tone\", \"took\", \"traffic\", \"tri\", \"two\", \"type\", \"unabl\", \"uniform\", \"unit\", \"unknown\", \"unmark\", \"unprofession\", \"upon\", \"usc\", \"use\", \"valid\", \"van\", \"vehicl\", \"verbal\", \"victim\", \"violat\", \"wait\", \"walk\", \"wallet\", \"want\", \"warrant\", \"way\", \"weapon\", \"went\", \"white\", \"wife\", \"window\", \"wit\", \"without\", \"would\", \"write\", \"year\", \"yell\"]}, \"R\": 30, \"lambda.step\": 0.01, \"plot.opts\": {\"xlab\": \"PC1\", \"ylab\": \"PC2\"}, \"topic.order\": [2, 6, 7, 9, 10, 1, 8, 4, 5, 3]};\n",
              "\n",
              "function LDAvis_load_lib(url, callback){\n",
              "  var s = document.createElement('script');\n",
              "  s.src = url;\n",
              "  s.async = true;\n",
              "  s.onreadystatechange = s.onload = callback;\n",
              "  s.onerror = function(){console.warn(\"failed to load library \" + url);};\n",
              "  document.getElementsByTagName(\"head\")[0].appendChild(s);\n",
              "}\n",
              "\n",
              "if(typeof(LDAvis) !== \"undefined\"){\n",
              "   // already loaded: just create the visualization\n",
              "   !function(LDAvis){\n",
              "       new LDAvis(\"#\" + \"ldavis_el27281406790421434808396550704\", ldavis_el27281406790421434808396550704_data);\n",
              "   }(LDAvis);\n",
              "}else if(typeof define === \"function\" && define.amd){\n",
              "   // require.js is available: use it to load d3/LDAvis\n",
              "   require.config({paths: {d3: \"https://cdnjs.cloudflare.com/ajax/libs/d3/3.5.5/d3.min\"}});\n",
              "   require([\"d3\"], function(d3){\n",
              "      window.d3 = d3;\n",
              "      LDAvis_load_lib(\"https://cdn.rawgit.com/bmabey/pyLDAvis/files/ldavis.v1.0.0.js\", function(){\n",
              "        new LDAvis(\"#\" + \"ldavis_el27281406790421434808396550704\", ldavis_el27281406790421434808396550704_data);\n",
              "      });\n",
              "    });\n",
              "}else{\n",
              "    // require.js not available: dynamically load d3 & LDAvis\n",
              "    LDAvis_load_lib(\"https://cdnjs.cloudflare.com/ajax/libs/d3/3.5.5/d3.min.js\", function(){\n",
              "         LDAvis_load_lib(\"https://cdn.rawgit.com/bmabey/pyLDAvis/files/ldavis.v1.0.0.js\", function(){\n",
              "                 new LDAvis(\"#\" + \"ldavis_el27281406790421434808396550704\", ldavis_el27281406790421434808396550704_data);\n",
              "            })\n",
              "         });\n",
              "}\n",
              "</script>"
            ],
            "text/plain": [
              "PreparedData(topic_coordinates=              x         y  topics  cluster       Freq\n",
              "topic                                                \n",
              "1      0.451423 -0.015377       1        1  11.967126\n",
              "5     -0.020366  0.398697       2        1  10.726606\n",
              "6     -0.017365 -0.225515       3        1  10.464330\n",
              "8     -0.046322  0.071383       4        1   9.896324\n",
              "9     -0.065108 -0.020126       5        1   9.757936\n",
              "0     -0.059199 -0.023999       6        1   9.652548\n",
              "7     -0.051223 -0.021462       7        1   9.628892\n",
              "3     -0.059725 -0.078916       8        1   9.446006\n",
              "4     -0.072442 -0.066920       9        1   9.375649\n",
              "2     -0.059672 -0.017766      10        1   9.084584, topic_info=         Term          Freq         Total Category  logprob  loglift\n",
              "13250   offic  41612.000000  41612.000000  Default  30.0000  30.0000\n",
              "1180    alleg  45284.000000  45284.000000  Default  29.0000  29.0000\n",
              "734     accus  41741.000000  41741.000000  Default  28.0000  28.0000\n",
              "13832   parti  33053.000000  33053.000000  Default  27.0000  27.0000\n",
              "15745  report  23796.000000  23796.000000  Default  26.0000  26.0000\n",
              "...       ...           ...           ...      ...      ...      ...\n",
              "11401     lot    369.312320    370.186771  Topic10  -5.2882   2.3962\n",
              "20107     usc    362.653536    363.527987  Topic10  -5.3063   2.3962\n",
              "19245    tone    344.947407    345.821859  Topic10  -5.3564   2.3961\n",
              "17132    shit    328.166711    329.041163  Topic10  -5.4063   2.3959\n",
              "10774       l    327.888649    328.763100  Topic10  -5.4071   2.3959\n",
              "\n",
              "[330 rows x 6 columns], token_table=       Topic      Freq      Term\n",
              "term                            \n",
              "31         1  0.991260     016th\n",
              "633        7  0.998481      abus\n",
              "673        4  0.999260     accid\n",
              "687        1  0.995156  accident\n",
              "734        3  0.999969     accus\n",
              "...      ...       ...       ...\n",
              "21256      2  0.999866   without\n",
              "21363      2  0.999400     would\n",
              "21388      3  0.995583     write\n",
              "21509      9  0.999255      year\n",
              "21520      8  0.999382      yell\n",
              "\n",
              "[300 rows x 3 columns], R=30, lambda_step=0.01, plot_opts={'xlab': 'PC1', 'ylab': 'PC2'}, topic_order=[2, 6, 7, 9, 10, 1, 8, 4, 5, 3])"
            ]
          },
          "metadata": {
            "tags": []
          },
          "execution_count": 40
        }
      ]
    },
    {
      "cell_type": "markdown",
      "metadata": {
        "id": "dNw1shPUf12h"
      },
      "source": [
        "# Analysis\n",
        "The distance between bubbles on the graph represent differences in topics. For example, it is difficult to tell the difference between topics 9 and 10 - they seem to be both about unprofessional arrests. However, it is much easier to tell the difference between topics 5 and 6. For instance, we can tell that topic 5 is about a bad traffic stop.\n",
        "\n",
        "\n",
        "* The 1st bubble seems to be all text\n",
        "* The 2nd bubble seems to be getting stopped by officer who were very rude and without cause\n",
        "* The 3rd bubble seems to be getting stopped without justification and they feel as if they are the victim\n",
        "* The 4th bubble seems to be about alleged officers are potentially accused them of a crime\n",
        "* The 5th bubble seems to be about a traffic stop coming from a party and stoped because they were black\n",
        "* The 6th bubble seems to be about a parent making complaints that officers threatened their son, stoped one or two times.\n",
        "* The 7th bubble seems to be about a complaint that they were stopped for no reason at strange hours\n",
        "* The 8th bubble seems to be about \n",
        "* The 9th bubble seems to be about while sitting in their vehicle however I was.....\n",
        "* The 10th bubble seems to be about unprofessional and clearly apparent that they were coming to my place to arrest me \n"
      ]
    },
    {
      "cell_type": "code",
      "metadata": {
        "colab": {
          "base_uri": "https://localhost:8080/"
        },
        "id": "usjaF2abgAB9",
        "outputId": "f8aba89a-56d4-405c-9345-785000c7d00c"
      },
      "source": [
        "#Generate bigrams and trigrams\n",
        "def generate_ngrams(text, n):\n",
        "    ngrams = zip(*[text[i:] for i in range(n)])\n",
        "    return [\" \".join(ngram) for ngram in ngrams]\n",
        "\n",
        "bigram_freq = {}\n",
        "for i in range(len(filtered_tokens)-1):\n",
        "    bigram = (filtered_tokens[i],  filtered_tokens[i+1])\n",
        "    if bigram not in bigram_freq:\n",
        "        bigram_freq[bigram] = 0\n",
        "    bigram_freq[bigram] += 1\n",
        "        \n",
        "trigram_freq = {}\n",
        "for i in range(len(filtered_tokens)-2):\n",
        "    trigram = (filtered_tokens[i],  filtered_tokens[i+1], filtered_tokens[i+2])\n",
        "    if trigram not in trigram_freq:\n",
        "        trigram_freq[trigram] = 0\n",
        "    trigram_freq[trigram] += 1\n",
        "# bigrams = generate_ngrams(list(filtered_tokens), 2)\n",
        "# trigrams = generate_ngrams(list(filtered_tokens), 3)\n",
        "print(\"Total bigrams: \",len(filtered_tokens))\n",
        "print(\"Total bigrams: \",len(bigram_freq))\n",
        "print(\"Total trigrams: \",len(trigram_freq))"
      ],
      "execution_count": 41,
      "outputs": [
        {
          "output_type": "stream",
          "text": [
            "Total bigrams:  804830\n",
            "Total bigrams:  149269\n",
            "Total trigrams:  276608\n"
          ],
          "name": "stdout"
        }
      ]
    },
    {
      "cell_type": "code",
      "metadata": {
        "colab": {
          "base_uri": "https://localhost:8080/",
          "height": 599
        },
        "id": "jER49CpWlfaP",
        "outputId": "897b31ce-65e3-4665-df52-03dc94cf70be"
      },
      "source": [
        "#Plot bigram frequencies\n",
        "sorted_bigram_freq = sorted(bigram_freq.items(), key=lambda v: v[1], reverse = True)\n",
        "phrases = []\n",
        "freq = []\n",
        "for x in range(len(sorted_bigram_freq)):\n",
        "    phrases.append(sorted_bigram_freq[x][0])\n",
        "    freq.append(sorted_bigram_freq[x][1])\n",
        "phrases = phrases[:20]\n",
        "freq = freq[:20]\n",
        "y_pos = np.arange(len(phrases))\n",
        "import matplotlib.pyplot as plt\n",
        "plt.figure(figsize=(20,10))\n",
        "plt.barh(y_pos, freq, align='center', alpha=0.5)\n",
        "plt.yticks(y_pos, phrases)\n",
        "plt.xlabel('frequency')\n",
        "plt.title('frequency of bigrams')\n",
        "plt.show()"
      ],
      "execution_count": 42,
      "outputs": [
        {
          "output_type": "display_data",
          "data": {
            "image/png": "[encoded data removed]",
            "text/plain": [
              "<Figure size 1440x720 with 1 Axes>"
            ]
          },
          "metadata": {
            "tags": [],
            "needs_background": "light"
          }
        }
      ]
    },
    {
      "cell_type": "code",
      "metadata": {
        "colab": {
          "base_uri": "https://localhost:8080/",
          "height": 584
        },
        "id": "lhBmFdbnlh6u",
        "outputId": "d3a6780c-336b-4cba-cf50-9b869ccfd87a"
      },
      "source": [
        "#Plot trigram frequencies\n",
        "sorted_trigram_freq = sorted(trigram_freq.items(), key=lambda v: v[1], reverse = True)\n",
        "phrases = []\n",
        "freq = []\n",
        "for x in range(len(sorted_trigram_freq)):\n",
        "    phrases.append(sorted_trigram_freq[x][0])\n",
        "    freq.append(sorted_trigram_freq[x][1])\n",
        "phrases = phrases[20:40]\n",
        "freq = freq[20:40]\n",
        "y_pos = np.arange(len(phrases))\n",
        "import matplotlib.pyplot as plt\n",
        "plt.figure(figsize=(20,10))\n",
        "plt.barh(y_pos, freq, align='center', alpha=0.5)\n",
        "plt.yticks(y_pos, phrases)\n",
        "plt.xlabel('frequency')\n",
        "plt.title('frequency of trigrams')\n",
        "plt.show()"
      ],
      "execution_count": 43,
      "outputs": [
        {
          "output_type": "display_data",
          "data": {
            "image/png": "[encoded data removed]",
            "text/plain": [
              "<Figure size 1440x720 with 1 Axes>"
            ]
          },
          "metadata": {
            "tags": [],
            "needs_background": "light"
          }
        }
      ]
    }
  ]
}