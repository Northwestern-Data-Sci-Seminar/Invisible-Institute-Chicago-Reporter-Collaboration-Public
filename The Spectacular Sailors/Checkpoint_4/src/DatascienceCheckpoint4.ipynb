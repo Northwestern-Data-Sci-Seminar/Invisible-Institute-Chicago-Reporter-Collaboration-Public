{
 "cells": [
  {
   "cell_type": "markdown",
   "metadata": {
    "id": "mgtKHWWgGDdz"
   },
   "source": [
    "# The Spectacular Sailors - Checkpoint 4 Machine Learning"
   ]
  },
  {
   "cell_type": "markdown",
   "metadata": {
    "id": "GOa9dMLwhvB2"
   },
   "source": [
    "# In this Checkpoint\n",
    "\n",
    "\n",
    "*   Can we predict whether an officer is in a crew, a community, or is unaffiliated?\n",
    "*   Can we whether any particular group of officers is a crew or not based on aggregated data about their member officers?\n"
   ]
  },
  {
   "cell_type": "markdown",
   "metadata": {
    "id": "pBxnXt8Yhzox"
   },
   "source": [
    "# Getting Started\n",
    "Libraries and tools for this analysis:\n",
    "\n",
    "\n",
    "*   Data Structures: Numpy and Pandas\n",
    "*   Machine Learning: SKLearn\n",
    "*   Data Extraction: DataGrip (PostgreSQL)\n",
    "*   Data Source: CPDB\n",
    "*   Analyzed Data: The Spectacular Sailors/Checkpoint 4/src\n"
   ]
  },
  {
   "cell_type": "code",
   "execution_count": 305,
   "metadata": {
    "id": "0M7Mj4nYBdHC"
   },
   "outputs": [],
   "source": [
    "import numpy as np\n",
    "import sklearn\n",
    "import pandas as pd\n",
    "from sklearn.model_selection import train_test_split\n",
    "from sklearn import linear_model, metrics\n",
    "from sklearn_pandas import DataFrameMapper\n",
    "import matplotlib.pyplot as plt"
   ]
  },
  {
   "cell_type": "code",
   "execution_count": 306,
   "metadata": {
    "colab": {
     "base_uri": "https://localhost:8080/",
     "height": 439
    },
    "id": "n8_tPFIgDTKX",
    "outputId": "d0540dc9-7336-4e92-b104-899ae9601f83"
   },
   "outputs": [
    {
     "data": {
      "text/html": [
       "<div>\n",
       "<style scoped>\n",
       "    .dataframe tbody tr th:only-of-type {\n",
       "        vertical-align: middle;\n",
       "    }\n",
       "\n",
       "    .dataframe tbody tr th {\n",
       "        vertical-align: top;\n",
       "    }\n",
       "\n",
       "    .dataframe thead th {\n",
       "        text-align: right;\n",
       "    }\n",
       "</style>\n",
       "<table border=\"1\" class=\"dataframe\">\n",
       "  <thead>\n",
       "    <tr style=\"text-align: right;\">\n",
       "      <th></th>\n",
       "      <th>officer_id</th>\n",
       "      <th>avg_coaccusals</th>\n",
       "      <th>avg_years_on_force_at_incident</th>\n",
       "      <th>avg_age_at_incident</th>\n",
       "      <th>gender</th>\n",
       "      <th>avg_complaint_percentile</th>\n",
       "      <th>avg_disciplined_count</th>\n",
       "      <th>cohort_id</th>\n",
       "      <th>avg_allegation_severity</th>\n",
       "      <th>max_allegation_severity</th>\n",
       "    </tr>\n",
       "  </thead>\n",
       "  <tbody>\n",
       "    <tr>\n",
       "      <th>0</th>\n",
       "      <td>1</td>\n",
       "      <td>2.166667</td>\n",
       "      <td>5.500000</td>\n",
       "      <td>39.500000</td>\n",
       "      <td>1</td>\n",
       "      <td>61.2357</td>\n",
       "      <td>0.000000</td>\n",
       "      <td>3</td>\n",
       "      <td>4.198333</td>\n",
       "      <td>9.60</td>\n",
       "    </tr>\n",
       "    <tr>\n",
       "      <th>1</th>\n",
       "      <td>2</td>\n",
       "      <td>4.250000</td>\n",
       "      <td>4.750000</td>\n",
       "      <td>29.750000</td>\n",
       "      <td>0</td>\n",
       "      <td>72.0378</td>\n",
       "      <td>0.000000</td>\n",
       "      <td>2</td>\n",
       "      <td>11.867500</td>\n",
       "      <td>16.59</td>\n",
       "    </tr>\n",
       "    <tr>\n",
       "      <th>2</th>\n",
       "      <td>4</td>\n",
       "      <td>1.714286</td>\n",
       "      <td>27.428571</td>\n",
       "      <td>54.428571</td>\n",
       "      <td>1</td>\n",
       "      <td>49.0044</td>\n",
       "      <td>0.000000</td>\n",
       "      <td>2</td>\n",
       "      <td>9.515714</td>\n",
       "      <td>16.59</td>\n",
       "    </tr>\n",
       "    <tr>\n",
       "      <th>3</th>\n",
       "      <td>5</td>\n",
       "      <td>11.000000</td>\n",
       "      <td>37.500000</td>\n",
       "      <td>61.500000</td>\n",
       "      <td>1</td>\n",
       "      <td>74.7611</td>\n",
       "      <td>0.250000</td>\n",
       "      <td>2</td>\n",
       "      <td>7.120000</td>\n",
       "      <td>8.22</td>\n",
       "    </tr>\n",
       "    <tr>\n",
       "      <th>4</th>\n",
       "      <td>6</td>\n",
       "      <td>3.000000</td>\n",
       "      <td>8.500000</td>\n",
       "      <td>34.500000</td>\n",
       "      <td>1</td>\n",
       "      <td>45.5641</td>\n",
       "      <td>0.000000</td>\n",
       "      <td>3</td>\n",
       "      <td>6.781667</td>\n",
       "      <td>13.42</td>\n",
       "    </tr>\n",
       "    <tr>\n",
       "      <th>...</th>\n",
       "      <td>...</td>\n",
       "      <td>...</td>\n",
       "      <td>...</td>\n",
       "      <td>...</td>\n",
       "      <td>...</td>\n",
       "      <td>...</td>\n",
       "      <td>...</td>\n",
       "      <td>...</td>\n",
       "      <td>...</td>\n",
       "      <td>...</td>\n",
       "    </tr>\n",
       "    <tr>\n",
       "      <th>22469</th>\n",
       "      <td>33052</td>\n",
       "      <td>1.000000</td>\n",
       "      <td>10.000000</td>\n",
       "      <td>32.000000</td>\n",
       "      <td>0</td>\n",
       "      <td>15.9604</td>\n",
       "      <td>0.000000</td>\n",
       "      <td>3</td>\n",
       "      <td>6.300000</td>\n",
       "      <td>6.30</td>\n",
       "    </tr>\n",
       "    <tr>\n",
       "      <th>22470</th>\n",
       "      <td>33055</td>\n",
       "      <td>2.500000</td>\n",
       "      <td>1.666667</td>\n",
       "      <td>29.666667</td>\n",
       "      <td>0</td>\n",
       "      <td>40.9117</td>\n",
       "      <td>0.000000</td>\n",
       "      <td>3</td>\n",
       "      <td>8.330000</td>\n",
       "      <td>16.59</td>\n",
       "    </tr>\n",
       "    <tr>\n",
       "      <th>22471</th>\n",
       "      <td>33056</td>\n",
       "      <td>2.800000</td>\n",
       "      <td>13.400000</td>\n",
       "      <td>44.400000</td>\n",
       "      <td>0</td>\n",
       "      <td>45.1645</td>\n",
       "      <td>0.100000</td>\n",
       "      <td>2</td>\n",
       "      <td>11.319000</td>\n",
       "      <td>42.38</td>\n",
       "    </tr>\n",
       "    <tr>\n",
       "      <th>22472</th>\n",
       "      <td>33057</td>\n",
       "      <td>1.000000</td>\n",
       "      <td>7.000000</td>\n",
       "      <td>34.000000</td>\n",
       "      <td>0</td>\n",
       "      <td>34.8095</td>\n",
       "      <td>0.857143</td>\n",
       "      <td>3</td>\n",
       "      <td>6.574286</td>\n",
       "      <td>8.22</td>\n",
       "    </tr>\n",
       "    <tr>\n",
       "      <th>22473</th>\n",
       "      <td>33062</td>\n",
       "      <td>2.000000</td>\n",
       "      <td>13.000000</td>\n",
       "      <td>48.000000</td>\n",
       "      <td>0</td>\n",
       "      <td>0.0000</td>\n",
       "      <td>0.000000</td>\n",
       "      <td>3</td>\n",
       "      <td>0.770000</td>\n",
       "      <td>0.77</td>\n",
       "    </tr>\n",
       "  </tbody>\n",
       "</table>\n",
       "<p>22474 rows × 10 columns</p>\n",
       "</div>"
      ],
      "text/plain": [
       "       officer_id  ...  max_allegation_severity\n",
       "0               1  ...                     9.60\n",
       "1               2  ...                    16.59\n",
       "2               4  ...                    16.59\n",
       "3               5  ...                     8.22\n",
       "4               6  ...                    13.42\n",
       "...           ...  ...                      ...\n",
       "22469       33052  ...                     6.30\n",
       "22470       33055  ...                    16.59\n",
       "22471       33056  ...                    42.38\n",
       "22472       33057  ...                     8.22\n",
       "22473       33062  ...                     0.77\n",
       "\n",
       "[22474 rows x 10 columns]"
      ]
     },
     "execution_count": 306,
     "metadata": {
      "tags": []
     },
     "output_type": "execute_result"
    }
   ],
   "source": [
    "# read the officer and cohort data into pandas dataframe\n",
    "url = 'https://raw.githubusercontent.com/Northwestern-Data-Sci-Seminar/Invisible-Institute-Chicago-Reporter-Collaboration-Public/master/The%20Spectacular%20Sailors/Checkpoint_4/src/officers_crews_ml_2.csv'\n",
    "df = pd.read_csv(url, header = 0)\n",
    "df = df._get_numeric_data()\n",
    "original_headers = list(df.columns.values)\n",
    "df"
   ]
  },
  {
   "cell_type": "markdown",
   "metadata": {
    "id": "9BB1LQShh4ta"
   },
   "source": [
    "#  Predicting Officer Membership\n",
    "\n",
    "**Question to answer: Given various attributes of an officer, what group do the belong to? Crew, Community, or Unaffiliated?**\n",
    "\n",
    "**Motivation:** If we use crew membership as a proxy for elevated risk of misconduct, then predicting whether a police officer is in a crew may help inform intervention; however, what about an officer predicts whether they are in a crew?\n",
    "\n",
    "The Invisible Institute classified police officers into different groups or cohorts based on a topic modeling analysis, as a result, we have a baseline set of target data for every officer in the dataset.\n",
    "\n",
    "Based on the data_officercrew table, we selected and aggregated data about officers such as the average number of coaccusals, complaint percentile, and allegation severity to produce a table of approximately 20,000 officers. Given the classification of each officer into a group (1 for crew, 2 for community, and 3 for unaffiliated), we present the potential to identify what features of an officer best predict their membership.\n"
   ]
  },
  {
   "cell_type": "code",
   "execution_count": 307,
   "metadata": {
    "colab": {
     "base_uri": "https://localhost:8080/"
    },
    "id": "OcH7casrYr27",
    "outputId": "4175c152-f8bd-4dfc-8452-649f1a3915a8"
   },
   "outputs": [
    {
     "data": {
      "text/plain": [
       "officer_id                        category\n",
       "avg_coaccusals                     float64\n",
       "avg_years_on_force_at_incident     float64\n",
       "avg_age_at_incident                float64\n",
       "gender                            category\n",
       "avg_complaint_percentile           float64\n",
       "avg_disciplined_count              float64\n",
       "cohort_id                         category\n",
       "avg_allegation_severity            float64\n",
       "max_allegation_severity            float64\n",
       "dtype: object"
      ]
     },
     "execution_count": 307,
     "metadata": {
      "tags": []
     },
     "output_type": "execute_result"
    }
   ],
   "source": [
    "# change the datatype in the dataframe\n",
    "df['cohort_id'] = df['cohort_id'].astype('category',copy=False)\n",
    "df['gender'] = df['gender'].astype('category',copy=False)\n",
    "df['officer_id'] = df['officer_id'].astype('category',copy=False)\n",
    "df.dtypes"
   ]
  },
  {
   "cell_type": "code",
   "execution_count": 308,
   "metadata": {
    "id": "-QRuYz_jPAwP"
   },
   "outputs": [],
   "source": [
    "# all minmaxscaler on avg_allegation_severity to scale the data\n",
    "mapper_features  = DataFrameMapper([\n",
    "                          (['avg_coaccusals'], sklearn.preprocessing.MinMaxScaler()),\n",
    "                          (['avg_years_on_force_at_incident'], sklearn.preprocessing.MinMaxScaler()),\n",
    "                          (['avg_age_at_incident'], sklearn.preprocessing.MinMaxScaler()), \n",
    "                          ('gender', sklearn.preprocessing.LabelBinarizer()),\n",
    "                          (['avg_complaint_percentile'], sklearn.preprocessing.MinMaxScaler()),\n",
    "                          (['avg_disciplined_count'], sklearn.preprocessing.MinMaxScaler()),\n",
    "                          (['avg_allegation_severity'], sklearn.preprocessing.MinMaxScaler())\n",
    "                          \n",
    "])"
   ]
  },
  {
   "cell_type": "markdown",
   "metadata": {
    "id": "oqcFZ5Brh81R"
   },
   "source": [
    "# Data Processing\n",
    "Prior to analyzing the data, we dropped several hundred records where the following calculated fields were null:\n",
    "\n",
    "\n",
    "*   average years on force at incident\n",
    "*   average complaint percentile\n",
    "*   average allegation severity\n",
    "*   maximum allegation severity\n",
    "\n",
    "After dropping missing data, we mapped feature and target data with SKLearn MinMax Scaler and fit_transform. The results of the mapping process produced a features array and target array. Importantly, the scaled values allow us to scale each of the values to between 0 and 1 which means we can evaluate the value of their coeffients. In other words, we can determine which of the values impact the prediction.\n"
   ]
  },
  {
   "cell_type": "code",
   "execution_count": 309,
   "metadata": {
    "colab": {
     "base_uri": "https://localhost:8080/"
    },
    "id": "yEm2B4rqQBPU",
    "outputId": "a1f70ba2-984f-49ae-d83f-7b4805e24627"
   },
   "outputs": [
    {
     "data": {
      "text/plain": [
       "array([[0.006, 0.436, 0.538, ..., 0.612, 0.   , 0.085],\n",
       "       [0.017, 0.427, 0.432, ..., 0.72 , 0.   , 0.269],\n",
       "       [0.004, 0.691, 0.7  , ..., 0.49 , 0.   , 0.213],\n",
       "       ...,\n",
       "       [0.009, 0.528, 0.591, ..., 0.452, 0.1  , 0.256],\n",
       "       [0.   , 0.453, 0.478, ..., 0.348, 0.857, 0.142],\n",
       "       [0.005, 0.523, 0.63 , ..., 0.   , 0.   , 0.003]])"
      ]
     },
     "execution_count": 309,
     "metadata": {
      "tags": []
     },
     "output_type": "execute_result"
    }
   ],
   "source": [
    "# use the mapper to scale the data\n",
    "features = np.round(mapper_features.fit_transform(df.copy()), 3)\n",
    "features"
   ]
  },
  {
   "cell_type": "code",
   "execution_count": 310,
   "metadata": {
    "id": "8pAmCYVSFB53"
   },
   "outputs": [],
   "source": [
    "# train test validation split\n",
    "X_train, X_test, y_train, y_test = train_test_split(features, df['cohort_id'], test_size=0.3, shuffle=True)"
   ]
  },
  {
   "cell_type": "code",
   "execution_count": 311,
   "metadata": {
    "id": "5-ozwkpxQAZQ"
   },
   "outputs": [],
   "source": [
    "X_val, X_test, y_val, y_test = train_test_split(X_test, y_test, test_size=0.5, shuffle=True)"
   ]
  },
  {
   "cell_type": "code",
   "execution_count": 312,
   "metadata": {
    "colab": {
     "base_uri": "https://localhost:8080/",
     "height": 296
    },
    "id": "pq7ArA2F_IkG",
    "outputId": "0cfde0c1-779d-4f88-e6c3-82c987579dbd"
   },
   "outputs": [
    {
     "data": {
      "image/png": "[encoded data removed]",
      "text/plain": [
       "<Figure size 432x288 with 2 Axes>"
      ]
     },
     "metadata": {
      "needs_background": "light",
      "tags": []
     },
     "output_type": "display_data"
    }
   ],
   "source": [
    "# Display a sample of how the features are trained with known classifications\n",
    "plt.figure()\n",
    "plt.title('Training Officer Features from Known Labels\\nSample of Complaint Percentile Feature')\n",
    "plt.scatter(X_train[:,4], y_train, c=y_train)\n",
    "plt.text(.14, 2.8, \"Unaffiliated\")\n",
    "plt.text(.17, 1.8, \"Community\")\n",
    "plt.text(.23, 1.1, \"Crew\")\n",
    "plt.colorbar()\n",
    "plt.show()"
   ]
  },
  {
   "cell_type": "code",
   "execution_count": 313,
   "metadata": {
    "colab": {
     "base_uri": "https://localhost:8080/"
    },
    "id": "bQSr7oj_RXc0",
    "outputId": "15eeaf78-f96a-4e3d-bc1d-fe0fcd0906c4"
   },
   "outputs": [
    {
     "data": {
      "text/plain": [
       "LinearRegression(copy_X=True, fit_intercept=True, n_jobs=None, normalize=False)"
      ]
     },
     "execution_count": 313,
     "metadata": {
      "tags": []
     },
     "output_type": "execute_result"
    }
   ],
   "source": [
    "# train the linear regression model using train data\n",
    "linreg = linear_model.LinearRegression()\n",
    "linreg.fit(X_train, y_train)"
   ]
  },
  {
   "cell_type": "code",
   "execution_count": 314,
   "metadata": {
    "colab": {
     "base_uri": "https://localhost:8080/"
    },
    "id": "9Twkodm4WUCr",
    "outputId": "afbc65b5-e0e7-4237-85af-760fe4539cfe"
   },
   "outputs": [
    {
     "data": {
      "text/plain": [
       "array([2., 3., 2., ..., 3., 2., 2.])"
      ]
     },
     "execution_count": 314,
     "metadata": {
      "tags": []
     },
     "output_type": "execute_result"
    }
   ],
   "source": [
    "# make predictions of cohorts\n",
    "prediction = linreg.predict(X_val)\n",
    "y_valnp = y_val.to_numpy()\n",
    "predictionnp = np.around(prediction)\n",
    "predictionnp"
   ]
  },
  {
   "cell_type": "code",
   "execution_count": 315,
   "metadata": {
    "colab": {
     "base_uri": "https://localhost:8080/",
     "height": 296
    },
    "id": "XRiV5Ysc_RO7",
    "outputId": "9215d3a0-a3d9-45ce-cf22-900561343268"
   },
   "outputs": [
    {
     "data": {
      "image/png": "[encoded data removed]",
      "text/plain": [
       "<Figure size 432x288 with 2 Axes>"
      ]
     },
     "metadata": {
      "needs_background": "light",
      "tags": []
     },
     "output_type": "display_data"
    }
   ],
   "source": [
    "# Display a sample of the predicted values of each officer \n",
    "idx = np.random.choice(prediction.shape[0], size=500)\n",
    "feats_example = X_val[:,4]\n",
    "\n",
    "plt.figure()\n",
    "plt.title('Predicted Values of Officer Membership\\nSample of Complaint Percentile Feature')\n",
    "# plt.scatter(y[idx], prediction[idx])\n",
    "plt.scatter(feats_example[idx], prediction[idx], c=prediction[idx])\n",
    "plt.colorbar()\n",
    "# plt.text(.14, 2.8, \"Unaffiliated\")\n",
    "# plt.text(.17, 1.8, \"Community\")\n",
    "# plt.text(.23, 1.1, \"Crew\")\n",
    "plt.show()"
   ]
  },
  {
   "cell_type": "code",
   "execution_count": 316,
   "metadata": {
    "colab": {
     "base_uri": "https://localhost:8080/",
     "height": 296
    },
    "id": "h2UI5Wl2_U8S",
    "outputId": "5f1d4df4-76aa-412a-e342-11595afd9357"
   },
   "outputs": [
    {
     "data": {
      "image/png": "[encoded data removed]",
      "text/plain": [
       "<Figure size 432x288 with 2 Axes>"
      ]
     },
     "metadata": {
      "needs_background": "light",
      "tags": []
     },
     "output_type": "display_data"
    }
   ],
   "source": [
    "idx = np.random.choice(prediction.shape[0], size=500)\n",
    "feats_example = X_val[:,4]\n",
    "\n",
    "plt.figure()\n",
    "plt.title('Predicted (Rounded) Values of Officer Membership\\nSample of Complaint Percentile Feature')\n",
    "# plt.scatter(y[idx], prediction[idx])\n",
    "plt.scatter(feats_example[idx], prediction[idx], c=predictionnp[idx])\n",
    "plt.colorbar()\n",
    "# plt.text(.14, 2.8, \"Unaffiliated\")\n",
    "# plt.text(.17, 1.8, \"Community\")\n",
    "# plt.text(.23, 1.1, \"Crew\")\n",
    "plt.show()"
   ]
  },
  {
   "cell_type": "code",
   "execution_count": 317,
   "metadata": {
    "colab": {
     "base_uri": "https://localhost:8080/"
    },
    "id": "burvpiV5Rfen",
    "outputId": "6135ce4c-857b-49d8-c7bb-9fa675a2b14a"
   },
   "outputs": [
    {
     "data": {
      "text/plain": [
       "0.7279738949866509"
      ]
     },
     "execution_count": 317,
     "metadata": {
      "tags": []
     },
     "output_type": "execute_result"
    }
   ],
   "source": [
    "#show accuracy of model 1\n",
    "metrics.accuracy_score(y_val, predictionnp)"
   ]
  },
  {
   "cell_type": "code",
   "execution_count": 318,
   "metadata": {
    "colab": {
     "base_uri": "https://localhost:8080/"
    },
    "id": "jh55sEtj22s_",
    "outputId": "525c318a-56fe-43e8-abe8-24cb0f63b5b6"
   },
   "outputs": [
    {
     "data": {
      "text/plain": [
       "array([-0.42844211,  0.24304242,  0.5470617 , -0.07993756, -1.21990411,\n",
       "        0.42659133, -0.7339202 ])"
      ]
     },
     "execution_count": 318,
     "metadata": {
      "tags": []
     },
     "output_type": "execute_result"
    }
   ],
   "source": [
    "# coefficient of the linear model\n",
    "linreg.coef_"
   ]
  },
  {
   "cell_type": "code",
   "execution_count": 319,
   "metadata": {
    "colab": {
     "base_uri": "https://localhost:8080/"
    },
    "id": "sLsFBMstYEpN",
    "outputId": "a08f8ef2-e4ee-4363-bb2a-cb06fe736139"
   },
   "outputs": [
    {
     "data": {
      "text/plain": [
       "LogisticRegression(C=1.0, class_weight=None, dual=False, fit_intercept=True,\n",
       "                   intercept_scaling=1, l1_ratio=None, max_iter=100,\n",
       "                   multi_class='ovr', n_jobs=None, penalty='l2',\n",
       "                   random_state=None, solver='lbfgs', tol=0.0001, verbose=0,\n",
       "                   warm_start=False)"
      ]
     },
     "execution_count": 319,
     "metadata": {
      "tags": []
     },
     "output_type": "execute_result"
    }
   ],
   "source": [
    "# train a logistic regression on the data to check difference\n",
    "logreg = linear_model.LogisticRegression(multi_class='ovr')\n",
    "logreg.fit(X_train, y_train)"
   ]
  },
  {
   "cell_type": "code",
   "execution_count": 320,
   "metadata": {
    "colab": {
     "base_uri": "https://localhost:8080/"
    },
    "id": "dWASFQElb7JP",
    "outputId": "bddbbfc0-0620-43c2-9af3-ee9da1da71a8"
   },
   "outputs": [
    {
     "data": {
      "text/plain": [
       "0.7356867398398101"
      ]
     },
     "execution_count": 320,
     "metadata": {
      "tags": []
     },
     "output_type": "execute_result"
    }
   ],
   "source": [
    "# we got higher accuracy on logistic regression but generally they are the same\n",
    "predictionlog = logreg.predict(X_val)\n",
    "metrics.accuracy_score(y_valnp, predictionlog)"
   ]
  },
  {
   "cell_type": "markdown",
   "metadata": {
    "id": "wWBqNsHLiAx4"
   },
   "source": [
    "# Data Results - Officer Membership\n",
    "\n",
    "Based on the scaled values of each feature, we want to train and test predictions whether each row (officer) is in cohort 1, 2, or 3. The array of coefficients indicates which of the features most strongly impacts the prediction. Since we have linear regressions, the value of the coefficient indicates the feature that impacts prediction the most. In this case, the largest negative value is strongest and the largest positive value is weakest. \n",
    "\n",
    "As show below, the colunm with the strongest coeffiecient is complaint percentile. After considering the meaning, this makes sense - officers that rank highest in complaint percentile are more than likely part of a crew and associated with misocnduct. \n",
    "\n",
    "On the other hand, the number of years on force and age at incident appeared to have less effect on the prediction. This runs counter to an initial assumption that maturity might have an impact on misconduct.\n",
    "\n",
    "**The current model has an accuracy of about 70%.**"
   ]
  },
  {
   "cell_type": "code",
   "execution_count": null,
   "metadata": {
    "colab": {
     "base_uri": "https://localhost:8080/",
     "height": 419
    },
    "id": "SsMhj-yxSK0S",
    "outputId": "9d8103a7-e9fb-4a5a-9a53-eb1c2efd01f9"
   },
   "outputs": [
    {
     "data": {
      "text/html": [
       "<div>\n",
       "<style scoped>\n",
       "    .dataframe tbody tr th:only-of-type {\n",
       "        vertical-align: middle;\n",
       "    }\n",
       "\n",
       "    .dataframe tbody tr th {\n",
       "        vertical-align: top;\n",
       "    }\n",
       "\n",
       "    .dataframe thead th {\n",
       "        text-align: right;\n",
       "    }\n",
       "</style>\n",
       "<table border=\"1\" class=\"dataframe\">\n",
       "  <thead>\n",
       "    <tr style=\"text-align: right;\">\n",
       "      <th></th>\n",
       "      <th>cohort_id</th>\n",
       "      <th>member_count</th>\n",
       "      <th>years_on_force</th>\n",
       "      <th>percent_black</th>\n",
       "      <th>percent_white</th>\n",
       "      <th>percent_male</th>\n",
       "      <th>percent_female</th>\n",
       "      <th>internal_complaints_per_person</th>\n",
       "      <th>detected_crew</th>\n",
       "    </tr>\n",
       "  </thead>\n",
       "  <tbody>\n",
       "    <tr>\n",
       "      <th>0</th>\n",
       "      <td>824</td>\n",
       "      <td>7</td>\n",
       "      <td>19.428571</td>\n",
       "      <td>14.285714</td>\n",
       "      <td>28.571429</td>\n",
       "      <td>71.428571</td>\n",
       "      <td>28.571429</td>\n",
       "      <td>4.285714</td>\n",
       "      <td>1</td>\n",
       "    </tr>\n",
       "    <tr>\n",
       "      <th>1</th>\n",
       "      <td>508</td>\n",
       "      <td>11</td>\n",
       "      <td>25.727273</td>\n",
       "      <td>0.000000</td>\n",
       "      <td>63.636364</td>\n",
       "      <td>90.909091</td>\n",
       "      <td>9.090909</td>\n",
       "      <td>3.545455</td>\n",
       "      <td>1</td>\n",
       "    </tr>\n",
       "    <tr>\n",
       "      <th>2</th>\n",
       "      <td>1130</td>\n",
       "      <td>5</td>\n",
       "      <td>22.400000</td>\n",
       "      <td>60.000000</td>\n",
       "      <td>20.000000</td>\n",
       "      <td>100.000000</td>\n",
       "      <td>0.000000</td>\n",
       "      <td>5.800000</td>\n",
       "      <td>1</td>\n",
       "    </tr>\n",
       "    <tr>\n",
       "      <th>3</th>\n",
       "      <td>294</td>\n",
       "      <td>4</td>\n",
       "      <td>22.000000</td>\n",
       "      <td>0.000000</td>\n",
       "      <td>0.000000</td>\n",
       "      <td>100.000000</td>\n",
       "      <td>0.000000</td>\n",
       "      <td>5.000000</td>\n",
       "      <td>1</td>\n",
       "    </tr>\n",
       "    <tr>\n",
       "      <th>4</th>\n",
       "      <td>403</td>\n",
       "      <td>13</td>\n",
       "      <td>26.153846</td>\n",
       "      <td>38.461538</td>\n",
       "      <td>53.846154</td>\n",
       "      <td>100.000000</td>\n",
       "      <td>0.000000</td>\n",
       "      <td>3.230769</td>\n",
       "      <td>1</td>\n",
       "    </tr>\n",
       "    <tr>\n",
       "      <th>...</th>\n",
       "      <td>...</td>\n",
       "      <td>...</td>\n",
       "      <td>...</td>\n",
       "      <td>...</td>\n",
       "      <td>...</td>\n",
       "      <td>...</td>\n",
       "      <td>...</td>\n",
       "      <td>...</td>\n",
       "      <td>...</td>\n",
       "    </tr>\n",
       "    <tr>\n",
       "      <th>2329</th>\n",
       "      <td>115</td>\n",
       "      <td>9</td>\n",
       "      <td>22.000000</td>\n",
       "      <td>0.000000</td>\n",
       "      <td>77.777778</td>\n",
       "      <td>44.444444</td>\n",
       "      <td>33.333333</td>\n",
       "      <td>4.111111</td>\n",
       "      <td>1</td>\n",
       "    </tr>\n",
       "    <tr>\n",
       "      <th>2330</th>\n",
       "      <td>883</td>\n",
       "      <td>13</td>\n",
       "      <td>9.500000</td>\n",
       "      <td>7.692308</td>\n",
       "      <td>30.769231</td>\n",
       "      <td>84.615385</td>\n",
       "      <td>7.692308</td>\n",
       "      <td>3.076923</td>\n",
       "      <td>1</td>\n",
       "    </tr>\n",
       "    <tr>\n",
       "      <th>2331</th>\n",
       "      <td>558</td>\n",
       "      <td>12</td>\n",
       "      <td>24.181818</td>\n",
       "      <td>83.333333</td>\n",
       "      <td>0.000000</td>\n",
       "      <td>75.000000</td>\n",
       "      <td>16.666667</td>\n",
       "      <td>4.083333</td>\n",
       "      <td>1</td>\n",
       "    </tr>\n",
       "    <tr>\n",
       "      <th>2332</th>\n",
       "      <td>830</td>\n",
       "      <td>7</td>\n",
       "      <td>30.000000</td>\n",
       "      <td>0.000000</td>\n",
       "      <td>85.714286</td>\n",
       "      <td>100.000000</td>\n",
       "      <td>0.000000</td>\n",
       "      <td>3.285714</td>\n",
       "      <td>1</td>\n",
       "    </tr>\n",
       "    <tr>\n",
       "      <th>2333</th>\n",
       "      <td>1114</td>\n",
       "      <td>7</td>\n",
       "      <td>25.571429</td>\n",
       "      <td>0.000000</td>\n",
       "      <td>14.285714</td>\n",
       "      <td>100.000000</td>\n",
       "      <td>0.000000</td>\n",
       "      <td>3.857143</td>\n",
       "      <td>1</td>\n",
       "    </tr>\n",
       "  </tbody>\n",
       "</table>\n",
       "<p>2334 rows × 9 columns</p>\n",
       "</div>"
      ],
      "text/plain": [
       "      cohort_id  member_count  ...  internal_complaints_per_person  detected_crew\n",
       "0           824             7  ...                        4.285714              1\n",
       "1           508            11  ...                        3.545455              1\n",
       "2          1130             5  ...                        5.800000              1\n",
       "3           294             4  ...                        5.000000              1\n",
       "4           403            13  ...                        3.230769              1\n",
       "...         ...           ...  ...                             ...            ...\n",
       "2329        115             9  ...                        4.111111              1\n",
       "2330        883            13  ...                        3.076923              1\n",
       "2331        558            12  ...                        4.083333              1\n",
       "2332        830             7  ...                        3.285714              1\n",
       "2333       1114             7  ...                        3.857143              1\n",
       "\n",
       "[2334 rows x 9 columns]"
      ]
     },
     "execution_count": 293,
     "metadata": {
      "tags": []
     },
     "output_type": "execute_result"
    }
   ],
   "source": [
    "# read the officer and cohort data into pandas dataframe\n",
    "url1 = 'https://raw.githubusercontent.com/Northwestern-Data-Sci-Seminar/Invisible-Institute-Chicago-Reporter-Collaboration-Public/master/The%20Spectacular%20Sailors/Checkpoint_4/src/officers_crews_ml_3.csv'\n",
    "df1 = pd.read_csv(url1, header = 0)\n",
    "df1 = df1._get_numeric_data()\n",
    "original_headers = list(df1.columns.values)\n",
    "df1"
   ]
  },
  {
   "cell_type": "code",
   "execution_count": null,
   "metadata": {
    "colab": {
     "base_uri": "https://localhost:8080/"
    },
    "id": "glzvtgjhcVsx",
    "outputId": "e25da705-107d-4fd3-d755-7e629d318e39"
   },
   "outputs": [
    {
     "data": {
      "text/plain": [
       "cohort_id                            int64\n",
       "member_count                         int64\n",
       "years_on_force                     float64\n",
       "percent_black                      float64\n",
       "percent_white                      float64\n",
       "percent_male                       float64\n",
       "percent_female                     float64\n",
       "internal_complaints_per_person     float64\n",
       "detected_crew                     category\n",
       "dtype: object"
      ]
     },
     "execution_count": 294,
     "metadata": {
      "tags": []
     },
     "output_type": "execute_result"
    }
   ],
   "source": [
    "# change the datatype in the dataframe\n",
    "df1['detected_crew'] = df1['detected_crew'].astype('category',copy=False)\n",
    "df1.dtypes"
   ]
  },
  {
   "cell_type": "code",
   "execution_count": null,
   "metadata": {
    "id": "eHM-xGV5d1rl"
   },
   "outputs": [],
   "source": [
    "# all minmaxscaler on avg_allegation_severity to scale the data\n",
    "mapper_features1  = DataFrameMapper([\n",
    "                          (['member_count'], sklearn.preprocessing.MinMaxScaler()),\n",
    "                          (['years_on_force'], sklearn.preprocessing.MinMaxScaler()),\n",
    "                          (['percent_black'], sklearn.preprocessing.MinMaxScaler()), \n",
    "                          (['percent_white'], sklearn.preprocessing.MinMaxScaler()),\n",
    "                          (['percent_male'], sklearn.preprocessing.MinMaxScaler()),\n",
    "                          (['internal_complaints_per_person'], sklearn.preprocessing.MinMaxScaler())\n",
    "                          \n",
    "])"
   ]
  },
  {
   "cell_type": "code",
   "execution_count": null,
   "metadata": {
    "colab": {
     "base_uri": "https://localhost:8080/"
    },
    "id": "amhtKApkefss",
    "outputId": "b875922f-8070-424d-8403-daaee50f6004"
   },
   "outputs": [
    {
     "data": {
      "text/plain": [
       "array([[0.273, 0.466, 0.143, 0.286, 0.714, 0.245],\n",
       "       [0.455, 0.617, 0.   , 0.636, 0.909, 0.203],\n",
       "       [0.182, 0.538, 0.6  , 0.2  , 1.   , 0.331],\n",
       "       ...,\n",
       "       [0.5  , 0.58 , 0.833, 0.   , 0.75 , 0.233],\n",
       "       [0.273, 0.72 , 0.   , 0.857, 1.   , 0.188],\n",
       "       [0.273, 0.614, 0.   , 0.143, 1.   , 0.22 ]])"
      ]
     },
     "execution_count": 296,
     "metadata": {
      "tags": []
     },
     "output_type": "execute_result"
    }
   ],
   "source": [
    "# use the mapper to scale the data\n",
    "features1 = np.round(mapper_features1.fit_transform(df1.copy()), 3)\n",
    "features1"
   ]
  },
  {
   "cell_type": "code",
   "execution_count": null,
   "metadata": {
    "id": "-bMrqCS4e0ne"
   },
   "outputs": [],
   "source": [
    "# train test split\n",
    "X_train1, X_test1, y_train1, y_test1 = train_test_split(features1, df1['detected_crew'], test_size=0.3, shuffle=True)"
   ]
  },
  {
   "cell_type": "code",
   "execution_count": null,
   "metadata": {
    "colab": {
     "base_uri": "https://localhost:8080/"
    },
    "id": "HVXnf7Lufsz2",
    "outputId": "80583012-2da8-46ac-bbd5-822e918f8fbf"
   },
   "outputs": [
    {
     "data": {
      "text/plain": [
       "LinearRegression(copy_X=True, fit_intercept=True, n_jobs=None, normalize=False)"
      ]
     },
     "execution_count": 298,
     "metadata": {
      "tags": []
     },
     "output_type": "execute_result"
    }
   ],
   "source": [
    "# train the linear regression model1 using train data\n",
    "linreg1 = linear_model.LinearRegression()\n",
    "linreg1.fit(X_train1, y_train1)"
   ]
  },
  {
   "cell_type": "code",
   "execution_count": null,
   "metadata": {
    "colab": {
     "base_uri": "https://localhost:8080/"
    },
    "id": "SXysMAXyf1DV",
    "outputId": "c660421f-5af5-4f70-e7a7-87fb656614a5"
   },
   "outputs": [
    {
     "data": {
      "text/plain": [
       "array([-0.,  0.,  0.,  0.,  0., -0.,  0., -0.,  1., -0.,  0.,  0.,  0.,\n",
       "       -0.,  0.,  0., -0.,  0.,  0.,  0., -0.,  0.,  1.,  0.,  0.,  0.,\n",
       "       -0.,  0.,  0.,  0.,  0., -0.,  0.,  0., -0., -0., -0.,  0.,  0.,\n",
       "        0.,  0.,  0.,  0.,  0., -0., -0., -0.,  0.,  0., -0., -0.,  0.,\n",
       "        0.,  0.,  0., -0., -0.,  0.,  0., -0.,  0., -0.,  0., -0., -0.,\n",
       "       -0., -0.,  1., -0., -0., -0., -0., -0.,  0.,  0.,  0., -0.,  0.,\n",
       "        0.,  0.,  0.,  0., -0.,  0., -0., -0.,  0.,  0.,  0.,  1., -0.,\n",
       "        1.,  0.,  0.,  0.,  0.,  0.,  0., -0.,  0.,  0.,  0., -0., -0.,\n",
       "       -0.,  0.,  0.,  0.,  0.,  0.,  0.,  0.,  0.,  0.,  0.,  0., -0.,\n",
       "        0.,  0.,  0.,  0.,  0., -0., -0., -0., -0., -0.,  0.,  0., -0.,\n",
       "       -0.,  0.,  0.,  0., -0., -0.,  0.,  0., -0.,  0., -0.,  0.,  1.,\n",
       "        0.,  0.,  0.,  0.,  0., -0., -0.,  0., -0.,  0., -0.,  0., -0.,\n",
       "       -0.,  0.,  0.,  0., -0.,  0.,  0.,  0.,  0., -0.,  0.,  0., -0.,\n",
       "       -0., -0.,  0., -0.,  0.,  0.,  0., -0., -0.,  0., -0., -0.,  0.,\n",
       "        0.,  0.,  0., -0., -0.,  0.,  0.,  0.,  0., -0.,  0., -0., -0.,\n",
       "        0.,  0., -0., -0.,  0.,  0.,  0.,  0.,  0.,  1.,  0.,  0.,  0.,\n",
       "        0.,  0.,  0.,  0.,  0.,  0., -0., -0.,  0., -0.,  0.,  0., -0.,\n",
       "        0., -0.,  0.,  0., -0., -0.,  0.,  0., -0.,  0.,  0.,  0.,  0.,\n",
       "        1., -0.,  0.,  0., -0., -0.,  0., -0.,  0., -0.,  0.,  0.,  0.,\n",
       "        1., -0., -0.,  0., -0.,  0., -0.,  0., -0.,  0.,  0., -0.,  0.,\n",
       "       -0., -0.,  0.,  0.,  0., -0., -0., -0., -0., -0.,  0.,  0., -0.,\n",
       "       -0.,  0.,  0., -0.,  0., -0.,  0.,  0., -0.,  0.,  0.,  0.,  1.,\n",
       "        0., -0.,  0.,  0., -0.,  0., -0.,  0.,  1.,  0.,  0., -0.,  0.,\n",
       "        0., -0., -0.,  0., -0., -0.,  0., -0., -0.,  0., -0.,  0.,  0.,\n",
       "        0.,  0., -0., -0., -0.,  0.,  0., -0., -0., -0., -0.,  0.,  0.,\n",
       "        0.,  0., -0., -0.,  0., -0.,  0., -0.,  0.,  0.,  0.,  0.,  0.,\n",
       "        0., -0.,  0.,  0.,  0., -0., -0.,  0.,  0.,  1.,  0.,  0.,  0.,\n",
       "        0., -0., -0.,  0.,  0.,  0.,  0.,  0.,  1.,  0.,  0.,  0.,  0.,\n",
       "       -0., -0.,  0., -0., -0.,  0.,  0., -0.,  0.,  0.,  0.,  0.,  0.,\n",
       "        0.,  0.,  0.,  0.,  0., -0.,  0., -0., -0., -0., -0., -0.,  0.,\n",
       "        0.,  0.,  0., -0., -0.,  0., -0.,  0.,  0.,  0.,  0., -0., -0.,\n",
       "        0., -0.,  0., -0.,  0.,  0.,  0., -0.,  0.,  0.,  0.,  0., -0.,\n",
       "        0., -0.,  0., -0., -0.,  0.,  0., -0.,  0.,  0., -0.,  0., -0.,\n",
       "       -0.,  0., -0., -0., -0.,  0.,  0.,  0., -0.,  0., -0., -0.,  0.,\n",
       "       -0.,  0., -0., -0.,  0.,  0., -0.,  0.,  0., -0.,  0.,  1.,  0.,\n",
       "       -0.,  0.,  0.,  0.,  0.,  0., -0., -0.,  0.,  0., -0., -0.,  0.,\n",
       "       -0.,  0.,  0.,  0., -0., -0., -0., -0.,  0., -0., -0., -0.,  0.,\n",
       "        0., -0., -0.,  0.,  0., -0.,  0.,  0.,  0.,  0.,  0.,  0., -0.,\n",
       "        0., -0., -0., -0.,  0.,  0.,  0., -0.,  0.,  0., -0., -0.,  0.,\n",
       "       -0.,  0.,  0.,  0.,  0.,  0., -0.,  0.,  0.,  0., -0.,  0., -0.,\n",
       "        0.,  0., -0.,  1., -0., -0.,  0., -0., -0.,  0.,  0., -0.,  0.,\n",
       "        0.,  0.,  0.,  0., -0.,  0., -0., -0.,  0.,  0.,  0.,  0.,  0.,\n",
       "        0.,  0.,  0.,  0., -0., -0.,  0.,  0.,  0.,  0.,  0., -0., -0.,\n",
       "       -0.,  0.,  0.,  0.,  0., -0., -0.,  0.,  0.,  0.,  0., -0., -0.,\n",
       "       -0.,  0.,  0., -0., -0., -0.,  0.,  0.,  0.,  0.,  0., -0.,  0.,\n",
       "        0.,  0.,  0.,  0., -0.,  0., -0.,  0.,  0., -0., -0.,  0., -0.,\n",
       "       -0., -0.,  0.,  0., -0., -0.,  0.,  0.,  0.,  0.,  0.,  0., -0.,\n",
       "       -0.,  0.,  0.,  0.,  0.,  0., -0., -0.,  0.,  0.,  0.,  0., -0.,\n",
       "        1.,  0.,  0., -0.,  0.,  0.,  0., -0.,  0., -0.,  1.,  0.,  0.,\n",
       "        0., -0.,  0.,  0., -0.,  0., -0.,  0.,  0.,  0.,  0., -0.,  0.,\n",
       "       -0.,  0., -0.,  0.,  0.,  0.,  0.,  0.,  0., -0.,  0.,  0.,  0.,\n",
       "        0., -0.,  0., -0.,  0.,  0.,  0.,  0., -0., -0., -0.,  0., -0.,\n",
       "        0.,  0.,  0.,  0., -0.,  0., -0.,  0.,  0., -0.,  0.,  0.,  0.,\n",
       "        0., -0., -0., -0.,  0.,  1.,  0., -0.,  0.,  0.,  0.,  0.])"
      ]
     },
     "execution_count": 299,
     "metadata": {
      "tags": []
     },
     "output_type": "execute_result"
    }
   ],
   "source": [
    "# make predictions of cohorts\n",
    "prediction1 = linreg1.predict(X_test1)\n",
    "#y_valnp = y_val.to_numpy()\n",
    "predictionnp1 = np.around(prediction1)\n",
    "predictionnp1"
   ]
  },
  {
   "cell_type": "code",
   "execution_count": null,
   "metadata": {
    "colab": {
     "base_uri": "https://localhost:8080/"
    },
    "id": "uTR-eMJfgCKH",
    "outputId": "4d0c0b3b-8d5d-41b6-ebe7-f676cb62e074"
   },
   "outputs": [
    {
     "data": {
      "text/plain": [
       "0.9258202567760342"
      ]
     },
     "execution_count": 300,
     "metadata": {
      "tags": []
     },
     "output_type": "execute_result"
    }
   ],
   "source": [
    "#show accuracy of model 1\n",
    "metrics.accuracy_score(y_test1, predictionnp1)"
   ]
  },
  {
   "cell_type": "code",
   "execution_count": null,
   "metadata": {
    "colab": {
     "base_uri": "https://localhost:8080/"
    },
    "id": "yJbdbJENgf9f",
    "outputId": "6a69300b-84e1-4cdf-f10a-bf0e4b49a064"
   },
   "outputs": [
    {
     "data": {
      "text/plain": [
       "array([ 0.01854292,  0.03480821,  0.00428483, -0.00797836, -0.00409844,\n",
       "        1.45437381])"
      ]
     },
     "execution_count": 301,
     "metadata": {
      "tags": []
     },
     "output_type": "execute_result"
    }
   ],
   "source": [
    "# coefficient of the linear model\n",
    "linreg1.coef_"
   ]
  },
  {
   "cell_type": "code",
   "execution_count": null,
   "metadata": {
    "colab": {
     "base_uri": "https://localhost:8080/"
    },
    "id": "XgGE5NAFgyEA",
    "outputId": "75da4d15-5709-4756-a1e1-8940be699fc4"
   },
   "outputs": [
    {
     "data": {
      "text/plain": [
       "LogisticRegression(C=1.0, class_weight=None, dual=False, fit_intercept=True,\n",
       "                   intercept_scaling=1, l1_ratio=None, max_iter=100,\n",
       "                   multi_class='auto', n_jobs=None, penalty='l2',\n",
       "                   random_state=None, solver='lbfgs', tol=0.0001, verbose=0,\n",
       "                   warm_start=False)"
      ]
     },
     "execution_count": 302,
     "metadata": {
      "tags": []
     },
     "output_type": "execute_result"
    }
   ],
   "source": [
    "# train a logistic regression on the data to check difference\n",
    "logreg1 = linear_model.LogisticRegression(multi_class='auto')\n",
    "logreg1.fit(X_train1, y_train1)"
   ]
  },
  {
   "cell_type": "code",
   "execution_count": null,
   "metadata": {
    "colab": {
     "base_uri": "https://localhost:8080/"
    },
    "id": "2oDa5ShfhFzy",
    "outputId": "9d832084-f98c-4bd7-b77d-0fc6f5558f67"
   },
   "outputs": [
    {
     "data": {
      "text/plain": [
       "0.9258202567760342"
      ]
     },
     "execution_count": 303,
     "metadata": {
      "tags": []
     },
     "output_type": "execute_result"
    }
   ],
   "source": [
    "predictionlog1 = logreg1.predict(X_test1)\n",
    "metrics.accuracy_score(y_test1, predictionlog1)"
   ]
  },
  {
   "cell_type": "markdown",
   "metadata": {
    "id": "cyJW4ApmiNfl"
   },
   "source": [
    "# Data Results - Group Crew Detection\n",
    "\n",
    "Earlier, we attempted to predict whether individual officers belonged to a crew, community, or are unaffiliated. In this second model, we attempt to predict whether any grouping of officers is a crew or not. \n",
    "\n",
    "Similar to the earlier model, we want to know which feature of a group impacts the prediction of crew and whether such a model is accurate. This time, based on the data_crew table, we selected features that average information about the officers in their ranks such as member count, race, and complaints per person. \n",
    "\n",
    "According to our current model, the internal complaints per person and member count are most heavily weighted when predicting whether a group is classified as a crew or not.\n",
    "\n",
    "**The current group detection model has an accuracy of about 90%.**\n"
   ]
  },
  {
   "cell_type": "markdown",
   "metadata": {
    "id": "lHAWPeu-icEC"
   },
   "source": [
    "# Conclusion\n",
    "\n",
    "It is possible to predict and model officer misconduct. \n",
    "\n",
    "At an indvidual level, officers with high complaint percentiles are most heavily weighted when predicting their cohort. \n",
    "\n",
    "At a group level, cohorts of officers with many members or with large numbers of complaints indicates there is a crew. \n",
    "\n",
    "If these metrics are tracked, it may be possible to detect whether individual officers are at higher risk of continued misconduct."
   ]
  }
 ],
 "metadata": {
  "colab": {
   "collapsed_sections": [],
   "name": "DatascienceCheckpoint4.ipynb",
   "provenance": []
  },
  "kernelspec": {
   "display_name": "Python 3",
   "language": "python",
   "name": "python3"
  },
  "language_info": {
   "codemirror_mode": {
    "name": "ipython",
    "version": 3
   },
   "file_extension": ".py",
   "mimetype": "text/x-python",
   "name": "python",
   "nbconvert_exporter": "python",
   "pygments_lexer": "ipython3",
   "version": "3.8.3"
  }
 },
 "nbformat": 4,
 "nbformat_minor": 1
}
