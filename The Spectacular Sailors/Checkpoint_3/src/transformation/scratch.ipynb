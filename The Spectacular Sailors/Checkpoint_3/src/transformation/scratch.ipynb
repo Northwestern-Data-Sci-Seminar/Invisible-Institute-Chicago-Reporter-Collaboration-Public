{
 "cells": [
  {
   "cell_type": "code",
   "execution_count": 1,
   "metadata": {
    "collapsed": true
   },
   "outputs": [],
   "source": [
    "import pandas as pd"
   ]
  },
  {
   "cell_type": "code",
   "execution_count": 6,
   "outputs": [],
   "source": [
    "filename = 'data/officers_cohorts_counts.csv'"
   ],
   "metadata": {
    "collapsed": false,
    "pycharm": {
     "name": "#%%\n"
    }
   }
  },
  {
   "cell_type": "code",
   "execution_count": 7,
   "outputs": [],
   "source": [
    "df = pd.read_csv(filename)"
   ],
   "metadata": {
    "collapsed": false,
    "pycharm": {
     "name": "#%%\n"
    }
   }
  },
  {
   "cell_type": "code",
   "execution_count": 8,
   "outputs": [
    {
     "name": "stdout",
     "output_type": "stream",
     "text": [
      "   cohort  total_officers  officers_with_allegations  unique_crid_count  \\\n",
      "0       1            1156                       1156              20174   \n",
      "1       2           10071                      10071              96651   \n",
      "2       3           23780                      12217              47137   \n",
      "\n",
      "   is_disciplined  total_coaccusals  avg_coaccusals_per_officer  \\\n",
      "0            1144             56294                   48.866319   \n",
      "1            9921            196844                   20.261863   \n",
      "2            7880             91000                    8.179040   \n",
      "\n",
      "   avg_coaccusals_per_complaint  discplined_rate  total_cost  \\\n",
      "0                      2.790423         0.056707    42508443   \n",
      "1                      2.036647         0.102648   254874025   \n",
      "2                      1.930543         0.167172    78747987   \n",
      "\n",
      "   avg_years_on_force_at_incident  avg_ages_at_incident  \n",
      "0                        7.730687             34.242709  \n",
      "1                        8.475197             35.932168  \n",
      "2                        9.185505             37.611746  \n"
     ]
    }
   ],
   "source": [
    "print(df.head())\n"
   ],
   "metadata": {
    "collapsed": false,
    "pycharm": {
     "name": "#%%\n"
    }
   }
  }
 ],
 "metadata": {
  "kernelspec": {
   "display_name": "Python 3",
   "language": "python",
   "name": "python3"
  },
  "language_info": {
   "codemirror_mode": {
    "name": "ipython",
    "version": 2
   },
   "file_extension": ".py",
   "mimetype": "text/x-python",
   "name": "python",
   "nbconvert_exporter": "python",
   "pygments_lexer": "ipython2",
   "version": "2.7.6"
  }
 },
 "nbformat": 4,
 "nbformat_minor": 0
}