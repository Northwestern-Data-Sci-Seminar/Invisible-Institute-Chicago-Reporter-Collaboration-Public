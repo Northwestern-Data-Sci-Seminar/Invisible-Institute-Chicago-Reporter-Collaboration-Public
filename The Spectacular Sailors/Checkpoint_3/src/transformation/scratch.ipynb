{
 "cells": [
  {
   "cell_type": "code",
   "execution_count": 1,
   "metadata": {
    "collapsed": true
   },
   "outputs": [],
   "source": [
    "import pandas as pd"
   ]
  },
  {
   "cell_type": "code",
   "execution_count": 2,
   "outputs": [],
   "source": [
    "filename = 'data/officers_cohorts_data.csv'"
   ],
   "metadata": {
    "collapsed": false,
    "pycharm": {
     "name": "#%%\n"
    }
   }
  },
  {
   "cell_type": "code",
   "execution_count": 102,
   "outputs": [],
   "source": [
    "date_cols = ['appointed_date', 'incident_date', 'birth_year']\n",
    "dtypes = {'cohort': 'category',\n",
    "          'gender': 'category',\n",
    "          'race': 'category',\n",
    "          'active': 'category',\n",
    "          'disciplined_flag': 'category',\n",
    "          'crid': 'str',\n",
    "          'beat_id': 'str',\n",
    "          'officer_id': 'category',\n",
    "          'last_unit_id': 'category',\n",
    "          'allegation_category_id': 'category'}\n",
    "\n",
    "\n",
    "df = pd.read_csv(filename, index_col=0, parse_dates=date_cols, dtype=dtypes)\n",
    "df = df.drop(['crew_id', 'community_id'], axis=1)\n",
    "df.birth_year = df['birth_year'].dt.year\n",
    "\n",
    "df['officer_age_incident'] = df['incident_date'].dt.year - df.birth_year\n",
    "df['appointed_date'] = df['appointed_date'].dt.tz_localize('UTC')\n",
    "df['officer_yof_incident'] = df['incident_date'] - df.appointed_date\n",
    "df['days_on_force_incident'] = df['officer_yof_incident'].dt.days\n",
    "df = df.drop(['officer_yof_incident'], axis=1)\n",
    "df = df.drop(['point'], axis=1)\n",
    "df = df.drop(['birth_year'], axis=1)\n",
    "\n",
    "df.incident_date = df['incident_date'].dt.date\n",
    "df.appointed_date = df['appointed_date'].dt.date\n",
    "df = df.drop(['appointed_date'], axis=1)\n",
    "df = df[~(df['officer_age_incident'] < 0)]\n",
    "df = df[~(df['days_on_force_incident'] < 0)]\n",
    "df = df.dropna(axis=0, subset=['incident_date'])"
   ],
   "metadata": {
    "collapsed": false,
    "pycharm": {
     "name": "#%%\n"
    }
   }
  },
  {
   "cell_type": "code",
   "execution_count": 93,
   "outputs": [
    {
     "name": "stdout",
     "output_type": "stream",
     "text": [
      "       officer_id cohort gender      race   active  complaint_percentile  \\\n",
      "#                                                                          \n",
      "166306      22486      2      M     White      Yes               84.6051   \n",
      "7638         1013      2      M  Hispanic      Yes               89.2094   \n",
      "87381       11588      2      F     Black      Yes               60.3760   \n",
      "243542      32166      1      M     Black  Unknown               99.8968   \n",
      "163529      22087      2      M     Black       No               93.8191   \n",
      "\n",
      "        civilian_allegation_percentile last_unit_id     crid incident_date  \\\n",
      "#                                                                            \n",
      "166306                         81.8766           10   269165    2001-02-02   \n",
      "7638                           91.4192           20   299906    2004-08-07   \n",
      "87381                          57.7487          206  C255926    1999-08-17   \n",
      "243542                         99.8206            7  C266045    2000-09-22   \n",
      "163529                         79.3677           31  C200356    1993-05-04   \n",
      "\n",
      "       beat_id            location allegation_category_id disciplined_flag  \\\n",
      "#                                                                            \n",
      "166306     NaN  Public Way - Other                    155                0   \n",
      "7638       NaN  Public Way - Other                     70                0   \n",
      "87381      NaN                 NaN                    208                0   \n",
      "243542     NaN                 NaN                     31                0   \n",
      "163529     NaN                 NaN                    101                0   \n",
      "\n",
      "       disciplined  coaccused_count  officer_age_incident  \\\n",
      "#                                                           \n",
      "166306       False                2                  32.0   \n",
      "7638         False                2                  34.0   \n",
      "87381        False               14                  36.0   \n",
      "243542       False                1                  36.0   \n",
      "163529       False                1                  50.0   \n",
      "\n",
      "        days_on_force_incident  \n",
      "#                               \n",
      "166306                  1977.0  \n",
      "7638                    1979.0  \n",
      "87381                   3907.0  \n",
      "243542                  2118.0  \n",
      "163529                  8506.0  \n"
     ]
    }
   ],
   "source": [
    "# produce a table for time series\n",
    "\n",
    "print(df.head())"
   ],
   "metadata": {
    "collapsed": false,
    "pycharm": {
     "name": "#%%\n"
    }
   }
  },
  {
   "cell_type": "code",
   "execution_count": 104,
   "outputs": [],
   "source": [
    "acc_age = df.sample(n=20000, random_state=42)\n",
    "acc_age = acc_age[['last_unit_id', 'officer_age_incident', 'coaccused_count', 'complaint_percentile']].copy()\n",
    "acc_age['last_unit_id'] = 'Unit ' + df['last_unit_id'].astype(str)\n",
    "acc_age.head()\n",
    "acc_age.to_csv('scatter.csv', index=False)"
   ],
   "metadata": {
    "collapsed": false,
    "pycharm": {
     "name": "#%%\n"
    }
   }
  },
  {
   "cell_type": "code",
   "execution_count": null,
   "outputs": [],
   "source": [],
   "metadata": {
    "collapsed": false,
    "pycharm": {
     "name": "#%%\n"
    }
   }
  }
 ],
 "metadata": {
  "kernelspec": {
   "display_name": "Python 3",
   "language": "python",
   "name": "python3"
  },
  "language_info": {
   "codemirror_mode": {
    "name": "ipython",
    "version": 2
   },
   "file_extension": ".py",
   "mimetype": "text/x-python",
   "name": "python",
   "nbconvert_exporter": "python",
   "pygments_lexer": "ipython2",
   "version": "2.7.6"
  }
 },
 "nbformat": 4,
 "nbformat_minor": 0
}