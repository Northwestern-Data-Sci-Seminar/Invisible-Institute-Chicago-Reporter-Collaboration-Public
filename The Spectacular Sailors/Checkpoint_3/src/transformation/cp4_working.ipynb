{
 "cells": [
  {
   "cell_type": "code",
   "execution_count": 1,
   "metadata": {
    "collapsed": true
   },
   "outputs": [],
   "source": [
    "import pandas as pd"
   ]
  },
  {
   "cell_type": "code",
   "execution_count": 2,
   "outputs": [],
   "source": [
    "filename = 'data/officers_cohorts_data.csv'"
   ],
   "metadata": {
    "collapsed": false,
    "pycharm": {
     "name": "#%%\n"
    }
   }
  },
  {
   "cell_type": "code",
   "execution_count": 5,
   "outputs": [],
   "source": [
    "date_cols = ['appointed_date', 'incident_date', 'birth_year']\n",
    "dtypes = {'cohort': 'category',\n",
    "          'gender': 'category',\n",
    "          'race': 'category',\n",
    "          'active': 'category',\n",
    "          'disciplined_flag': 'category',\n",
    "          'crid': 'str',\n",
    "          'beat_id': 'str',\n",
    "          'officer_id': 'category',\n",
    "          'last_unit_id': 'category',\n",
    "          'allegation_category_id': 'category'}\n",
    "\n",
    "\n",
    "df = pd.read_csv(filename, index_col=0, parse_dates=date_cols, dtype=dtypes)\n",
    "df.birth_year = df['birth_year'].dt.year\n",
    "\n",
    "df['officer_age_incident'] = df['incident_date'].dt.year - df.birth_year\n",
    "df['appointed_date'] = df['appointed_date'].dt.tz_localize('UTC')\n",
    "df['officer_yof_incident'] = df['incident_date'] - df.appointed_date\n",
    "df['days_on_force_incident'] = df['officer_yof_incident'].dt.days\n",
    "df = df.drop(['officer_yof_incident'], axis=1)\n",
    "df = df.drop(['point'], axis=1)\n",
    "df = df.drop(['birth_year'], axis=1)\n",
    "\n",
    "df.incident_date = df['incident_date'].dt.date\n",
    "df.appointed_date = df['appointed_date'].dt.date\n",
    "df = df.drop(['appointed_date'], axis=1)\n",
    "df = df.drop(['location'], axis=1)\n",
    "df = df[~(df['officer_age_incident'] < 0)]\n",
    "df = df[~(df['days_on_force_incident'] < 0)]\n",
    "\n",
    "df = df.dropna(axis=0, subset=['incident_date'])"
   ],
   "metadata": {
    "collapsed": false,
    "pycharm": {
     "name": "#%%\n"
    }
   }
  },
  {
   "cell_type": "code",
   "execution_count": 6,
   "outputs": [
    {
     "name": "stdout",
     "output_type": "stream",
     "text": [
      "  officer_id  crew_id  community_id cohort gender   race active  \\\n",
      "#                                                                 \n",
      "1          1        0             0      3      M  White    Yes   \n",
      "2          1        0             0      3      M  White    Yes   \n",
      "3          1        0             0      3      M  White    Yes   \n",
      "4          1        0             0      3      M  White    Yes   \n",
      "5          1        0             0      3      M  White    Yes   \n",
      "\n",
      "   complaint_percentile  civilian_allegation_percentile last_unit_id     crid  \\\n",
      "#                                                                               \n",
      "1               61.2357                         61.2069            4  1014477   \n",
      "2               61.2357                         61.2069            4  1033300   \n",
      "3               61.2357                         61.2069            4  1057642   \n",
      "4               61.2357                         61.2069            4  1063196   \n",
      "5               61.2357                         61.2069            4  1079625   \n",
      "\n",
      "  incident_date beat_id allegation_category_id disciplined_flag disciplined  \\\n",
      "#                                                                             \n",
      "1    2007-04-25     186                    112                0       False   \n",
      "2    2010-01-20      64                     71                0       False   \n",
      "3    2012-10-07      82                    185                0       False   \n",
      "4    2013-06-29      59                    204                0       False   \n",
      "5    2016-03-12     187                    204                0       False   \n",
      "\n",
      "   coaccused_count  officer_age_incident  days_on_force_incident  \n",
      "#                                                                 \n",
      "1                3                  36.0                   576.0  \n",
      "2                2                  39.0                  1577.0  \n",
      "3                1                  41.0                  2568.0  \n",
      "4                2                  42.0                  2833.0  \n",
      "5                3                  45.0                  3820.0  \n"
     ]
    }
   ],
   "source": [
    "# produce a table for time series\n",
    "\n",
    "print(df.head())"
   ],
   "metadata": {
    "collapsed": false,
    "pycharm": {
     "name": "#%%\n"
    }
   }
  }
 ],
 "metadata": {
  "kernelspec": {
   "display_name": "Python 3",
   "language": "python",
   "name": "python3"
  },
  "language_info": {
   "codemirror_mode": {
    "name": "ipython",
    "version": 2
   },
   "file_extension": ".py",
   "mimetype": "text/x-python",
   "name": "python",
   "nbconvert_exporter": "python",
   "pygments_lexer": "ipython2",
   "version": "2.7.6"
  }
 },
 "nbformat": 4,
 "nbformat_minor": 0
}