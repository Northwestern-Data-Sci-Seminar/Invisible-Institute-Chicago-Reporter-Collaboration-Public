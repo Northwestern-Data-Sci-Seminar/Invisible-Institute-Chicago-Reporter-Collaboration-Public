{
 "cells": [
  {
   "cell_type": "code",
   "execution_count": 30,
   "metadata": {
    "pycharm": {
     "name": "#%%\n"
    }
   },
   "outputs": [],
   "source": [
    "import pandas as pd\n",
    "import os\n",
    "import re\n",
    "import gensim\n",
    "import numpy as np\n",
    "import matplotlib.pyplot as plt\n",
    "from gensim.models import Word2Vec\n",
    "from gensim.models import KeyedVectors\n",
    "from IPython.display import HTML\n",
    "from tensorflow import keras\n",
    "from keras import backend as K\n",
    "from keras.models import load_model\n",
    "from keras import models\n",
    "from keras import layers\n",
    "from keras import optimizers\n",
    "from keras import callbacks\n",
    "from keras import regularizers\n",
    "from tensorflow.keras.preprocessing.text import Tokenizer\n",
    "from keras.preprocessing.sequence import pad_sequences\n",
    "from keras.models import Sequential\n",
    "from keras.layers import Embedding, Flatten, Dense\n",
    "from keras.layers import LSTM, Bidirectional\n",
    "from keras.utils import plot_model\n",
    "from keras.utils import to_categorical\n",
    "from sklearn import feature_extraction, model_selection, naive_bayes, pipeline, manifold, preprocessing, metrics, feature_selection\n",
    "import spacy\n",
    "import en_core_web_lg"
   ]
  },
  {
   "cell_type": "code",
   "execution_count": 4,
   "metadata": {
    "pycharm": {
     "name": "#%%Load in Summary Data Text. Summary is lawsuit complaints and Data_attachment summary texts\n"
    }
   },
   "outputs": [
    {
     "name": "stdout",
     "output_type": "stream",
     "text": [
      "C:\\Users\\Hawkins\\OneDrive\\MSAI\\DS Seminar\\summary2.csv\n",
      "0                                             NO AFFIDAVIT\n",
      "1        The Compl alleged that his girlfriend, PO Barn...\n",
      "2                                            NOT SUSTAINED\n",
      "3                                     Punched\\nin his face\n",
      "4                                           (None Entered)\n",
      "                               ...                        \n",
      "46892    The reporting party\\ninformed the officers\\nli...\n",
      "46893    The reporting party alleges that the accused\\n...\n",
      "46894    The reporting party alleges that the accused\\n...\n",
      "46895    The complainan alleged that on unknown date an...\n",
      "46896    has not investigated HV-\\nThe reporting\\nstate...\n",
      "Name: summ, Length: 46897, dtype: object\n"
     ]
    }
   ],
   "source": [
    "csv_file = os.getcwd() + os.sep + os.sep.join(['csv' , 'summary2.csv'])\n",
    "\n",
    "corpus=pd.read_csv(csv_file, dtype=str)\n",
    "corpus=corpus.dropna(subset=['summ'])\n",
    "print(corpus.summ)"
   ]
  },
  {
   "cell_type": "markdown",
   "metadata": {},
   "source": [
    "Pre-processing and Lemmatizing"
   ]
  },
  {
   "cell_type": "code",
   "execution_count": 5,
   "metadata": {
    "pycharm": {
     "name": "#%%\n"
    }
   },
   "outputs": [],
   "source": [
    "summary_df=corpus\n",
    "en_core = en_core_web_lg.load()\n",
    "summary_df['summary_text_processed1'] = summary_df['summ'].map(lambda x: re.sub('[,\\.!?]()', '', x))\n",
    "\n",
    "# convert to lower\n",
    "summary_df['summary_text_processed2'] = summary_df['summary_text_processed1'].map(lambda x: x.lower())\n",
    "\n",
    "# lemmatize\n",
    "summary_df['summary_text_processed3'] = summary_df['summary_text_processed2'].map(lambda x: \" \".join([y.lemma_ for y in en_core(x)]))\n"
   ]
  },
  {
   "cell_type": "code",
   "execution_count": 6,
   "metadata": {
    "pycharm": {
     "name": "#%%\n"
    }
   },
   "outputs": [
    {
     "name": "stdout",
     "output_type": "stream",
     "text": [
      "( enter )\n"
     ]
    }
   ],
   "source": [
    "pattern = '(18|19|20)[0-9][0-9]'\n",
    "summary_df['summary_text_processed4'] = summary_df['summary_text_processed3'].map(lambda x: re.sub(pattern, '', x))\n",
    "stopwords = set(['cook county','chicago','allegedly','po','ofcer','sergeant','ipra','detective','accused', 'officer', 'officers', 'reporting', 'party', 'alleged', 'alleges', 'complainant', 'victim', 'police', '-pron-', 'pron', '-PRON-', '[-PRON-]', 'allege', 'accuse', 'report'])\n",
    "stopwords= (stopwords.union(en_core.Defaults.stop_words))\n",
    "summary_df['summary_text_processed'] = summary_df['summary_text_processed4'].map(lambda x: \" \".join([item for item in x.split() if item not in stopwords]))\n",
    "print(summary_df['summary_text_processed'][501])\n",
    "\n",
    "texts = [re.sub('[^A-Za-z ]+',' ', line) for line in summary_df['summary_text_processed']]\n",
    "text = [[word.lower() for word in text.split()] for text in texts]\n"
   ]
  },
  {
   "cell_type": "code",
   "execution_count": 7,
   "metadata": {},
   "outputs": [
    {
     "data": {
      "text/html": [
       "<div>\n",
       "<style scoped>\n",
       "    .dataframe tbody tr th:only-of-type {\n",
       "        vertical-align: middle;\n",
       "    }\n",
       "\n",
       "    .dataframe tbody tr th {\n",
       "        vertical-align: top;\n",
       "    }\n",
       "\n",
       "    .dataframe thead th {\n",
       "        text-align: right;\n",
       "    }\n",
       "</style>\n",
       "<table border=\"1\" class=\"dataframe\">\n",
       "  <thead>\n",
       "    <tr style=\"text-align: right;\">\n",
       "      <th></th>\n",
       "      <th>summ</th>\n",
       "      <th>id</th>\n",
       "      <th>district</th>\n",
       "      <th>hospitals</th>\n",
       "      <th>summary_text_processed1</th>\n",
       "      <th>summary_text_processed2</th>\n",
       "      <th>summary_text_processed3</th>\n",
       "      <th>summary_text_processed4</th>\n",
       "      <th>summary_text_processed</th>\n",
       "    </tr>\n",
       "  </thead>\n",
       "  <tbody>\n",
       "    <tr>\n",
       "      <th>0</th>\n",
       "      <td>NO AFFIDAVIT</td>\n",
       "      <td>46504</td>\n",
       "      <td>NaN</td>\n",
       "      <td>NaN</td>\n",
       "      <td>NO AFFIDAVIT</td>\n",
       "      <td>no affidavit</td>\n",
       "      <td>no affidavit</td>\n",
       "      <td>no affidavit</td>\n",
       "      <td>affidavit</td>\n",
       "    </tr>\n",
       "    <tr>\n",
       "      <th>1</th>\n",
       "      <td>The Compl alleged that his girlfriend, PO Barn...</td>\n",
       "      <td>46505</td>\n",
       "      <td>NaN</td>\n",
       "      <td>NaN</td>\n",
       "      <td>The Compl alleged that his girlfriend PO Barne...</td>\n",
       "      <td>the compl alleged that his girlfriend po barne...</td>\n",
       "      <td>the compl allege that -PRON- girlfriend po bar...</td>\n",
       "      <td>the compl allege that -PRON- girlfriend po bar...</td>\n",
       "      <td>compl girlfriend barnes throw drink face slap</td>\n",
       "    </tr>\n",
       "    <tr>\n",
       "      <th>2</th>\n",
       "      <td>NOT SUSTAINED</td>\n",
       "      <td>46888</td>\n",
       "      <td>22nd</td>\n",
       "      <td>NaN</td>\n",
       "      <td>NOT SUSTAINED</td>\n",
       "      <td>not sustained</td>\n",
       "      <td>not sustain</td>\n",
       "      <td>not sustain</td>\n",
       "      <td>sustain</td>\n",
       "    </tr>\n",
       "    <tr>\n",
       "      <th>3</th>\n",
       "      <td>Punched\\nin his face</td>\n",
       "      <td>46889</td>\n",
       "      <td>22nd</td>\n",
       "      <td>NaN</td>\n",
       "      <td>Punched\\nin his face</td>\n",
       "      <td>punched\\nin his face</td>\n",
       "      <td>punch \\n in -PRON- face</td>\n",
       "      <td>punch \\n in -PRON- face</td>\n",
       "      <td>punch face</td>\n",
       "    </tr>\n",
       "    <tr>\n",
       "      <th>4</th>\n",
       "      <td>(None Entered)</td>\n",
       "      <td>45622</td>\n",
       "      <td>12th</td>\n",
       "      <td>6</td>\n",
       "      <td>(None Entered)</td>\n",
       "      <td>(none entered)</td>\n",
       "      <td>( none enter )</td>\n",
       "      <td>( none enter )</td>\n",
       "      <td>( enter )</td>\n",
       "    </tr>\n",
       "  </tbody>\n",
       "</table>\n",
       "</div>"
      ],
      "text/plain": [
       "                                                summ     id district  \\\n",
       "0                                       NO AFFIDAVIT  46504      NaN   \n",
       "1  The Compl alleged that his girlfriend, PO Barn...  46505      NaN   \n",
       "2                                      NOT SUSTAINED  46888     22nd   \n",
       "3                               Punched\\nin his face  46889     22nd   \n",
       "4                                     (None Entered)  45622     12th   \n",
       "\n",
       "  hospitals                            summary_text_processed1  \\\n",
       "0       NaN                                       NO AFFIDAVIT   \n",
       "1       NaN  The Compl alleged that his girlfriend PO Barne...   \n",
       "2       NaN                                      NOT SUSTAINED   \n",
       "3       NaN                               Punched\\nin his face   \n",
       "4         6                                     (None Entered)   \n",
       "\n",
       "                             summary_text_processed2  \\\n",
       "0                                       no affidavit   \n",
       "1  the compl alleged that his girlfriend po barne...   \n",
       "2                                      not sustained   \n",
       "3                               punched\\nin his face   \n",
       "4                                     (none entered)   \n",
       "\n",
       "                             summary_text_processed3  \\\n",
       "0                                       no affidavit   \n",
       "1  the compl allege that -PRON- girlfriend po bar...   \n",
       "2                                        not sustain   \n",
       "3                            punch \\n in -PRON- face   \n",
       "4                                     ( none enter )   \n",
       "\n",
       "                             summary_text_processed4  \\\n",
       "0                                       no affidavit   \n",
       "1  the compl allege that -PRON- girlfriend po bar...   \n",
       "2                                        not sustain   \n",
       "3                            punch \\n in -PRON- face   \n",
       "4                                     ( none enter )   \n",
       "\n",
       "                          summary_text_processed  \n",
       "0                                      affidavit  \n",
       "1  compl girlfriend barnes throw drink face slap  \n",
       "2                                        sustain  \n",
       "3                                     punch face  \n",
       "4                                      ( enter )  "
      ]
     },
     "execution_count": 7,
     "metadata": {},
     "output_type": "execute_result"
    }
   ],
   "source": [
    "summary_df.head()"
   ]
  },
  {
   "cell_type": "markdown",
   "metadata": {},
   "source": [
    "Creating word vectors:"
   ]
  },
  {
   "cell_type": "code",
   "execution_count": 8,
   "metadata": {
    "pycharm": {
     "name": "#%% Save our emBeds\n"
    }
   },
   "outputs": [],
   "source": [
    "model_new = Word2Vec(text, size=300)\n",
    "model_new.wv.save_word2vec_format('word_embeddings_300d.txt', binary=False)\n",
    "model_new.wv.save_word2vec_format('word_embeddings.bin', binary=True)"
   ]
  },
  {
   "cell_type": "code",
   "execution_count": 9,
   "metadata": {
    "pycharm": {
     "name": "#%%\n"
    }
   },
   "outputs": [
    {
     "name": "stdout",
     "output_type": "stream",
     "text": [
      "[('christ', 0.8132261633872986), ('hospital', 0.7974581122398376), ('ignore', 0.7715891599655151), ('cfd', 0.755982518196106), ('heart', 0.7517737746238708), ('resurrection', 0.7446479797363281), ('treat', 0.7396096587181091), ('mary', 0.7376938462257385), ('mccambry', 0.7344667911529541), ('attention', 0.7287854552268982)]\n"
     ]
    }
   ],
   "source": [
    "print(model_new.wv.most_similar('ambulance'))"
   ]
  },
  {
   "cell_type": "code",
   "execution_count": 10,
   "metadata": {
    "pycharm": {
     "name": "#%%\n"
    }
   },
   "outputs": [
    {
     "name": "stdout",
     "output_type": "stream",
     "text": [
      "Found 18244 unique tokens.\n"
     ]
    }
   ],
   "source": [
    "max_words=10000\n",
    "maxlen=2000\n",
    "tokenize=Tokenizer(num_words=max_words, filters='!\"#$%&()*+,-./:;<=>?@[\\\\]^_`{|}~\\t\\n0123456789', lower=True)\n",
    "tokenize.fit_on_texts(summary_df['summary_text_processed'])\n",
    "sequences = tokenize.texts_to_sequences(summary_df['summary_text_processed'])\n",
    "word_index=tokenize.word_index\n",
    "print('Found %s unique tokens.' % len(word_index))"
   ]
  },
  {
   "cell_type": "code",
   "execution_count": 11,
   "metadata": {
    "pycharm": {
     "name": "#%%\n"
    }
   },
   "outputs": [
    {
     "name": "stdout",
     "output_type": "stream",
     "text": [
      "8\n"
     ]
    }
   ],
   "source": [
    "print(tokenize.word_counts['concussion'])"
   ]
  },
  {
   "cell_type": "code",
   "execution_count": 12,
   "metadata": {},
   "outputs": [
    {
     "name": "stderr",
     "output_type": "stream",
     "text": [
      "C:\\Users\\Hawkins\\anaconda3\\lib\\site-packages\\ipykernel_launcher.py:5: DeprecationWarning: Call to deprecated `most_similar` (Method will be removed in 4.0.0, use self.wv.most_similar() instead).\n",
      "  \"\"\"\n",
      "C:\\Users\\Hawkins\\anaconda3\\lib\\site-packages\\ipykernel_launcher.py:6: DeprecationWarning: Call to deprecated `__getitem__` (Method will be removed in 4.0.0, use self.wv.__getitem__() instead).\n",
      "  \n",
      "C:\\Users\\Hawkins\\anaconda3\\lib\\site-packages\\pandas\\core\\indexing.py:670: SettingWithCopyWarning: \n",
      "A value is trying to be set on a copy of a slice from a DataFrame\n",
      "\n",
      "See the caveats in the documentation: https://pandas.pydata.org/pandas-docs/stable/user_guide/indexing.html#returning-a-view-versus-a-copy\n",
      "  self._setitem_with_indexer(indexer, value)\n"
     ]
    },
    {
     "data": {
      "text/plain": [
       "<Figure size 432x288 with 0 Axes>"
      ]
     },
     "metadata": {},
     "output_type": "display_data"
    },
    {
     "data": {
      "image/png": "[encoded data removed]",
      "text/plain": [
       "<Figure size 576x360 with 1 Axes>"
      ]
     },
     "metadata": {
      "needs_background": "light"
     },
     "output_type": "display_data"
    }
   ],
   "source": [
    "word = \"ambulance\"\n",
    "fig = plt.figure()\n",
    "## word embedding\n",
    "tot_words = [word] + [tupla[0] for tupla in \n",
    "                 model_new.most_similar(word, topn=20)]\n",
    "X = model_new[tot_words]\n",
    "## pca to reduce dimensionality from 300 to 3\n",
    "pca = manifold.TSNE(perplexity=40, n_components=3, init='pca')\n",
    "X = pca.fit_transform(X)\n",
    "## create dtf\n",
    "dtf_ = pd.DataFrame(X, index=tot_words, columns=[\"x\",\"y\",\"z\"])\n",
    "dtf_[\"input\"] = 0\n",
    "dtf_[\"input\"].iloc[0:1] = 1\n",
    "## plot 3d\n",
    "from mpl_toolkits.mplot3d import Axes3D\n",
    "\n",
    "fig=plt.figure(figsize=(8,5))\n",
    "ax = fig.add_subplot(111, projection='3d')\n",
    "ax.scatter(dtf_[dtf_[\"input\"]==0]['x'], \n",
    "           dtf_[dtf_[\"input\"]==0]['y'], \n",
    "           dtf_[dtf_[\"input\"]==0]['z'], c=\"black\")\n",
    "ax.scatter(dtf_[dtf_[\"input\"]==1]['x'], \n",
    "           dtf_[dtf_[\"input\"]==1]['y'], \n",
    "           dtf_[dtf_[\"input\"]==1]['z'], c=\"red\")\n",
    "ax.set(xlabel=None, ylabel=None, zlabel=None, xticklabels=[], \n",
    "       yticklabels=[], zticklabels=[])\n",
    "for label, row in dtf_[[\"x\",\"y\",\"z\"]].iterrows():\n",
    "    x, y, z = row\n",
    "    ax.text(x, y, z, s=label)"
   ]
  },
  {
   "cell_type": "markdown",
   "metadata": {},
   "source": [
    "Labeling Data:"
   ]
  },
  {
   "cell_type": "code",
   "execution_count": 13,
   "metadata": {
    "pycharm": {
     "name": "#%%\n"
    }
   },
   "outputs": [],
   "source": [
    "#find examples with this\n",
    "df=pd.DataFrame()\n",
    "df['summ']=summary_df['summary_text_processed']\n",
    "df['label']=0\n",
    "df['id']=summary_df['id']\n",
    "\n",
    "\n",
    "label_makers=['doctor','medical','hospital','resurrection', 'ambulance', 'ems','diagnose','oemc','diabetes','medicine','asthma','stroger','treatment','pandemic','covenant','health', 'concussion', 'breathing', 'spinal', 'surgery', 'fractured', 'fracture', 'trauma', 'consciousness', 'contusion', 'swell', 'blood', 'gash']\n",
    "for allegation in df.summ:\n",
    "    for word in allegation.split():\n",
    "        if word in label_makers:\n",
    "            df.loc[df.summ==allegation,'label']= 1"
   ]
  },
  {
   "cell_type": "markdown",
   "metadata": {},
   "source": [
    "# Naive Bayes Modeling w/ Bag of Words"
   ]
  },
  {
   "cell_type": "code",
   "execution_count": 14,
   "metadata": {
    "pycharm": {
     "name": "#%%\n"
    }
   },
   "outputs": [
    {
     "name": "stdout",
     "output_type": "stream",
     "text": [
      "                                            summ  label     id\n",
      "0                                      affidavit      0  46504\n",
      "1  compl girlfriend barnes throw drink face slap      0  46505\n",
      "2                                        sustain      0  46888\n",
      "3                                     punch face      0  46889\n",
      "4                                      ( enter )      0  45622\n"
     ]
    }
   ],
   "source": [
    "print(df.head())\n",
    "\n",
    "## split dataset\n",
    "dtf_train, dtf_test = model_selection.train_test_split(df, test_size=0.3)\n",
    "## get target\n",
    "y_train = dtf_train['label'].values\n",
    "y_test = dtf_test['label'].values\n"
   ]
  },
  {
   "cell_type": "code",
   "execution_count": 15,
   "metadata": {},
   "outputs": [],
   "source": [
    "## Count (classic BoW)\n",
    "# vectorizer = feature_extraction.text.CountVectorizer(max_features=10000, ngram_range=(1,2))\n",
    "\n",
    "## Tf-Idf (advanced variant of BoW)\n",
    "vectorizer = feature_extraction.text.TfidfVectorizer(max_features=10000, ngram_range=(1,2))"
   ]
  },
  {
   "cell_type": "code",
   "execution_count": 16,
   "metadata": {},
   "outputs": [],
   "source": [
    "corpus = dtf_train[\"summ\"]\n",
    "vectorizer.fit(corpus)\n",
    "X_train = vectorizer.transform(corpus)\n",
    "dic_vocabulary = vectorizer.vocabulary_"
   ]
  },
  {
   "cell_type": "code",
   "execution_count": 21,
   "metadata": {},
   "outputs": [],
   "source": [
    "classifier = naive_bayes.MultinomialNB()\n",
    "\n",
    "## pipeline\n",
    "model = pipeline.Pipeline([(\"vectorizer\", vectorizer),  \n",
    "                           (\"classifier\", classifier)])\n",
    "## train classifier\n",
    "model[\"classifier\"].fit(X_train, y_train)\n",
    "## test\n",
    "X_test = dtf_test[\"summ\"].values\n",
    "predicted = model.predict(X_test)\n",
    "predicted_prob = model.predict_proba(X_test)[:,1]\n"
   ]
  },
  {
   "cell_type": "code",
   "execution_count": 22,
   "metadata": {},
   "outputs": [
    {
     "name": "stdout",
     "output_type": "stream",
     "text": [
      "              precision    recall  f1-score   support\n",
      "\n",
      "           0       0.98      1.00      0.99     13668\n",
      "           1       0.87      0.27      0.41       402\n",
      "\n",
      "    accuracy                           0.98     14070\n",
      "   macro avg       0.92      0.63      0.70     14070\n",
      "weighted avg       0.98      0.98      0.97     14070\n",
      "\n"
     ]
    },
    {
     "data": {
      "image/png": "[encoded data removed]",
      "text/plain": [
       "<Figure size 432x288 with 2 Axes>"
      ]
     },
     "metadata": {
      "needs_background": "light"
     },
     "output_type": "display_data"
    }
   ],
   "source": [
    "from sklearn.metrics import roc_curve, auc, classification_report, confusion_matrix, ConfusionMatrixDisplay\n",
    "classes = np.unique(y_test)\n",
    "y_test_array = pd.get_dummies(y_test, drop_first=False).values\n",
    "    \n",
    "## Accuracy, Precision, Recall\n",
    "accuracy = metrics.accuracy_score(y_test, predicted)\n",
    "#auc = metrics.roc_auc_score(y_test, predicted_prob)\n",
    "# print(\"Accuracy:\",  round(accuracy,2))\n",
    "# print(\"Auc:\", round(auc,2))\n",
    "# print(\"Detail:\")\n",
    "print(metrics.classification_report(y_test, predicted))\n",
    "    \n",
    "## Plot confusion matrix\n",
    "# Printing Confusion Matrix\n",
    "cm = confusion_matrix(y_test, predicted)\n",
    "target_names = ['No Medical Complaint', 'Medical Complaint']\n",
    "disp = ConfusionMatrixDisplay(cm, display_labels=target_names)\n",
    "disp = disp.plot(cmap='Purples', values_format='.0f')\n",
    "plt.show()"
   ]
  },
  {
   "cell_type": "code",
   "execution_count": 23,
   "metadata": {},
   "outputs": [
    {
     "name": "stdout",
     "output_type": "stream",
     "text": [
      "              precision    recall  f1-score   support\n",
      "\n",
      "           0       1.00      0.91      0.95     13668\n",
      "           1       0.23      0.86      0.36       402\n",
      "\n",
      "    accuracy                           0.91     14070\n",
      "   macro avg       0.61      0.89      0.66     14070\n",
      "weighted avg       0.97      0.91      0.94     14070\n",
      "\n"
     ]
    }
   ],
   "source": [
    "# Printing Classification Report\n",
    "fpr, tpr, thresholds = roc_curve(y_test, predicted_prob)\n",
    "youden_values = list(tpr - fpr)\n",
    "youden_index = youden_values.index(max(youden_values))\n",
    "optimal_threshold = thresholds[youden_index]\n",
    "trans = np.vectorize(lambda x: 1 if x > optimal_threshold else 0)\n",
    "y_pred =  trans(predicted_prob)\n",
    "\n",
    "print(classification_report(y_test, y_pred))"
   ]
  },
  {
   "cell_type": "code",
   "execution_count": 24,
   "metadata": {},
   "outputs": [
    {
     "data": {
      "image/png": "[encoded data removed]",
      "text/plain": [
       "<Figure size 432x288 with 2 Axes>"
      ]
     },
     "metadata": {
      "needs_background": "light"
     },
     "output_type": "display_data"
    }
   ],
   "source": [
    "# Printing Confusion Matrix\n",
    "cm = confusion_matrix(y_test, y_pred)\n",
    "target_names = ['Medical Mention', 'No Medical Mention']\n",
    "disp = ConfusionMatrixDisplay(cm, display_labels=target_names)\n",
    "disp = disp.plot(cmap='Purples', values_format='.0f')\n",
    "plt.show()"
   ]
  },
  {
   "cell_type": "code",
   "execution_count": 25,
   "metadata": {},
   "outputs": [
    {
     "data": {
      "image/png": "[encoded data removed]",
      "text/plain": [
       "<Figure size 432x288 with 1 Axes>"
      ]
     },
     "metadata": {
      "needs_background": "light"
     },
     "output_type": "display_data"
    }
   ],
   "source": [
    "# ROC curve\n",
    "from sklearn.metrics import roc_curve, auc, classification_report\n",
    "\n",
    "# Plotting ROC\n",
    "fpr, tpr, thresholds = roc_curve(y_test, predicted_prob)\n",
    "auc = auc(fpr, tpr)\n",
    "plt.figure(1)\n",
    "plt.plot([0, 1], [0, 1], 'k--')\n",
    "plt.plot(fpr, tpr, label='AUC = {:.3f}'.format(auc))\n",
    "plt.xlabel('1-Specificity')\n",
    "plt.ylabel('Sensitivity')\n",
    "plt.title('ROC curve')\n",
    "plt.legend(loc='lower right')\n",
    "# plt.savefig('/deepcovidxr/Ramsey_Keras/Resnet.pdf')\n",
    "plt.show()"
   ]
  },
  {
   "cell_type": "markdown",
   "metadata": {},
   "source": [
    "# Medical Complaints vs Hospitals per District"
   ]
  },
  {
   "cell_type": "code",
   "execution_count": 27,
   "metadata": {},
   "outputs": [
    {
     "name": "stdout",
     "output_type": "stream",
     "text": [
      "1312\n"
     ]
    }
   ],
   "source": [
    "#find examples with this\n",
    "df=pd.DataFrame()\n",
    "df['summ']=summary_df['summary_text_processed']\n",
    "df['label']=0\n",
    "df['district']=summary_df['district']\n",
    "\n",
    "\n",
    "label_makers=['doctor','medical','hospital','resurrection', 'ambulance', 'ems','diagnose','oemc','diabetes','medicine','asthma','stroger','treatment','pandemic','covenant','health', 'concussion', 'breathing', 'spinal', 'surgery', 'fractured', 'fracture', 'trauma', 'consciousness', 'contusion', 'swell', 'blood', 'gash']\n",
    "for allegation in df.summ:\n",
    "    for word in allegation.split():\n",
    "        if word in label_makers:\n",
    "            df.loc[df.summ==allegation,'label']= 1\n",
    "print(df.label.sum())"
   ]
  },
  {
   "cell_type": "code",
   "execution_count": 28,
   "metadata": {},
   "outputs": [
    {
     "name": "stdout",
     "output_type": "stream",
     "text": [
      "{'1st': [1831, 45, 1], '2nd': [2499, 80, 2], '3rd': [2746, 47, 1], '4th': [2510, 43, 3], '5th': [2350, 51, 1], '6th': [3086, 39, 0], '7th': [2729, 39, 1], '8th': [2686, 55, 1], '9th': [2025, 32, 0], '10th': [1680, 31, 3], '11th': [3131, 43, 3], '12th': [1306, 49, 6], '14th': [1117, 15, 1], '15th': [1746, 17, 1], '16th': [1306, 24, 3], '17th': [775, 18, 1], '18th': [1741, 53, 3], '19th': [1563, 41, 6], '20th': [780, 11, 3], '22nd': [1694, 24, 0], '24th': [1226, 12, 1], '25th': [1980, 50, 1], '31th': [669, 28, 0]}\n"
     ]
    }
   ],
   "source": [
    "df['hospitals']=summary_df['hospitals']\n",
    "district_list={'1st':[0,0,0], '2nd':[0,0,0], '3rd':[0,0,0], '4th':[0,0,0], '5th':[0,0,0], '6th':[0,0,0], '7th':[0,0,0], '8th':[0,0,0], '9th':[0,0,0], '10th':[0,0,0], '11th':[0,0,0], '12th':[0,0,0], '14th':[0,0,0],\n",
    "               '15th':[0,0,0], '16th':[0,0,0] , '17th':[0,0,0], '18th':[0,0,0], '19th':[0,0,0], '20th':[0,0,0], '22nd':[0,0,0],\n",
    "               '24th':[0,0,0],'25th':[0,0,0], '31th':[0,0,0]}\n",
    "df=df.dropna(subset=['district'])\n",
    "\n",
    "for i,line in df.iterrows():\n",
    "    if line['district'] in district_list.keys():\n",
    "        if line['label']==0:\n",
    "            district_list[line['district']][0] += 1\n",
    "            district_list[line['district']][1] += 0\n",
    "        else:\n",
    "            district_list[line['district']][0] += 1\n",
    "            district_list[line['district']][1] += 1\n",
    "        if type(line['hospitals'])==str:\n",
    "            district_list[line['district']][2] = int(line['hospitals'])\n",
    "\n",
    "print(district_list)"
   ]
  },
  {
   "cell_type": "code",
   "execution_count": 29,
   "metadata": {},
   "outputs": [
    {
     "data": {
      "image/png": "[encoded data removed]",
      "text/plain": [
       "<Figure size 432x288 with 1 Axes>"
      ]
     },
     "metadata": {
      "needs_background": "light"
     },
     "output_type": "display_data"
    },
    {
     "name": "stdout",
     "output_type": "stream",
     "text": [
      "Percent PearsonsR 0.3149048889235878 with p value 0.14331758781108853\n"
     ]
    },
    {
     "data": {
      "image/png": "[encoded data removed]",
      "text/plain": [
       "<Figure size 432x288 with 1 Axes>"
      ]
     },
     "metadata": {
      "needs_background": "light"
     },
     "output_type": "display_data"
    },
    {
     "name": "stdout",
     "output_type": "stream",
     "text": [
      "Percent PearsonsR 0.1868903251464633 with p value 0.3931761624336201\n"
     ]
    }
   ],
   "source": [
    "allegations=[]\n",
    "medical=[]\n",
    "hospitals=[]\n",
    "for key, value in district_list.items():\n",
    "    allegations.append(value[0])\n",
    "    medical.append(value[1])\n",
    "    hospitals.append(value[2])\n",
    "\n",
    "\n",
    "hospitals=np.array(hospitals)\n",
    "medical=np.array(medical)\n",
    "allegations=np.array(allegations)\n",
    "y=[]\n",
    "\n",
    "for i in range(0,len(medical)):\n",
    "    y.append(medical[i]/allegations[i])\n",
    "\n",
    "\n",
    "import matplotlib.pyplot as plt\n",
    "from scipy.stats import pearsonr\n",
    "\n",
    "fig=plt.figure()\n",
    "plt.scatter(hospitals,y)\n",
    "m, b = np.polyfit(hospitals, y, 1)\n",
    "coa1=pearsonr(hospitals, y)\n",
    "line, =plt.plot(hospitals, m*hospitals + b)\n",
    "plt.title('Hospitals vs Percent Medical Complaints in a Chicago District')\n",
    "plt.xlabel('Hospitals')\n",
    "plt.ylabel('Percent Medical Complaints')\n",
    "line.set_label(f'PearsonsR {round(coa1[0],3)} p-value {round(coa1[1],3)}')\n",
    "plt.legend()\n",
    "plt.savefig('q3.png')\n",
    "plt.show()\n",
    "print(f'Percent PearsonsR {coa1[0]} with p value {coa1[1]}')\n",
    "\n",
    "fig=plt.figure()\n",
    "plt.scatter(hospitals,medical)\n",
    "plt.title('Hospitals vsMedical Complaints in a Chicago District')\n",
    "m, b = np.polyfit(hospitals, medical, 1)\n",
    "coa2=pearsonr(hospitals, medical)\n",
    "line2, =plt.plot(hospitals, m*hospitals + b)\n",
    "line2.set_label(f'PearsonsR {round(coa2[0],3)} p-value {round(coa2[1],3)}')\n",
    "plt.xlabel('Hospitals')\n",
    "plt.ylabel('Medical Complaints')\n",
    "plt.legend()\n",
    "plt.savefig('q4.png')\n",
    "plt.show()\n",
    "print(f'Percent PearsonsR {coa2[0]} with p value {coa2[1]}')"
   ]
  },
  {
   "cell_type": "code",
   "execution_count": null,
   "metadata": {},
   "outputs": [],
   "source": []
  }
 ],
 "metadata": {
  "kernelspec": {
   "display_name": "Python 3",
   "language": "python",
   "name": "python3"
  },
  "language_info": {
   "codemirror_mode": {
    "name": "ipython",
    "version": 3
   },
   "file_extension": ".py",
   "mimetype": "text/x-python",
   "name": "python",
   "nbconvert_exporter": "python",
   "pygments_lexer": "ipython3",
   "version": "3.7.6"
  }
 },
 "nbformat": 4,
 "nbformat_minor": 1
}
