{
 "cells": [
  {
   "cell_type": "markdown",
   "metadata": {
    "id": "uw9dQd3XEBmD"
   },
   "source": [
    "# Question 1\n",
    "### To classify each officer in a group based on the number of allegations that an officer might be involved in."
   ]
  },
  {
   "cell_type": "code",
   "execution_count": 3,
   "metadata": {
    "colab": {
     "base_uri": "https://localhost:8080/",
     "height": 987
    },
    "executionInfo": {
     "elapsed": 1681,
     "status": "ok",
     "timestamp": 1605137056639,
     "user": {
      "displayName": "Madhav Khanna",
      "photoUrl": "https://lh3.googleusercontent.com/a-/AOh14Gjb9JEDpFp0Z4rcD-xUh8rY2fpvnqLuV5w3vt8CzA=s64",
      "userId": "02896872944875978767"
     },
     "user_tz": 360
    },
    "id": "sWe38uct-oGm",
    "outputId": "84ac59d5-bfb6-4660-a45e-7c7309632f46",
    "pycharm": {
     "is_executing": false
    }
   },
   "outputs": [
    {
     "data": {
      "text/plain": "<Figure size 792x648 with 2 Axes>",
      "image/png": "[encoded data removed]"
     },
     "metadata": {
      "needs_background": "light"
     },
     "output_type": "display_data"
    }
   ],
   "source": [
    "import pandas as pd\n",
    "import numpy as np\n",
    "import matplotlib.pyplot as plt\n",
    "import seaborn as sns\n",
    "\n",
    "train = pd.read_csv(\"./Data/data_officer_1.csv\", skiprows= 0) \n",
    "\n",
    "def correlation_heatmap(train):\n",
    "    # correlations_1 = train.corr()\n",
    "\n",
    "    corr = train.corr()\n",
    "\n",
    "    mask = np.triu(np.ones_like(corr, dtype=bool))\n",
    "\n",
    "    f, ax = plt.subplots(figsize=(11, 9))\n",
    "\n",
    "    cmap = sns.diverging_palette(230, 20, as_cmap=True)\n",
    "    # fig, ax = plt.subplots(figsize=(20,20))\n",
    "    # sns.heatmap(correlations_1, vmax=1.0, center=0, fmt='.2f',\n",
    "    #             square=True, linewidths=.5, annot=True, cbar_kws={\"shrink\": .70})\n",
    "\n",
    "    sns.heatmap(corr, mask=mask, cmap=cmap, vmax=.3, center=0,\n",
    "            square=True, linewidths=.5, cbar_kws={\"shrink\": .5})\n",
    "    \n",
    "    plt.show()\n",
    "\n",
    "correlation_heatmap(train)"
   ]
  },
  {
   "cell_type": "markdown",
   "metadata": {
    "id": "LOnTetXsD_-F"
   },
   "source": [
    "### One Hot Encoding"
   ]
  },
  {
   "cell_type": "code",
   "execution_count": 4,
   "metadata": {
    "colab": {
     "base_uri": "https://localhost:8080/",
     "height": 982
    },
    "executionInfo": {
     "elapsed": 2692,
     "status": "ok",
     "timestamp": 1605137356190,
     "user": {
      "displayName": "Madhav Khanna",
      "photoUrl": "https://lh3.googleusercontent.com/a-/AOh14Gjb9JEDpFp0Z4rcD-xUh8rY2fpvnqLuV5w3vt8CzA=s64",
      "userId": "02896872944875978767"
     },
     "user_tz": 360
    },
    "id": "LDIUKEOsGNUM",
    "outputId": "ee7ee185-99fb-4ee9-a78d-aa879fcc44cf",
    "pycharm": {
     "is_executing": false
    }
   },
   "outputs": [],
   "source": [
    "other =  pd.get_dummies(train, columns=[\"race\", \"gender\"], prefix=[\"race\", \"gender\"])"
   ]
  },
  {
   "cell_type": "markdown",
   "source": [
    "### Taking the mean of the salary to fill the null values in salary"
   ],
   "metadata": {
    "collapsed": false,
    "pycharm": {
     "name": "#%% md\n"
    }
   }
  },
  {
   "cell_type": "code",
   "execution_count": 5,
   "outputs": [
    {
     "data": {
      "text/plain": "allegation_count                           0\nsustained_count                            0\nhonorable_mention_count                    0\nunsustained_count                          0\ndiscipline_count                           0\ncivilian_compliment_count                  0\ntrr_count                                  0\nmajor_award_count                          0\ncurrent_salary                         14029\nrace_Asian/Pacific                         0\nrace_Black                                 0\nrace_Hispanic                              0\nrace_Native American/Alaskan Native        0\nrace_Unknown                               0\nrace_White                                 0\ngender_F                                   0\ngender_M                                   0\ndtype: int64"
     },
     "metadata": {},
     "output_type": "execute_result",
     "execution_count": 5
    }
   ],
   "source": [
    "other.isnull().sum()"
   ],
   "metadata": {
    "collapsed": false,
    "pycharm": {
     "name": "#%%\n",
     "is_executing": false
    }
   }
  },
  {
   "cell_type": "code",
   "execution_count": 6,
   "metadata": {
    "colab": {
     "base_uri": "https://localhost:8080/"
    },
    "executionInfo": {
     "elapsed": 456,
     "status": "ok",
     "timestamp": 1605137356559,
     "user": {
      "displayName": "Madhav Khanna",
      "photoUrl": "https://lh3.googleusercontent.com/a-/AOh14Gjb9JEDpFp0Z4rcD-xUh8rY2fpvnqLuV5w3vt8CzA=s64",
      "userId": "02896872944875978767"
     },
     "user_tz": 360
    },
    "id": "ec-LrB8n9BHJ",
    "outputId": "d0c00d7b-0217-42c1-c466-276ec5129ec2",
    "pycharm": {
     "is_executing": false
    }
   },
   "outputs": [
    {
     "data": {
      "text/plain": "allegation_count                       0\nsustained_count                        0\nhonorable_mention_count                0\nunsustained_count                      0\ndiscipline_count                       0\ncivilian_compliment_count              0\ntrr_count                              0\nmajor_award_count                      0\ncurrent_salary                         0\nrace_Asian/Pacific                     0\nrace_Black                             0\nrace_Hispanic                          0\nrace_Native American/Alaskan Native    0\nrace_Unknown                           0\nrace_White                             0\ngender_F                               0\ngender_M                               0\ndtype: int64"
     },
     "metadata": {},
     "output_type": "execute_result",
     "execution_count": 6
    }
   ],
   "source": [
    "salary_mean = other.current_salary.mean()\n",
    "\n",
    "other.current_salary.fillna(salary_mean, inplace = True)\n",
    "\n",
    "other.isnull().sum()"
   ]
  },
  {
   "cell_type": "code",
   "execution_count": 7,
   "metadata": {
    "colab": {
     "base_uri": "https://localhost:8080/",
     "height": 1000
    },
    "executionInfo": {
     "elapsed": 2543,
     "status": "ok",
     "timestamp": 1605125983752,
     "user": {
      "displayName": "Madhav Khanna",
      "photoUrl": "https://lh3.googleusercontent.com/a-/AOh14Gjb9JEDpFp0Z4rcD-xUh8rY2fpvnqLuV5w3vt8CzA=s64",
      "userId": "02896872944875978767"
     },
     "user_tz": 360
    },
    "id": "RKpzjYrbbEmW",
    "outputId": "b886d7eb-7f5f-4181-b4ad-b682bc73e300",
    "pycharm": {
     "is_executing": false
    }
   },
   "outputs": [
    {
     "data": {
      "text/plain": "<Figure size 792x648 with 2 Axes>",
      "image/png": "[encoded data removed]"
     },
     "metadata": {
      "needs_background": "light"
     },
     "output_type": "display_data"
    }
   ],
   "source": [
    "correlation_heatmap(other)"
   ]
  },
  {
   "cell_type": "code",
   "execution_count": 8,
   "metadata": {
    "id": "bdEq8c53-LqA",
    "pycharm": {
     "is_executing": false
    }
   },
   "outputs": [
    {
     "name": "stderr",
     "text": [
      "C:\\Users\\madha\\anaconda3\\envs\\CP4\\lib\\site-packages\\pandas\\core\\indexing.py:1596: SettingWithCopyWarning: \n",
      "A value is trying to be set on a copy of a slice from a DataFrame.\n",
      "Try using .loc[row_indexer,col_indexer] = value instead\n",
      "\n",
      "See the caveats in the documentation: https://pandas.pydata.org/pandas-docs/stable/user_guide/indexing.html#returning-a-view-versus-a-copy\n",
      "  self.obj[key] = _infer_fill_value(value)\n",
      "C:\\Users\\madha\\anaconda3\\envs\\CP4\\lib\\site-packages\\pandas\\core\\indexing.py:1763: SettingWithCopyWarning: \n",
      "A value is trying to be set on a copy of a slice from a DataFrame.\n",
      "Try using .loc[row_indexer,col_indexer] = value instead\n",
      "\n",
      "See the caveats in the documentation: https://pandas.pydata.org/pandas-docs/stable/user_guide/indexing.html#returning-a-view-versus-a-copy\n",
      "  isetter(loc, value)\n",
      "C:\\Users\\madha\\anaconda3\\envs\\CP4\\lib\\site-packages\\pandas\\core\\indexing.py:1763: SettingWithCopyWarning: \n",
      "A value is trying to be set on a copy of a slice from a DataFrame.\n",
      "Try using .loc[row_indexer,col_indexer] = value instead\n",
      "\n",
      "See the caveats in the documentation: https://pandas.pydata.org/pandas-docs/stable/user_guide/indexing.html#returning-a-view-versus-a-copy\n",
      "  isetter(loc, value)\n",
      "C:\\Users\\madha\\anaconda3\\envs\\CP4\\lib\\site-packages\\pandas\\core\\indexing.py:1763: SettingWithCopyWarning: \n",
      "A value is trying to be set on a copy of a slice from a DataFrame.\n",
      "Try using .loc[row_indexer,col_indexer] = value instead\n",
      "\n",
      "See the caveats in the documentation: https://pandas.pydata.org/pandas-docs/stable/user_guide/indexing.html#returning-a-view-versus-a-copy\n",
      "  isetter(loc, value)\n"
     ],
     "output_type": "stream"
    }
   ],
   "source": [
    "correalted_df = other[['allegation_count', 'sustained_count', 'honorable_mention_count',\n",
    "       'unsustained_count', 'discipline_count', 'civilian_compliment_count',\n",
    "       'trr_count', 'major_award_count', 'current_salary']]\n",
    "\n",
    "correalted_df.loc[correalted_df.allegation_count <= 1, 'allegation_class'] = 0\n",
    "correalted_df.loc[correalted_df.allegation_count > 1, 'allegation_class'] = 1\n",
    "correalted_df.loc[correalted_df.allegation_count > 7, 'allegation_class'] = 2"
   ]
  },
  {
   "cell_type": "code",
   "execution_count": 9,
   "metadata": {
    "pycharm": {
     "is_executing": false
    }
   },
   "outputs": [
    {
     "data": {
      "text/plain": "0.0    13534\n2.0    11003\n1.0     9302\nName: allegation_class, dtype: int64"
     },
     "metadata": {},
     "output_type": "execute_result",
     "execution_count": 9
    }
   ],
   "source": [
    "correalted_df.allegation_class.value_counts()"
   ]
  },
  {
   "cell_type": "code",
   "execution_count": 10,
   "metadata": {
    "id": "qV9H0ldI-k3w",
    "pycharm": {
     "is_executing": false
    }
   },
   "outputs": [],
   "source": [
    "X = correalted_df[['sustained_count', 'honorable_mention_count',\n",
    "       'unsustained_count', 'discipline_count', 'civilian_compliment_count',\n",
    "       'trr_count', 'major_award_count', 'current_salary']]\n",
    "y = correalted_df[['allegation_class']]\n",
    "\n",
    "from sklearn.model_selection import train_test_split\n",
    "X_train, X_test, y_train, y_test = train_test_split(X, y, test_size=0.33, random_state=42)"
   ]
  },
  {
   "cell_type": "markdown",
   "metadata": {
    "colab": {
     "base_uri": "https://localhost:8080/"
    },
    "executionInfo": {
     "elapsed": 862,
     "status": "ok",
     "timestamp": 1605129674952,
     "user": {
      "displayName": "Madhav Khanna",
      "photoUrl": "https://lh3.googleusercontent.com/a-/AOh14Gjb9JEDpFp0Z4rcD-xUh8rY2fpvnqLuV5w3vt8CzA=s64",
      "userId": "02896872944875978767"
     },
     "user_tz": 360
    },
    "id": "SfuyhjxPBJ0H",
    "outputId": "ac33b768-2cea-4b41-b862-ce8452c8b88d",
    "pycharm": {
     "is_executing": false,
     "name": "#%% md\n"
    }
   },
   "source": [
    "## Model: Decision Tree Classifier"
   ]
  },
  {
   "cell_type": "code",
   "execution_count": 11,
   "outputs": [
    {
     "name": "stderr",
     "text": [
      "C:\\Users\\madha\\anaconda3\\envs\\CP4\\lib\\site-packages\\sklearn\\model_selection\\_split.py:672: UserWarning: The least populated class in y has only 1 members, which is less than n_splits=10.\n",
      "  % (min_groups, self.n_splits)), UserWarning)\n"
     ],
     "output_type": "stream"
    },
    {
     "data": {
      "text/plain": "DecisionTreeClassifier(max_depth=4)"
     },
     "metadata": {},
     "output_type": "execute_result",
     "execution_count": 11
    }
   ],
   "source": [
    "from sklearn.model_selection import cross_val_score\n",
    "from sklearn.tree import DecisionTreeClassifier\n",
    "clf = DecisionTreeClassifier(max_depth=4)\n",
    "cross_val_score(clf, correalted_df, correalted_df['allegation_count'], cv=10)\n",
    "\n",
    "clf.fit(X_train,y_train)"
   ],
   "metadata": {
    "collapsed": false,
    "pycharm": {
     "name": "#%%\n",
     "is_executing": false
    }
   }
  },
  {
   "cell_type": "markdown",
   "source": [
    "### Exporting Decision Tree for Visualization"
   ],
   "metadata": {
    "collapsed": false,
    "pycharm": {
     "name": "#%% md\n"
    }
   }
  },
  {
   "cell_type": "code",
   "execution_count": 12,
   "metadata": {
    "id": "b6dLTmc1HKAR",
    "pycharm": {
     "is_executing": false
    }
   },
   "outputs": [],
   "source": [
    "from sklearn.tree import export_graphviz  \n",
    "export_graphviz(clf, out_file ='./Results/dtree_1.dot', \n",
    "                feature_names = X_train.columns)  "
   ]
  },
  {
   "cell_type": "markdown",
   "source": [
    "### Accuracy  (Decision Tree)"
   ],
   "metadata": {
    "collapsed": false,
    "pycharm": {
     "name": "#%% md\n"
    }
   }
  },
  {
   "cell_type": "code",
   "execution_count": 13,
   "metadata": {
    "pycharm": {
     "is_executing": false
    }
   },
   "outputs": [
    {
     "name": "stdout",
     "text": [
      "Accuracy =  0.8481239365989075\n"
     ],
     "output_type": "stream"
    }
   ],
   "source": [
    "from sklearn.metrics import accuracy_score\n",
    "y_pred = clf.predict(X_test)\n",
    "print(\"Accuracy = \", accuracy_score(y_test, y_pred) )"
   ]
  },
  {
   "cell_type": "markdown",
   "source": [
    "### Confusion Matrix (Decision Tree)"
   ],
   "metadata": {
    "collapsed": false,
    "pycharm": {
     "name": "#%% md\n"
    }
   }
  },
  {
   "cell_type": "code",
   "execution_count": 14,
   "metadata": {
    "pycharm": {
     "is_executing": false,
     "name": "#%%\n"
    }
   },
   "outputs": [
    {
     "data": {
      "text/plain": "<Figure size 1440x1440 with 0 Axes>"
     },
     "metadata": {},
     "output_type": "display_data"
    },
    {
     "name": "stdout",
     "text": [
      "[[3993  440    0]\n",
      " [ 336 2397  335]\n",
      " [   4  581 3081]]\n"
     ],
     "output_type": "stream"
    }
   ],
   "source": [
    "from sklearn.metrics import confusion_matrix\n",
    "plt.figure(figsize=(20,20))\n",
    "cm = confusion_matrix(y_test, y_pred)\n",
    "plt.show()\n",
    "print(cm)\n"
   ]
  },
  {
   "cell_type": "markdown",
   "metadata": {
    "pycharm": {
     "is_executing": false,
     "name": "#%% md\n"
    }
   },
   "source": [
    "### Classification Report (Decision Tree)"
   ]
  },
  {
   "cell_type": "code",
   "execution_count": 15,
   "metadata": {
    "pycharm": {
     "is_executing": false
    }
   },
   "outputs": [
    {
     "name": "stdout",
     "text": [
      "              precision    recall  f1-score   support\n",
      "\n",
      "         0.0       0.92      0.90      0.91      4433\n",
      "         1.0       0.70      0.78      0.74      3068\n",
      "         2.0       0.90      0.84      0.87      3666\n",
      "\n",
      "    accuracy                           0.85     11167\n",
      "   macro avg       0.84      0.84      0.84     11167\n",
      "weighted avg       0.85      0.85      0.85     11167\n",
      "\n"
     ],
     "output_type": "stream"
    }
   ],
   "source": [
    "from sklearn.metrics import classification_report\n",
    "\n",
    "print(classification_report(y_test, y_pred))"
   ]
  },
  {
   "cell_type": "markdown",
   "source": [
    "## Model : Random Forest Classifier"
   ],
   "metadata": {
    "collapsed": false,
    "pycharm": {
     "name": "#%% md\n"
    }
   }
  },
  {
   "cell_type": "code",
   "execution_count": 16,
   "metadata": {
    "pycharm": {
     "is_executing": false
    }
   },
   "outputs": [
    {
     "name": "stderr",
     "text": [
      "C:\\Users\\madha\\anaconda3\\envs\\CP4\\lib\\site-packages\\ipykernel_launcher.py:3: DataConversionWarning: A column-vector y was passed when a 1d array was expected. Please change the shape of y to (n_samples,), for example using ravel().\n",
      "  This is separate from the ipykernel package so we can avoid doing imports until\n"
     ],
     "output_type": "stream"
    }
   ],
   "source": [
    "from sklearn.ensemble import RandomForestClassifier\n",
    "clf_RF = RandomForestClassifier(max_depth=6, random_state=0)\n",
    "clf_RF.fit(X_train,y_train)\n",
    "\n",
    "y_pred_RF = clf_RF.predict(X_test)"
   ]
  },
  {
   "cell_type": "markdown",
   "source": [
    "### Accuracy  (Random Forest Classifier)"
   ],
   "metadata": {
    "collapsed": false,
    "pycharm": {
     "name": "#%% md\n"
    }
   }
  },
  {
   "cell_type": "code",
   "execution_count": 17,
   "outputs": [
    {
     "data": {
      "text/plain": "0.8748097071729202"
     },
     "metadata": {},
     "output_type": "execute_result",
     "execution_count": 17
    }
   ],
   "source": [
    "accuracy_score(y_test, y_pred_RF) "
   ],
   "metadata": {
    "collapsed": false,
    "pycharm": {
     "name": "#%%\n",
     "is_executing": false
    }
   }
  },
  {
   "cell_type": "markdown",
   "source": [
    "### Classification Report (Random Forest Classifier)"
   ],
   "metadata": {
    "collapsed": false,
    "pycharm": {
     "name": "#%% md\n"
    }
   }
  },
  {
   "cell_type": "code",
   "execution_count": 18,
   "metadata": {
    "pycharm": {
     "is_executing": false
    }
   },
   "outputs": [
    {
     "name": "stdout",
     "text": [
      "              precision    recall  f1-score   support\n",
      "\n",
      "         0.0       0.92      0.93      0.92      4433\n",
      "         1.0       0.77      0.78      0.77      3068\n",
      "         2.0       0.91      0.89      0.90      3666\n",
      "\n",
      "    accuracy                           0.87     11167\n",
      "   macro avg       0.87      0.87      0.87     11167\n",
      "weighted avg       0.88      0.87      0.88     11167\n",
      "\n"
     ],
     "output_type": "stream"
    }
   ],
   "source": [
    "print(classification_report(y_test, y_pred_RF))\n"
   ]
  },
  {
   "cell_type": "markdown",
   "metadata": {
    "pycharm": {
     "is_executing": false,
     "name": "#%% md\n"
    }
   },
   "source": [
    "## Model : GridSearch CV"
   ]
  },
  {
   "cell_type": "code",
   "execution_count": 19,
   "outputs": [],
   "source": [
    "from sklearn.model_selection import GridSearchCV\n",
    "parameters = {'max_depth': np.linspace(1, 10, num=10).astype(int), 'max_leaf_nodes': np.linspace(2, 31, num=30).astype(int)}\n",
    "model = DecisionTreeClassifier()\n",
    "clf_GSCV = GridSearchCV(model, parameters, return_train_score = True, \n",
    "                        scoring='accuracy', \n",
    "                        cv=5)\n",
    "                       \n",
    "                       \n",
    "clf_GSCV.fit(X, y)\n",
    "y_pred_GSCV = clf_GSCV.predict(X_test)"
   ],
   "metadata": {
    "collapsed": false,
    "pycharm": {
     "name": "#%%\n",
     "is_executing": false
    }
   }
  },
  {
   "cell_type": "markdown",
   "metadata": {
    "pycharm": {
     "is_executing": false,
     "name": "#%% md\n"
    }
   },
   "source": [
    "### Accuracy (GridSearch CV)"
   ]
  },
  {
   "cell_type": "code",
   "execution_count": 20,
   "outputs": [
    {
     "name": "stdout",
     "text": [
      "best accuracy:  0.8642428584221367\n"
     ],
     "output_type": "stream"
    },
    {
     "data": {
      "text/plain": "DecisionTreeClassifier(max_depth=6, max_leaf_nodes=31)"
     },
     "metadata": {},
     "output_type": "execute_result",
     "execution_count": 20
    }
   ],
   "source": [
    "print('best accuracy: ',accuracy_score(y_test, y_pred_GSCV) )\n",
    "clf_GSCV.best_estimator_"
   ],
   "metadata": {
    "collapsed": false,
    "pycharm": {
     "name": "#%% \n",
     "is_executing": false
    }
   }
  },
  {
   "cell_type": "markdown",
   "metadata": {
    "pycharm": {
     "is_executing": false,
     "name": "#%% md\n"
    }
   },
   "source": [
    "### Classification Report (GridSearch CV)"
   ]
  },
  {
   "cell_type": "code",
   "execution_count": 21,
   "outputs": [
    {
     "name": "stdout",
     "text": [
      "              precision    recall  f1-score   support\n",
      "\n",
      "         0.0       0.90      0.95      0.92      4433\n",
      "         1.0       0.75      0.77      0.76      3068\n",
      "         2.0       0.93      0.84      0.88      3666\n",
      "\n",
      "    accuracy                           0.86     11167\n",
      "   macro avg       0.86      0.85      0.85     11167\n",
      "weighted avg       0.87      0.86      0.86     11167\n",
      "\n"
     ],
     "output_type": "stream"
    }
   ],
   "source": [
    "print(classification_report(y_test, y_pred_GSCV))"
   ],
   "metadata": {
    "collapsed": false,
    "pycharm": {
     "name": "#%%\n",
     "is_executing": false
    }
   }
  },
  {
   "cell_type": "markdown",
   "source": [
    "## Model: Gradient Boosting Classifier"
   ],
   "metadata": {
    "collapsed": false,
    "pycharm": {
     "name": "#%% md\n"
    }
   }
  },
  {
   "cell_type": "code",
   "execution_count": 22,
   "outputs": [
    {
     "name": "stderr",
     "text": [
      "C:\\Users\\madha\\anaconda3\\envs\\CP4\\lib\\site-packages\\sklearn\\utils\\validation.py:72: DataConversionWarning: A column-vector y was passed when a 1d array was expected. Please change the shape of y to (n_samples, ), for example using ravel().\n",
      "  return f(**kwargs)\n"
     ],
     "output_type": "stream"
    }
   ],
   "source": [
    "from sklearn.ensemble import GradientBoostingClassifier\n",
    "clf_2 = GradientBoostingClassifier(random_state = 0)\n",
    "clf_2.fit(X_train, y_train)\n",
    "y_pred = clf_2.predict(X_test)"
   ],
   "metadata": {
    "collapsed": false,
    "pycharm": {
     "name": "#%%\n",
     "is_executing": false
    }
   }
  },
  {
   "cell_type": "markdown",
   "source": [
    "### Cross Validation Score "
   ],
   "metadata": {
    "collapsed": false,
    "pycharm": {
     "name": "#%% md\n",
     "is_executing": false
    }
   }
  },
  {
   "cell_type": "code",
   "execution_count": 23,
   "outputs": [
    {
     "data": {
      "text/plain": "array([0.87421665, 0.86660698, 0.87953426, 0.87460815, 0.88222123])"
     },
     "metadata": {},
     "output_type": "execute_result",
     "execution_count": 23
    }
   ],
   "source": [
    "cross_val_score(clf_2, y_test, y_pred)\n"
   ],
   "metadata": {
    "collapsed": false,
    "pycharm": {
     "name": "#%%\n",
     "is_executing": false
    }
   }
  },
  {
   "cell_type": "markdown",
   "source": [
    "### Mean Accuracy"
   ],
   "metadata": {
    "collapsed": false,
    "pycharm": {
     "name": "#%% md\n",
     "is_executing": false
    }
   }
  },
  {
   "cell_type": "code",
   "execution_count": 24,
   "outputs": [
    {
     "data": {
      "text/plain": "0.8754365541327125"
     },
     "metadata": {},
     "output_type": "execute_result",
     "execution_count": 24
    }
   ],
   "source": [
    "clf_2.score(X_test, y_test)\n"
   ],
   "metadata": {
    "collapsed": false,
    "pycharm": {
     "name": "#%%\n",
     "is_executing": false
    }
   }
  }
 ],
 "metadata": {
  "colab": {
   "name": "Untitled0.ipynb",
   "provenance": [],
   "toc_visible": true
  },
  "kernelspec": {
   "name": "pycharm-be3390f5",
   "language": "python",
   "display_name": "PyCharm (CP4)"
  },
  "language_info": {
   "codemirror_mode": {
    "name": "ipython",
    "version": 3
   },
   "file_extension": ".py",
   "mimetype": "text/x-python",
   "name": "python",
   "nbconvert_exporter": "python",
   "pygments_lexer": "ipython3",
   "version": "3.7.3"
  },
  "pycharm": {
   "stem_cell": {
    "cell_type": "raw",
    "source": [],
    "metadata": {
     "collapsed": false
    }
   }
  }
 },
 "nbformat": 4,
 "nbformat_minor": 1
}