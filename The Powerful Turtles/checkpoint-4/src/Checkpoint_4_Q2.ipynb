{
  "nbformat": 4,
  "nbformat_minor": 0,
  "metadata": {
    "colab": {
      "name": "Checkpoint 4 Q2",
      "provenance": [],
      "collapsed_sections": []
    },
    "kernelspec": {
      "name": "python3",
      "display_name": "Python 3"
    }
  },
  "cells": [
    {
      "cell_type": "code",
      "metadata": {
        "id": "JbNnBmOYsDIh"
      },
      "source": [
        "import autograd.numpy as np\n",
        "import matplotlib.pyplot as plt\n",
        "import pandas as pd\n",
        "import datetime\n",
        "from sklearn.model_selection import train_test_split"
      ],
      "execution_count": null,
      "outputs": []
    },
    {
      "cell_type": "code",
      "metadata": {
        "id": "Zm7DGHmIseMM"
      },
      "source": [
        "columns=['id', 'date', 'year','month','officer_race', 'officer_race_percentage','complainant_race','complainant_race_percentage']\n",
        "df = pd.read_csv('both_percentage_year.csv', names = columns)\n",
        "df['date'] = pd.to_datetime(df['date'])\n",
        "df = df.drop_duplicates()"
      ],
      "execution_count": null,
      "outputs": []
    },
    {
      "cell_type": "code",
      "metadata": {
        "id": "zf6RdJLCMBKK"
      },
      "source": [
        "# plt.figure(figsize=(20,20))\n",
        "# plt.scatter(df['date'],(df['officer_race_percentage']))"
      ],
      "execution_count": null,
      "outputs": []
    },
    {
      "cell_type": "markdown",
      "metadata": {
        "id": "lck3nZo0xJvu"
      },
      "source": [
        "# Start"
      ]
    },
    {
      "cell_type": "code",
      "metadata": {
        "id": "5wDZpXoCwTtj"
      },
      "source": [
        "# innstall java\n",
        "!apt-get install openjdk-8-jdk-headless -qq > /dev/null\n",
        "\n",
        "# install spark (change the version number if needed)\n",
        "!wget -q https://archive.apache.org/dist/spark/spark-3.0.0/spark-3.0.0-bin-hadoop3.2.tgz\n",
        "\n",
        "# unzip the spark file to the current folder\n",
        "!tar xf spark-3.0.0-bin-hadoop3.2.tgz\n",
        "\n",
        "\n",
        "# install findspark using pip\n",
        "!pip install -q findspark\n"
      ],
      "execution_count": null,
      "outputs": []
    },
    {
      "cell_type": "code",
      "metadata": {
        "id": "0dcuDJBmxey6"
      },
      "source": [
        "# set your spark folder to your system path environment. \n",
        "import os\n",
        "os.environ[\"JAVA_HOME\"] = \"/usr/lib/jvm/java-8-openjdk-amd64\"\n",
        "os.environ[\"SPARK_HOME\"] = \"/content/spark-3.0.0-bin-hadoop3.2\""
      ],
      "execution_count": null,
      "outputs": []
    },
    {
      "cell_type": "code",
      "metadata": {
        "id": "cR5r9GJoxt_r"
      },
      "source": [
        "import findspark\n",
        "findspark.init()\n",
        "\n",
        "from pyspark.sql import SparkSession\n",
        "spark = SparkSession.builder.master(\"local[*]\").getOrCreate()"
      ],
      "execution_count": null,
      "outputs": []
    },
    {
      "cell_type": "code",
      "metadata": {
        "id": "h3FuW1FvxwAB"
      },
      "source": [
        "import pyspark\n",
        "from pyspark.sql import SparkSession\n",
        "from pyspark.conf import SparkConf\n",
        "from pyspark.sql.types import * \n",
        "import pyspark.sql.functions as F\n",
        "from pyspark.sql.functions import col, asc,desc\n",
        "import matplotlib.pyplot as plt\n",
        "import numpy as np\n",
        "import seaborn as sns\n",
        "from pyspark.sql import SQLContext\n",
        "import pandas as pd\n",
        "from pyspark.ml.feature import OneHotEncoder, StringIndexer, VectorAssembler,StandardScaler\n",
        "from pyspark.ml import Pipeline\n",
        "from sklearn.metrics import confusion_matrix"
      ],
      "execution_count": null,
      "outputs": []
    },
    {
      "cell_type": "code",
      "metadata": {
        "id": "i2MSA0d7xyCu"
      },
      "source": [
        "# df=spark.read \\\n",
        "#  .option(\"header\",\"True\")\\\n",
        "#  .option(\"inferSchema\",\"True\")\\\n",
        "#  .option(\"sep\",\",\")\\\n",
        "#  .csv(\"both_percentage_year.csv\")\n",
        "# print(\"There are\",df.count(),\"rows\",len(df.columns),\n",
        "#       \"columns\" ,\"in the data.\")\n",
        "df_new = spark.createDataFrame(df)"
      ],
      "execution_count": null,
      "outputs": []
    },
    {
      "cell_type": "code",
      "metadata": {
        "id": "dgNxsRJUx7nb",
        "outputId": "be94cba9-abfa-4fcd-d465-7d7fe49e4249",
        "colab": {
          "base_uri": "https://localhost:8080/"
        }
      },
      "source": [
        "df_new.show(30)"
      ],
      "execution_count": null,
      "outputs": [
        {
          "output_type": "stream",
          "text": [
            "+-------+-------------------+----+-----+------------+-----------------------+----------------+---------------------------+\n",
            "|     id|               date|year|month|officer_race|officer_race_percentage|complainant_race|complainant_race_percentage|\n",
            "+-------+-------------------+----+-----+------------+-----------------------+----------------+---------------------------+\n",
            "|1000033|2006-09-27 00:00:00|2006|    9|       Black|     0.9685877579512238|           Black|         0.9685877579512238|\n",
            "|1000033|2006-09-27 00:00:00|2006|    9|       Black|     0.9745049041732258|           Black|         0.9745049041732258|\n",
            "|1000062|2006-09-27 00:00:00|2006|    9|    Hispanic|   0.014926563434571676|           Black|         0.9438426264371635|\n",
            "|1000062|2006-09-27 00:00:00|2006|    9|    Hispanic|   0.011067829097879182|           Black|         0.9607679465776294|\n",
            "|1000069|2006-09-28 00:00:00|2006|    9|    Hispanic|     0.3310341052170581|           White|         0.4049065840821466|\n",
            "|1000069|2006-09-28 00:00:00|2006|    9|    Hispanic|     0.5201141589863846|           White|       0.053771063969024376|\n",
            "|1000102|2006-09-29 00:00:00|2006|    9|       White|     0.7498082535634955|        Hispanic|        0.09973304911697033|\n",
            "|1000102|2006-09-29 00:00:00|2006|    9|       White|     0.7960941636459903|        Hispanic|        0.07254714291532602|\n",
            "|1000150|2006-10-01 00:00:00|2006|   10|       White|    0.20815125337041634|           White|        0.20815125337041634|\n",
            "|1000150|2006-10-01 00:00:00|2006|   10|       White|     0.4755628555404214|           White|         0.4755628555404214|\n",
            "|1000161|2006-10-02 00:00:00|2006|   10|       White|     0.7498082535634955|           Black|        0.06626458019981472|\n",
            "|1000161|2006-10-02 00:00:00|2006|   10|       White|     0.5508279376824999|           Black|        0.20757386147233256|\n",
            "|1000166|2006-10-02 00:00:00|2006|   10|       White|    0.14713591322086428|           Black|        0.11527775255597725|\n",
            "|1000166|2006-10-02 00:00:00|2006|   10|       White|    0.12399289243726115|           Black|         0.2393204001655186|\n",
            "|1000168|2006-10-02 00:00:00|2006|   10|       White|    0.18595123586793655|           White|        0.18595123586793655|\n",
            "|1000168|2006-10-02 00:00:00|2006|   10|       White|    0.10652954780298184|           White|        0.10652954780298184|\n",
            "|1000175|2006-10-02 00:00:00|2006|   10|    Hispanic|      0.572696291184678|           Black|        0.11527775255597725|\n",
            "|1000175|2006-10-02 00:00:00|2006|   10|    Hispanic|      0.608280797410121|           Black|         0.2393204001655186|\n",
            "|1000175|2006-10-02 00:00:00|2006|   10|       White|    0.14713591322086428|           Black|        0.11527775255597725|\n",
            "|1000175|2006-10-02 00:00:00|2006|   10|       White|    0.12399289243726115|           Black|         0.2393204001655186|\n",
            "|1000308|2006-10-08 00:00:00|2006|   10|       Black|    0.18017658697573294|           White|         0.4049065840821466|\n",
            "|1000308|2006-10-08 00:00:00|2006|   10|       Black|    0.07555327054754504|           White|         0.5829730550816761|\n",
            "|1000431|2006-10-12 00:00:00|2006|   10|       White|    0.01294438707774008|           Black|         0.9576633721787874|\n",
            "|1000431|2006-10-12 00:00:00|2006|   10|       White|     0.3419919365122963|           Black|         0.6091170382868522|\n",
            "|1000440|2006-10-12 00:00:00|2006|   10|       White|   0.022052690468924833|           Black|         0.9356118400976504|\n",
            "|1000440|2006-10-12 00:00:00|2006|   10|       White|    0.08031559781509205|           Black|         0.6182399352619866|\n",
            "|1000648|2006-10-21 00:00:00|2006|   10|       White|     0.7155907643126321|           White|         0.7155907643126321|\n",
            "|1000648|2006-10-21 00:00:00|2006|   10|       White|     0.7554446732341658|           White|         0.7554446732341658|\n",
            "|1000683|2006-10-22 00:00:00|2006|   10|       White|      0.036411980388338|           Black|         0.3339740712828025|\n",
            "|1000683|2006-10-22 00:00:00|2006|   10|       White|    0.02299013493593378|           Black|          0.890038553123937|\n",
            "+-------+-------------------+----+-----+------------+-----------------------+----------------+---------------------------+\n",
            "only showing top 30 rows\n",
            "\n"
          ],
          "name": "stdout"
        }
      ]
    },
    {
      "cell_type": "markdown",
      "metadata": {
        "id": "PVoZ9Kyv7Vcz"
      },
      "source": [
        "Black officer and Hispanic complainant"
      ]
    },
    {
      "cell_type": "code",
      "metadata": {
        "id": "4sPht11AylIV"
      },
      "source": [
        "df_Black = df_new.filter(df_new.officer_race == 'Black')"
      ],
      "execution_count": null,
      "outputs": []
    },
    {
      "cell_type": "code",
      "metadata": {
        "id": "TyTpR12vvqQe"
      },
      "source": [
        "df_Black_His = df_Black.filter(df_Black.complainant_race == 'Hispanic')"
      ],
      "execution_count": null,
      "outputs": []
    },
    {
      "cell_type": "code",
      "metadata": {
        "id": "g2epy6FSwnGz"
      },
      "source": [
        "import matplotlib.pyplot as plt\n",
        "officer = np.array(df_Black_His.select('officer_race_percentage').collect())\n",
        "complainant = np.array(df_Black_His.select('complainant_race_percentage').collect())\n",
        "# plt.scatter(df_Black_His.select('officer_race_percentage'), df_Black_His.select('complainant_race_percentage'))"
      ],
      "execution_count": null,
      "outputs": []
    },
    {
      "cell_type": "code",
      "metadata": {
        "id": "h23BfP4kxKM6",
        "outputId": "41d890ff-e97d-472e-9016-85601c3e3a8a",
        "colab": {
          "base_uri": "https://localhost:8080/",
          "height": 298
        }
      },
      "source": [
        "# plt.scatter(officer, complainant)\n",
        "circle1 = plt.Circle((0.4745335168673034, 0.19422235088111595),0.16118904844491777, color='r')\n",
        "fig, ax = plt.subplots() \n",
        "ax.add_artist(circle1)\n",
        "ax.scatter(officer, complainant)\n",
        "ax.set_xlabel('black_officer_race_percentage')\n",
        "ax.set_ylabel('hispanic_complainant_race_percentage')"
      ],
      "execution_count": null,
      "outputs": [
        {
          "output_type": "execute_result",
          "data": {
            "text/plain": [
              "Text(0, 0.5, 'hispanic_complainant_race_percentage')"
            ]
          },
          "metadata": {
            "tags": []
          },
          "execution_count": 23
        },
        {
          "output_type": "display_data",
          "data": {
            "image/png": "[encoded data removed]",
            "text/plain": [
              "<Figure size 432x288 with 1 Axes>"
            ]
          },
          "metadata": {
            "tags": [],
            "needs_background": "light"
          }
        }
      ]
    },
    {
      "cell_type": "code",
      "metadata": {
        "id": "V2f2B9ACykr3"
      },
      "source": [
        "i = 0\n",
        "ans = []\n",
        "while i < 50000:\n",
        "  x = np.random.random() \n",
        "  y = np.random.uniform(low=0, high=1-x)\n",
        "  r = np.random.uniform(low=0.1, high=0.5)\n",
        "  count = 0\n",
        "  # print(r)\n",
        "  for j in range(len(officer)):\n",
        "    aa = (x - officer[j])**2 + (y - complainant[j])**2\n",
        "    # print(aa)\n",
        "    if ((x - officer[j])**2 + (y - complainant[j])**2) < r**2:\n",
        "      count = count + 1\n",
        "  if count == 0:\n",
        "    # print(x,y,r)\n",
        "    res = [x,y,r]\n",
        "    ans.append(res)\n",
        "  i = i + 1"
      ],
      "execution_count": null,
      "outputs": []
    },
    {
      "cell_type": "code",
      "metadata": {
        "id": "SMuidm4C7Lg4",
        "outputId": "a8ef0f30-7672-49ea-cb03-966bd2fc2100",
        "colab": {
          "base_uri": "https://localhost:8080/"
        }
      },
      "source": [
        "len(ans)"
      ],
      "execution_count": null,
      "outputs": [
        {
          "output_type": "execute_result",
          "data": {
            "text/plain": [
              "384"
            ]
          },
          "metadata": {
            "tags": []
          },
          "execution_count": 56
        }
      ]
    },
    {
      "cell_type": "code",
      "metadata": {
        "id": "eg4eMlsa-xNw",
        "outputId": "a4ae8637-3019-4c93-cd91-c8e92788c4b9",
        "colab": {
          "base_uri": "https://localhost:8080/"
        }
      },
      "source": [
        "rr = []\n",
        "for i in range(len(ans)):\n",
        "  rrr = ans[i][2]\n",
        "  rr.append(rrr)\n",
        "rr = np.array(rr)\n",
        "index_max = np.argmax(rr)\n",
        "print(index_max)"
      ],
      "execution_count": null,
      "outputs": [
        {
          "output_type": "stream",
          "text": [
            "144\n"
          ],
          "name": "stdout"
        }
      ]
    },
    {
      "cell_type": "code",
      "metadata": {
        "id": "UqUJmMjTAxv8",
        "outputId": "1ffbb8f8-815c-443e-ba76-6045f0fd02df",
        "colab": {
          "base_uri": "https://localhost:8080/"
        }
      },
      "source": [
        "ans[index_max]"
      ],
      "execution_count": null,
      "outputs": [
        {
          "output_type": "execute_result",
          "data": {
            "text/plain": [
              "[0.4745335168673034, 0.19422235088111595, 0.16118904844491777]"
            ]
          },
          "metadata": {
            "tags": []
          },
          "execution_count": 64
        }
      ]
    },
    {
      "cell_type": "markdown",
      "metadata": {
        "id": "MSwVI408DCpc"
      },
      "source": [
        "White officer and Hispanic complainant"
      ]
    },
    {
      "cell_type": "code",
      "metadata": {
        "id": "9X2P3uNWBV_v",
        "outputId": "9c36af7b-f254-4bc3-b027-1352c3cc76d5",
        "colab": {
          "base_uri": "https://localhost:8080/",
          "height": 298
        }
      },
      "source": [
        "df_white = df_new.filter(df_new.officer_race == 'White')\n",
        "df_white_His = df_white.filter(df_white.complainant_race == 'Hispanic')\n",
        "\n",
        "import matplotlib.pyplot as plt\n",
        "officer = np.array(df_white_His.select('officer_race_percentage').collect())\n",
        "complainant = np.array(df_white_His.select('complainant_race_percentage').collect())\n",
        "\n",
        "circle1 = plt.Circle((0.1988800127987711, 0.20136535451515883),0.12261865724430039, color='r')\n",
        "fig, ax = plt.subplots() \n",
        "ax.add_artist(circle1)\n",
        "ax.scatter(officer, complainant)\n",
        "ax.set_xlabel('white_officer_race_percentage')\n",
        "ax.set_ylabel('hispanic_complainant_race_percentage')"
      ],
      "execution_count": null,
      "outputs": [
        {
          "output_type": "execute_result",
          "data": {
            "text/plain": [
              "Text(0, 0.5, 'hispanic_complainant_race_percentage')"
            ]
          },
          "metadata": {
            "tags": []
          },
          "execution_count": 25
        },
        {
          "output_type": "display_data",
          "data": {
            "image/png": "[encoded data removed]",
            "text/plain": [
              "<Figure size 432x288 with 1 Axes>"
            ]
          },
          "metadata": {
            "tags": [],
            "needs_background": "light"
          }
        }
      ]
    },
    {
      "cell_type": "code",
      "metadata": {
        "id": "Tm-CWoIuHEJS"
      },
      "source": [
        "i = 0\n",
        "ans = []\n",
        "while i < 10000:\n",
        "  x = np.random.random() \n",
        "  y = np.random.uniform(low=0, high=1-x)\n",
        "  r = np.random.uniform(low=0.05, high=0.3)\n",
        "  count = 0\n",
        "  # print(r)\n",
        "  for j in range(len(officer)):\n",
        "    aa = (x - officer[j])**2 + (y - complainant[j])**2\n",
        "    # print(aa)\n",
        "    if ((x - officer[j])**2 + (y - complainant[j])**2) < r**2:\n",
        "      count = count + 1\n",
        "  if count == 0:\n",
        "    # print(x,y,r)\n",
        "    res = [x,y,r]\n",
        "    ans.append(res)\n",
        "  i = i + 1"
      ],
      "execution_count": null,
      "outputs": []
    },
    {
      "cell_type": "code",
      "metadata": {
        "id": "dhjKQzBQHS4o",
        "outputId": "e61df1b7-85b2-43ac-93fd-2174bce907cc",
        "colab": {
          "base_uri": "https://localhost:8080/"
        }
      },
      "source": [
        "rr = []\n",
        "for i in range(len(ans)):\n",
        "  rrr = ans[i][2]\n",
        "  rr.append(rrr)\n",
        "rr = np.array(rr)\n",
        "index_max = np.argmax(rr)\n",
        "print(index_max)\n",
        "ans[index_max]"
      ],
      "execution_count": null,
      "outputs": [
        {
          "output_type": "stream",
          "text": [
            "173\n"
          ],
          "name": "stdout"
        },
        {
          "output_type": "execute_result",
          "data": {
            "text/plain": [
              "[0.9961336000227772, 0.0002357541290102483, 0.14204683219575276]"
            ]
          },
          "metadata": {
            "tags": []
          },
          "execution_count": 74
        }
      ]
    },
    {
      "cell_type": "code",
      "metadata": {
        "id": "z1zPVzbHO3IX",
        "outputId": "705fe867-7841-400c-8753-9d3eb7e47fe4",
        "colab": {
          "base_uri": "https://localhost:8080/"
        }
      },
      "source": [
        "ll = np.argpartition(rr, -10)[-10:]\n",
        "ll"
      ],
      "execution_count": null,
      "outputs": [
        {
          "output_type": "execute_result",
          "data": {
            "text/plain": [
              "array([293, 385,   9, 193, 357, 407,  59, 233,  51, 173])"
            ]
          },
          "metadata": {
            "tags": []
          },
          "execution_count": 83
        }
      ]
    },
    {
      "cell_type": "code",
      "metadata": {
        "id": "4O2JkeyPUNuV",
        "outputId": "1c66bf93-0e11-40c6-849f-870aa6dc1920",
        "colab": {
          "base_uri": "https://localhost:8080/"
        }
      },
      "source": [
        "ans[407]"
      ],
      "execution_count": null,
      "outputs": [
        {
          "output_type": "execute_result",
          "data": {
            "text/plain": [
              "[0.1988800127987711, 0.20136535451515883, 0.12261865724430039]"
            ]
          },
          "metadata": {
            "tags": []
          },
          "execution_count": 84
        }
      ]
    },
    {
      "cell_type": "markdown",
      "metadata": {
        "id": "lY1pquMzVvIs"
      },
      "source": [
        "White officer and Black complainant"
      ]
    },
    {
      "cell_type": "code",
      "metadata": {
        "id": "mZeNo9s-VLy7",
        "outputId": "84caf05e-05fc-457d-bcc6-f9c1f4759654",
        "colab": {
          "base_uri": "https://localhost:8080/",
          "height": 298
        }
      },
      "source": [
        "df_white = df_new.filter(df_new.officer_race == 'White')\n",
        "df_white_Bla = df_white.filter(df_white.complainant_race == 'Black')\n",
        "\n",
        "import matplotlib.pyplot as plt\n",
        "officer = np.array(df_white_Bla.select('officer_race_percentage').collect())\n",
        "complainant = np.array(df_white_Bla.select('complainant_race_percentage').collect())\n",
        "\n",
        "# plt.scatter(officer, complainant)\n",
        "\n",
        "circle1 = plt.Circle((0.27809334851125145, 0.41320724721289553),0.15901940624458183, color='r')\n",
        "fig, ax = plt.subplots() \n",
        "ax.add_artist(circle1)\n",
        "ax.scatter(officer, complainant)\n",
        "ax.set_xlabel('white_officer_race_percentage')\n",
        "ax.set_ylabel('black_complainant_race_percentage')"
      ],
      "execution_count": null,
      "outputs": [
        {
          "output_type": "execute_result",
          "data": {
            "text/plain": [
              "Text(0, 0.5, 'black_complainant_race_percentage')"
            ]
          },
          "metadata": {
            "tags": []
          },
          "execution_count": 27
        },
        {
          "output_type": "display_data",
          "data": {
            "image/png": "[encoded data removed]",
            "text/plain": [
              "<Figure size 432x288 with 1 Axes>"
            ]
          },
          "metadata": {
            "tags": [],
            "needs_background": "light"
          }
        }
      ]
    },
    {
      "cell_type": "code",
      "metadata": {
        "id": "OHWMn_kFV0hU"
      },
      "source": [
        "i = 0\n",
        "ans = []\n",
        "while i < 10000:\n",
        "  x = np.random.random() \n",
        "  y = np.random.uniform(low=0, high=1-x)\n",
        "  r = np.random.uniform(low=0.05, high=0.3)\n",
        "  count = 0\n",
        "  # print(r)\n",
        "  for j in range(len(officer)):\n",
        "    aa = (x - officer[j])**2 + (y - complainant[j])**2\n",
        "    # print(aa)\n",
        "    if ((x - officer[j])**2 + (y - complainant[j])**2) < r**2:\n",
        "      count = count + 1\n",
        "  if count == 0:\n",
        "    # print(x,y,r)\n",
        "    res = [x,y,r]\n",
        "    ans.append(res)\n",
        "  i = i + 1"
      ],
      "execution_count": null,
      "outputs": []
    },
    {
      "cell_type": "code",
      "metadata": {
        "id": "m8VUKbb7WFVP",
        "outputId": "ebbfebb7-9229-4054-cfc8-9931c4c1f2fe",
        "colab": {
          "base_uri": "https://localhost:8080/"
        }
      },
      "source": [
        "rr = []\n",
        "for i in range(len(ans)):\n",
        "  rrr = ans[i][2]\n",
        "  rr.append(rrr)\n",
        "rr = np.array(rr)\n",
        "index_max = np.argmax(rr)\n",
        "print(index_max)\n",
        "ans[index_max]\n",
        "\n",
        "ll = np.argpartition(rr, -10)[-10:]\n",
        "ll"
      ],
      "execution_count": null,
      "outputs": [
        {
          "output_type": "stream",
          "text": [
            "240\n"
          ],
          "name": "stdout"
        },
        {
          "output_type": "execute_result",
          "data": {
            "text/plain": [
              "array([181, 567, 240, 523, 382, 320, 782, 509, 772,  57])"
            ]
          },
          "metadata": {
            "tags": []
          },
          "execution_count": 88
        }
      ]
    },
    {
      "cell_type": "code",
      "metadata": {
        "id": "OnKkZdIufjUl",
        "outputId": "18ae6c4d-7fec-4719-db27-2e96472e9b40",
        "colab": {
          "base_uri": "https://localhost:8080/"
        }
      },
      "source": [
        "ans[772]"
      ],
      "execution_count": null,
      "outputs": [
        {
          "output_type": "execute_result",
          "data": {
            "text/plain": [
              "[0.27809334851125145, 0.41320724721289553, 0.15901940624458183]"
            ]
          },
          "metadata": {
            "tags": []
          },
          "execution_count": 94
        }
      ]
    },
    {
      "cell_type": "markdown",
      "metadata": {
        "id": "ESsce_4uf9Y-"
      },
      "source": [
        "Black officer and White complainant"
      ]
    },
    {
      "cell_type": "code",
      "metadata": {
        "id": "FNU-z5Z0fsyf",
        "outputId": "dabc0870-74ad-4d90-cc35-a8b57278b294",
        "colab": {
          "base_uri": "https://localhost:8080/",
          "height": 546
        }
      },
      "source": [
        "df_black = df_new.filter(df_new.officer_race == 'Black')\n",
        "df_black_whi = df_black.filter(df_black.complainant_race == 'White')\n",
        "\n",
        "import matplotlib.pyplot as plt\n",
        "officer = np.array(df_black_whi.select('officer_race_percentage').collect())\n",
        "complainant = np.array(df_black_whi.select('complainant_race_percentage').collect())\n",
        "\n",
        "plt.scatter(officer, complainant)\n",
        "\n",
        "circle1 = plt.Circle((0.4053408768839776, 0.30190895999209516),0.1443267564985935, color='r')\n",
        "fig, ax = plt.subplots() \n",
        "ax.add_artist(circle1)\n",
        "ax.scatter(officer, complainant)\n",
        "ax.set_xlabel('black_officer_race_percentage')\n",
        "ax.set_ylabel('white_complainant_race_percentage')"
      ],
      "execution_count": null,
      "outputs": [
        {
          "output_type": "execute_result",
          "data": {
            "text/plain": [
              "Text(0, 0.5, 'white_complainant_race_percentage')"
            ]
          },
          "metadata": {
            "tags": []
          },
          "execution_count": 28
        },
        {
          "output_type": "display_data",
          "data": {
            "image/png": "[encoded data removed]",
            "text/plain": [
              "<Figure size 432x288 with 1 Axes>"
            ]
          },
          "metadata": {
            "tags": [],
            "needs_background": "light"
          }
        },
        {
          "output_type": "display_data",
          "data": {
            "image/png": "[encoded data removed]",
            "text/plain": [
              "<Figure size 432x288 with 1 Axes>"
            ]
          },
          "metadata": {
            "tags": [],
            "needs_background": "light"
          }
        }
      ]
    },
    {
      "cell_type": "code",
      "metadata": {
        "id": "1YUDQe0hgODe"
      },
      "source": [
        "i = 0\n",
        "ans = []\n",
        "while i < 5000:\n",
        "  x = np.random.random() \n",
        "  y = np.random.uniform(low=0, high=1-x)\n",
        "  r = np.random.uniform(low=0.05, high=0.3)\n",
        "  count = 0\n",
        "  # print(r)\n",
        "  for j in range(len(officer)):\n",
        "    aa = (x - officer[j])**2 + (y - complainant[j])**2\n",
        "    # print(aa)\n",
        "    if ((x - officer[j])**2 + (y - complainant[j])**2) < r**2:\n",
        "      count = count + 1\n",
        "  if count == 0:\n",
        "    # print(x,y,r)\n",
        "    res = [x,y,r]\n",
        "    ans.append(res)\n",
        "  i = i + 1"
      ],
      "execution_count": null,
      "outputs": []
    },
    {
      "cell_type": "code",
      "metadata": {
        "id": "dqsxZQHpgltE",
        "outputId": "fef4f6d3-a2d4-40a6-9cad-3f929998ecbf",
        "colab": {
          "base_uri": "https://localhost:8080/"
        }
      },
      "source": [
        "rr = []\n",
        "for i in range(len(ans)):\n",
        "  rrr = ans[i][2]\n",
        "  rr.append(rrr)\n",
        "rr = np.array(rr)\n",
        "index_max = np.argmax(rr)\n",
        "print(index_max)\n",
        "ans[index_max]\n",
        "\n",
        "ll = np.argpartition(rr, -10)[-10:]\n",
        "ll"
      ],
      "execution_count": null,
      "outputs": [
        {
          "output_type": "stream",
          "text": [
            "34\n"
          ],
          "name": "stdout"
        },
        {
          "output_type": "execute_result",
          "data": {
            "text/plain": [
              "array([239, 281, 236,  66, 211,  34, 248,  98, 105,  56])"
            ]
          },
          "metadata": {
            "tags": []
          },
          "execution_count": 98
        }
      ]
    },
    {
      "cell_type": "code",
      "metadata": {
        "id": "zmzNyHqGkHYR",
        "outputId": "70b5745a-2c3a-47a0-ac9a-47416543d5d4",
        "colab": {
          "base_uri": "https://localhost:8080/"
        }
      },
      "source": [
        "ans[56]"
      ],
      "execution_count": null,
      "outputs": [
        {
          "output_type": "execute_result",
          "data": {
            "text/plain": [
              "[0.4053408768839776, 0.30190895999209516, 0.1443267564985935]"
            ]
          },
          "metadata": {
            "tags": []
          },
          "execution_count": 100
        }
      ]
    },
    {
      "cell_type": "markdown",
      "metadata": {
        "id": "ichgjxLypdNW"
      },
      "source": [
        "Hispanic officer and white complainant"
      ]
    },
    {
      "cell_type": "code",
      "metadata": {
        "id": "C2HAFMRdkNqb",
        "outputId": "08089799-73ed-4270-fd6e-19221f7f4cd4",
        "colab": {
          "base_uri": "https://localhost:8080/",
          "height": 546
        }
      },
      "source": [
        "df_his = df_new.filter(df_new.officer_race == 'Hispanic')\n",
        "df_his_white = df_his.filter(df_his.complainant_race == 'White')\n",
        "\n",
        "import matplotlib.pyplot as plt\n",
        "officer = np.array(df_his_white.select('officer_race_percentage').collect())\n",
        "complainant = np.array(df_his_white.select('complainant_race_percentage').collect())\n",
        "\n",
        "plt.scatter(officer, complainant)\n",
        "\n",
        "circle1 = plt.Circle((0.18163253738740137, 0.2018338245736842),0.13279818840816976, color='r')\n",
        "fig, ax = plt.subplots() \n",
        "ax.add_artist(circle1)\n",
        "ax.scatter(officer, complainant)\n",
        "ax.set_xlabel('hispanic_officer_race_percentage')\n",
        "ax.set_ylabel('white_complainant_race_percentage')"
      ],
      "execution_count": null,
      "outputs": [
        {
          "output_type": "execute_result",
          "data": {
            "text/plain": [
              "Text(0, 0.5, 'white_complainant_race_percentage')"
            ]
          },
          "metadata": {
            "tags": []
          },
          "execution_count": 29
        },
        {
          "output_type": "display_data",
          "data": {
            "image/png": "[encoded data removed]",
            "text/plain": [
              "<Figure size 432x288 with 1 Axes>"
            ]
          },
          "metadata": {
            "tags": [],
            "needs_background": "light"
          }
        },
        {
          "output_type": "display_data",
          "data": {
            "image/png": "[encoded data removed]",
            "text/plain": [
              "<Figure size 432x288 with 1 Axes>"
            ]
          },
          "metadata": {
            "tags": [],
            "needs_background": "light"
          }
        }
      ]
    },
    {
      "cell_type": "code",
      "metadata": {
        "id": "WzJOb8W1pxZb"
      },
      "source": [
        "i = 0\n",
        "ans = []\n",
        "while i < 5000:\n",
        "  x = np.random.random() \n",
        "  y = np.random.uniform(low=0, high=1-x)\n",
        "  r = np.random.uniform(low=0.05, high=0.3)\n",
        "  count = 0\n",
        "  # print(r)\n",
        "  for j in range(len(officer)):\n",
        "    aa = (x - officer[j])**2 + (y - complainant[j])**2\n",
        "    # print(aa)\n",
        "    if ((x - officer[j])**2 + (y - complainant[j])**2) < r**2:\n",
        "      count = count + 1\n",
        "  if count == 0:\n",
        "    # print(x,y,r)\n",
        "    res = [x,y,r]\n",
        "    ans.append(res)\n",
        "  i = i + 1"
      ],
      "execution_count": null,
      "outputs": []
    },
    {
      "cell_type": "code",
      "metadata": {
        "id": "sblPxFmkp0qe",
        "outputId": "b8e94eb4-7656-4422-e899-9807e9c6fc71",
        "colab": {
          "base_uri": "https://localhost:8080/"
        }
      },
      "source": [
        "rr = []\n",
        "for i in range(len(ans)):\n",
        "  rrr = ans[i][2]\n",
        "  rr.append(rrr)\n",
        "rr = np.array(rr)\n",
        "index_max = np.argmax(rr)\n",
        "print(index_max)\n",
        "ans[index_max]\n",
        "\n",
        "ll = np.argpartition(rr, -10)[-10:]\n",
        "ll"
      ],
      "execution_count": null,
      "outputs": [
        {
          "output_type": "stream",
          "text": [
            "152\n"
          ],
          "name": "stdout"
        },
        {
          "output_type": "execute_result",
          "data": {
            "text/plain": [
              "array([ 28,  36,  76,  21,  81, 152, 104,  29, 117, 105])"
            ]
          },
          "metadata": {
            "tags": []
          },
          "execution_count": 103
        }
      ]
    },
    {
      "cell_type": "code",
      "metadata": {
        "id": "9kdQov80qkZh",
        "outputId": "ddebb339-6144-4827-b9eb-604664da3ed1",
        "colab": {
          "base_uri": "https://localhost:8080/"
        }
      },
      "source": [
        "ans[152]"
      ],
      "execution_count": null,
      "outputs": [
        {
          "output_type": "execute_result",
          "data": {
            "text/plain": [
              "[0.18163253738740137, 0.2018338245736842, 0.13279818840816976]"
            ]
          },
          "metadata": {
            "tags": []
          },
          "execution_count": 104
        }
      ]
    },
    {
      "cell_type": "markdown",
      "metadata": {
        "id": "B5sxvJ32qrHx"
      },
      "source": [
        "Hispanic officer and black complainant"
      ]
    },
    {
      "cell_type": "code",
      "metadata": {
        "id": "Yo4vcKCbqnIg",
        "outputId": "d1463d00-9aa2-421c-934c-d149b0eaa473",
        "colab": {
          "base_uri": "https://localhost:8080/",
          "height": 546
        }
      },
      "source": [
        "df_his = df_new.filter(df_new.officer_race == 'Hispanic')\n",
        "df_his_black = df_his.filter(df_his.complainant_race == 'Black')\n",
        "\n",
        "import matplotlib.pyplot as plt\n",
        "officer = np.array(df_his_black.select('officer_race_percentage').collect())\n",
        "complainant = np.array(df_his_black.select('complainant_race_percentage').collect())\n",
        "\n",
        "plt.scatter(officer, complainant)\n",
        "\n",
        "circle1 = plt.Circle((0.19546034456937667, 0.45331176652860394), 0.16253901485980182, color='r')\n",
        "fig, ax = plt.subplots() \n",
        "ax.add_artist(circle1)\n",
        "ax.scatter(officer, complainant)\n",
        "ax.set_xlabel('hispanic_officer_race_percentage')\n",
        "ax.set_ylabel('black_complainant_race_percentage')"
      ],
      "execution_count": null,
      "outputs": [
        {
          "output_type": "execute_result",
          "data": {
            "text/plain": [
              "Text(0, 0.5, 'black_complainant_race_percentage')"
            ]
          },
          "metadata": {
            "tags": []
          },
          "execution_count": 31
        },
        {
          "output_type": "display_data",
          "data": {
            "image/png": "[encoded data removed]",
            "text/plain": [
              "<Figure size 432x288 with 1 Axes>"
            ]
          },
          "metadata": {
            "tags": [],
            "needs_background": "light"
          }
        },
        {
          "output_type": "display_data",
          "data": {
            "image/png": "[encoded data removed]",
            "text/plain": [
              "<Figure size 432x288 with 1 Axes>"
            ]
          },
          "metadata": {
            "tags": [],
            "needs_background": "light"
          }
        }
      ]
    },
    {
      "cell_type": "code",
      "metadata": {
        "id": "6o-UWVnnq1GB"
      },
      "source": [
        "i = 0\n",
        "ans = []\n",
        "while i < 5000:\n",
        "  x = np.random.random() \n",
        "  y = np.random.uniform(low=0, high=1-x)\n",
        "  r = np.random.uniform(low=0.05, high=0.3)\n",
        "  count = 0\n",
        "  # print(r)\n",
        "  for j in range(len(officer)):\n",
        "    aa = (x - officer[j])**2 + (y - complainant[j])**2\n",
        "    # print(aa)\n",
        "    if ((x - officer[j])**2 + (y - complainant[j])**2) < r**2:\n",
        "      count = count + 1\n",
        "  if count == 0:\n",
        "    # print(x,y,r)\n",
        "    res = [x,y,r]\n",
        "    ans.append(res)\n",
        "  i = i + 1"
      ],
      "execution_count": null,
      "outputs": []
    },
    {
      "cell_type": "code",
      "metadata": {
        "id": "NBMNSv6lq_g2",
        "outputId": "269d0609-6a0b-4e8c-d093-0e11690bff92",
        "colab": {
          "base_uri": "https://localhost:8080/"
        }
      },
      "source": [
        "rr = []\n",
        "for i in range(len(ans)):\n",
        "  rrr = ans[i][2]\n",
        "  rr.append(rrr)\n",
        "rr = np.array(rr)\n",
        "index_max = np.argmax(rr)\n",
        "print(index_max)\n",
        "ans[index_max]\n",
        "\n",
        "ll = np.argpartition(rr, -10)[-10:]\n",
        "ll"
      ],
      "execution_count": null,
      "outputs": [
        {
          "output_type": "stream",
          "text": [
            "132\n"
          ],
          "name": "stdout"
        },
        {
          "output_type": "execute_result",
          "data": {
            "text/plain": [
              "array([234, 137, 250,  11, 132,  36, 159, 103, 266, 214])"
            ]
          },
          "metadata": {
            "tags": []
          },
          "execution_count": 107
        }
      ]
    },
    {
      "cell_type": "code",
      "metadata": {
        "id": "ZjNXDaGVt9Qe",
        "outputId": "8497b623-4039-4f3c-d258-4aa34fcc0504",
        "colab": {
          "base_uri": "https://localhost:8080/"
        }
      },
      "source": [
        "ans[132]"
      ],
      "execution_count": null,
      "outputs": [
        {
          "output_type": "execute_result",
          "data": {
            "text/plain": [
              "[0.19546034456937667, 0.45331176652860394, 0.16253901485980182]"
            ]
          },
          "metadata": {
            "tags": []
          },
          "execution_count": 108
        }
      ]
    },
    {
      "cell_type": "markdown",
      "metadata": {
        "id": "YN6AyhTKa7o6"
      },
      "source": [
        "Together"
      ]
    },
    {
      "cell_type": "code",
      "metadata": {
        "id": "GfHcXBcodpHR",
        "outputId": "1f1144cc-3351-4b6e-ef0e-2992957922c9",
        "colab": {
          "base_uri": "https://localhost:8080/",
          "height": 287
        }
      },
      "source": [
        "circle1 = plt.Circle((0.4745335168673034, 0.19422235088111595),0.16118904844491777, color='r',fill=False)\n",
        "circle2 = plt.Circle((0.1988800127987711, 0.20136535451515883),0.12261865724430039, color='b',fill=False)\n",
        "circle3 = plt.Circle((0.18163253738740137, 0.2018338245736842),0.13279818840816976, color='g',fill=False)\n",
        "circle4 = plt.Circle((0.19546034456937667, 0.45331176652860394), 0.16253901485980182, color='black',fill=False)\n",
        "circle5 = plt.Circle((0.4053408768839776, 0.30190895999209516),0.1443267564985935, color='yellow',fill=False)\n",
        "circle6 = plt.Circle((0.27809334851125145, 0.41320724721289553),0.15901940624458183, color='purple',fill=False)\n",
        "fig, ax = plt.subplots() \n",
        "ax.add_artist(circle1)\n",
        "ax.add_artist(circle2)\n",
        "ax.add_artist(circle3)\n",
        "ax.add_artist(circle4)\n",
        "ax.add_artist(circle5)\n",
        "ax.add_artist(circle6)"
      ],
      "execution_count": null,
      "outputs": [
        {
          "output_type": "execute_result",
          "data": {
            "text/plain": [
              "<matplotlib.patches.Circle at 0x7f9b95d129e8>"
            ]
          },
          "metadata": {
            "tags": []
          },
          "execution_count": 39
        },
        {
          "output_type": "display_data",
          "data": {
            "image/png": "[encoded data removed]",
            "text/plain": [
              "<Figure size 432x288 with 1 Axes>"
            ]
          },
          "metadata": {
            "tags": [],
            "needs_background": "light"
          }
        }
      ]
    },
    {
      "cell_type": "code",
      "metadata": {
        "id": "DyvAQo5Mfe3x"
      },
      "source": [
        ""
      ],
      "execution_count": null,
      "outputs": []
    }
  ]
}