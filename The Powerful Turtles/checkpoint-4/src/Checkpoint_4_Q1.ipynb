{
  "nbformat": 4,
  "nbformat_minor": 0,
  "metadata": {
    "colab": {
      "name": "Checkpoint 4 Q1",
      "provenance": []
    },
    "kernelspec": {
      "name": "python3",
      "display_name": "Python 3"
    }
  },
  "cells": [
    {
      "cell_type": "code",
      "metadata": {
        "id": "qvecWDXJp0Kk"
      },
      "source": [
        "import autograd.numpy as np\n",
        "import matplotlib.pyplot as plt\n",
        "import pandas as pd"
      ],
      "execution_count": null,
      "outputs": []
    },
    {
      "cell_type": "code",
      "metadata": {
        "id": "aQAyfbLY4j9q"
      },
      "source": [
        "# innstall java\n",
        "!apt-get install openjdk-8-jdk-headless -qq > /dev/null\n",
        "\n",
        "# install spark (change the version number if needed)\n",
        "!wget -q https://archive.apache.org/dist/spark/spark-3.0.0/spark-3.0.0-bin-hadoop3.2.tgz\n",
        "\n",
        "# unzip the spark file to the current folder\n",
        "!tar xf spark-3.0.0-bin-hadoop3.2.tgz\n",
        "\n",
        "\n",
        "# install findspark using pip\n",
        "!pip install -q findspark\n",
        "\n",
        "import os\n",
        "os.environ[\"JAVA_HOME\"] = \"/usr/lib/jvm/java-8-openjdk-amd64\"\n",
        "os.environ[\"SPARK_HOME\"] = \"/content/spark-3.0.0-bin-hadoop3.2\"\n",
        "\n",
        "import findspark\n",
        "findspark.init()\n",
        "\n",
        "from pyspark.sql import SparkSession\n",
        "spark = SparkSession.builder.master(\"local[*]\").getOrCreate()\n",
        "\n",
        "import pyspark\n",
        "from pyspark.sql import SparkSession\n",
        "from pyspark.conf import SparkConf\n",
        "from pyspark.sql.types import * \n",
        "import pyspark.sql.functions as F\n",
        "from pyspark.sql.functions import col, asc,desc\n",
        "import matplotlib.pyplot as plt\n",
        "import numpy as np\n",
        "import seaborn as sns\n",
        "from pyspark.sql import SQLContext\n",
        "import pandas as pd\n",
        "from pyspark.ml.feature import OneHotEncoder, StringIndexer, VectorAssembler,StandardScaler\n",
        "from pyspark.ml import Pipeline\n",
        "from sklearn.metrics import confusion_matrix"
      ],
      "execution_count": null,
      "outputs": []
    },
    {
      "cell_type": "code",
      "metadata": {
        "id": "WON0nF5av9zR"
      },
      "source": [
        "file_path = 'data_officer-less.csv'\n",
        "df = pd.read_csv(file_path)\n",
        "df = pd.DataFrame(df)\n",
        "df = df.loc[df['allegation_count'].notna(), :]\n",
        "\n",
        "df_spark=spark.read \\\n",
        " .option(\"header\",\"True\")\\\n",
        " .option(\"inferSchema\",\"True\")\\\n",
        " .option(\"sep\",\",\")\\\n",
        " .csv(\"data_officer-less.csv\")\n"
      ],
      "execution_count": null,
      "outputs": []
    },
    {
      "cell_type": "code",
      "metadata": {
        "id": "e0qr9nHhQO-W"
      },
      "source": [
        "y = df.loc[:,'allegation_count']\n",
        "g = df.drop(columns=['gender', 'race', 'rank', 'resignation_date', 'appointed_date','allegation_count']).astype('float')"
      ],
      "execution_count": null,
      "outputs": []
    },
    {
      "cell_type": "code",
      "metadata": {
        "id": "IuDzped1Lj8j"
      },
      "source": [
        "from sklearn.impute import SimpleImputer\n",
        "imp_mean = SimpleImputer(missing_values=np.nan, strategy='mean')\n",
        "g1 = imp_mean.fit_transform(g)\n",
        "#g = imp_mean.transform(g)\n",
        "g1 = pd.DataFrame(g1, columns=g.columns)"
      ],
      "execution_count": null,
      "outputs": []
    },
    {
      "cell_type": "code",
      "metadata": {
        "id": "jYXvbGb69zk_"
      },
      "source": [
        "#df = df.loc[df['allegation_count'].notna(), :]\n",
        "df_spark = df_spark.where(col(\"allegation_count\").isNotNull())\n",
        "df_spark = df_spark.select(\"gender\", \"race\", \"rank\")\n",
        "df_spark = df_spark.na.fill('Unknown')"
      ],
      "execution_count": null,
      "outputs": []
    },
    {
      "cell_type": "code",
      "metadata": {
        "id": "KRoYbxc41Wwi"
      },
      "source": [
        "'''gender_mapping = {'M': 1, 'F' : 2}\n",
        "race_mappping = {'White': 1, 'Black': 2, 'Hispanic': 3}\n",
        "df['rank'] = df['rank'].astype('category')\n",
        "label1 = dict(enumerate(df['rank'].cat.categories))\n",
        "x[['rank']] = x[['rank']].apply(lambda a: a.cat.codes)'''"
      ],
      "execution_count": null,
      "outputs": []
    },
    {
      "cell_type": "code",
      "metadata": {
        "id": "GZfGnrOp_zsa"
      },
      "source": [
        "label_indexer_gender = StringIndexer()\\\n",
        "         .setInputCol (\"gender\")\\\n",
        "         .setOutputCol (\"gender_label\")\n",
        "label_indexer_model_gender=label_indexer_gender.fit(df_spark)\n",
        "df_spark=label_indexer_model_gender.transform(df_spark)\n",
        "\n",
        "label_indexer_race = StringIndexer()\\\n",
        "         .setInputCol (\"race\")\\\n",
        "         .setOutputCol (\"race_label\")\n",
        "label_indexer_model_race=label_indexer_race.fit(df_spark)\n",
        "df_spark=label_indexer_model_race.transform(df_spark)\n",
        "\n",
        "label_indexer_rank = StringIndexer()\\\n",
        "         .setInputCol (\"rank\")\\\n",
        "         .setOutputCol (\"rank_label\")\n",
        "label_indexer_model_rank=label_indexer_rank.fit(df_spark)\n",
        "df_spark=label_indexer_model_rank.transform(df_spark)\n"
      ],
      "execution_count": null,
      "outputs": []
    },
    {
      "cell_type": "code",
      "metadata": {
        "id": "BaU4YSKPSK5y"
      },
      "source": [
        "df_spark.show(13)"
      ],
      "execution_count": null,
      "outputs": []
    },
    {
      "cell_type": "code",
      "metadata": {
        "id": "oZD6UrqOBHy3"
      },
      "source": [
        "g2 = df_spark.select(\"gender_label\", 'race_label', 'rank_label')\n",
        "g2 = g2.toPandas()"
      ],
      "execution_count": null,
      "outputs": []
    },
    {
      "cell_type": "code",
      "metadata": {
        "id": "_TMwvUAhC1F7"
      },
      "source": [
        "x = g1.join(g2)"
      ],
      "execution_count": null,
      "outputs": []
    },
    {
      "cell_type": "code",
      "metadata": {
        "id": "mcjl8RDgEkNQ",
        "outputId": "57527b3d-e1c1-43ad-f9db-aece391de8c7",
        "colab": {
          "base_uri": "https://localhost:8080/"
        }
      },
      "source": [
        "from sklearn.model_selection import train_test_split\n",
        "X_train, X_test, y_train, y_test = train_test_split(x, y, test_size=0.2, random_state=1)\n",
        "# Special note: for a 60/20/20 split (if you want a validation step), just do the above step again on the train set with a 2/3, 1/3 split\n",
        "X_train.shape"
      ],
      "execution_count": null,
      "outputs": [
        {
          "output_type": "execute_result",
          "data": {
            "text/plain": [
              "(27071, 20)"
            ]
          },
          "metadata": {
            "tags": []
          },
          "execution_count": 280
        }
      ]
    },
    {
      "cell_type": "code",
      "metadata": {
        "id": "Yp4x1Oz4IX5d",
        "outputId": "61c47699-9c5f-4ab5-dfb7-773cb47f7a2b",
        "colab": {
          "base_uri": "https://localhost:8080/"
        }
      },
      "source": [
        "from sklearn.linear_model import LinearRegression\n",
        "model = LinearRegression()\n",
        "model.fit(X_train, y_train)"
      ],
      "execution_count": null,
      "outputs": [
        {
          "output_type": "execute_result",
          "data": {
            "text/plain": [
              "LinearRegression(copy_X=True, fit_intercept=True, n_jobs=None, normalize=False)"
            ]
          },
          "metadata": {
            "tags": []
          },
          "execution_count": 281
        }
      ]
    },
    {
      "cell_type": "code",
      "metadata": {
        "id": "w1KMdsw-XP_y",
        "outputId": "872d14db-129a-4377-f615-891988a42e4f",
        "colab": {
          "base_uri": "https://localhost:8080/"
        }
      },
      "source": [
        "predictions1 = model.predict(X_train)\n",
        "\n",
        "params = np.append(model.intercept_,model.coef_)\n",
        "newX = np.append(np.ones((len(X_train),1)), X_train, axis=1)\n",
        "MSE = (sum((y_train-predictions)**2))/(len(newX)-len(newX[0]))\n",
        "\n",
        "var_b = MSE*(np.linalg.inv(np.dot(newX.T,newX)).diagonal())\n",
        "sd_b = np.sqrt(var_b)\n",
        "ts_b = params/ sd_b\n",
        "\n",
        "from scipy import stats\n",
        "p_values =[2*(1-stats.t.cdf(np.abs(i),(len(newX)-len(newX[0])))) for i in ts_b]\n",
        "\n",
        "sd_b = np.round(sd_b,3)\n",
        "ts_b = np.round(ts_b,3)\n",
        "p_values = np.round(p_values,3)\n",
        "params = np.round(params,4)\n",
        "\n",
        "regression_results = pd.DataFrame()\n",
        "regression_results[\"Coefficients\"],regression_results[\"Standard Errors\"],regression_results[\"t values\"],regression_results[\"p values\"] = [params,sd_b,ts_b,p_values]\n",
        "print(regression_results)"
      ],
      "execution_count": null,
      "outputs": [
        {
          "output_type": "stream",
          "text": [
            "    Coefficients  Standard Errors  t values  p values\n",
            "0        -9.4546            3.103    -3.047     0.002\n",
            "1         0.0029            0.002     1.847     0.065\n",
            "2         0.0171            0.001    16.699     0.000\n",
            "3         0.0428            0.001    41.022     0.000\n",
            "4         0.0157            0.001    17.595     0.000\n",
            "5         0.0069            0.001    11.053     0.000\n",
            "6        -0.0159            0.001   -17.673     0.000\n",
            "7         1.0689            0.046    23.391     0.000\n",
            "8         0.0479            0.007     7.055     0.000\n",
            "9        -0.0000            0.000    -2.905     0.004\n",
            "10        0.0000            0.000    15.101     0.000\n",
            "11       -0.0140            0.050    -0.283     0.777\n",
            "12        0.0355            0.001    31.734     0.000\n",
            "13        0.0027            0.000    10.400     0.000\n",
            "14        0.1560            0.049     3.200     0.001\n",
            "15        0.2277            0.005    42.435     0.000\n",
            "16        1.3498            0.004   371.897     0.000\n",
            "17       -0.0255            0.050    -0.513     0.608\n",
            "18        0.2680            0.046     5.765     0.000\n",
            "19       -0.1178            0.021    -5.689     0.000\n",
            "20       -0.0096            0.005    -2.080     0.037\n"
          ],
          "name": "stdout"
        }
      ]
    },
    {
      "cell_type": "code",
      "metadata": {
        "id": "W4w5RW_XXP7h",
        "outputId": "c0ebf030-a69c-4cb0-d2b8-d4e8c728c78e",
        "colab": {
          "base_uri": "https://localhost:8080/"
        }
      },
      "source": [
        "g = (p_values[1:] < 0.0001)\n",
        "X_train_new = X_train.iloc[:,g]\n",
        "X_train_new.shape"
      ],
      "execution_count": null,
      "outputs": [
        {
          "output_type": "execute_result",
          "data": {
            "text/plain": [
              "(27071, 14)"
            ]
          },
          "metadata": {
            "tags": []
          },
          "execution_count": 283
        }
      ]
    },
    {
      "cell_type": "code",
      "metadata": {
        "id": "G1S6abllYshx",
        "outputId": "79d79215-64e2-47f3-8a9e-362e525f1b5d",
        "colab": {
          "base_uri": "https://localhost:8080/"
        }
      },
      "source": [
        "model2 = LinearRegression()\n",
        "model2.fit(X_train_new, y_train)\n",
        "\n",
        "predictions2 = model2.predict(X_train_new)\n",
        "\n",
        "params = np.append(model2.intercept_,model2.coef_)\n",
        "newX = np.append(np.ones((len(X_train_new),1)), X_train_new, axis=1)\n",
        "MSE = (sum((y_train-predictions)**2))/(len(newX)-len(newX[0]))\n",
        "\n",
        "var_b = MSE*(np.linalg.inv(np.dot(newX.T,newX)).diagonal())\n",
        "sd_b = np.sqrt(var_b)\n",
        "ts_b = params/ sd_b\n",
        "\n",
        "p_values =[2*(1-stats.t.cdf(np.abs(i),(len(newX)-len(newX[0])))) for i in ts_b]\n",
        "\n",
        "sd_b = np.round(sd_b,3)\n",
        "ts_b = np.round(ts_b,3)\n",
        "p_values = np.round(p_values,3)\n",
        "params = np.round(params,4)\n",
        "\n",
        "regression_results = pd.DataFrame()\n",
        "regression_results[\"Coefficients\"],regression_results[\"Standard Errors\"],regression_results[\"t values\"],regression_results[\"p values\"] = [params,sd_b,ts_b,p_values]\n",
        "print(regression_results)"
      ],
      "execution_count": null,
      "outputs": [
        {
          "output_type": "stream",
          "text": [
            "    Coefficients  Standard Errors  t values  p values\n",
            "0        -3.9265            0.131   -30.006       0.0\n",
            "1         0.0174            0.001    17.155       0.0\n",
            "2         0.0425            0.001    41.167       0.0\n",
            "3         0.0167            0.001    25.727       0.0\n",
            "4         0.0069            0.001    11.082       0.0\n",
            "5        -0.0160            0.001   -17.862       0.0\n",
            "6         1.0571            0.014    75.303       0.0\n",
            "7         0.0489            0.007     7.208       0.0\n",
            "8         0.0000            0.000    16.259       0.0\n",
            "9         0.0358            0.001    32.477       0.0\n",
            "10        0.0026            0.000    10.168       0.0\n",
            "11        0.2297            0.005    42.990       0.0\n",
            "12        1.3504            0.004   373.100       0.0\n",
            "13        0.2785            0.046     6.114       0.0\n",
            "14       -0.1141            0.021    -5.564       0.0\n"
          ],
          "name": "stdout"
        }
      ]
    },
    {
      "cell_type": "code",
      "metadata": {
        "id": "d8hGzzQSaeSJ"
      },
      "source": [
        "y_pred1 = model.predict(X_test)\n",
        "y_pred2 = model2.predict(X_test.iloc[:,g])"
      ],
      "execution_count": null,
      "outputs": []
    },
    {
      "cell_type": "code",
      "metadata": {
        "id": "6ytBhrYzYsbm",
        "outputId": "966c8512-2e5e-41b0-bd62-0c6627593101",
        "colab": {
          "base_uri": "https://localhost:8080/",
          "height": 861
        }
      },
      "source": [
        "# show a visualization for a scatter plot\n",
        "fig = plt.figure(figsize=(12,12), dpi= 80, facecolor='w', edgecolor='k')\n",
        "ax1 = fig.add_subplot(221)\n",
        "ax1.scatter(predictions1, y_train)\n",
        "ax2 = fig.add_subplot(222)\n",
        "ax2.scatter(predictions2, y_train)\n",
        "ax3 = fig.add_subplot(223)\n",
        "ax3.scatter(y_pred1, y_test)\n",
        "ax4 = fig.add_subplot(224)\n",
        "ax4.scatter(y_pred2, y_test)\n",
        "ax1.plot([0,150],[0,150])\n",
        "ax2.plot([0,150],[0,150])\n",
        "ax3.plot([0,150],[0,150])\n",
        "ax4.plot([0,150],[0,150])\n",
        "ax1.set(title = 'complete train dataset', ylabel='actual', xlabel='predicted')\n",
        "ax2.set(title = 'selected train dataset', ylabel='actual', xlabel='predicted')\n",
        "ax3.set(title = 'complete test dataset', ylabel='actual', xlabel='predicted')\n",
        "ax4.set(title = 'selected test dataset', ylabel='actual', xlabel='predicted')"
      ],
      "execution_count": null,
      "outputs": [
        {
          "output_type": "execute_result",
          "data": {
            "text/plain": [
              "[Text(0, 0.5, 'actual'),\n",
              " Text(0.5, 0, 'predicted'),\n",
              " Text(0.5, 1.0, 'selected test dataset')]"
            ]
          },
          "metadata": {
            "tags": []
          },
          "execution_count": 289
        },
        {
          "output_type": "display_data",
          "data": {
            "image/png": "[encoded data removed]",
            "text/plain": [
              "<Figure size 960x960 with 4 Axes>"
            ]
          },
          "metadata": {
            "tags": []
          }
        }
      ]
    },
    {
      "cell_type": "code",
      "metadata": {
        "id": "OKURCo_BY9dY",
        "outputId": "97fcd5e9-c481-4f8e-b08a-a11a2a8f7c68",
        "colab": {
          "base_uri": "https://localhost:8080/"
        }
      },
      "source": [
        "# compute accuracy score\n",
        "from sklearn.metrics import r2_score\n",
        "from sklearn.metrics import mean_squared_error\n",
        "print('Original Training Data')\n",
        "print('R^2 Score:', r2_score(predictions1, y_train))\n",
        "print('MSE:', mean_squared_error(predictions1, y_train))\n",
        "print('RMSE:', np.sqrt(mean_squared_error(predictions1, y_train)))\n",
        "print('\\n')\n",
        "\n",
        "print('Original Test Data')\n",
        "print('R^2 Score:', r2_score(y_test, y_pred1))\n",
        "print('MSE:', mean_squared_error(y_test, y_pred1))\n",
        "print('RMSE:', np.sqrt(mean_squared_error(y_test, y_pred1)))\n",
        "print('\\n')\n",
        "\n",
        "print('Selected Training Data')\n",
        "print('R^2 Score:', r2_score(predictions2, y_train))\n",
        "print('MSE:', mean_squared_error(predictions2, y_train))\n",
        "print('RMSE:', np.sqrt(mean_squared_error(predictions2, y_train)))\n",
        "print('\\n')\n",
        "\n",
        "print('Selected Test Data')\n",
        "print('R^2 Score:', r2_score(y_test, y_pred2))\n",
        "print('MSE:', mean_squared_error(y_test, y_pred2))\n",
        "print('RMSE:', np.sqrt(mean_squared_error(y_test, y_pred2)))"
      ],
      "execution_count": null,
      "outputs": [
        {
          "output_type": "stream",
          "text": [
            "Original Training Data\n",
            "R^2 Score: 0.9341134525430177\n",
            "MSE: 7.43119786758533\n",
            "RMSE: 2.7260223527303165\n",
            "\n",
            "\n",
            "Original Test Data\n",
            "R^2 Score: 0.934295877005224\n",
            "MSE: 7.821275931705167\n",
            "RMSE: 2.7966544176399712\n",
            "\n",
            "\n",
            "Selected Training Data\n",
            "R^2 Score: 0.9340408260920464\n",
            "MSE: 7.438882380152808\n",
            "RMSE: 2.7274314620449784\n",
            "\n",
            "\n",
            "Selected Test Data\n",
            "R^2 Score: 0.934151113643659\n",
            "MSE: 7.8385082474867955\n",
            "RMSE: 2.7997336029498943\n"
          ],
          "name": "stdout"
        }
      ]
    },
    {
      "cell_type": "code",
      "metadata": {
        "id": "LtQzNg5HaAix",
        "outputId": "ca401c12-9692-430f-f426-7076ac1bc216",
        "colab": {
          "base_uri": "https://localhost:8080/"
        }
      },
      "source": [
        "X_train_new.columns"
      ],
      "execution_count": null,
      "outputs": [
        {
          "output_type": "execute_result",
          "data": {
            "text/plain": [
              "Index(['complaint_percentile', 'civilian_allegation_percentile',\n",
              "       'honorable_mention_percentile', 'internal_allegation_percentile',\n",
              "       'trr_percentile', 'sustained_count', 'civilian_compliment_count',\n",
              "       'current_salary', 'honorable_mention_count', 'last_unit_id',\n",
              "       'trr_count', 'unsustained_count', 'gender_label', 'race_label'],\n",
              "      dtype='object')"
            ]
          },
          "metadata": {
            "tags": []
          },
          "execution_count": 288
        }
      ]
    },
    {
      "cell_type": "code",
      "metadata": {
        "id": "8dighKLmaNif"
      },
      "source": [
        ""
      ],
      "execution_count": null,
      "outputs": []
    }
  ]
}