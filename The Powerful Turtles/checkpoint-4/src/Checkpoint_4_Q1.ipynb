{
  "nbformat": 4,
  "nbformat_minor": 0,
  "metadata": {
    "colab": {
      "name": "Checkpoint 4 Q1",
      "provenance": []
    },
    "kernelspec": {
      "name": "python3",
      "display_name": "Python 3"
    }
  },
  "cells": [
    {
      "cell_type": "code",
      "metadata": {
        "id": "qvecWDXJp0Kk"
      },
      "source": [
        "import autograd.numpy as np\n",
        "import matplotlib.pyplot as plt\n",
        "import pandas as pd"
      ],
      "execution_count": null,
      "outputs": []
    },
    {
      "cell_type": "code",
      "metadata": {
        "id": "aQAyfbLY4j9q"
      },
      "source": [
        "#Pyspark installation\n",
        "\n",
        "# innstall java\n",
        "!apt-get install openjdk-8-jdk-headless -qq > /dev/null\n",
        "\n",
        "# install spark (change the version number if needed)\n",
        "!wget -q https://archive.apache.org/dist/spark/spark-3.0.0/spark-3.0.0-bin-hadoop3.2.tgz\n",
        "\n",
        "# unzip the spark file to the current folder\n",
        "!tar xf spark-3.0.0-bin-hadoop3.2.tgz\n",
        "\n",
        "\n",
        "# install findspark using pip\n",
        "!pip install -q findspark\n",
        "\n",
        "import os\n",
        "os.environ[\"JAVA_HOME\"] = \"/usr/lib/jvm/java-8-openjdk-amd64\"\n",
        "os.environ[\"SPARK_HOME\"] = \"/content/spark-3.0.0-bin-hadoop3.2\"\n",
        "\n",
        "import findspark\n",
        "findspark.init()\n",
        "\n",
        "from pyspark.sql import SparkSession\n",
        "spark = SparkSession.builder.master(\"local[*]\").getOrCreate()\n",
        "\n",
        "import pyspark\n",
        "from pyspark.sql import SparkSession\n",
        "from pyspark.conf import SparkConf\n",
        "from pyspark.sql.types import * \n",
        "import pyspark.sql.functions as F\n",
        "from pyspark.sql.functions import col, asc,desc\n",
        "import matplotlib.pyplot as plt\n",
        "import numpy as np\n",
        "import seaborn as sns\n",
        "from pyspark.sql import SQLContext\n",
        "import pandas as pd\n",
        "from pyspark.ml.feature import OneHotEncoder, StringIndexer, VectorAssembler,StandardScaler\n",
        "from pyspark.ml import Pipeline\n",
        "from sklearn.metrics import confusion_matrix"
      ],
      "execution_count": null,
      "outputs": []
    },
    {
      "cell_type": "code",
      "metadata": {
        "id": "WON0nF5av9zR",
        "colab": {
          "base_uri": "https://localhost:8080/"
        },
        "outputId": "a1c695aa-5801-49d9-a942-34ad3269cb94"
      },
      "source": [
        "file_path = 'data_officer.csv'\n",
        "df = pd.read_csv(file_path)\n",
        "df = pd.DataFrame(df)\n",
        "df = df.loc[df['allegation_count'].notna(), :]\n",
        "\n",
        "df_spark=spark.read \\\n",
        " .option(\"header\",\"True\")\\\n",
        " .option(\"inferSchema\",\"True\")\\\n",
        " .option(\"sep\",\",\")\\\n",
        " .csv(\"data_officer.csv\")\n"
      ],
      "execution_count": null,
      "outputs": [
        {
          "output_type": "stream",
          "text": [
            "/usr/local/lib/python3.6/dist-packages/IPython/core/interactiveshell.py:2718: DtypeWarning: Columns (14) have mixed types.Specify dtype option on import or set low_memory=False.\n",
            "  interactivity=interactivity, compiler=compiler, result=result)\n"
          ],
          "name": "stderr"
        }
      ]
    },
    {
      "cell_type": "code",
      "metadata": {
        "id": "e0qr9nHhQO-W"
      },
      "source": [
        "y = df.loc[:,'allegation_count']\n",
        "g = df.drop(columns=['gender', 'race', 'rank', 'resignation_date', 'appointed_date','allegation_count', 'complaint_percentile', 'civilian_allegation_percentile', 'honorable_mention_percentile','internal_allegation_percentile','trr_percentile','id','first_name','last_name','tags','active','middle_initial','middle_initial2','suffix_name','created_at','updated_at']).astype('float')"
      ],
      "execution_count": null,
      "outputs": []
    },
    {
      "cell_type": "code",
      "metadata": {
        "id": "IuDzped1Lj8j"
      },
      "source": [
        "from sklearn.impute import SimpleImputer\n",
        "imp_mean = SimpleImputer(missing_values=np.nan, strategy='mean')\n",
        "g1 = imp_mean.fit_transform(g)\n",
        "#g = imp_mean.transform(g)\n",
        "g1 = pd.DataFrame(g1, columns=g.columns)"
      ],
      "execution_count": null,
      "outputs": []
    },
    {
      "cell_type": "code",
      "metadata": {
        "id": "jYXvbGb69zk_"
      },
      "source": [
        "#df = df.loc[df['allegation_count'].notna(), :]\n",
        "df_spark = df_spark.where(col(\"allegation_count\").isNotNull())\n",
        "df_spark = df_spark.select(\"gender\", \"race\", \"rank\")\n",
        "df_spark = df_spark.na.fill('Unknown')"
      ],
      "execution_count": null,
      "outputs": []
    },
    {
      "cell_type": "code",
      "metadata": {
        "id": "GZfGnrOp_zsa"
      },
      "source": [
        "label_indexer_gender = StringIndexer()\\\n",
        "         .setInputCol (\"gender\")\\\n",
        "         .setOutputCol (\"gender_label\")\n",
        "label_indexer_model_gender=label_indexer_gender.fit(df_spark)\n",
        "df_spark=label_indexer_model_gender.transform(df_spark)\n",
        "\n",
        "label_indexer_race = StringIndexer()\\\n",
        "         .setInputCol (\"race\")\\\n",
        "         .setOutputCol (\"race_label\")\n",
        "label_indexer_model_race=label_indexer_race.fit(df_spark)\n",
        "df_spark=label_indexer_model_race.transform(df_spark)\n",
        "\n",
        "label_indexer_rank = StringIndexer()\\\n",
        "         .setInputCol (\"rank\")\\\n",
        "         .setOutputCol (\"rank_label\")\n",
        "label_indexer_model_rank=label_indexer_rank.fit(df_spark)\n",
        "df_spark=label_indexer_model_rank.transform(df_spark)\n"
      ],
      "execution_count": null,
      "outputs": []
    },
    {
      "cell_type": "code",
      "metadata": {
        "id": "BaU4YSKPSK5y",
        "colab": {
          "base_uri": "https://localhost:8080/"
        },
        "outputId": "9139f1f2-1844-409b-a430-6ce0f3ddbf39"
      },
      "source": [
        "df_spark.show(13)"
      ],
      "execution_count": null,
      "outputs": [
        {
          "output_type": "stream",
          "text": [
            "+------+--------+--------------------+------------+----------+----------+\n",
            "|gender|    race|                rank|gender_label|race_label|rank_label|\n",
            "+------+--------+--------------------+------------+----------+----------+\n",
            "|     M|   White|Lieutenant of Police|         0.0|       0.0|       4.0|\n",
            "|     F|   White|      Police Officer|         1.0|       0.0|       0.0|\n",
            "|     M|   Black|      Police Officer|         0.0|       1.0|       0.0|\n",
            "|     M|   Black|      Police Officer|         0.0|       1.0|       0.0|\n",
            "|     F|Hispanic|      Police Officer|         1.0|       2.0|       0.0|\n",
            "|     M|   Black|      Police Officer|         0.0|       1.0|       0.0|\n",
            "|     M|   White|Police Officer As...|         0.0|       0.0|      27.0|\n",
            "|     M|   White|Police Officer as...|         0.0|       0.0|       2.0|\n",
            "|     M|   Black|      Police Officer|         0.0|       1.0|       0.0|\n",
            "|     M|   White|Police Officer as...|         0.0|       0.0|       2.0|\n",
            "|     M|   White|      Police Officer|         0.0|       0.0|       0.0|\n",
            "|     M|   White|      Police Officer|         0.0|       0.0|       0.0|\n",
            "|     M|   White|      Police Officer|         0.0|       0.0|       0.0|\n",
            "+------+--------+--------------------+------------+----------+----------+\n",
            "only showing top 13 rows\n",
            "\n"
          ],
          "name": "stdout"
        }
      ]
    },
    {
      "cell_type": "code",
      "metadata": {
        "id": "oZD6UrqOBHy3"
      },
      "source": [
        "g2 = df_spark.select(\"gender_label\", 'race_label', 'rank_label')\n",
        "g2 = g2.toPandas()"
      ],
      "execution_count": null,
      "outputs": []
    },
    {
      "cell_type": "code",
      "metadata": {
        "id": "_TMwvUAhC1F7"
      },
      "source": [
        "x = g1.join(g2)"
      ],
      "execution_count": null,
      "outputs": []
    },
    {
      "cell_type": "code",
      "metadata": {
        "id": "mcjl8RDgEkNQ",
        "colab": {
          "base_uri": "https://localhost:8080/"
        },
        "outputId": "a897a63f-cf97-437f-a67a-63c51b72f2e6"
      },
      "source": [
        "from sklearn.model_selection import train_test_split\n",
        "X_train, X_test, y_train, y_test = train_test_split(x, y, test_size=0.2, random_state=1)\n",
        "# Special note: for a 60/20/20 split (if you want a validation step), just do the above step again on the train set with a 2/3, 1/3 split\n",
        "X_train.shape"
      ],
      "execution_count": null,
      "outputs": [
        {
          "output_type": "execute_result",
          "data": {
            "text/plain": [
              "(27071, 15)"
            ]
          },
          "metadata": {
            "tags": []
          },
          "execution_count": 19
        }
      ]
    },
    {
      "cell_type": "code",
      "metadata": {
        "id": "Yp4x1Oz4IX5d",
        "colab": {
          "base_uri": "https://localhost:8080/"
        },
        "outputId": "7c9d6ab4-67b1-4583-c897-46f3d7cb3ada"
      },
      "source": [
        "from sklearn.linear_model import LinearRegression\n",
        "model = LinearRegression()\n",
        "model.fit(X_train, y_train)"
      ],
      "execution_count": null,
      "outputs": [
        {
          "output_type": "execute_result",
          "data": {
            "text/plain": [
              "LinearRegression(copy_X=True, fit_intercept=True, n_jobs=None, normalize=False)"
            ]
          },
          "metadata": {
            "tags": []
          },
          "execution_count": 20
        }
      ]
    },
    {
      "cell_type": "code",
      "metadata": {
        "id": "w1KMdsw-XP_y",
        "colab": {
          "base_uri": "https://localhost:8080/"
        },
        "outputId": "eb991573-97df-433a-a1e2-932ca9a0d3a7"
      },
      "source": [
        "predictions1 = model.predict(X_train)\n",
        "\n",
        "params = np.append(model.intercept_,model.coef_)\n",
        "newX = np.append(np.ones((len(X_train),1)), X_train, axis=1)\n",
        "MSE = (sum((y_train-predictions1)**2))/(len(newX)-len(newX[0]))\n",
        "\n",
        "var_b = MSE*(np.linalg.inv(np.dot(newX.T,newX)).diagonal())\n",
        "sd_b = np.sqrt(var_b)\n",
        "ts_b = params/ sd_b\n",
        "\n",
        "from scipy import stats\n",
        "p_values =[2*(1-stats.t.cdf(np.abs(i),(len(newX)-len(newX[0])))) for i in ts_b]\n",
        "\n",
        "sd_b = np.round(sd_b,3)\n",
        "ts_b = np.round(ts_b,3)\n",
        "p_values = np.round(p_values,3)\n",
        "params = np.round(params,4)\n",
        "\n",
        "regression_results = pd.DataFrame()\n",
        "regression_results[\"Coefficients\"],regression_results[\"Standard Errors\"],regression_results[\"t values\"],regression_results[\"p values\"] = [params,sd_b,ts_b,p_values]\n",
        "print(regression_results)"
      ],
      "execution_count": null,
      "outputs": [
        {
          "output_type": "stream",
          "text": [
            "    Coefficients  Standard Errors  t values  p values\n",
            "0       -38.5361            2.431   -15.850     0.000\n",
            "1         0.0187            0.001    15.151     0.000\n",
            "2         1.1399            0.049    23.241     0.000\n",
            "3         0.0663            0.007     9.116     0.000\n",
            "4        -0.0000            0.000    -1.806     0.071\n",
            "5         0.0000            0.000    16.327     0.000\n",
            "6         0.0381            0.054     0.710     0.478\n",
            "7         0.0552            0.001    49.468     0.000\n",
            "8         0.0016            0.000     5.727     0.000\n",
            "9         0.1221            0.053     2.311     0.021\n",
            "10        0.2612            0.005    51.402     0.000\n",
            "11        1.4401            0.003   414.221     0.000\n",
            "12        0.0285            0.054     0.530     0.596\n",
            "13        0.1621            0.050     3.263     0.001\n",
            "14       -0.0187            0.022    -0.835     0.404\n",
            "15       -0.0238            0.005    -4.763     0.000\n"
          ],
          "name": "stdout"
        }
      ]
    },
    {
      "cell_type": "code",
      "metadata": {
        "id": "W4w5RW_XXP7h",
        "colab": {
          "base_uri": "https://localhost:8080/"
        },
        "outputId": "a7246f3d-af61-476e-f88b-eeb80c03e956"
      },
      "source": [
        "g = (p_values[1:] < 0.0001)\n",
        "X_train_new = X_train.iloc[:,g]\n",
        "X_train_new.shape"
      ],
      "execution_count": null,
      "outputs": [
        {
          "output_type": "execute_result",
          "data": {
            "text/plain": [
              "(27071, 9)"
            ]
          },
          "metadata": {
            "tags": []
          },
          "execution_count": 22
        }
      ]
    },
    {
      "cell_type": "code",
      "metadata": {
        "id": "G1S6abllYshx",
        "colab": {
          "base_uri": "https://localhost:8080/"
        },
        "outputId": "c82ca015-8421-41fe-d240-b24b87c66a98"
      },
      "source": [
        "model2 = LinearRegression()\n",
        "model2.fit(X_train_new, y_train)\n",
        "\n",
        "predictions2 = model2.predict(X_train_new)\n",
        "\n",
        "params = np.append(model2.intercept_,model2.coef_)\n",
        "newX = np.append(np.ones((len(X_train_new),1)), X_train_new, axis=1)\n",
        "MSE = (sum((y_train-predictions2)**2))/(len(newX)-len(newX[0]))\n",
        "\n",
        "var_b = MSE*(np.linalg.inv(np.dot(newX.T,newX)).diagonal())\n",
        "sd_b = np.sqrt(var_b)\n",
        "ts_b = params/ sd_b\n",
        "\n",
        "p_values =[2*(1-stats.t.cdf(np.abs(i),(len(newX)-len(newX[0])))) for i in ts_b]\n",
        "\n",
        "sd_b = np.round(sd_b,3)\n",
        "ts_b = np.round(ts_b,3)\n",
        "p_values = np.round(p_values,3)\n",
        "params = np.round(params,4)\n",
        "\n",
        "regression_results = pd.DataFrame()\n",
        "regression_results[\"Coefficients\"],regression_results[\"Standard Errors\"],regression_results[\"t values\"],regression_results[\"p values\"] = [params,sd_b,ts_b,p_values]\n",
        "print(regression_results)"
      ],
      "execution_count": null,
      "outputs": [
        {
          "output_type": "stream",
          "text": [
            "   Coefficients  Standard Errors  t values  p values\n",
            "0      -39.8681            2.289   -17.420       0.0\n",
            "1        0.0193            0.001    16.720       0.0\n",
            "2        1.1744            0.014    82.965       0.0\n",
            "3        0.0672            0.007     9.246       0.0\n",
            "4        0.0000            0.000    17.438       0.0\n",
            "5        0.0552            0.001    50.076       0.0\n",
            "6        0.0015            0.000     5.678       0.0\n",
            "7        0.2608            0.005    51.475       0.0\n",
            "8        1.4395            0.003   416.882       0.0\n",
            "9       -0.0240            0.005    -4.810       0.0\n"
          ],
          "name": "stdout"
        }
      ]
    },
    {
      "cell_type": "code",
      "metadata": {
        "id": "d8hGzzQSaeSJ"
      },
      "source": [
        "y_pred1 = model.predict(X_test)\n",
        "y_pred2 = model2.predict(X_test.iloc[:,g])"
      ],
      "execution_count": null,
      "outputs": []
    },
    {
      "cell_type": "code",
      "metadata": {
        "id": "6ytBhrYzYsbm",
        "colab": {
          "base_uri": "https://localhost:8080/",
          "height": 861
        },
        "outputId": "56219f97-cad1-456b-a15c-2bf12e29475d"
      },
      "source": [
        "# show a visualization for a scatter plot\n",
        "fig = plt.figure(figsize=(12,12), dpi= 80, facecolor='w', edgecolor='k')\n",
        "ax1 = fig.add_subplot(221)\n",
        "ax1.scatter(predictions1, y_train)\n",
        "ax2 = fig.add_subplot(222)\n",
        "ax2.scatter(predictions2, y_train)\n",
        "ax3 = fig.add_subplot(223)\n",
        "ax3.scatter(y_pred1, y_test)\n",
        "ax4 = fig.add_subplot(224)\n",
        "ax4.scatter(y_pred2, y_test)\n",
        "ax1.plot([0,150],[0,150])\n",
        "ax2.plot([0,150],[0,150])\n",
        "ax3.plot([0,150],[0,150])\n",
        "ax4.plot([0,150],[0,150])\n",
        "ax1.set(title = 'complete train dataset', ylabel='actual', xlabel='predicted')\n",
        "ax2.set(title = 'selected train dataset', ylabel='actual', xlabel='predicted')\n",
        "ax3.set(title = 'complete test dataset', ylabel='actual', xlabel='predicted')\n",
        "ax4.set(title = 'selected test dataset', ylabel='actual', xlabel='predicted')"
      ],
      "execution_count": null,
      "outputs": [
        {
          "output_type": "execute_result",
          "data": {
            "text/plain": [
              "[Text(0, 0.5, 'actual'),\n",
              " Text(0.5, 0, 'predicted'),\n",
              " Text(0.5, 1.0, 'selected test dataset')]"
            ]
          },
          "metadata": {
            "tags": []
          },
          "execution_count": 25
        },
        {
          "output_type": "display_data",
          "data": {
            "image/png": "[encoded data removed]",
            "text/plain": [
              "<Figure size 960x960 with 4 Axes>"
            ]
          },
          "metadata": {
            "tags": []
          }
        }
      ]
    },
    {
      "cell_type": "code",
      "metadata": {
        "id": "OKURCo_BY9dY",
        "colab": {
          "base_uri": "https://localhost:8080/"
        },
        "outputId": "5604458c-baef-4425-c3df-6c9d2e8894f8"
      },
      "source": [
        "# compute accuracy score\n",
        "from sklearn.metrics import r2_score\n",
        "from sklearn.metrics import mean_squared_error\n",
        "print('Original Training Data')\n",
        "print('R^2 Score:', r2_score(predictions1, y_train))\n",
        "print('MSE:', mean_squared_error(predictions1, y_train))\n",
        "print('RMSE:', np.sqrt(mean_squared_error(predictions1, y_train)))\n",
        "print('\\n')\n",
        "\n",
        "print('Original Test Data')\n",
        "print('R^2 Score:', r2_score(y_test, y_pred1))\n",
        "print('MSE:', mean_squared_error(y_test, y_pred1))\n",
        "print('RMSE:', np.sqrt(mean_squared_error(y_test, y_pred1)))\n",
        "print('\\n')\n",
        "\n",
        "print('Selected Training Data')\n",
        "print('R^2 Score:', r2_score(predictions2, y_train))\n",
        "print('MSE:', mean_squared_error(predictions2, y_train))\n",
        "print('RMSE:', np.sqrt(mean_squared_error(predictions2, y_train)))\n",
        "print('\\n')\n",
        "\n",
        "print('Selected Test Data')\n",
        "print('R^2 Score:', r2_score(y_test, y_pred2))\n",
        "print('MSE:', mean_squared_error(y_test, y_pred2))\n",
        "print('RMSE:', np.sqrt(mean_squared_error(y_test, y_pred2)))"
      ],
      "execution_count": null,
      "outputs": [
        {
          "output_type": "stream",
          "text": [
            "Original Training Data\n",
            "R^2 Score: 0.9215441132484248\n",
            "MSE: 8.745732822602703\n",
            "RMSE: 2.957318518963201\n",
            "\n",
            "\n",
            "Original Test Data\n",
            "R^2 Score: 0.9218522701452442\n",
            "MSE: 9.302535834455865\n",
            "RMSE: 3.0500058744953042\n",
            "\n",
            "\n",
            "Selected Training Data\n",
            "R^2 Score: 0.9214763683106468\n",
            "MSE: 8.75273475402888\n",
            "RMSE: 2.9585021132371834\n",
            "\n",
            "\n",
            "Selected Test Data\n",
            "R^2 Score: 0.921778515498218\n",
            "MSE: 9.3113154272629\n",
            "RMSE: 3.0514448098012354\n"
          ],
          "name": "stdout"
        }
      ]
    },
    {
      "cell_type": "code",
      "metadata": {
        "id": "LtQzNg5HaAix",
        "colab": {
          "base_uri": "https://localhost:8080/"
        },
        "outputId": "52203fa8-d130-4b94-860a-c3eb84194f58"
      },
      "source": [
        "X_train_new.columns"
      ],
      "execution_count": null,
      "outputs": [
        {
          "output_type": "execute_result",
          "data": {
            "text/plain": [
              "Index(['birth_year', 'sustained_count', 'civilian_compliment_count',\n",
              "       'current_salary', 'honorable_mention_count', 'last_unit_id',\n",
              "       'trr_count', 'unsustained_count', 'rank_label'],\n",
              "      dtype='object')"
            ]
          },
          "metadata": {
            "tags": []
          },
          "execution_count": 27
        }
      ]
    },
    {
      "cell_type": "code",
      "metadata": {
        "id": "8dighKLmaNif"
      },
      "source": [
        ""
      ],
      "execution_count": null,
      "outputs": []
    }
  ]
}